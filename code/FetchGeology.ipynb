{
  "nbformat": 4,
  "nbformat_minor": 0,
  "metadata": {
    "colab": {
      "provenance": [],
      "collapsed_sections": [
        "fv1ooCDK_I25"
      ],
      "toc_visible": true
    },
    "kernelspec": {
      "name": "python3",
      "display_name": "Python 3"
    },
    "language_info": {
      "name": "python"
    },
    "widgets": {
      "application/vnd.jupyter.widget-state+json": {
        "591d6773e44f4a349814a4275af74275": {
          "model_module": "jupyter-leaflet",
          "model_name": "LeafletMapModel",
          "model_module_version": "^0.17",
          "state": {
            "_dom_classes": [],
            "_model_module": "jupyter-leaflet",
            "_model_module_version": "^0.17",
            "_model_name": "LeafletMapModel",
            "_view_count": null,
            "_view_module": "jupyter-leaflet",
            "_view_module_version": "^0.17",
            "_view_name": "LeafletMapView",
            "bottom": 101848,
            "bounce_at_zoom_limits": true,
            "box_zoom": true,
            "center": [
              37.4225866,
              -122.0648754
            ],
            "close_popup_on_click": true,
            "controls": [
              "IPY_MODEL_b46c057743ab45389094983e22d1a8be",
              "IPY_MODEL_1d8e7cc3eba04948b611b0018c646479",
              "IPY_MODEL_1e7b056e10054379a38e706f6f222fb2"
            ],
            "crs": {
              "name": "EPSG3857",
              "custom": false
            },
            "default_style": "IPY_MODEL_2c145422dc404a8b90eaf5d8eb0cead5",
            "double_click_zoom": true,
            "dragging": true,
            "dragging_style": "IPY_MODEL_13e411e6aa334256adfba04862990652",
            "east": -121.37695312500001,
            "fullscreen": false,
            "inertia": true,
            "inertia_deceleration": 3000,
            "inertia_max_speed": 1500,
            "interpolation": "bilinear",
            "keyboard": true,
            "keyboard_pan_offset": 80,
            "keyboard_zoom_offset": 1,
            "layers": [
              "IPY_MODEL_29b8d0c8ea7342ab91e0306ad4db2ab0",
              "IPY_MODEL_710ab17e8e1f4b9cad71e6aab4f30b00"
            ],
            "layout": "IPY_MODEL_4502046436104f75bfb39f2aaec3a360",
            "left": 41687,
            "max_zoom": null,
            "min_zoom": null,
            "modisdate": "2023-03-13",
            "north": 37.640334898059486,
            "options": [
              "bounce_at_zoom_limits",
              "box_zoom",
              "center",
              "close_popup_on_click",
              "double_click_zoom",
              "dragging",
              "fullscreen",
              "inertia",
              "inertia_deceleration",
              "inertia_max_speed",
              "interpolation",
              "keyboard",
              "keyboard_pan_offset",
              "keyboard_zoom_offset",
              "max_zoom",
              "min_zoom",
              "prefer_canvas",
              "scroll_wheel_zoom",
              "tap",
              "tap_tolerance",
              "touch_zoom",
              "world_copy_jump",
              "zoom",
              "zoom_animation_threshold",
              "zoom_delta",
              "zoom_snap"
            ],
            "panes": {},
            "prefer_canvas": false,
            "right": 42688,
            "scroll_wheel_zoom": false,
            "south": 37.204081555898526,
            "style": "IPY_MODEL_31124f5b9f524a5ba5ae53e521f112b5",
            "tap": true,
            "tap_tolerance": 15,
            "top": 101448,
            "touch_zoom": true,
            "west": -122.75161743164062,
            "window_url": "https://us929lgwa6-496ff2e9c6d22116-0-colab.googleusercontent.com/outputframe.html?vrz=colab-20230309-060141-RC01_515373326",
            "world_copy_jump": false,
            "zoom": 10,
            "zoom_animation_threshold": 4,
            "zoom_delta": 1,
            "zoom_snap": 1
          }
        },
        "b46c057743ab45389094983e22d1a8be": {
          "model_module": "jupyter-leaflet",
          "model_name": "LeafletZoomControlModel",
          "model_module_version": "^0.17",
          "state": {
            "_model_module": "jupyter-leaflet",
            "_model_module_version": "^0.17",
            "_model_name": "LeafletZoomControlModel",
            "_view_count": null,
            "_view_module": "jupyter-leaflet",
            "_view_module_version": "^0.17",
            "_view_name": "LeafletZoomControlView",
            "options": [
              "position",
              "zoom_in_text",
              "zoom_in_title",
              "zoom_out_text",
              "zoom_out_title"
            ],
            "position": "topleft",
            "zoom_in_text": "+",
            "zoom_in_title": "Zoom in",
            "zoom_out_text": "-",
            "zoom_out_title": "Zoom out"
          }
        },
        "1d8e7cc3eba04948b611b0018c646479": {
          "model_module": "jupyter-leaflet",
          "model_name": "LeafletAttributionControlModel",
          "model_module_version": "^0.17",
          "state": {
            "_model_module": "jupyter-leaflet",
            "_model_module_version": "^0.17",
            "_model_name": "LeafletAttributionControlModel",
            "_view_count": null,
            "_view_module": "jupyter-leaflet",
            "_view_module_version": "^0.17",
            "_view_name": "LeafletAttributionControlView",
            "options": [
              "position",
              "prefix"
            ],
            "position": "bottomright",
            "prefix": "ipyleaflet"
          }
        },
        "1e7b056e10054379a38e706f6f222fb2": {
          "model_module": "jupyter-leaflet",
          "model_name": "LeafletLayersControlModel",
          "model_module_version": "^0.17",
          "state": {
            "_model_module": "jupyter-leaflet",
            "_model_module_version": "^0.17",
            "_model_name": "LeafletLayersControlModel",
            "_view_count": null,
            "_view_module": "jupyter-leaflet",
            "_view_module_version": "^0.17",
            "_view_name": "LeafletLayersControlView",
            "options": [
              "position"
            ],
            "position": "topright"
          }
        },
        "2c145422dc404a8b90eaf5d8eb0cead5": {
          "model_module": "jupyter-leaflet",
          "model_name": "LeafletMapStyleModel",
          "model_module_version": "^0.17",
          "state": {
            "_model_module": "jupyter-leaflet",
            "_model_module_version": "^0.17",
            "_model_name": "LeafletMapStyleModel",
            "_view_count": null,
            "_view_module": "@jupyter-widgets/base",
            "_view_module_version": "1.2.0",
            "_view_name": "StyleView",
            "cursor": "crosshair"
          }
        },
        "13e411e6aa334256adfba04862990652": {
          "model_module": "jupyter-leaflet",
          "model_name": "LeafletMapStyleModel",
          "model_module_version": "^0.17",
          "state": {
            "_model_module": "jupyter-leaflet",
            "_model_module_version": "^0.17",
            "_model_name": "LeafletMapStyleModel",
            "_view_count": null,
            "_view_module": "@jupyter-widgets/base",
            "_view_module_version": "1.2.0",
            "_view_name": "StyleView",
            "cursor": "move"
          }
        },
        "29b8d0c8ea7342ab91e0306ad4db2ab0": {
          "model_module": "jupyter-leaflet",
          "model_name": "LeafletTileLayerModel",
          "model_module_version": "^0.17",
          "state": {
            "_model_module": "jupyter-leaflet",
            "_model_module_version": "^0.17",
            "_model_name": "LeafletTileLayerModel",
            "_view_count": null,
            "_view_module": "jupyter-leaflet",
            "_view_module_version": "^0.17",
            "_view_name": "LeafletTileLayerView",
            "attribution": "Map tiles by <a href=\"http://stamen.com\">Stamen Design</a>, <a href=\"http://creativecommons.org/licenses/by/3.0\">CC BY 3.0</a> &mdash; Map data &copy; <a href=\"https://www.openstreetmap.org/copyright\">OpenStreetMap</a> contributors",
            "base": true,
            "bottom": true,
            "bounds": null,
            "detect_retina": false,
            "loading": false,
            "max_native_zoom": null,
            "max_zoom": 16,
            "min_native_zoom": null,
            "min_zoom": 1,
            "name": "Stamen.Watercolor",
            "no_wrap": false,
            "opacity": 1,
            "options": [
              "attribution",
              "bounds",
              "detect_retina",
              "max_native_zoom",
              "max_zoom",
              "min_native_zoom",
              "min_zoom",
              "no_wrap",
              "tile_size",
              "tms",
              "zoom_offset"
            ],
            "pane": "",
            "popup": null,
            "popup_max_height": null,
            "popup_max_width": 300,
            "popup_min_width": 50,
            "show_loading": false,
            "subitems": [],
            "tile_size": 256,
            "tms": false,
            "url": "https://stamen-tiles-a.a.ssl.fastly.net/watercolor/{z}/{x}/{y}.jpg",
            "visible": true,
            "zoom_offset": 0
          }
        },
        "4502046436104f75bfb39f2aaec3a360": {
          "model_module": "@jupyter-widgets/base",
          "model_name": "LayoutModel",
          "model_module_version": "1.2.0",
          "state": {
            "_model_module": "@jupyter-widgets/base",
            "_model_module_version": "1.2.0",
            "_model_name": "LayoutModel",
            "_view_count": null,
            "_view_module": "@jupyter-widgets/base",
            "_view_module_version": "1.2.0",
            "_view_name": "LayoutView",
            "align_content": null,
            "align_items": null,
            "align_self": null,
            "border": null,
            "bottom": null,
            "display": null,
            "flex": null,
            "flex_flow": null,
            "grid_area": null,
            "grid_auto_columns": null,
            "grid_auto_flow": null,
            "grid_auto_rows": null,
            "grid_column": null,
            "grid_gap": null,
            "grid_row": null,
            "grid_template_areas": null,
            "grid_template_columns": null,
            "grid_template_rows": null,
            "height": null,
            "justify_content": null,
            "justify_items": null,
            "left": null,
            "margin": null,
            "max_height": null,
            "max_width": null,
            "min_height": null,
            "min_width": null,
            "object_fit": null,
            "object_position": null,
            "order": null,
            "overflow": null,
            "overflow_x": null,
            "overflow_y": null,
            "padding": null,
            "right": null,
            "top": null,
            "visibility": null,
            "width": "100%"
          }
        },
        "31124f5b9f524a5ba5ae53e521f112b5": {
          "model_module": "jupyter-leaflet",
          "model_name": "LeafletMapStyleModel",
          "model_module_version": "^0.17",
          "state": {
            "_model_module": "jupyter-leaflet",
            "_model_module_version": "^0.17",
            "_model_name": "LeafletMapStyleModel",
            "_view_count": null,
            "_view_module": "@jupyter-widgets/base",
            "_view_module_version": "1.2.0",
            "_view_name": "StyleView",
            "cursor": "grab"
          }
        },
        "710ab17e8e1f4b9cad71e6aab4f30b00": {
          "model_module": "jupyter-leaflet",
          "model_name": "LeafletTileLayerModel",
          "model_module_version": "^0.17",
          "state": {
            "_model_module": "jupyter-leaflet",
            "_model_module_version": "^0.17",
            "_model_name": "LeafletTileLayerModel",
            "_view_count": null,
            "_view_module": "jupyter-leaflet",
            "_view_module_version": "^0.17",
            "_view_name": "LeafletTileLayerView",
            "attribution": null,
            "base": false,
            "bottom": true,
            "bounds": null,
            "detect_retina": false,
            "loading": false,
            "max_native_zoom": null,
            "max_zoom": 18,
            "min_native_zoom": null,
            "min_zoom": 0,
            "name": "elevation (greyscale)",
            "no_wrap": false,
            "opacity": 1,
            "options": [
              "attribution",
              "bounds",
              "detect_retina",
              "max_native_zoom",
              "max_zoom",
              "min_native_zoom",
              "min_zoom",
              "no_wrap",
              "tile_size",
              "tms",
              "zoom_offset"
            ],
            "pane": "",
            "popup": null,
            "popup_max_height": null,
            "popup_max_width": 300,
            "popup_min_width": 50,
            "show_loading": false,
            "subitems": [],
            "tile_size": 256,
            "tms": false,
            "url": "https://earthengine.googleapis.com/v1alpha/projects/earthengine-legacy/maps/c8b81e99c9db8a4617f8890367d27924-bae468b2ac416cc700e5ee0467b79a9d/tiles/{z}/{x}/{y}",
            "visible": true,
            "zoom_offset": 0
          }
        },
        "9bd2db4de39b453a8f3db53dea771f86": {
          "model_module": "jupyter-leaflet",
          "model_name": "LeafletMapModel",
          "model_module_version": "^0.17",
          "state": {
            "_dom_classes": [],
            "_model_module": "jupyter-leaflet",
            "_model_module_version": "^0.17",
            "_model_name": "LeafletMapModel",
            "_view_count": null,
            "_view_module": "jupyter-leaflet",
            "_view_module_version": "^0.17",
            "_view_name": "LeafletMapView",
            "bottom": 101848,
            "bounce_at_zoom_limits": true,
            "box_zoom": true,
            "center": [
              37.4225866,
              -122.0648754
            ],
            "close_popup_on_click": true,
            "controls": [
              "IPY_MODEL_d04955639bc34d1f824f14b670fb9a06",
              "IPY_MODEL_b300a1ab832f462783439eb62cea796a",
              "IPY_MODEL_ef5e3de4ef17471680664f70669a71f5"
            ],
            "crs": {
              "name": "EPSG3857",
              "custom": false
            },
            "default_style": "IPY_MODEL_7f7ec5bbe2bc40e3b2238f23af594d8d",
            "double_click_zoom": true,
            "dragging": true,
            "dragging_style": "IPY_MODEL_58d18e6609824c708068f5c86fe70942",
            "east": -121.72302246093751,
            "fullscreen": false,
            "inertia": true,
            "inertia_deceleration": 3000,
            "inertia_max_speed": 1500,
            "interpolation": "bilinear",
            "keyboard": true,
            "keyboard_pan_offset": 80,
            "keyboard_zoom_offset": 1,
            "layers": [
              "IPY_MODEL_c339590141da4b2997ce03df65d61eae",
              "IPY_MODEL_16f13f57aa36439d8fe5d3b96fb1809f",
              "IPY_MODEL_09b98ddfb8294eeba9bdc6494f4b53c5"
            ],
            "layout": "IPY_MODEL_4e521406374c4b3f81bdbd0af91ba593",
            "left": 41938,
            "max_zoom": null,
            "min_zoom": null,
            "modisdate": "2023-03-13",
            "north": 37.640334898059486,
            "options": [
              "bounce_at_zoom_limits",
              "box_zoom",
              "center",
              "close_popup_on_click",
              "double_click_zoom",
              "dragging",
              "fullscreen",
              "inertia",
              "inertia_deceleration",
              "inertia_max_speed",
              "interpolation",
              "keyboard",
              "keyboard_pan_offset",
              "keyboard_zoom_offset",
              "max_zoom",
              "min_zoom",
              "prefer_canvas",
              "scroll_wheel_zoom",
              "tap",
              "tap_tolerance",
              "touch_zoom",
              "world_copy_jump",
              "zoom",
              "zoom_animation_threshold",
              "zoom_delta",
              "zoom_snap"
            ],
            "panes": {},
            "prefer_canvas": false,
            "right": 42436,
            "scroll_wheel_zoom": false,
            "south": 37.204081555898526,
            "style": "IPY_MODEL_021ce096f66e4f05bfee84f52e590926",
            "tap": true,
            "tap_tolerance": 15,
            "top": 101448,
            "touch_zoom": true,
            "west": -122.40692138671876,
            "window_url": "https://us929lgwa6-496ff2e9c6d22116-0-colab.googleusercontent.com/outputframe.html?vrz=colab-20230309-060141-RC01_515373326",
            "world_copy_jump": false,
            "zoom": 10,
            "zoom_animation_threshold": 4,
            "zoom_delta": 1,
            "zoom_snap": 1
          }
        },
        "d04955639bc34d1f824f14b670fb9a06": {
          "model_module": "jupyter-leaflet",
          "model_name": "LeafletZoomControlModel",
          "model_module_version": "^0.17",
          "state": {
            "_model_module": "jupyter-leaflet",
            "_model_module_version": "^0.17",
            "_model_name": "LeafletZoomControlModel",
            "_view_count": null,
            "_view_module": "jupyter-leaflet",
            "_view_module_version": "^0.17",
            "_view_name": "LeafletZoomControlView",
            "options": [
              "position",
              "zoom_in_text",
              "zoom_in_title",
              "zoom_out_text",
              "zoom_out_title"
            ],
            "position": "topleft",
            "zoom_in_text": "+",
            "zoom_in_title": "Zoom in",
            "zoom_out_text": "-",
            "zoom_out_title": "Zoom out"
          }
        },
        "b300a1ab832f462783439eb62cea796a": {
          "model_module": "jupyter-leaflet",
          "model_name": "LeafletAttributionControlModel",
          "model_module_version": "^0.17",
          "state": {
            "_model_module": "jupyter-leaflet",
            "_model_module_version": "^0.17",
            "_model_name": "LeafletAttributionControlModel",
            "_view_count": null,
            "_view_module": "jupyter-leaflet",
            "_view_module_version": "^0.17",
            "_view_name": "LeafletAttributionControlView",
            "options": [
              "position",
              "prefix"
            ],
            "position": "bottomright",
            "prefix": "ipyleaflet"
          }
        },
        "ef5e3de4ef17471680664f70669a71f5": {
          "model_module": "jupyter-leaflet",
          "model_name": "LeafletLayersControlModel",
          "model_module_version": "^0.17",
          "state": {
            "_model_module": "jupyter-leaflet",
            "_model_module_version": "^0.17",
            "_model_name": "LeafletLayersControlModel",
            "_view_count": null,
            "_view_module": "jupyter-leaflet",
            "_view_module_version": "^0.17",
            "_view_name": "LeafletLayersControlView",
            "options": [
              "position"
            ],
            "position": "topright"
          }
        },
        "7f7ec5bbe2bc40e3b2238f23af594d8d": {
          "model_module": "jupyter-leaflet",
          "model_name": "LeafletMapStyleModel",
          "model_module_version": "^0.17",
          "state": {
            "_model_module": "jupyter-leaflet",
            "_model_module_version": "^0.17",
            "_model_name": "LeafletMapStyleModel",
            "_view_count": null,
            "_view_module": "@jupyter-widgets/base",
            "_view_module_version": "1.2.0",
            "_view_name": "StyleView",
            "cursor": "crosshair"
          }
        },
        "58d18e6609824c708068f5c86fe70942": {
          "model_module": "jupyter-leaflet",
          "model_name": "LeafletMapStyleModel",
          "model_module_version": "^0.17",
          "state": {
            "_model_module": "jupyter-leaflet",
            "_model_module_version": "^0.17",
            "_model_name": "LeafletMapStyleModel",
            "_view_count": null,
            "_view_module": "@jupyter-widgets/base",
            "_view_module_version": "1.2.0",
            "_view_name": "StyleView",
            "cursor": "move"
          }
        },
        "c339590141da4b2997ce03df65d61eae": {
          "model_module": "jupyter-leaflet",
          "model_name": "LeafletTileLayerModel",
          "model_module_version": "^0.17",
          "state": {
            "_model_module": "jupyter-leaflet",
            "_model_module_version": "^0.17",
            "_model_name": "LeafletTileLayerModel",
            "_view_count": null,
            "_view_module": "jupyter-leaflet",
            "_view_module_version": "^0.17",
            "_view_name": "LeafletTileLayerView",
            "attribution": "Map tiles by <a href=\"http://stamen.com\">Stamen Design</a>, <a href=\"http://creativecommons.org/licenses/by/3.0\">CC BY 3.0</a> &mdash; Map data &copy; <a href=\"https://www.openstreetmap.org/copyright\">OpenStreetMap</a> contributors",
            "base": true,
            "bottom": true,
            "bounds": null,
            "detect_retina": false,
            "loading": false,
            "max_native_zoom": null,
            "max_zoom": 16,
            "min_native_zoom": null,
            "min_zoom": 1,
            "name": "Stamen.Watercolor",
            "no_wrap": false,
            "opacity": 1,
            "options": [
              "attribution",
              "bounds",
              "detect_retina",
              "max_native_zoom",
              "max_zoom",
              "min_native_zoom",
              "min_zoom",
              "no_wrap",
              "tile_size",
              "tms",
              "zoom_offset"
            ],
            "pane": "",
            "popup": null,
            "popup_max_height": null,
            "popup_max_width": 300,
            "popup_min_width": 50,
            "show_loading": false,
            "subitems": [],
            "tile_size": 256,
            "tms": false,
            "url": "https://stamen-tiles-a.a.ssl.fastly.net/watercolor/{z}/{x}/{y}.jpg",
            "visible": true,
            "zoom_offset": 0
          }
        },
        "16f13f57aa36439d8fe5d3b96fb1809f": {
          "model_module": "jupyter-leaflet",
          "model_name": "LeafletTileLayerModel",
          "model_module_version": "^0.17",
          "state": {
            "_model_module": "jupyter-leaflet",
            "_model_module_version": "^0.17",
            "_model_name": "LeafletTileLayerModel",
            "_view_count": null,
            "_view_module": "jupyter-leaflet",
            "_view_module_version": "^0.17",
            "_view_name": "LeafletTileLayerView",
            "attribution": null,
            "base": false,
            "bottom": true,
            "bounds": null,
            "detect_retina": false,
            "loading": false,
            "max_native_zoom": null,
            "max_zoom": 18,
            "min_native_zoom": null,
            "min_zoom": 0,
            "name": "elevation [meters]",
            "no_wrap": false,
            "opacity": 1,
            "options": [
              "attribution",
              "bounds",
              "detect_retina",
              "max_native_zoom",
              "max_zoom",
              "min_native_zoom",
              "min_zoom",
              "no_wrap",
              "tile_size",
              "tms",
              "zoom_offset"
            ],
            "pane": "",
            "popup": null,
            "popup_max_height": null,
            "popup_max_width": 300,
            "popup_min_width": 50,
            "show_loading": false,
            "subitems": [],
            "tile_size": 256,
            "tms": false,
            "url": "https://earthengine.googleapis.com/v1alpha/projects/earthengine-legacy/maps/610a63d42e5017592a00c9764f3167fa-05c22d612a01fb37df7219296739e016/tiles/{z}/{x}/{y}",
            "visible": true,
            "zoom_offset": 0
          }
        },
        "09b98ddfb8294eeba9bdc6494f4b53c5": {
          "model_module": "jupyter-leaflet",
          "model_name": "LeafletTileLayerModel",
          "model_module_version": "^0.17",
          "state": {
            "_model_module": "jupyter-leaflet",
            "_model_module_version": "^0.17",
            "_model_name": "LeafletTileLayerModel",
            "_view_count": null,
            "_view_module": "jupyter-leaflet",
            "_view_module_version": "^0.17",
            "_view_name": "LeafletTileLayerView",
            "attribution": null,
            "base": false,
            "bottom": true,
            "bounds": null,
            "detect_retina": false,
            "loading": false,
            "max_native_zoom": null,
            "max_zoom": 18,
            "min_native_zoom": null,
            "min_zoom": 0,
            "name": "slope [degrees]",
            "no_wrap": false,
            "opacity": 1,
            "options": [
              "attribution",
              "bounds",
              "detect_retina",
              "max_native_zoom",
              "max_zoom",
              "min_native_zoom",
              "min_zoom",
              "no_wrap",
              "tile_size",
              "tms",
              "zoom_offset"
            ],
            "pane": "",
            "popup": null,
            "popup_max_height": null,
            "popup_max_width": 300,
            "popup_min_width": 50,
            "show_loading": false,
            "subitems": [],
            "tile_size": 256,
            "tms": false,
            "url": "https://earthengine.googleapis.com/v1alpha/projects/earthengine-legacy/maps/30c5bc42f48fbf76219ec521fdddab3d-289dc2b3b4b66786c62fc3477601d93a/tiles/{z}/{x}/{y}",
            "visible": true,
            "zoom_offset": 0
          }
        },
        "4e521406374c4b3f81bdbd0af91ba593": {
          "model_module": "@jupyter-widgets/base",
          "model_name": "LayoutModel",
          "model_module_version": "1.2.0",
          "state": {
            "_model_module": "@jupyter-widgets/base",
            "_model_module_version": "1.2.0",
            "_model_name": "LayoutModel",
            "_view_count": null,
            "_view_module": "@jupyter-widgets/base",
            "_view_module_version": "1.2.0",
            "_view_name": "LayoutView",
            "align_content": null,
            "align_items": null,
            "align_self": null,
            "border": null,
            "bottom": null,
            "display": null,
            "flex": null,
            "flex_flow": null,
            "grid_area": null,
            "grid_auto_columns": null,
            "grid_auto_flow": null,
            "grid_auto_rows": null,
            "grid_column": null,
            "grid_gap": null,
            "grid_row": null,
            "grid_template_areas": null,
            "grid_template_columns": null,
            "grid_template_rows": null,
            "height": null,
            "justify_content": null,
            "justify_items": null,
            "left": null,
            "margin": null,
            "max_height": null,
            "max_width": null,
            "min_height": null,
            "min_width": null,
            "object_fit": null,
            "object_position": null,
            "order": null,
            "overflow": null,
            "overflow_x": null,
            "overflow_y": null,
            "padding": null,
            "right": null,
            "top": null,
            "visibility": null,
            "width": "100%"
          }
        },
        "021ce096f66e4f05bfee84f52e590926": {
          "model_module": "jupyter-leaflet",
          "model_name": "LeafletMapStyleModel",
          "model_module_version": "^0.17",
          "state": {
            "_model_module": "jupyter-leaflet",
            "_model_module_version": "^0.17",
            "_model_name": "LeafletMapStyleModel",
            "_view_count": null,
            "_view_module": "@jupyter-widgets/base",
            "_view_module_version": "1.2.0",
            "_view_name": "StyleView",
            "cursor": "grab"
          }
        },
        "207a417f54244d76802c7b31f98cad9c": {
          "model_module": "@jupyter-widgets/controls",
          "model_name": "HBoxModel",
          "model_module_version": "1.5.0",
          "state": {
            "_dom_classes": [],
            "_model_module": "@jupyter-widgets/controls",
            "_model_module_version": "1.5.0",
            "_model_name": "HBoxModel",
            "_view_count": null,
            "_view_module": "@jupyter-widgets/controls",
            "_view_module_version": "1.5.0",
            "_view_name": "HBoxView",
            "box_style": "",
            "children": [
              "IPY_MODEL_9bd2db4de39b453a8f3db53dea771f86",
              "IPY_MODEL_4db00c48e73c4f21963008d473eb1170"
            ],
            "layout": "IPY_MODEL_90eedff8bb0247a78c46d58f3ac209d5"
          }
        },
        "4db00c48e73c4f21963008d473eb1170": {
          "model_module": "ipytree",
          "model_name": "TreeModel",
          "model_module_version": "^0.2",
          "state": {
            "_dom_classes": [],
            "_id": "#",
            "_model_module": "ipytree",
            "_model_module_version": "^0.2",
            "_model_name": "TreeModel",
            "_view_count": null,
            "_view_module": "ipytree",
            "_view_module_version": "^0.2",
            "_view_name": "TreeView",
            "animation": 200,
            "layout": "IPY_MODEL_e6ddd0a5c3b44e329e726262e9d011f1",
            "multiple_selection": true,
            "nodes": [
              "IPY_MODEL_eb3b1ba09e6443feb4abd4440905b9bb",
              "IPY_MODEL_596325ed24dc4bf78a9ef44e0c00b4bf",
              "IPY_MODEL_e081702ea07344c4b2d3e08a6e3fab11"
            ],
            "selected_nodes": []
          }
        },
        "90eedff8bb0247a78c46d58f3ac209d5": {
          "model_module": "@jupyter-widgets/base",
          "model_name": "LayoutModel",
          "model_module_version": "1.2.0",
          "state": {
            "_model_module": "@jupyter-widgets/base",
            "_model_module_version": "1.2.0",
            "_model_name": "LayoutModel",
            "_view_count": null,
            "_view_module": "@jupyter-widgets/base",
            "_view_module_version": "1.2.0",
            "_view_name": "LayoutView",
            "align_content": null,
            "align_items": null,
            "align_self": null,
            "border": null,
            "bottom": null,
            "display": null,
            "flex": null,
            "flex_flow": null,
            "grid_area": null,
            "grid_auto_columns": null,
            "grid_auto_flow": null,
            "grid_auto_rows": null,
            "grid_column": null,
            "grid_gap": null,
            "grid_row": null,
            "grid_template_areas": null,
            "grid_template_columns": null,
            "grid_template_rows": null,
            "height": null,
            "justify_content": null,
            "justify_items": null,
            "left": null,
            "margin": null,
            "max_height": null,
            "max_width": null,
            "min_height": null,
            "min_width": null,
            "object_fit": null,
            "object_position": null,
            "order": null,
            "overflow": null,
            "overflow_x": null,
            "overflow_y": null,
            "padding": null,
            "right": null,
            "top": null,
            "visibility": null,
            "width": null
          }
        },
        "e6ddd0a5c3b44e329e726262e9d011f1": {
          "model_module": "@jupyter-widgets/base",
          "model_name": "LayoutModel",
          "model_module_version": "1.2.0",
          "state": {
            "_model_module": "@jupyter-widgets/base",
            "_model_module_version": "1.2.0",
            "_model_name": "LayoutModel",
            "_view_count": null,
            "_view_module": "@jupyter-widgets/base",
            "_view_module_version": "1.2.0",
            "_view_name": "LayoutView",
            "align_content": null,
            "align_items": null,
            "align_self": null,
            "border": null,
            "bottom": null,
            "display": null,
            "flex": null,
            "flex_flow": null,
            "grid_area": null,
            "grid_auto_columns": null,
            "grid_auto_flow": null,
            "grid_auto_rows": null,
            "grid_column": null,
            "grid_gap": null,
            "grid_row": null,
            "grid_template_areas": null,
            "grid_template_columns": null,
            "grid_template_rows": null,
            "height": null,
            "justify_content": null,
            "justify_items": null,
            "left": null,
            "margin": null,
            "max_height": "400px",
            "max_width": null,
            "min_height": null,
            "min_width": null,
            "object_fit": null,
            "object_position": null,
            "order": null,
            "overflow": "scroll",
            "overflow_x": null,
            "overflow_y": null,
            "padding": null,
            "right": null,
            "top": null,
            "visibility": null,
            "width": "100%"
          }
        },
        "eb3b1ba09e6443feb4abd4440905b9bb": {
          "model_module": "ipytree",
          "model_name": "NodeModel",
          "model_module_version": "^0.2",
          "state": {
            "_id": "0616db85-51b1-47ba-b95a-8a4f0857a258",
            "_model_module": "ipytree",
            "_model_module_version": "^0.2",
            "_model_name": "NodeModel",
            "_view_count": null,
            "_view_module": "ipytree",
            "_view_module_version": "^0.2",
            "_view_name": "NodeView",
            "close_icon": "minus",
            "close_icon_style": "default",
            "disabled": false,
            "icon": "map",
            "icon_image": "",
            "icon_style": "default",
            "name": "Point",
            "nodes": [],
            "open_icon": "plus",
            "open_icon_style": "default",
            "opened": true,
            "selected": false,
            "show_icon": true
          }
        },
        "596325ed24dc4bf78a9ef44e0c00b4bf": {
          "model_module": "ipytree",
          "model_name": "NodeModel",
          "model_module_version": "^0.2",
          "state": {
            "_id": "ee895b7b-d7eb-4c54-af96-813d121b85fe",
            "_model_module": "ipytree",
            "_model_module_version": "^0.2",
            "_model_name": "NodeModel",
            "_view_count": null,
            "_view_module": "ipytree",
            "_view_module_version": "^0.2",
            "_view_name": "NodeView",
            "close_icon": "minus",
            "close_icon_style": "default",
            "disabled": false,
            "icon": "archive",
            "icon_image": "",
            "icon_style": "default",
            "name": "Pixels",
            "nodes": [],
            "open_icon": "plus",
            "open_icon_style": "default",
            "opened": true,
            "selected": false,
            "show_icon": true
          }
        },
        "e081702ea07344c4b2d3e08a6e3fab11": {
          "model_module": "ipytree",
          "model_name": "NodeModel",
          "model_module_version": "^0.2",
          "state": {
            "_id": "2b1d0df2-e680-4821-ab95-21952be6c8e0",
            "_model_module": "ipytree",
            "_model_module_version": "^0.2",
            "_model_name": "NodeModel",
            "_view_count": null,
            "_view_module": "ipytree",
            "_view_module_version": "^0.2",
            "_view_name": "NodeView",
            "close_icon": "minus",
            "close_icon_style": "default",
            "disabled": false,
            "icon": "archive",
            "icon_image": "",
            "icon_style": "default",
            "name": "Objects",
            "nodes": [],
            "open_icon": "plus",
            "open_icon_style": "default",
            "opened": true,
            "selected": false,
            "show_icon": true
          }
        },
        "3a6266cba4c1483282676f7c81bb46b5": {
          "model_module": "@jupyter-widgets/controls",
          "model_name": "VBoxModel",
          "model_module_version": "1.5.0",
          "state": {
            "_dom_classes": [],
            "_model_module": "@jupyter-widgets/controls",
            "_model_module_version": "1.5.0",
            "_model_name": "VBoxModel",
            "_view_count": null,
            "_view_module": "@jupyter-widgets/controls",
            "_view_module_version": "1.5.0",
            "_view_name": "VBoxView",
            "box_style": "",
            "children": [
              "IPY_MODEL_6e8a327f0b4a4b61aa33b4817ae82a4c",
              "IPY_MODEL_22c927070468459f8e9f32225e541590"
            ],
            "layout": "IPY_MODEL_dfd8258675a445968f3506c8f978854a"
          }
        },
        "6e8a327f0b4a4b61aa33b4817ae82a4c": {
          "model_module": "@jupyter-widgets/controls",
          "model_name": "HBoxModel",
          "model_module_version": "1.5.0",
          "state": {
            "_dom_classes": [],
            "_model_module": "@jupyter-widgets/controls",
            "_model_module_version": "1.5.0",
            "_model_name": "HBoxModel",
            "_view_count": null,
            "_view_module": "@jupyter-widgets/controls",
            "_view_module_version": "1.5.0",
            "_view_name": "HBoxView",
            "box_style": "",
            "children": [
              "IPY_MODEL_b79a5ba764b44ab7b3571c7ba1a7d68d",
              "IPY_MODEL_f4321e9132974d338d534ce897c6e8db"
            ],
            "layout": "IPY_MODEL_72f2727910b74de18b55f28290baed70"
          }
        },
        "22c927070468459f8e9f32225e541590": {
          "model_module": "@jupyter-widgets/controls",
          "model_name": "FloatSliderModel",
          "model_module_version": "1.5.0",
          "state": {
            "_dom_classes": [],
            "_model_module": "@jupyter-widgets/controls",
            "_model_module_version": "1.5.0",
            "_model_name": "FloatSliderModel",
            "_view_count": null,
            "_view_module": "@jupyter-widgets/controls",
            "_view_module_version": "1.5.0",
            "_view_name": "FloatSliderView",
            "continuous_update": true,
            "description": "",
            "description_tooltip": null,
            "disabled": false,
            "layout": "IPY_MODEL_8844da28c12747ddac24cff9238af21f",
            "max": 100,
            "min": 0,
            "orientation": "horizontal",
            "readout": false,
            "readout_format": ".2f",
            "step": 0.1,
            "style": "IPY_MODEL_d61d43db4cd349b9b3d5be9c7bd3d343",
            "value": 50
          }
        },
        "dfd8258675a445968f3506c8f978854a": {
          "model_module": "@jupyter-widgets/base",
          "model_name": "LayoutModel",
          "model_module_version": "1.2.0",
          "state": {
            "_model_module": "@jupyter-widgets/base",
            "_model_module_version": "1.2.0",
            "_model_name": "LayoutModel",
            "_view_count": null,
            "_view_module": "@jupyter-widgets/base",
            "_view_module_version": "1.2.0",
            "_view_name": "LayoutView",
            "align_content": null,
            "align_items": null,
            "align_self": null,
            "border": null,
            "bottom": null,
            "display": null,
            "flex": null,
            "flex_flow": null,
            "grid_area": null,
            "grid_auto_columns": null,
            "grid_auto_flow": null,
            "grid_auto_rows": null,
            "grid_column": null,
            "grid_gap": null,
            "grid_row": null,
            "grid_template_areas": null,
            "grid_template_columns": null,
            "grid_template_rows": null,
            "height": null,
            "justify_content": null,
            "justify_items": null,
            "left": null,
            "margin": null,
            "max_height": null,
            "max_width": null,
            "min_height": null,
            "min_width": null,
            "object_fit": null,
            "object_position": null,
            "order": null,
            "overflow": null,
            "overflow_x": null,
            "overflow_y": null,
            "padding": null,
            "right": null,
            "top": null,
            "visibility": null,
            "width": null
          }
        },
        "b79a5ba764b44ab7b3571c7ba1a7d68d": {
          "model_module": "jupyter-leaflet",
          "model_name": "LeafletMapModel",
          "model_module_version": "^0.17",
          "state": {
            "_dom_classes": [],
            "_model_module": "jupyter-leaflet",
            "_model_module_version": "^0.17",
            "_model_name": "LeafletMapModel",
            "_view_count": null,
            "_view_module": "jupyter-leaflet",
            "_view_module_version": "^0.17",
            "_view_name": "LeafletMapView",
            "bottom": 101848,
            "bounce_at_zoom_limits": true,
            "box_zoom": true,
            "center": [
              37.4225866,
              -122.0648754
            ],
            "close_popup_on_click": true,
            "controls": [
              "IPY_MODEL_8af0c29a57594d6299c2a16d7ce10e0d",
              "IPY_MODEL_fc5b995214044dbcbc727bbe8ee12e37",
              "IPY_MODEL_513e7adbb9a341f593a678028ac6d41a"
            ],
            "crs": {
              "name": "EPSG3857",
              "custom": false
            },
            "default_style": "IPY_MODEL_d49d9f6b0f4f4c569feaa24b5068ecd2",
            "double_click_zoom": true,
            "dragging": true,
            "dragging_style": "IPY_MODEL_8bbb2d692963473fa068ce4fe71dfb7e",
            "east": -121.72302246093751,
            "fullscreen": false,
            "inertia": true,
            "inertia_deceleration": 3000,
            "inertia_max_speed": 1500,
            "interpolation": "bilinear",
            "keyboard": true,
            "keyboard_pan_offset": 80,
            "keyboard_zoom_offset": 1,
            "layers": [
              "IPY_MODEL_038b1f9f0c724692a3480e7457ebd63f"
            ],
            "layout": "IPY_MODEL_9038a9d3f7e84cf28e9615e5fbcae96d",
            "left": 41938,
            "max_zoom": null,
            "min_zoom": null,
            "modisdate": "2023-03-13",
            "north": 37.640334898059486,
            "options": [
              "bounce_at_zoom_limits",
              "box_zoom",
              "center",
              "close_popup_on_click",
              "double_click_zoom",
              "dragging",
              "fullscreen",
              "inertia",
              "inertia_deceleration",
              "inertia_max_speed",
              "interpolation",
              "keyboard",
              "keyboard_pan_offset",
              "keyboard_zoom_offset",
              "max_zoom",
              "min_zoom",
              "prefer_canvas",
              "scroll_wheel_zoom",
              "tap",
              "tap_tolerance",
              "touch_zoom",
              "world_copy_jump",
              "zoom",
              "zoom_animation_threshold",
              "zoom_delta",
              "zoom_snap"
            ],
            "panes": {},
            "prefer_canvas": false,
            "right": 42436,
            "scroll_wheel_zoom": false,
            "south": 37.204081555898526,
            "style": "IPY_MODEL_f90b8462c1c445e78c2052deb1b962f0",
            "tap": true,
            "tap_tolerance": 15,
            "top": 101448,
            "touch_zoom": true,
            "west": -122.40692138671876,
            "window_url": "https://us929lgwa6-496ff2e9c6d22116-0-colab.googleusercontent.com/outputframe.html?vrz=colab-20230309-060141-RC01_515373326",
            "world_copy_jump": false,
            "zoom": 10,
            "zoom_animation_threshold": 4,
            "zoom_delta": 1,
            "zoom_snap": 1
          }
        },
        "f4321e9132974d338d534ce897c6e8db": {
          "model_module": "ipytree",
          "model_name": "TreeModel",
          "model_module_version": "^0.2",
          "state": {
            "_dom_classes": [],
            "_id": "#",
            "_model_module": "ipytree",
            "_model_module_version": "^0.2",
            "_model_name": "TreeModel",
            "_view_count": null,
            "_view_module": "ipytree",
            "_view_module_version": "^0.2",
            "_view_name": "TreeView",
            "animation": 200,
            "layout": "IPY_MODEL_22a8ec3dd661498fb783c1297fa1b33b",
            "multiple_selection": true,
            "nodes": [
              "IPY_MODEL_70f3e778777c4322978e7d8f3809c6fa",
              "IPY_MODEL_be7da9b9746d495f95c61da89ce246b5",
              "IPY_MODEL_0fce35d080294ad797ae64284914690b"
            ],
            "selected_nodes": []
          }
        },
        "72f2727910b74de18b55f28290baed70": {
          "model_module": "@jupyter-widgets/base",
          "model_name": "LayoutModel",
          "model_module_version": "1.2.0",
          "state": {
            "_model_module": "@jupyter-widgets/base",
            "_model_module_version": "1.2.0",
            "_model_name": "LayoutModel",
            "_view_count": null,
            "_view_module": "@jupyter-widgets/base",
            "_view_module_version": "1.2.0",
            "_view_name": "LayoutView",
            "align_content": null,
            "align_items": null,
            "align_self": null,
            "border": null,
            "bottom": null,
            "display": null,
            "flex": null,
            "flex_flow": null,
            "grid_area": null,
            "grid_auto_columns": null,
            "grid_auto_flow": null,
            "grid_auto_rows": null,
            "grid_column": null,
            "grid_gap": null,
            "grid_row": null,
            "grid_template_areas": null,
            "grid_template_columns": null,
            "grid_template_rows": null,
            "height": null,
            "justify_content": null,
            "justify_items": null,
            "left": null,
            "margin": null,
            "max_height": null,
            "max_width": null,
            "min_height": null,
            "min_width": null,
            "object_fit": null,
            "object_position": null,
            "order": null,
            "overflow": null,
            "overflow_x": null,
            "overflow_y": null,
            "padding": null,
            "right": null,
            "top": null,
            "visibility": null,
            "width": null
          }
        },
        "8844da28c12747ddac24cff9238af21f": {
          "model_module": "@jupyter-widgets/base",
          "model_name": "LayoutModel",
          "model_module_version": "1.2.0",
          "state": {
            "_model_module": "@jupyter-widgets/base",
            "_model_module_version": "1.2.0",
            "_model_name": "LayoutModel",
            "_view_count": null,
            "_view_module": "@jupyter-widgets/base",
            "_view_module_version": "1.2.0",
            "_view_name": "LayoutView",
            "align_content": null,
            "align_items": null,
            "align_self": null,
            "border": null,
            "bottom": null,
            "display": null,
            "flex": null,
            "flex_flow": null,
            "grid_area": null,
            "grid_auto_columns": null,
            "grid_auto_flow": null,
            "grid_auto_rows": null,
            "grid_column": null,
            "grid_gap": null,
            "grid_row": null,
            "grid_template_areas": null,
            "grid_template_columns": null,
            "grid_template_rows": null,
            "height": null,
            "justify_content": null,
            "justify_items": null,
            "left": null,
            "margin": null,
            "max_height": null,
            "max_width": null,
            "min_height": null,
            "min_width": null,
            "object_fit": null,
            "object_position": null,
            "order": null,
            "overflow": null,
            "overflow_x": null,
            "overflow_y": null,
            "padding": null,
            "right": null,
            "top": null,
            "visibility": null,
            "width": "100%"
          }
        },
        "d61d43db4cd349b9b3d5be9c7bd3d343": {
          "model_module": "@jupyter-widgets/controls",
          "model_name": "SliderStyleModel",
          "model_module_version": "1.5.0",
          "state": {
            "_model_module": "@jupyter-widgets/controls",
            "_model_module_version": "1.5.0",
            "_model_name": "SliderStyleModel",
            "_view_count": null,
            "_view_module": "@jupyter-widgets/base",
            "_view_module_version": "1.2.0",
            "_view_name": "StyleView",
            "description_width": "",
            "handle_color": null
          }
        },
        "8af0c29a57594d6299c2a16d7ce10e0d": {
          "model_module": "jupyter-leaflet",
          "model_name": "LeafletZoomControlModel",
          "model_module_version": "^0.17",
          "state": {
            "_model_module": "jupyter-leaflet",
            "_model_module_version": "^0.17",
            "_model_name": "LeafletZoomControlModel",
            "_view_count": null,
            "_view_module": "jupyter-leaflet",
            "_view_module_version": "^0.17",
            "_view_name": "LeafletZoomControlView",
            "options": [
              "position",
              "zoom_in_text",
              "zoom_in_title",
              "zoom_out_text",
              "zoom_out_title"
            ],
            "position": "topleft",
            "zoom_in_text": "+",
            "zoom_in_title": "Zoom in",
            "zoom_out_text": "-",
            "zoom_out_title": "Zoom out"
          }
        },
        "fc5b995214044dbcbc727bbe8ee12e37": {
          "model_module": "jupyter-leaflet",
          "model_name": "LeafletAttributionControlModel",
          "model_module_version": "^0.17",
          "state": {
            "_model_module": "jupyter-leaflet",
            "_model_module_version": "^0.17",
            "_model_name": "LeafletAttributionControlModel",
            "_view_count": null,
            "_view_module": "jupyter-leaflet",
            "_view_module_version": "^0.17",
            "_view_name": "LeafletAttributionControlView",
            "options": [
              "position",
              "prefix"
            ],
            "position": "bottomright",
            "prefix": "ipyleaflet"
          }
        },
        "513e7adbb9a341f593a678028ac6d41a": {
          "model_module": "jupyter-leaflet",
          "model_name": "LeafletLayersControlModel",
          "model_module_version": "^0.17",
          "state": {
            "_model_module": "jupyter-leaflet",
            "_model_module_version": "^0.17",
            "_model_name": "LeafletLayersControlModel",
            "_view_count": null,
            "_view_module": "jupyter-leaflet",
            "_view_module_version": "^0.17",
            "_view_name": "LeafletLayersControlView",
            "options": [
              "position"
            ],
            "position": "topright"
          }
        },
        "d49d9f6b0f4f4c569feaa24b5068ecd2": {
          "model_module": "jupyter-leaflet",
          "model_name": "LeafletMapStyleModel",
          "model_module_version": "^0.17",
          "state": {
            "_model_module": "jupyter-leaflet",
            "_model_module_version": "^0.17",
            "_model_name": "LeafletMapStyleModel",
            "_view_count": null,
            "_view_module": "@jupyter-widgets/base",
            "_view_module_version": "1.2.0",
            "_view_name": "StyleView",
            "cursor": "crosshair"
          }
        },
        "8bbb2d692963473fa068ce4fe71dfb7e": {
          "model_module": "jupyter-leaflet",
          "model_name": "LeafletMapStyleModel",
          "model_module_version": "^0.17",
          "state": {
            "_model_module": "jupyter-leaflet",
            "_model_module_version": "^0.17",
            "_model_name": "LeafletMapStyleModel",
            "_view_count": null,
            "_view_module": "@jupyter-widgets/base",
            "_view_module_version": "1.2.0",
            "_view_name": "StyleView",
            "cursor": "move"
          }
        },
        "038b1f9f0c724692a3480e7457ebd63f": {
          "model_module": "jupyter-leaflet",
          "model_name": "LeafletTileLayerModel",
          "model_module_version": "^0.17",
          "state": {
            "_model_module": "jupyter-leaflet",
            "_model_module_version": "^0.17",
            "_model_name": "LeafletTileLayerModel",
            "_view_count": null,
            "_view_module": "jupyter-leaflet",
            "_view_module_version": "^0.17",
            "_view_name": "LeafletTileLayerView",
            "attribution": "Map tiles by <a href=\"http://stamen.com\">Stamen Design</a>, <a href=\"http://creativecommons.org/licenses/by/3.0\">CC BY 3.0</a> &mdash; Map data &copy; <a href=\"https://www.openstreetmap.org/copyright\">OpenStreetMap</a> contributors",
            "base": true,
            "bottom": true,
            "bounds": null,
            "detect_retina": false,
            "loading": false,
            "max_native_zoom": null,
            "max_zoom": 16,
            "min_native_zoom": null,
            "min_zoom": 1,
            "name": "Stamen.Watercolor",
            "no_wrap": false,
            "opacity": 1,
            "options": [
              "attribution",
              "bounds",
              "detect_retina",
              "max_native_zoom",
              "max_zoom",
              "min_native_zoom",
              "min_zoom",
              "no_wrap",
              "tile_size",
              "tms",
              "zoom_offset"
            ],
            "pane": "",
            "popup": null,
            "popup_max_height": null,
            "popup_max_width": 300,
            "popup_min_width": 50,
            "show_loading": false,
            "subitems": [],
            "tile_size": 256,
            "tms": false,
            "url": "https://stamen-tiles-a.a.ssl.fastly.net/watercolor/{z}/{x}/{y}.jpg",
            "visible": true,
            "zoom_offset": 0
          }
        },
        "9038a9d3f7e84cf28e9615e5fbcae96d": {
          "model_module": "@jupyter-widgets/base",
          "model_name": "LayoutModel",
          "model_module_version": "1.2.0",
          "state": {
            "_model_module": "@jupyter-widgets/base",
            "_model_module_version": "1.2.0",
            "_model_name": "LayoutModel",
            "_view_count": null,
            "_view_module": "@jupyter-widgets/base",
            "_view_module_version": "1.2.0",
            "_view_name": "LayoutView",
            "align_content": null,
            "align_items": null,
            "align_self": null,
            "border": null,
            "bottom": null,
            "display": null,
            "flex": null,
            "flex_flow": null,
            "grid_area": null,
            "grid_auto_columns": null,
            "grid_auto_flow": null,
            "grid_auto_rows": null,
            "grid_column": null,
            "grid_gap": null,
            "grid_row": null,
            "grid_template_areas": null,
            "grid_template_columns": null,
            "grid_template_rows": null,
            "height": null,
            "justify_content": null,
            "justify_items": null,
            "left": null,
            "margin": null,
            "max_height": null,
            "max_width": null,
            "min_height": null,
            "min_width": null,
            "object_fit": null,
            "object_position": null,
            "order": null,
            "overflow": null,
            "overflow_x": null,
            "overflow_y": null,
            "padding": null,
            "right": null,
            "top": null,
            "visibility": null,
            "width": "50.0%"
          }
        },
        "f90b8462c1c445e78c2052deb1b962f0": {
          "model_module": "jupyter-leaflet",
          "model_name": "LeafletMapStyleModel",
          "model_module_version": "^0.17",
          "state": {
            "_model_module": "jupyter-leaflet",
            "_model_module_version": "^0.17",
            "_model_name": "LeafletMapStyleModel",
            "_view_count": null,
            "_view_module": "@jupyter-widgets/base",
            "_view_module_version": "1.2.0",
            "_view_name": "StyleView",
            "cursor": "grab"
          }
        },
        "22a8ec3dd661498fb783c1297fa1b33b": {
          "model_module": "@jupyter-widgets/base",
          "model_name": "LayoutModel",
          "model_module_version": "1.2.0",
          "state": {
            "_model_module": "@jupyter-widgets/base",
            "_model_module_version": "1.2.0",
            "_model_name": "LayoutModel",
            "_view_count": null,
            "_view_module": "@jupyter-widgets/base",
            "_view_module_version": "1.2.0",
            "_view_name": "LayoutView",
            "align_content": null,
            "align_items": null,
            "align_self": null,
            "border": null,
            "bottom": null,
            "display": null,
            "flex": null,
            "flex_flow": null,
            "grid_area": null,
            "grid_auto_columns": null,
            "grid_auto_flow": null,
            "grid_auto_rows": null,
            "grid_column": null,
            "grid_gap": null,
            "grid_row": null,
            "grid_template_areas": null,
            "grid_template_columns": null,
            "grid_template_rows": null,
            "height": null,
            "justify_content": null,
            "justify_items": null,
            "left": null,
            "margin": null,
            "max_height": "400px",
            "max_width": null,
            "min_height": null,
            "min_width": null,
            "object_fit": null,
            "object_position": null,
            "order": null,
            "overflow": "scroll",
            "overflow_x": null,
            "overflow_y": null,
            "padding": null,
            "right": null,
            "top": null,
            "visibility": null,
            "width": "50.0%"
          }
        },
        "70f3e778777c4322978e7d8f3809c6fa": {
          "model_module": "ipytree",
          "model_name": "NodeModel",
          "model_module_version": "^0.2",
          "state": {
            "_id": "9e9fe113-2434-4941-92cd-f8d0b7d4ccb7",
            "_model_module": "ipytree",
            "_model_module_version": "^0.2",
            "_model_name": "NodeModel",
            "_view_count": null,
            "_view_module": "ipytree",
            "_view_module_version": "^0.2",
            "_view_name": "NodeView",
            "close_icon": "minus",
            "close_icon_style": "default",
            "disabled": false,
            "icon": "map",
            "icon_image": "",
            "icon_style": "default",
            "name": "Point",
            "nodes": [],
            "open_icon": "plus",
            "open_icon_style": "default",
            "opened": true,
            "selected": false,
            "show_icon": true
          }
        },
        "be7da9b9746d495f95c61da89ce246b5": {
          "model_module": "ipytree",
          "model_name": "NodeModel",
          "model_module_version": "^0.2",
          "state": {
            "_id": "8c466a07-58e5-4ae1-8f2d-77123256585d",
            "_model_module": "ipytree",
            "_model_module_version": "^0.2",
            "_model_name": "NodeModel",
            "_view_count": null,
            "_view_module": "ipytree",
            "_view_module_version": "^0.2",
            "_view_name": "NodeView",
            "close_icon": "minus",
            "close_icon_style": "default",
            "disabled": true,
            "icon": "archive",
            "icon_image": "",
            "icon_style": "default",
            "name": "Pixels",
            "nodes": [],
            "open_icon": "plus",
            "open_icon_style": "default",
            "opened": true,
            "selected": false,
            "show_icon": true
          }
        },
        "0fce35d080294ad797ae64284914690b": {
          "model_module": "ipytree",
          "model_name": "NodeModel",
          "model_module_version": "^0.2",
          "state": {
            "_id": "c831d5fe-3cef-4fd7-92de-cfba06092230",
            "_model_module": "ipytree",
            "_model_module_version": "^0.2",
            "_model_name": "NodeModel",
            "_view_count": null,
            "_view_module": "ipytree",
            "_view_module_version": "^0.2",
            "_view_name": "NodeView",
            "close_icon": "minus",
            "close_icon_style": "default",
            "disabled": true,
            "icon": "archive",
            "icon_image": "",
            "icon_style": "default",
            "name": "Objects",
            "nodes": [],
            "open_icon": "plus",
            "open_icon_style": "default",
            "opened": true,
            "selected": false,
            "show_icon": true
          }
        },
        "a0b4d9366f00423293fdd1cb2fdbe5de": {
          "model_module": "@jupyter-widgets/controls",
          "model_name": "HBoxModel",
          "model_module_version": "1.5.0",
          "state": {
            "_dom_classes": [],
            "_model_module": "@jupyter-widgets/controls",
            "_model_module_version": "1.5.0",
            "_model_name": "HBoxModel",
            "_view_count": null,
            "_view_module": "@jupyter-widgets/controls",
            "_view_module_version": "1.5.0",
            "_view_name": "HBoxView",
            "box_style": "",
            "children": [
              "IPY_MODEL_57586a5f51604dc580a97489569fc565",
              "IPY_MODEL_72fedd9992a441a99aa55bfc1752ed15"
            ],
            "layout": "IPY_MODEL_5b59484dd4014b33912d758582abffb8"
          }
        },
        "57586a5f51604dc580a97489569fc565": {
          "model_module": "jupyter-leaflet",
          "model_name": "LeafletMapModel",
          "model_module_version": "^0.17",
          "state": {
            "_dom_classes": [],
            "_model_module": "jupyter-leaflet",
            "_model_module_version": "^0.17",
            "_model_name": "LeafletMapModel",
            "_view_count": null,
            "_view_module": "jupyter-leaflet",
            "_view_module_version": "^0.17",
            "_view_name": "LeafletMapView",
            "bottom": 98089,
            "bounce_at_zoom_limits": true,
            "box_zoom": true,
            "center": [
              41.40902,
              -122.19492
            ],
            "close_popup_on_click": true,
            "controls": [
              "IPY_MODEL_297a5cec920c42699389f38694954e7e",
              "IPY_MODEL_7759f5567562480fbd2736641ba57bd4",
              "IPY_MODEL_6b410af212be4d01b343c7af41631d8b"
            ],
            "crs": {
              "name": "EPSG3857",
              "custom": false
            },
            "default_style": "IPY_MODEL_b732a886399844a2b4049133e635915f",
            "double_click_zoom": true,
            "dragging": true,
            "dragging_style": "IPY_MODEL_362d7cf5b6634849aa9f5033bf1ef83a",
            "east": -121.85485839843751,
            "fullscreen": false,
            "inertia": true,
            "inertia_deceleration": 3000,
            "inertia_max_speed": 1500,
            "interpolation": "bilinear",
            "keyboard": true,
            "keyboard_pan_offset": 80,
            "keyboard_zoom_offset": 1,
            "layers": [
              "IPY_MODEL_ca1efd7b308a40fc94f5817e97ae57eb",
              "IPY_MODEL_90e9bb6452ea4cae858fc9d8bf6f0650"
            ],
            "layout": "IPY_MODEL_3fd18262efed4e0099eaf5951e8ca1ab",
            "left": 41844,
            "max_zoom": null,
            "min_zoom": null,
            "modisdate": "2023-03-13",
            "north": 41.614415617885754,
            "options": [
              "bounce_at_zoom_limits",
              "box_zoom",
              "center",
              "close_popup_on_click",
              "double_click_zoom",
              "dragging",
              "fullscreen",
              "inertia",
              "inertia_deceleration",
              "inertia_max_speed",
              "interpolation",
              "keyboard",
              "keyboard_pan_offset",
              "keyboard_zoom_offset",
              "max_zoom",
              "min_zoom",
              "prefer_canvas",
              "scroll_wheel_zoom",
              "tap",
              "tap_tolerance",
              "touch_zoom",
              "world_copy_jump",
              "zoom",
              "zoom_animation_threshold",
              "zoom_delta",
              "zoom_snap"
            ],
            "panes": {},
            "prefer_canvas": false,
            "right": 42340,
            "scroll_wheel_zoom": false,
            "south": 41.20242295382758,
            "style": "IPY_MODEL_aa52167786d444aa9c6f1748fed20af4",
            "tap": true,
            "tap_tolerance": 15,
            "top": 97689,
            "touch_zoom": true,
            "west": -122.53601074218751,
            "window_url": "https://us929lgwa6-496ff2e9c6d22116-0-colab.googleusercontent.com/outputframe.html?vrz=colab-20230309-060141-RC01_515373326",
            "world_copy_jump": false,
            "zoom": 10,
            "zoom_animation_threshold": 4,
            "zoom_delta": 1,
            "zoom_snap": 1
          }
        },
        "72fedd9992a441a99aa55bfc1752ed15": {
          "model_module": "jupyter-leaflet",
          "model_name": "LeafletMapModel",
          "model_module_version": "^0.17",
          "state": {
            "_dom_classes": [],
            "_model_module": "jupyter-leaflet",
            "_model_module_version": "^0.17",
            "_model_name": "LeafletMapModel",
            "_view_count": null,
            "_view_module": "jupyter-leaflet",
            "_view_module_version": "^0.17",
            "_view_name": "LeafletMapView",
            "bottom": 98089,
            "bounce_at_zoom_limits": true,
            "box_zoom": true,
            "center": [
              41.40902,
              -122.19492
            ],
            "close_popup_on_click": true,
            "controls": [
              "IPY_MODEL_5be9ceca288b40a48780dbf2dd0a6ff7",
              "IPY_MODEL_26aee6424e044203b43bb456ed2e6247",
              "IPY_MODEL_99012ca0158d463197e5432a84aa8a1e"
            ],
            "crs": {
              "name": "EPSG3857",
              "custom": false
            },
            "default_style": "IPY_MODEL_25853fd348ee4b87a1a76f68619cb341",
            "double_click_zoom": true,
            "dragging": true,
            "dragging_style": "IPY_MODEL_85e7993397bc4514b7225e483586331d",
            "east": -121.85485839843751,
            "fullscreen": false,
            "inertia": true,
            "inertia_deceleration": 3000,
            "inertia_max_speed": 1500,
            "interpolation": "bilinear",
            "keyboard": true,
            "keyboard_pan_offset": 80,
            "keyboard_zoom_offset": 1,
            "layers": [
              "IPY_MODEL_4f2963b0c3df4c5dbf6d7cb168fd92ac",
              "IPY_MODEL_bf059fd9b1504e89baf84e814fb8971e"
            ],
            "layout": "IPY_MODEL_b4ac8bbe780d4e849e894c65474c5815",
            "left": 41844,
            "max_zoom": null,
            "min_zoom": null,
            "modisdate": "2023-03-13",
            "north": 41.614415617885754,
            "options": [
              "bounce_at_zoom_limits",
              "box_zoom",
              "center",
              "close_popup_on_click",
              "double_click_zoom",
              "dragging",
              "fullscreen",
              "inertia",
              "inertia_deceleration",
              "inertia_max_speed",
              "interpolation",
              "keyboard",
              "keyboard_pan_offset",
              "keyboard_zoom_offset",
              "max_zoom",
              "min_zoom",
              "prefer_canvas",
              "scroll_wheel_zoom",
              "tap",
              "tap_tolerance",
              "touch_zoom",
              "world_copy_jump",
              "zoom",
              "zoom_animation_threshold",
              "zoom_delta",
              "zoom_snap"
            ],
            "panes": {},
            "prefer_canvas": false,
            "right": 42340,
            "scroll_wheel_zoom": false,
            "south": 41.20242295382758,
            "style": "IPY_MODEL_57a83943cba147b3aa5b1b2cd817f4a0",
            "tap": true,
            "tap_tolerance": 15,
            "top": 97689,
            "touch_zoom": true,
            "west": -122.53601074218751,
            "window_url": "https://us929lgwa6-496ff2e9c6d22116-0-colab.googleusercontent.com/outputframe.html?vrz=colab-20230309-060141-RC01_515373326",
            "world_copy_jump": false,
            "zoom": 10,
            "zoom_animation_threshold": 4,
            "zoom_delta": 1,
            "zoom_snap": 1
          }
        },
        "5b59484dd4014b33912d758582abffb8": {
          "model_module": "@jupyter-widgets/base",
          "model_name": "LayoutModel",
          "model_module_version": "1.2.0",
          "state": {
            "_model_module": "@jupyter-widgets/base",
            "_model_module_version": "1.2.0",
            "_model_name": "LayoutModel",
            "_view_count": null,
            "_view_module": "@jupyter-widgets/base",
            "_view_module_version": "1.2.0",
            "_view_name": "LayoutView",
            "align_content": null,
            "align_items": null,
            "align_self": null,
            "border": null,
            "bottom": null,
            "display": null,
            "flex": null,
            "flex_flow": null,
            "grid_area": null,
            "grid_auto_columns": null,
            "grid_auto_flow": null,
            "grid_auto_rows": null,
            "grid_column": null,
            "grid_gap": null,
            "grid_row": null,
            "grid_template_areas": null,
            "grid_template_columns": null,
            "grid_template_rows": null,
            "height": null,
            "justify_content": null,
            "justify_items": null,
            "left": null,
            "margin": null,
            "max_height": null,
            "max_width": null,
            "min_height": null,
            "min_width": null,
            "object_fit": null,
            "object_position": null,
            "order": null,
            "overflow": null,
            "overflow_x": null,
            "overflow_y": null,
            "padding": null,
            "right": null,
            "top": null,
            "visibility": null,
            "width": null
          }
        },
        "297a5cec920c42699389f38694954e7e": {
          "model_module": "jupyter-leaflet",
          "model_name": "LeafletZoomControlModel",
          "model_module_version": "^0.17",
          "state": {
            "_model_module": "jupyter-leaflet",
            "_model_module_version": "^0.17",
            "_model_name": "LeafletZoomControlModel",
            "_view_count": null,
            "_view_module": "jupyter-leaflet",
            "_view_module_version": "^0.17",
            "_view_name": "LeafletZoomControlView",
            "options": [
              "position",
              "zoom_in_text",
              "zoom_in_title",
              "zoom_out_text",
              "zoom_out_title"
            ],
            "position": "topleft",
            "zoom_in_text": "+",
            "zoom_in_title": "Zoom in",
            "zoom_out_text": "-",
            "zoom_out_title": "Zoom out"
          }
        },
        "7759f5567562480fbd2736641ba57bd4": {
          "model_module": "jupyter-leaflet",
          "model_name": "LeafletAttributionControlModel",
          "model_module_version": "^0.17",
          "state": {
            "_model_module": "jupyter-leaflet",
            "_model_module_version": "^0.17",
            "_model_name": "LeafletAttributionControlModel",
            "_view_count": null,
            "_view_module": "jupyter-leaflet",
            "_view_module_version": "^0.17",
            "_view_name": "LeafletAttributionControlView",
            "options": [
              "position",
              "prefix"
            ],
            "position": "bottomright",
            "prefix": "ipyleaflet"
          }
        },
        "6b410af212be4d01b343c7af41631d8b": {
          "model_module": "jupyter-leaflet",
          "model_name": "LeafletLayersControlModel",
          "model_module_version": "^0.17",
          "state": {
            "_model_module": "jupyter-leaflet",
            "_model_module_version": "^0.17",
            "_model_name": "LeafletLayersControlModel",
            "_view_count": null,
            "_view_module": "jupyter-leaflet",
            "_view_module_version": "^0.17",
            "_view_name": "LeafletLayersControlView",
            "options": [
              "position"
            ],
            "position": "topright"
          }
        },
        "b732a886399844a2b4049133e635915f": {
          "model_module": "jupyter-leaflet",
          "model_name": "LeafletMapStyleModel",
          "model_module_version": "^0.17",
          "state": {
            "_model_module": "jupyter-leaflet",
            "_model_module_version": "^0.17",
            "_model_name": "LeafletMapStyleModel",
            "_view_count": null,
            "_view_module": "@jupyter-widgets/base",
            "_view_module_version": "1.2.0",
            "_view_name": "StyleView",
            "cursor": "crosshair"
          }
        },
        "362d7cf5b6634849aa9f5033bf1ef83a": {
          "model_module": "jupyter-leaflet",
          "model_name": "LeafletMapStyleModel",
          "model_module_version": "^0.17",
          "state": {
            "_model_module": "jupyter-leaflet",
            "_model_module_version": "^0.17",
            "_model_name": "LeafletMapStyleModel",
            "_view_count": null,
            "_view_module": "@jupyter-widgets/base",
            "_view_module_version": "1.2.0",
            "_view_name": "StyleView",
            "cursor": "move"
          }
        },
        "ca1efd7b308a40fc94f5817e97ae57eb": {
          "model_module": "jupyter-leaflet",
          "model_name": "LeafletTileLayerModel",
          "model_module_version": "^0.17",
          "state": {
            "_model_module": "jupyter-leaflet",
            "_model_module_version": "^0.17",
            "_model_name": "LeafletTileLayerModel",
            "_view_count": null,
            "_view_module": "jupyter-leaflet",
            "_view_module_version": "^0.17",
            "_view_name": "LeafletTileLayerView",
            "attribution": "Map tiles by <a href=\"http://stamen.com\">Stamen Design</a>, <a href=\"http://creativecommons.org/licenses/by/3.0\">CC BY 3.0</a> &mdash; Map data &copy; <a href=\"https://www.openstreetmap.org/copyright\">OpenStreetMap</a> contributors",
            "base": true,
            "bottom": true,
            "bounds": null,
            "detect_retina": false,
            "loading": false,
            "max_native_zoom": null,
            "max_zoom": 16,
            "min_native_zoom": null,
            "min_zoom": 1,
            "name": "Stamen.Watercolor",
            "no_wrap": false,
            "opacity": 1,
            "options": [
              "attribution",
              "bounds",
              "detect_retina",
              "max_native_zoom",
              "max_zoom",
              "min_native_zoom",
              "min_zoom",
              "no_wrap",
              "tile_size",
              "tms",
              "zoom_offset"
            ],
            "pane": "",
            "popup": null,
            "popup_max_height": null,
            "popup_max_width": 300,
            "popup_min_width": 50,
            "show_loading": false,
            "subitems": [],
            "tile_size": 256,
            "tms": false,
            "url": "https://stamen-tiles-a.a.ssl.fastly.net/watercolor/{z}/{x}/{y}.jpg",
            "visible": true,
            "zoom_offset": 0
          }
        },
        "90e9bb6452ea4cae858fc9d8bf6f0650": {
          "model_module": "jupyter-leaflet",
          "model_name": "LeafletTileLayerModel",
          "model_module_version": "^0.17",
          "state": {
            "_model_module": "jupyter-leaflet",
            "_model_module_version": "^0.17",
            "_model_name": "LeafletTileLayerModel",
            "_view_count": null,
            "_view_module": "jupyter-leaflet",
            "_view_module_version": "^0.17",
            "_view_name": "LeafletTileLayerView",
            "attribution": null,
            "base": false,
            "bottom": true,
            "bounds": null,
            "detect_retina": false,
            "loading": false,
            "max_native_zoom": null,
            "max_zoom": 18,
            "min_native_zoom": null,
            "min_zoom": 0,
            "name": "elevation [meters]",
            "no_wrap": false,
            "opacity": 1,
            "options": [
              "attribution",
              "bounds",
              "detect_retina",
              "max_native_zoom",
              "max_zoom",
              "min_native_zoom",
              "min_zoom",
              "no_wrap",
              "tile_size",
              "tms",
              "zoom_offset"
            ],
            "pane": "",
            "popup": null,
            "popup_max_height": null,
            "popup_max_width": 300,
            "popup_min_width": 50,
            "show_loading": false,
            "subitems": [],
            "tile_size": 256,
            "tms": false,
            "url": "https://earthengine.googleapis.com/v1alpha/projects/earthengine-legacy/maps/b5ef35e2e8f7514a495d8473cdda34c6-9a217168a0f37e479b715b89664aeddc/tiles/{z}/{x}/{y}",
            "visible": true,
            "zoom_offset": 0
          }
        },
        "3fd18262efed4e0099eaf5951e8ca1ab": {
          "model_module": "@jupyter-widgets/base",
          "model_name": "LayoutModel",
          "model_module_version": "1.2.0",
          "state": {
            "_model_module": "@jupyter-widgets/base",
            "_model_module_version": "1.2.0",
            "_model_name": "LayoutModel",
            "_view_count": null,
            "_view_module": "@jupyter-widgets/base",
            "_view_module_version": "1.2.0",
            "_view_name": "LayoutView",
            "align_content": null,
            "align_items": null,
            "align_self": null,
            "border": null,
            "bottom": null,
            "display": null,
            "flex": null,
            "flex_flow": null,
            "grid_area": null,
            "grid_auto_columns": null,
            "grid_auto_flow": null,
            "grid_auto_rows": null,
            "grid_column": null,
            "grid_gap": null,
            "grid_row": null,
            "grid_template_areas": null,
            "grid_template_columns": null,
            "grid_template_rows": null,
            "height": null,
            "justify_content": null,
            "justify_items": null,
            "left": null,
            "margin": null,
            "max_height": null,
            "max_width": null,
            "min_height": null,
            "min_width": null,
            "object_fit": null,
            "object_position": null,
            "order": null,
            "overflow": null,
            "overflow_x": null,
            "overflow_y": null,
            "padding": null,
            "right": null,
            "top": null,
            "visibility": null,
            "width": "100%"
          }
        },
        "aa52167786d444aa9c6f1748fed20af4": {
          "model_module": "jupyter-leaflet",
          "model_name": "LeafletMapStyleModel",
          "model_module_version": "^0.17",
          "state": {
            "_model_module": "jupyter-leaflet",
            "_model_module_version": "^0.17",
            "_model_name": "LeafletMapStyleModel",
            "_view_count": null,
            "_view_module": "@jupyter-widgets/base",
            "_view_module_version": "1.2.0",
            "_view_name": "StyleView",
            "cursor": "grab"
          }
        },
        "5be9ceca288b40a48780dbf2dd0a6ff7": {
          "model_module": "jupyter-leaflet",
          "model_name": "LeafletZoomControlModel",
          "model_module_version": "^0.17",
          "state": {
            "_model_module": "jupyter-leaflet",
            "_model_module_version": "^0.17",
            "_model_name": "LeafletZoomControlModel",
            "_view_count": null,
            "_view_module": "jupyter-leaflet",
            "_view_module_version": "^0.17",
            "_view_name": "LeafletZoomControlView",
            "options": [
              "position",
              "zoom_in_text",
              "zoom_in_title",
              "zoom_out_text",
              "zoom_out_title"
            ],
            "position": "topleft",
            "zoom_in_text": "+",
            "zoom_in_title": "Zoom in",
            "zoom_out_text": "-",
            "zoom_out_title": "Zoom out"
          }
        },
        "26aee6424e044203b43bb456ed2e6247": {
          "model_module": "jupyter-leaflet",
          "model_name": "LeafletAttributionControlModel",
          "model_module_version": "^0.17",
          "state": {
            "_model_module": "jupyter-leaflet",
            "_model_module_version": "^0.17",
            "_model_name": "LeafletAttributionControlModel",
            "_view_count": null,
            "_view_module": "jupyter-leaflet",
            "_view_module_version": "^0.17",
            "_view_name": "LeafletAttributionControlView",
            "options": [
              "position",
              "prefix"
            ],
            "position": "bottomright",
            "prefix": "ipyleaflet"
          }
        },
        "99012ca0158d463197e5432a84aa8a1e": {
          "model_module": "jupyter-leaflet",
          "model_name": "LeafletLayersControlModel",
          "model_module_version": "^0.17",
          "state": {
            "_model_module": "jupyter-leaflet",
            "_model_module_version": "^0.17",
            "_model_name": "LeafletLayersControlModel",
            "_view_count": null,
            "_view_module": "jupyter-leaflet",
            "_view_module_version": "^0.17",
            "_view_name": "LeafletLayersControlView",
            "options": [
              "position"
            ],
            "position": "topright"
          }
        },
        "25853fd348ee4b87a1a76f68619cb341": {
          "model_module": "jupyter-leaflet",
          "model_name": "LeafletMapStyleModel",
          "model_module_version": "^0.17",
          "state": {
            "_model_module": "jupyter-leaflet",
            "_model_module_version": "^0.17",
            "_model_name": "LeafletMapStyleModel",
            "_view_count": null,
            "_view_module": "@jupyter-widgets/base",
            "_view_module_version": "1.2.0",
            "_view_name": "StyleView",
            "cursor": "crosshair"
          }
        },
        "85e7993397bc4514b7225e483586331d": {
          "model_module": "jupyter-leaflet",
          "model_name": "LeafletMapStyleModel",
          "model_module_version": "^0.17",
          "state": {
            "_model_module": "jupyter-leaflet",
            "_model_module_version": "^0.17",
            "_model_name": "LeafletMapStyleModel",
            "_view_count": null,
            "_view_module": "@jupyter-widgets/base",
            "_view_module_version": "1.2.0",
            "_view_name": "StyleView",
            "cursor": "move"
          }
        },
        "4f2963b0c3df4c5dbf6d7cb168fd92ac": {
          "model_module": "jupyter-leaflet",
          "model_name": "LeafletTileLayerModel",
          "model_module_version": "^0.17",
          "state": {
            "_model_module": "jupyter-leaflet",
            "_model_module_version": "^0.17",
            "_model_name": "LeafletTileLayerModel",
            "_view_count": null,
            "_view_module": "jupyter-leaflet",
            "_view_module_version": "^0.17",
            "_view_name": "LeafletTileLayerView",
            "attribution": "Map tiles by <a href=\"http://stamen.com\">Stamen Design</a>, <a href=\"http://creativecommons.org/licenses/by/3.0\">CC BY 3.0</a> &mdash; Map data &copy; <a href=\"https://www.openstreetmap.org/copyright\">OpenStreetMap</a> contributors",
            "base": true,
            "bottom": true,
            "bounds": null,
            "detect_retina": false,
            "loading": false,
            "max_native_zoom": null,
            "max_zoom": 16,
            "min_native_zoom": null,
            "min_zoom": 1,
            "name": "Stamen.Watercolor",
            "no_wrap": false,
            "opacity": 1,
            "options": [
              "attribution",
              "bounds",
              "detect_retina",
              "max_native_zoom",
              "max_zoom",
              "min_native_zoom",
              "min_zoom",
              "no_wrap",
              "tile_size",
              "tms",
              "zoom_offset"
            ],
            "pane": "",
            "popup": null,
            "popup_max_height": null,
            "popup_max_width": 300,
            "popup_min_width": 50,
            "show_loading": false,
            "subitems": [],
            "tile_size": 256,
            "tms": false,
            "url": "https://stamen-tiles-a.a.ssl.fastly.net/watercolor/{z}/{x}/{y}.jpg",
            "visible": true,
            "zoom_offset": 0
          }
        },
        "bf059fd9b1504e89baf84e814fb8971e": {
          "model_module": "jupyter-leaflet",
          "model_name": "LeafletTileLayerModel",
          "model_module_version": "^0.17",
          "state": {
            "_model_module": "jupyter-leaflet",
            "_model_module_version": "^0.17",
            "_model_name": "LeafletTileLayerModel",
            "_view_count": null,
            "_view_module": "jupyter-leaflet",
            "_view_module_version": "^0.17",
            "_view_name": "LeafletTileLayerView",
            "attribution": null,
            "base": false,
            "bottom": true,
            "bounds": null,
            "detect_retina": false,
            "loading": false,
            "max_native_zoom": null,
            "max_zoom": 18,
            "min_native_zoom": null,
            "min_zoom": 0,
            "name": "sin of aspect",
            "no_wrap": false,
            "opacity": 1,
            "options": [
              "attribution",
              "bounds",
              "detect_retina",
              "max_native_zoom",
              "max_zoom",
              "min_native_zoom",
              "min_zoom",
              "no_wrap",
              "tile_size",
              "tms",
              "zoom_offset"
            ],
            "pane": "",
            "popup": null,
            "popup_max_height": null,
            "popup_max_width": 300,
            "popup_min_width": 50,
            "show_loading": false,
            "subitems": [],
            "tile_size": 256,
            "tms": false,
            "url": "https://earthengine.googleapis.com/v1alpha/projects/earthengine-legacy/maps/75a557ca228721fb96074ef36159e20a-3a237f3a1f5492bbcf45670b2bdec04f/tiles/{z}/{x}/{y}",
            "visible": true,
            "zoom_offset": 0
          }
        },
        "b4ac8bbe780d4e849e894c65474c5815": {
          "model_module": "@jupyter-widgets/base",
          "model_name": "LayoutModel",
          "model_module_version": "1.2.0",
          "state": {
            "_model_module": "@jupyter-widgets/base",
            "_model_module_version": "1.2.0",
            "_model_name": "LayoutModel",
            "_view_count": null,
            "_view_module": "@jupyter-widgets/base",
            "_view_module_version": "1.2.0",
            "_view_name": "LayoutView",
            "align_content": null,
            "align_items": null,
            "align_self": null,
            "border": null,
            "bottom": null,
            "display": null,
            "flex": null,
            "flex_flow": null,
            "grid_area": null,
            "grid_auto_columns": null,
            "grid_auto_flow": null,
            "grid_auto_rows": null,
            "grid_column": null,
            "grid_gap": null,
            "grid_row": null,
            "grid_template_areas": null,
            "grid_template_columns": null,
            "grid_template_rows": null,
            "height": null,
            "justify_content": null,
            "justify_items": null,
            "left": null,
            "margin": null,
            "max_height": null,
            "max_width": null,
            "min_height": null,
            "min_width": null,
            "object_fit": null,
            "object_position": null,
            "order": null,
            "overflow": null,
            "overflow_x": null,
            "overflow_y": null,
            "padding": null,
            "right": null,
            "top": null,
            "visibility": null,
            "width": "100%"
          }
        },
        "57a83943cba147b3aa5b1b2cd817f4a0": {
          "model_module": "jupyter-leaflet",
          "model_name": "LeafletMapStyleModel",
          "model_module_version": "^0.17",
          "state": {
            "_model_module": "jupyter-leaflet",
            "_model_module_version": "^0.17",
            "_model_name": "LeafletMapStyleModel",
            "_view_count": null,
            "_view_module": "@jupyter-widgets/base",
            "_view_module_version": "1.2.0",
            "_view_name": "StyleView",
            "cursor": "grab"
          }
        },
        "0a2b41570aa84890ae200f39173f8062": {
          "model_module": "@jupyter-widgets/controls",
          "model_name": "VBoxModel",
          "model_module_version": "1.5.0",
          "state": {
            "_dom_classes": [],
            "_model_module": "@jupyter-widgets/controls",
            "_model_module_version": "1.5.0",
            "_model_name": "VBoxModel",
            "_view_count": null,
            "_view_module": "@jupyter-widgets/controls",
            "_view_module_version": "1.5.0",
            "_view_name": "VBoxView",
            "box_style": "",
            "children": [
              "IPY_MODEL_b8096e412d8c46ecbc3c3f5c224e07de",
              "IPY_MODEL_abe8d59b6cd54590ad342259a0d16174"
            ],
            "layout": "IPY_MODEL_2e373874cf0246d1b690759388cb4964"
          }
        },
        "b8096e412d8c46ecbc3c3f5c224e07de": {
          "model_module": "jupyter-leaflet",
          "model_name": "LeafletMapModel",
          "model_module_version": "^0.17",
          "state": {
            "_dom_classes": [],
            "_model_module": "jupyter-leaflet",
            "_model_module_version": "^0.17",
            "_model_name": "LeafletMapModel",
            "_view_count": null,
            "_view_module": "jupyter-leaflet",
            "_view_module_version": "^0.17",
            "_view_name": "LeafletMapView",
            "bottom": 101848,
            "bounce_at_zoom_limits": true,
            "box_zoom": true,
            "center": [
              37.4225866,
              -122.0648754
            ],
            "close_popup_on_click": true,
            "controls": [
              "IPY_MODEL_4970b424148548bf9ef95250e0485f59",
              "IPY_MODEL_9a9378bff52f4f728084deabbab4b41c",
              "IPY_MODEL_628d4b77067c46ecb9362e451c67def8",
              "IPY_MODEL_3a53367a69b647c48d191423ad6522c9"
            ],
            "crs": {
              "name": "EPSG3857",
              "custom": false
            },
            "default_style": "IPY_MODEL_cbb03969235b4ad2b87dd1ac81767c00",
            "double_click_zoom": true,
            "dragging": true,
            "dragging_style": "IPY_MODEL_056f7894aea3420d93df625b765fe777",
            "east": -121.37695312500001,
            "fullscreen": false,
            "inertia": true,
            "inertia_deceleration": 3000,
            "inertia_max_speed": 1500,
            "interpolation": "bilinear",
            "keyboard": true,
            "keyboard_pan_offset": 80,
            "keyboard_zoom_offset": 1,
            "layers": [
              "IPY_MODEL_9594fc894af741789626f19b2d55682d",
              "IPY_MODEL_ad4a5bcb3b8b407cba10190825dfff32"
            ],
            "layout": "IPY_MODEL_23f0985a9eb6417494880646b4c12377",
            "left": 41687,
            "max_zoom": null,
            "min_zoom": null,
            "modisdate": "2023-03-13",
            "north": 37.640334898059486,
            "options": [
              "bounce_at_zoom_limits",
              "box_zoom",
              "center",
              "close_popup_on_click",
              "double_click_zoom",
              "dragging",
              "fullscreen",
              "inertia",
              "inertia_deceleration",
              "inertia_max_speed",
              "interpolation",
              "keyboard",
              "keyboard_pan_offset",
              "keyboard_zoom_offset",
              "max_zoom",
              "min_zoom",
              "prefer_canvas",
              "scroll_wheel_zoom",
              "tap",
              "tap_tolerance",
              "touch_zoom",
              "world_copy_jump",
              "zoom",
              "zoom_animation_threshold",
              "zoom_delta",
              "zoom_snap"
            ],
            "panes": {},
            "prefer_canvas": false,
            "right": 42688,
            "scroll_wheel_zoom": false,
            "south": 37.204081555898526,
            "style": "IPY_MODEL_ff3758ed329342b9a05436eed717d512",
            "tap": true,
            "tap_tolerance": 15,
            "top": 101448,
            "touch_zoom": true,
            "west": -122.75161743164062,
            "window_url": "https://us929lgwa6-496ff2e9c6d22116-0-colab.googleusercontent.com/outputframe.html?vrz=colab-20230309-060141-RC01_515373326",
            "world_copy_jump": false,
            "zoom": 10,
            "zoom_animation_threshold": 4,
            "zoom_delta": 1,
            "zoom_snap": 1
          }
        },
        "abe8d59b6cd54590ad342259a0d16174": {
          "model_module": "@jupyter-widgets/output",
          "model_name": "OutputModel",
          "model_module_version": "1.0.0",
          "state": {
            "_dom_classes": [],
            "_model_module": "@jupyter-widgets/output",
            "_model_module_version": "1.0.0",
            "_model_name": "OutputModel",
            "_view_count": null,
            "_view_module": "@jupyter-widgets/output",
            "_view_module_version": "1.0.0",
            "_view_name": "OutputView",
            "layout": "IPY_MODEL_d0f5f58e81244699907733183abd2184",
            "msg_id": "",
            "outputs": []
          }
        },
        "2e373874cf0246d1b690759388cb4964": {
          "model_module": "@jupyter-widgets/base",
          "model_name": "LayoutModel",
          "model_module_version": "1.2.0",
          "state": {
            "_model_module": "@jupyter-widgets/base",
            "_model_module_version": "1.2.0",
            "_model_name": "LayoutModel",
            "_view_count": null,
            "_view_module": "@jupyter-widgets/base",
            "_view_module_version": "1.2.0",
            "_view_name": "LayoutView",
            "align_content": null,
            "align_items": null,
            "align_self": null,
            "border": null,
            "bottom": null,
            "display": null,
            "flex": null,
            "flex_flow": null,
            "grid_area": null,
            "grid_auto_columns": null,
            "grid_auto_flow": null,
            "grid_auto_rows": null,
            "grid_column": null,
            "grid_gap": null,
            "grid_row": null,
            "grid_template_areas": null,
            "grid_template_columns": null,
            "grid_template_rows": null,
            "height": null,
            "justify_content": null,
            "justify_items": null,
            "left": null,
            "margin": null,
            "max_height": null,
            "max_width": null,
            "min_height": null,
            "min_width": null,
            "object_fit": null,
            "object_position": null,
            "order": null,
            "overflow": null,
            "overflow_x": null,
            "overflow_y": null,
            "padding": null,
            "right": null,
            "top": null,
            "visibility": null,
            "width": null
          }
        },
        "d0f5f58e81244699907733183abd2184": {
          "model_module": "@jupyter-widgets/base",
          "model_name": "LayoutModel",
          "model_module_version": "1.2.0",
          "state": {
            "_model_module": "@jupyter-widgets/base",
            "_model_module_version": "1.2.0",
            "_model_name": "LayoutModel",
            "_view_count": null,
            "_view_module": "@jupyter-widgets/base",
            "_view_module_version": "1.2.0",
            "_view_name": "LayoutView",
            "align_content": null,
            "align_items": null,
            "align_self": null,
            "border": "1px solid black",
            "bottom": null,
            "display": null,
            "flex": null,
            "flex_flow": null,
            "grid_area": null,
            "grid_auto_columns": null,
            "grid_auto_flow": null,
            "grid_auto_rows": null,
            "grid_column": null,
            "grid_gap": null,
            "grid_row": null,
            "grid_template_areas": null,
            "grid_template_columns": null,
            "grid_template_rows": null,
            "height": null,
            "justify_content": null,
            "justify_items": null,
            "left": null,
            "margin": null,
            "max_height": null,
            "max_width": null,
            "min_height": null,
            "min_width": null,
            "object_fit": null,
            "object_position": null,
            "order": null,
            "overflow": null,
            "overflow_x": null,
            "overflow_y": null,
            "padding": null,
            "right": null,
            "top": null,
            "visibility": null,
            "width": "200"
          }
        },
        "4970b424148548bf9ef95250e0485f59": {
          "model_module": "jupyter-leaflet",
          "model_name": "LeafletZoomControlModel",
          "model_module_version": "^0.17",
          "state": {
            "_model_module": "jupyter-leaflet",
            "_model_module_version": "^0.17",
            "_model_name": "LeafletZoomControlModel",
            "_view_count": null,
            "_view_module": "jupyter-leaflet",
            "_view_module_version": "^0.17",
            "_view_name": "LeafletZoomControlView",
            "options": [
              "position",
              "zoom_in_text",
              "zoom_in_title",
              "zoom_out_text",
              "zoom_out_title"
            ],
            "position": "topleft",
            "zoom_in_text": "+",
            "zoom_in_title": "Zoom in",
            "zoom_out_text": "-",
            "zoom_out_title": "Zoom out"
          }
        },
        "9a9378bff52f4f728084deabbab4b41c": {
          "model_module": "jupyter-leaflet",
          "model_name": "LeafletAttributionControlModel",
          "model_module_version": "^0.17",
          "state": {
            "_model_module": "jupyter-leaflet",
            "_model_module_version": "^0.17",
            "_model_name": "LeafletAttributionControlModel",
            "_view_count": null,
            "_view_module": "jupyter-leaflet",
            "_view_module_version": "^0.17",
            "_view_name": "LeafletAttributionControlView",
            "options": [
              "position",
              "prefix"
            ],
            "position": "bottomright",
            "prefix": "ipyleaflet"
          }
        },
        "628d4b77067c46ecb9362e451c67def8": {
          "model_module": "jupyter-leaflet",
          "model_name": "LeafletLayersControlModel",
          "model_module_version": "^0.17",
          "state": {
            "_model_module": "jupyter-leaflet",
            "_model_module_version": "^0.17",
            "_model_name": "LeafletLayersControlModel",
            "_view_count": null,
            "_view_module": "jupyter-leaflet",
            "_view_module_version": "^0.17",
            "_view_name": "LeafletLayersControlView",
            "options": [
              "position"
            ],
            "position": "topright"
          }
        },
        "3a53367a69b647c48d191423ad6522c9": {
          "model_module": "jupyter-leaflet",
          "model_name": "LeafletDrawControlModel",
          "model_module_version": "^0.17",
          "state": {
            "_model_module": "jupyter-leaflet",
            "_model_module_version": "^0.17",
            "_model_name": "LeafletDrawControlModel",
            "_view_count": null,
            "_view_module": "jupyter-leaflet",
            "_view_module_version": "^0.17",
            "_view_name": "LeafletDrawControlView",
            "circle": {},
            "circlemarker": {},
            "data": [],
            "edit": true,
            "marker": {},
            "options": [
              "position"
            ],
            "polygon": {
              "shapeOptions": {}
            },
            "polyline": {},
            "position": "topleft",
            "rectangle": {},
            "remove": true
          }
        },
        "cbb03969235b4ad2b87dd1ac81767c00": {
          "model_module": "jupyter-leaflet",
          "model_name": "LeafletMapStyleModel",
          "model_module_version": "^0.17",
          "state": {
            "_model_module": "jupyter-leaflet",
            "_model_module_version": "^0.17",
            "_model_name": "LeafletMapStyleModel",
            "_view_count": null,
            "_view_module": "@jupyter-widgets/base",
            "_view_module_version": "1.2.0",
            "_view_name": "StyleView",
            "cursor": "crosshair"
          }
        },
        "056f7894aea3420d93df625b765fe777": {
          "model_module": "jupyter-leaflet",
          "model_name": "LeafletMapStyleModel",
          "model_module_version": "^0.17",
          "state": {
            "_model_module": "jupyter-leaflet",
            "_model_module_version": "^0.17",
            "_model_name": "LeafletMapStyleModel",
            "_view_count": null,
            "_view_module": "@jupyter-widgets/base",
            "_view_module_version": "1.2.0",
            "_view_name": "StyleView",
            "cursor": "move"
          }
        },
        "9594fc894af741789626f19b2d55682d": {
          "model_module": "jupyter-leaflet",
          "model_name": "LeafletTileLayerModel",
          "model_module_version": "^0.17",
          "state": {
            "_model_module": "jupyter-leaflet",
            "_model_module_version": "^0.17",
            "_model_name": "LeafletTileLayerModel",
            "_view_count": null,
            "_view_module": "jupyter-leaflet",
            "_view_module_version": "^0.17",
            "_view_name": "LeafletTileLayerView",
            "attribution": "Map tiles by <a href=\"http://stamen.com\">Stamen Design</a>, <a href=\"http://creativecommons.org/licenses/by/3.0\">CC BY 3.0</a> &mdash; Map data &copy; <a href=\"https://www.openstreetmap.org/copyright\">OpenStreetMap</a> contributors",
            "base": true,
            "bottom": true,
            "bounds": null,
            "detect_retina": false,
            "loading": false,
            "max_native_zoom": null,
            "max_zoom": 16,
            "min_native_zoom": null,
            "min_zoom": 1,
            "name": "Stamen.Watercolor",
            "no_wrap": false,
            "opacity": 1,
            "options": [
              "attribution",
              "bounds",
              "detect_retina",
              "max_native_zoom",
              "max_zoom",
              "min_native_zoom",
              "min_zoom",
              "no_wrap",
              "tile_size",
              "tms",
              "zoom_offset"
            ],
            "pane": "",
            "popup": null,
            "popup_max_height": null,
            "popup_max_width": 300,
            "popup_min_width": 50,
            "show_loading": false,
            "subitems": [],
            "tile_size": 256,
            "tms": false,
            "url": "https://stamen-tiles-a.a.ssl.fastly.net/watercolor/{z}/{x}/{y}.jpg",
            "visible": true,
            "zoom_offset": 0
          }
        },
        "ad4a5bcb3b8b407cba10190825dfff32": {
          "model_module": "jupyter-leaflet",
          "model_name": "LeafletTileLayerModel",
          "model_module_version": "^0.17",
          "state": {
            "_model_module": "jupyter-leaflet",
            "_model_module_version": "^0.17",
            "_model_name": "LeafletTileLayerModel",
            "_view_count": null,
            "_view_module": "jupyter-leaflet",
            "_view_module_version": "^0.17",
            "_view_name": "LeafletTileLayerView",
            "attribution": null,
            "base": false,
            "bottom": true,
            "bounds": null,
            "detect_retina": false,
            "loading": false,
            "max_native_zoom": null,
            "max_zoom": 18,
            "min_native_zoom": null,
            "min_zoom": 0,
            "name": "elevation [meters]",
            "no_wrap": false,
            "opacity": 1,
            "options": [
              "attribution",
              "bounds",
              "detect_retina",
              "max_native_zoom",
              "max_zoom",
              "min_native_zoom",
              "min_zoom",
              "no_wrap",
              "tile_size",
              "tms",
              "zoom_offset"
            ],
            "pane": "",
            "popup": null,
            "popup_max_height": null,
            "popup_max_width": 300,
            "popup_min_width": 50,
            "show_loading": false,
            "subitems": [],
            "tile_size": 256,
            "tms": false,
            "url": "https://earthengine.googleapis.com/v1alpha/projects/earthengine-legacy/maps/610a63d42e5017592a00c9764f3167fa-f88cb40d29a04f9f3543256e7b098f37/tiles/{z}/{x}/{y}",
            "visible": true,
            "zoom_offset": 0
          }
        },
        "23f0985a9eb6417494880646b4c12377": {
          "model_module": "@jupyter-widgets/base",
          "model_name": "LayoutModel",
          "model_module_version": "1.2.0",
          "state": {
            "_model_module": "@jupyter-widgets/base",
            "_model_module_version": "1.2.0",
            "_model_name": "LayoutModel",
            "_view_count": null,
            "_view_module": "@jupyter-widgets/base",
            "_view_module_version": "1.2.0",
            "_view_name": "LayoutView",
            "align_content": null,
            "align_items": null,
            "align_self": null,
            "border": null,
            "bottom": null,
            "display": null,
            "flex": null,
            "flex_flow": null,
            "grid_area": null,
            "grid_auto_columns": null,
            "grid_auto_flow": null,
            "grid_auto_rows": null,
            "grid_column": null,
            "grid_gap": null,
            "grid_row": null,
            "grid_template_areas": null,
            "grid_template_columns": null,
            "grid_template_rows": null,
            "height": null,
            "justify_content": null,
            "justify_items": null,
            "left": null,
            "margin": null,
            "max_height": null,
            "max_width": null,
            "min_height": null,
            "min_width": null,
            "object_fit": null,
            "object_position": null,
            "order": null,
            "overflow": null,
            "overflow_x": null,
            "overflow_y": null,
            "padding": null,
            "right": null,
            "top": null,
            "visibility": null,
            "width": "100%"
          }
        },
        "ff3758ed329342b9a05436eed717d512": {
          "model_module": "jupyter-leaflet",
          "model_name": "LeafletMapStyleModel",
          "model_module_version": "^0.17",
          "state": {
            "_model_module": "jupyter-leaflet",
            "_model_module_version": "^0.17",
            "_model_name": "LeafletMapStyleModel",
            "_view_count": null,
            "_view_module": "@jupyter-widgets/base",
            "_view_module_version": "1.2.0",
            "_view_name": "StyleView",
            "cursor": "grab"
          }
        },
        "08190e7c6b6248c6a5c53da46376eea4": {
          "model_module": "@jupyter-widgets/controls",
          "model_name": "VBoxModel",
          "model_module_version": "1.5.0",
          "state": {
            "_dom_classes": [],
            "_model_module": "@jupyter-widgets/controls",
            "_model_module_version": "1.5.0",
            "_model_name": "VBoxModel",
            "_view_count": null,
            "_view_module": "@jupyter-widgets/controls",
            "_view_module_version": "1.5.0",
            "_view_name": "VBoxView",
            "box_style": "",
            "children": [
              "IPY_MODEL_7d554d6205974b2c81d5393ee4c1b5b9",
              "IPY_MODEL_92dcb1ff4a8c4b3682f02a5d28071bbc",
              "IPY_MODEL_c77c010a9c0d4e93b0ed62e8353e1cdc",
              "IPY_MODEL_30de52e1df70453599fb9958b3c785fb"
            ],
            "layout": "IPY_MODEL_4987e6ca7cc642d8a32fe13121785883"
          }
        },
        "7d554d6205974b2c81d5393ee4c1b5b9": {
          "model_module": "@jupyter-widgets/controls",
          "model_name": "LabelModel",
          "model_module_version": "1.5.0",
          "state": {
            "_dom_classes": [],
            "_model_module": "@jupyter-widgets/controls",
            "_model_module_version": "1.5.0",
            "_model_name": "LabelModel",
            "_view_count": null,
            "_view_module": "@jupyter-widgets/controls",
            "_view_module_version": "1.5.0",
            "_view_name": "LabelView",
            "description": "",
            "description_tooltip": null,
            "layout": "IPY_MODEL_74a7de44557c4f34a2a270ab8734c982",
            "placeholder": "​",
            "style": "IPY_MODEL_174521067812468496553c4539ad73fd",
            "value": "CLOUD_COVER (most) = 93.45"
          }
        },
        "92dcb1ff4a8c4b3682f02a5d28071bbc": {
          "model_module": "jupyter-leaflet",
          "model_name": "LeafletMapModel",
          "model_module_version": "^0.17",
          "state": {
            "_dom_classes": [],
            "_model_module": "jupyter-leaflet",
            "_model_module_version": "^0.17",
            "_model_name": "LeafletMapModel",
            "_view_count": null,
            "_view_module": "jupyter-leaflet",
            "_view_module_version": "^0.17",
            "_view_name": "LeafletMapView",
            "bottom": 101784,
            "bounce_at_zoom_limits": true,
            "box_zoom": true,
            "center": [
              37.4225866,
              -122.0648754
            ],
            "close_popup_on_click": true,
            "controls": [
              "IPY_MODEL_1ba2efb6ce8e4a69afd7684d0e5db329",
              "IPY_MODEL_0c5c3fbf125240fe8ba497fb2fd55529",
              "IPY_MODEL_485fc25e36e1497182de67a44bab9bd7"
            ],
            "crs": {
              "name": "EPSG3857",
              "custom": false
            },
            "default_style": "IPY_MODEL_88d73911279b4e9b8325720d169d55a1",
            "double_click_zoom": true,
            "dragging": true,
            "dragging_style": "IPY_MODEL_af49678ec0174738b16e0cb1f409c53c",
            "east": -121.37695312500001,
            "fullscreen": false,
            "inertia": true,
            "inertia_deceleration": 3000,
            "inertia_max_speed": 1500,
            "interpolation": "bilinear",
            "keyboard": true,
            "keyboard_pan_offset": 80,
            "keyboard_zoom_offset": 1,
            "layers": [
              "IPY_MODEL_0f1ece6c41784a0ea5b3c8ab7a1d2c4f",
              "IPY_MODEL_513ccdcbaf7146e287708ab78da8a452"
            ],
            "layout": "IPY_MODEL_b2732b4a52eb48ca8ea5a9386dbb1642",
            "left": 41687,
            "max_zoom": null,
            "min_zoom": null,
            "modisdate": "2023-03-13",
            "north": 37.57179370689751,
            "options": [
              "bounce_at_zoom_limits",
              "box_zoom",
              "center",
              "close_popup_on_click",
              "double_click_zoom",
              "dragging",
              "fullscreen",
              "inertia",
              "inertia_deceleration",
              "inertia_max_speed",
              "interpolation",
              "keyboard",
              "keyboard_pan_offset",
              "keyboard_zoom_offset",
              "max_zoom",
              "min_zoom",
              "prefer_canvas",
              "scroll_wheel_zoom",
              "tap",
              "tap_tolerance",
              "touch_zoom",
              "world_copy_jump",
              "zoom",
              "zoom_animation_threshold",
              "zoom_delta",
              "zoom_snap"
            ],
            "panes": {},
            "prefer_canvas": false,
            "right": 42688,
            "scroll_wheel_zoom": false,
            "south": 37.274052809979054,
            "style": "IPY_MODEL_6cef615a782449f29ec673b2caa93c80",
            "tap": true,
            "tap_tolerance": 15,
            "top": 101511,
            "touch_zoom": true,
            "west": -122.75161743164062,
            "window_url": "https://us929lgwa6-496ff2e9c6d22116-0-colab.googleusercontent.com/outputframe.html?vrz=colab-20230309-060141-RC01_515373326",
            "world_copy_jump": false,
            "zoom": 10,
            "zoom_animation_threshold": 4,
            "zoom_delta": 1,
            "zoom_snap": 1
          }
        },
        "c77c010a9c0d4e93b0ed62e8353e1cdc": {
          "model_module": "@jupyter-widgets/controls",
          "model_name": "LabelModel",
          "model_module_version": "1.5.0",
          "state": {
            "_dom_classes": [],
            "_model_module": "@jupyter-widgets/controls",
            "_model_module_version": "1.5.0",
            "_model_name": "LabelModel",
            "_view_count": null,
            "_view_module": "@jupyter-widgets/controls",
            "_view_module_version": "1.5.0",
            "_view_name": "LabelView",
            "description": "",
            "description_tooltip": null,
            "layout": "IPY_MODEL_94d95743eebc4f96b532b2f55620afbf",
            "placeholder": "​",
            "style": "IPY_MODEL_76a6d9bf4ea04d0da29d8c636610a534",
            "value": "CLOUD_COVER (least) = 0.08"
          }
        },
        "30de52e1df70453599fb9958b3c785fb": {
          "model_module": "jupyter-leaflet",
          "model_name": "LeafletMapModel",
          "model_module_version": "^0.17",
          "state": {
            "_dom_classes": [],
            "_model_module": "jupyter-leaflet",
            "_model_module_version": "^0.17",
            "_model_name": "LeafletMapModel",
            "_view_count": null,
            "_view_module": "jupyter-leaflet",
            "_view_module_version": "^0.17",
            "_view_name": "LeafletMapView",
            "bottom": 101784,
            "bounce_at_zoom_limits": true,
            "box_zoom": true,
            "center": [
              37.4225866,
              -122.0648754
            ],
            "close_popup_on_click": true,
            "controls": [
              "IPY_MODEL_c5a0f6d5f47c4554867132e96e70706f",
              "IPY_MODEL_751a049fdbf643b19f582584543eac7c",
              "IPY_MODEL_5749d5ca2a3143a5881e420d96101cb1"
            ],
            "crs": {
              "name": "EPSG3857",
              "custom": false
            },
            "default_style": "IPY_MODEL_264ff11feb4e47b1b61604e660f0a586",
            "double_click_zoom": true,
            "dragging": true,
            "dragging_style": "IPY_MODEL_32f66475fbb144dcbe3acd80d7137947",
            "east": -121.37695312500001,
            "fullscreen": false,
            "inertia": true,
            "inertia_deceleration": 3000,
            "inertia_max_speed": 1500,
            "interpolation": "bilinear",
            "keyboard": true,
            "keyboard_pan_offset": 80,
            "keyboard_zoom_offset": 1,
            "layers": [
              "IPY_MODEL_45ae9a726d304347bb0def80dc43622a",
              "IPY_MODEL_3092c9869bc94dc3b4a25ab2cb174066"
            ],
            "layout": "IPY_MODEL_61fc7c55dfb04977ad0472b49f99f245",
            "left": 41687,
            "max_zoom": null,
            "min_zoom": null,
            "modisdate": "2023-03-13",
            "north": 37.57179370689751,
            "options": [
              "bounce_at_zoom_limits",
              "box_zoom",
              "center",
              "close_popup_on_click",
              "double_click_zoom",
              "dragging",
              "fullscreen",
              "inertia",
              "inertia_deceleration",
              "inertia_max_speed",
              "interpolation",
              "keyboard",
              "keyboard_pan_offset",
              "keyboard_zoom_offset",
              "max_zoom",
              "min_zoom",
              "prefer_canvas",
              "scroll_wheel_zoom",
              "tap",
              "tap_tolerance",
              "touch_zoom",
              "world_copy_jump",
              "zoom",
              "zoom_animation_threshold",
              "zoom_delta",
              "zoom_snap"
            ],
            "panes": {},
            "prefer_canvas": false,
            "right": 42688,
            "scroll_wheel_zoom": false,
            "south": 37.274052809979054,
            "style": "IPY_MODEL_48503c98da90494895c574981798739c",
            "tap": true,
            "tap_tolerance": 15,
            "top": 101511,
            "touch_zoom": true,
            "west": -122.75161743164062,
            "window_url": "https://us929lgwa6-496ff2e9c6d22116-0-colab.googleusercontent.com/outputframe.html?vrz=colab-20230309-060141-RC01_515373326",
            "world_copy_jump": false,
            "zoom": 10,
            "zoom_animation_threshold": 4,
            "zoom_delta": 1,
            "zoom_snap": 1
          }
        },
        "4987e6ca7cc642d8a32fe13121785883": {
          "model_module": "@jupyter-widgets/base",
          "model_name": "LayoutModel",
          "model_module_version": "1.2.0",
          "state": {
            "_model_module": "@jupyter-widgets/base",
            "_model_module_version": "1.2.0",
            "_model_name": "LayoutModel",
            "_view_count": null,
            "_view_module": "@jupyter-widgets/base",
            "_view_module_version": "1.2.0",
            "_view_name": "LayoutView",
            "align_content": null,
            "align_items": null,
            "align_self": null,
            "border": null,
            "bottom": null,
            "display": null,
            "flex": null,
            "flex_flow": null,
            "grid_area": null,
            "grid_auto_columns": null,
            "grid_auto_flow": null,
            "grid_auto_rows": null,
            "grid_column": null,
            "grid_gap": null,
            "grid_row": null,
            "grid_template_areas": null,
            "grid_template_columns": null,
            "grid_template_rows": null,
            "height": null,
            "justify_content": null,
            "justify_items": null,
            "left": null,
            "margin": null,
            "max_height": "600px",
            "max_width": null,
            "min_height": null,
            "min_width": null,
            "object_fit": null,
            "object_position": null,
            "order": null,
            "overflow": null,
            "overflow_x": null,
            "overflow_y": null,
            "padding": null,
            "right": null,
            "top": null,
            "visibility": null,
            "width": null
          }
        },
        "74a7de44557c4f34a2a270ab8734c982": {
          "model_module": "@jupyter-widgets/base",
          "model_name": "LayoutModel",
          "model_module_version": "1.2.0",
          "state": {
            "_model_module": "@jupyter-widgets/base",
            "_model_module_version": "1.2.0",
            "_model_name": "LayoutModel",
            "_view_count": null,
            "_view_module": "@jupyter-widgets/base",
            "_view_module_version": "1.2.0",
            "_view_name": "LayoutView",
            "align_content": null,
            "align_items": null,
            "align_self": null,
            "border": null,
            "bottom": null,
            "display": null,
            "flex": null,
            "flex_flow": null,
            "grid_area": null,
            "grid_auto_columns": null,
            "grid_auto_flow": null,
            "grid_auto_rows": null,
            "grid_column": null,
            "grid_gap": null,
            "grid_row": null,
            "grid_template_areas": null,
            "grid_template_columns": null,
            "grid_template_rows": null,
            "height": null,
            "justify_content": null,
            "justify_items": null,
            "left": null,
            "margin": null,
            "max_height": null,
            "max_width": null,
            "min_height": null,
            "min_width": null,
            "object_fit": null,
            "object_position": null,
            "order": null,
            "overflow": null,
            "overflow_x": null,
            "overflow_y": null,
            "padding": null,
            "right": null,
            "top": null,
            "visibility": null,
            "width": null
          }
        },
        "174521067812468496553c4539ad73fd": {
          "model_module": "@jupyter-widgets/controls",
          "model_name": "DescriptionStyleModel",
          "model_module_version": "1.5.0",
          "state": {
            "_model_module": "@jupyter-widgets/controls",
            "_model_module_version": "1.5.0",
            "_model_name": "DescriptionStyleModel",
            "_view_count": null,
            "_view_module": "@jupyter-widgets/base",
            "_view_module_version": "1.2.0",
            "_view_name": "StyleView",
            "description_width": ""
          }
        },
        "94d95743eebc4f96b532b2f55620afbf": {
          "model_module": "@jupyter-widgets/base",
          "model_name": "LayoutModel",
          "model_module_version": "1.2.0",
          "state": {
            "_model_module": "@jupyter-widgets/base",
            "_model_module_version": "1.2.0",
            "_model_name": "LayoutModel",
            "_view_count": null,
            "_view_module": "@jupyter-widgets/base",
            "_view_module_version": "1.2.0",
            "_view_name": "LayoutView",
            "align_content": null,
            "align_items": null,
            "align_self": null,
            "border": null,
            "bottom": null,
            "display": null,
            "flex": null,
            "flex_flow": null,
            "grid_area": null,
            "grid_auto_columns": null,
            "grid_auto_flow": null,
            "grid_auto_rows": null,
            "grid_column": null,
            "grid_gap": null,
            "grid_row": null,
            "grid_template_areas": null,
            "grid_template_columns": null,
            "grid_template_rows": null,
            "height": null,
            "justify_content": null,
            "justify_items": null,
            "left": null,
            "margin": null,
            "max_height": null,
            "max_width": null,
            "min_height": null,
            "min_width": null,
            "object_fit": null,
            "object_position": null,
            "order": null,
            "overflow": null,
            "overflow_x": null,
            "overflow_y": null,
            "padding": null,
            "right": null,
            "top": null,
            "visibility": null,
            "width": null
          }
        },
        "76a6d9bf4ea04d0da29d8c636610a534": {
          "model_module": "@jupyter-widgets/controls",
          "model_name": "DescriptionStyleModel",
          "model_module_version": "1.5.0",
          "state": {
            "_model_module": "@jupyter-widgets/controls",
            "_model_module_version": "1.5.0",
            "_model_name": "DescriptionStyleModel",
            "_view_count": null,
            "_view_module": "@jupyter-widgets/base",
            "_view_module_version": "1.2.0",
            "_view_name": "StyleView",
            "description_width": ""
          }
        },
        "1ba2efb6ce8e4a69afd7684d0e5db329": {
          "model_module": "jupyter-leaflet",
          "model_name": "LeafletZoomControlModel",
          "model_module_version": "^0.17",
          "state": {
            "_model_module": "jupyter-leaflet",
            "_model_module_version": "^0.17",
            "_model_name": "LeafletZoomControlModel",
            "_view_count": null,
            "_view_module": "jupyter-leaflet",
            "_view_module_version": "^0.17",
            "_view_name": "LeafletZoomControlView",
            "options": [
              "position",
              "zoom_in_text",
              "zoom_in_title",
              "zoom_out_text",
              "zoom_out_title"
            ],
            "position": "topleft",
            "zoom_in_text": "+",
            "zoom_in_title": "Zoom in",
            "zoom_out_text": "-",
            "zoom_out_title": "Zoom out"
          }
        },
        "0c5c3fbf125240fe8ba497fb2fd55529": {
          "model_module": "jupyter-leaflet",
          "model_name": "LeafletAttributionControlModel",
          "model_module_version": "^0.17",
          "state": {
            "_model_module": "jupyter-leaflet",
            "_model_module_version": "^0.17",
            "_model_name": "LeafletAttributionControlModel",
            "_view_count": null,
            "_view_module": "jupyter-leaflet",
            "_view_module_version": "^0.17",
            "_view_name": "LeafletAttributionControlView",
            "options": [
              "position",
              "prefix"
            ],
            "position": "bottomright",
            "prefix": "ipyleaflet"
          }
        },
        "485fc25e36e1497182de67a44bab9bd7": {
          "model_module": "jupyter-leaflet",
          "model_name": "LeafletLayersControlModel",
          "model_module_version": "^0.17",
          "state": {
            "_model_module": "jupyter-leaflet",
            "_model_module_version": "^0.17",
            "_model_name": "LeafletLayersControlModel",
            "_view_count": null,
            "_view_module": "jupyter-leaflet",
            "_view_module_version": "^0.17",
            "_view_name": "LeafletLayersControlView",
            "options": [
              "position"
            ],
            "position": "topright"
          }
        },
        "88d73911279b4e9b8325720d169d55a1": {
          "model_module": "jupyter-leaflet",
          "model_name": "LeafletMapStyleModel",
          "model_module_version": "^0.17",
          "state": {
            "_model_module": "jupyter-leaflet",
            "_model_module_version": "^0.17",
            "_model_name": "LeafletMapStyleModel",
            "_view_count": null,
            "_view_module": "@jupyter-widgets/base",
            "_view_module_version": "1.2.0",
            "_view_name": "StyleView",
            "cursor": "crosshair"
          }
        },
        "af49678ec0174738b16e0cb1f409c53c": {
          "model_module": "jupyter-leaflet",
          "model_name": "LeafletMapStyleModel",
          "model_module_version": "^0.17",
          "state": {
            "_model_module": "jupyter-leaflet",
            "_model_module_version": "^0.17",
            "_model_name": "LeafletMapStyleModel",
            "_view_count": null,
            "_view_module": "@jupyter-widgets/base",
            "_view_module_version": "1.2.0",
            "_view_name": "StyleView",
            "cursor": "move"
          }
        },
        "0f1ece6c41784a0ea5b3c8ab7a1d2c4f": {
          "model_module": "jupyter-leaflet",
          "model_name": "LeafletTileLayerModel",
          "model_module_version": "^0.17",
          "state": {
            "_model_module": "jupyter-leaflet",
            "_model_module_version": "^0.17",
            "_model_name": "LeafletTileLayerModel",
            "_view_count": null,
            "_view_module": "jupyter-leaflet",
            "_view_module_version": "^0.17",
            "_view_name": "LeafletTileLayerView",
            "attribution": "Map tiles by <a href=\"http://stamen.com\">Stamen Design</a>, <a href=\"http://creativecommons.org/licenses/by/3.0\">CC BY 3.0</a> &mdash; Map data &copy; <a href=\"https://www.openstreetmap.org/copyright\">OpenStreetMap</a> contributors",
            "base": true,
            "bottom": true,
            "bounds": null,
            "detect_retina": false,
            "loading": false,
            "max_native_zoom": null,
            "max_zoom": 16,
            "min_native_zoom": null,
            "min_zoom": 1,
            "name": "Stamen.Watercolor",
            "no_wrap": false,
            "opacity": 1,
            "options": [
              "attribution",
              "bounds",
              "detect_retina",
              "max_native_zoom",
              "max_zoom",
              "min_native_zoom",
              "min_zoom",
              "no_wrap",
              "tile_size",
              "tms",
              "zoom_offset"
            ],
            "pane": "",
            "popup": null,
            "popup_max_height": null,
            "popup_max_width": 300,
            "popup_min_width": 50,
            "show_loading": false,
            "subitems": [],
            "tile_size": 256,
            "tms": false,
            "url": "https://stamen-tiles-a.a.ssl.fastly.net/watercolor/{z}/{x}/{y}.jpg",
            "visible": true,
            "zoom_offset": 0
          }
        },
        "513ccdcbaf7146e287708ab78da8a452": {
          "model_module": "jupyter-leaflet",
          "model_name": "LeafletTileLayerModel",
          "model_module_version": "^0.17",
          "state": {
            "_model_module": "jupyter-leaflet",
            "_model_module_version": "^0.17",
            "_model_name": "LeafletTileLayerModel",
            "_view_count": null,
            "_view_module": "jupyter-leaflet",
            "_view_module_version": "^0.17",
            "_view_name": "LeafletTileLayerView",
            "attribution": null,
            "base": false,
            "bottom": true,
            "bounds": null,
            "detect_retina": false,
            "loading": false,
            "max_native_zoom": null,
            "max_zoom": 18,
            "min_native_zoom": null,
            "min_zoom": 0,
            "name": "Layer 1",
            "no_wrap": false,
            "opacity": 1,
            "options": [
              "attribution",
              "bounds",
              "detect_retina",
              "max_native_zoom",
              "max_zoom",
              "min_native_zoom",
              "min_zoom",
              "no_wrap",
              "tile_size",
              "tms",
              "zoom_offset"
            ],
            "pane": "",
            "popup": null,
            "popup_max_height": null,
            "popup_max_width": 300,
            "popup_min_width": 50,
            "show_loading": false,
            "subitems": [],
            "tile_size": 256,
            "tms": false,
            "url": "https://earthengine.googleapis.com/v1alpha/projects/earthengine-legacy/maps/c2e78bd96aeccb4662a907e8481b580d-eccf032c2936e39ea164e2481f0bb396/tiles/{z}/{x}/{y}",
            "visible": true,
            "zoom_offset": 0
          }
        },
        "b2732b4a52eb48ca8ea5a9386dbb1642": {
          "model_module": "@jupyter-widgets/base",
          "model_name": "LayoutModel",
          "model_module_version": "1.2.0",
          "state": {
            "_model_module": "@jupyter-widgets/base",
            "_model_module_version": "1.2.0",
            "_model_name": "LayoutModel",
            "_view_count": null,
            "_view_module": "@jupyter-widgets/base",
            "_view_module_version": "1.2.0",
            "_view_name": "LayoutView",
            "align_content": null,
            "align_items": null,
            "align_self": null,
            "border": null,
            "bottom": null,
            "display": null,
            "flex": null,
            "flex_flow": null,
            "grid_area": null,
            "grid_auto_columns": null,
            "grid_auto_flow": null,
            "grid_auto_rows": null,
            "grid_column": null,
            "grid_gap": null,
            "grid_row": null,
            "grid_template_areas": null,
            "grid_template_columns": null,
            "grid_template_rows": null,
            "height": null,
            "justify_content": null,
            "justify_items": null,
            "left": null,
            "margin": null,
            "max_height": null,
            "max_width": null,
            "min_height": null,
            "min_width": null,
            "object_fit": null,
            "object_position": null,
            "order": null,
            "overflow": null,
            "overflow_x": null,
            "overflow_y": null,
            "padding": null,
            "right": null,
            "top": null,
            "visibility": null,
            "width": "100%"
          }
        },
        "6cef615a782449f29ec673b2caa93c80": {
          "model_module": "jupyter-leaflet",
          "model_name": "LeafletMapStyleModel",
          "model_module_version": "^0.17",
          "state": {
            "_model_module": "jupyter-leaflet",
            "_model_module_version": "^0.17",
            "_model_name": "LeafletMapStyleModel",
            "_view_count": null,
            "_view_module": "@jupyter-widgets/base",
            "_view_module_version": "1.2.0",
            "_view_name": "StyleView",
            "cursor": "grab"
          }
        },
        "c5a0f6d5f47c4554867132e96e70706f": {
          "model_module": "jupyter-leaflet",
          "model_name": "LeafletZoomControlModel",
          "model_module_version": "^0.17",
          "state": {
            "_model_module": "jupyter-leaflet",
            "_model_module_version": "^0.17",
            "_model_name": "LeafletZoomControlModel",
            "_view_count": null,
            "_view_module": "jupyter-leaflet",
            "_view_module_version": "^0.17",
            "_view_name": "LeafletZoomControlView",
            "options": [
              "position",
              "zoom_in_text",
              "zoom_in_title",
              "zoom_out_text",
              "zoom_out_title"
            ],
            "position": "topleft",
            "zoom_in_text": "+",
            "zoom_in_title": "Zoom in",
            "zoom_out_text": "-",
            "zoom_out_title": "Zoom out"
          }
        },
        "751a049fdbf643b19f582584543eac7c": {
          "model_module": "jupyter-leaflet",
          "model_name": "LeafletAttributionControlModel",
          "model_module_version": "^0.17",
          "state": {
            "_model_module": "jupyter-leaflet",
            "_model_module_version": "^0.17",
            "_model_name": "LeafletAttributionControlModel",
            "_view_count": null,
            "_view_module": "jupyter-leaflet",
            "_view_module_version": "^0.17",
            "_view_name": "LeafletAttributionControlView",
            "options": [
              "position",
              "prefix"
            ],
            "position": "bottomright",
            "prefix": "ipyleaflet"
          }
        },
        "5749d5ca2a3143a5881e420d96101cb1": {
          "model_module": "jupyter-leaflet",
          "model_name": "LeafletLayersControlModel",
          "model_module_version": "^0.17",
          "state": {
            "_model_module": "jupyter-leaflet",
            "_model_module_version": "^0.17",
            "_model_name": "LeafletLayersControlModel",
            "_view_count": null,
            "_view_module": "jupyter-leaflet",
            "_view_module_version": "^0.17",
            "_view_name": "LeafletLayersControlView",
            "options": [
              "position"
            ],
            "position": "topright"
          }
        },
        "264ff11feb4e47b1b61604e660f0a586": {
          "model_module": "jupyter-leaflet",
          "model_name": "LeafletMapStyleModel",
          "model_module_version": "^0.17",
          "state": {
            "_model_module": "jupyter-leaflet",
            "_model_module_version": "^0.17",
            "_model_name": "LeafletMapStyleModel",
            "_view_count": null,
            "_view_module": "@jupyter-widgets/base",
            "_view_module_version": "1.2.0",
            "_view_name": "StyleView",
            "cursor": "crosshair"
          }
        },
        "32f66475fbb144dcbe3acd80d7137947": {
          "model_module": "jupyter-leaflet",
          "model_name": "LeafletMapStyleModel",
          "model_module_version": "^0.17",
          "state": {
            "_model_module": "jupyter-leaflet",
            "_model_module_version": "^0.17",
            "_model_name": "LeafletMapStyleModel",
            "_view_count": null,
            "_view_module": "@jupyter-widgets/base",
            "_view_module_version": "1.2.0",
            "_view_name": "StyleView",
            "cursor": "move"
          }
        },
        "45ae9a726d304347bb0def80dc43622a": {
          "model_module": "jupyter-leaflet",
          "model_name": "LeafletTileLayerModel",
          "model_module_version": "^0.17",
          "state": {
            "_model_module": "jupyter-leaflet",
            "_model_module_version": "^0.17",
            "_model_name": "LeafletTileLayerModel",
            "_view_count": null,
            "_view_module": "jupyter-leaflet",
            "_view_module_version": "^0.17",
            "_view_name": "LeafletTileLayerView",
            "attribution": "Map tiles by <a href=\"http://stamen.com\">Stamen Design</a>, <a href=\"http://creativecommons.org/licenses/by/3.0\">CC BY 3.0</a> &mdash; Map data &copy; <a href=\"https://www.openstreetmap.org/copyright\">OpenStreetMap</a> contributors",
            "base": true,
            "bottom": true,
            "bounds": null,
            "detect_retina": false,
            "loading": false,
            "max_native_zoom": null,
            "max_zoom": 16,
            "min_native_zoom": null,
            "min_zoom": 1,
            "name": "Stamen.Watercolor",
            "no_wrap": false,
            "opacity": 1,
            "options": [
              "attribution",
              "bounds",
              "detect_retina",
              "max_native_zoom",
              "max_zoom",
              "min_native_zoom",
              "min_zoom",
              "no_wrap",
              "tile_size",
              "tms",
              "zoom_offset"
            ],
            "pane": "",
            "popup": null,
            "popup_max_height": null,
            "popup_max_width": 300,
            "popup_min_width": 50,
            "show_loading": false,
            "subitems": [],
            "tile_size": 256,
            "tms": false,
            "url": "https://stamen-tiles-a.a.ssl.fastly.net/watercolor/{z}/{x}/{y}.jpg",
            "visible": true,
            "zoom_offset": 0
          }
        },
        "3092c9869bc94dc3b4a25ab2cb174066": {
          "model_module": "jupyter-leaflet",
          "model_name": "LeafletTileLayerModel",
          "model_module_version": "^0.17",
          "state": {
            "_model_module": "jupyter-leaflet",
            "_model_module_version": "^0.17",
            "_model_name": "LeafletTileLayerModel",
            "_view_count": null,
            "_view_module": "jupyter-leaflet",
            "_view_module_version": "^0.17",
            "_view_name": "LeafletTileLayerView",
            "attribution": null,
            "base": false,
            "bottom": true,
            "bounds": null,
            "detect_retina": false,
            "loading": false,
            "max_native_zoom": null,
            "max_zoom": 18,
            "min_native_zoom": null,
            "min_zoom": 0,
            "name": "Layer 1",
            "no_wrap": false,
            "opacity": 1,
            "options": [
              "attribution",
              "bounds",
              "detect_retina",
              "max_native_zoom",
              "max_zoom",
              "min_native_zoom",
              "min_zoom",
              "no_wrap",
              "tile_size",
              "tms",
              "zoom_offset"
            ],
            "pane": "",
            "popup": null,
            "popup_max_height": null,
            "popup_max_width": 300,
            "popup_min_width": 50,
            "show_loading": false,
            "subitems": [],
            "tile_size": 256,
            "tms": false,
            "url": "https://earthengine.googleapis.com/v1alpha/projects/earthengine-legacy/maps/e60f0e34105b387823ac02a1f467f0db-8bfb14f13848c1cb0e10035da5c22400/tiles/{z}/{x}/{y}",
            "visible": true,
            "zoom_offset": 0
          }
        },
        "61fc7c55dfb04977ad0472b49f99f245": {
          "model_module": "@jupyter-widgets/base",
          "model_name": "LayoutModel",
          "model_module_version": "1.2.0",
          "state": {
            "_model_module": "@jupyter-widgets/base",
            "_model_module_version": "1.2.0",
            "_model_name": "LayoutModel",
            "_view_count": null,
            "_view_module": "@jupyter-widgets/base",
            "_view_module_version": "1.2.0",
            "_view_name": "LayoutView",
            "align_content": null,
            "align_items": null,
            "align_self": null,
            "border": null,
            "bottom": null,
            "display": null,
            "flex": null,
            "flex_flow": null,
            "grid_area": null,
            "grid_auto_columns": null,
            "grid_auto_flow": null,
            "grid_auto_rows": null,
            "grid_column": null,
            "grid_gap": null,
            "grid_row": null,
            "grid_template_areas": null,
            "grid_template_columns": null,
            "grid_template_rows": null,
            "height": null,
            "justify_content": null,
            "justify_items": null,
            "left": null,
            "margin": null,
            "max_height": null,
            "max_width": null,
            "min_height": null,
            "min_width": null,
            "object_fit": null,
            "object_position": null,
            "order": null,
            "overflow": null,
            "overflow_x": null,
            "overflow_y": null,
            "padding": null,
            "right": null,
            "top": null,
            "visibility": null,
            "width": "100%"
          }
        },
        "48503c98da90494895c574981798739c": {
          "model_module": "jupyter-leaflet",
          "model_name": "LeafletMapStyleModel",
          "model_module_version": "^0.17",
          "state": {
            "_model_module": "jupyter-leaflet",
            "_model_module_version": "^0.17",
            "_model_name": "LeafletMapStyleModel",
            "_view_count": null,
            "_view_module": "@jupyter-widgets/base",
            "_view_module_version": "1.2.0",
            "_view_name": "StyleView",
            "cursor": "grab"
          }
        },
        "7a1d3f86ff8a44cfa72639de32e670ad": {
          "model_module": "@jupyter-widgets/controls",
          "model_name": "HBoxModel",
          "model_module_version": "1.5.0",
          "state": {
            "_dom_classes": [],
            "_model_module": "@jupyter-widgets/controls",
            "_model_module_version": "1.5.0",
            "_model_name": "HBoxModel",
            "_view_count": null,
            "_view_module": "@jupyter-widgets/controls",
            "_view_module_version": "1.5.0",
            "_view_name": "HBoxView",
            "box_style": "",
            "children": [
              "IPY_MODEL_cec20d0b33a9411d84ba18fc8f42bb69",
              "IPY_MODEL_7403c006ba004082a0e8e71d7e0ca27f"
            ],
            "layout": "IPY_MODEL_45f8ab3e86e34e469541bd722b24516b"
          }
        },
        "cec20d0b33a9411d84ba18fc8f42bb69": {
          "model_module": "jupyter-leaflet",
          "model_name": "LeafletMapModel",
          "model_module_version": "^0.17",
          "state": {
            "_dom_classes": [],
            "_model_module": "jupyter-leaflet",
            "_model_module_version": "^0.17",
            "_model_name": "LeafletMapModel",
            "_view_count": null,
            "_view_module": "jupyter-leaflet",
            "_view_module_version": "^0.17",
            "_view_name": "LeafletMapView",
            "bottom": 101848,
            "bounce_at_zoom_limits": true,
            "box_zoom": true,
            "center": [
              37.4225866,
              -122.0648754
            ],
            "close_popup_on_click": true,
            "controls": [
              "IPY_MODEL_a3b25060ce44470fa6d018006649213d",
              "IPY_MODEL_976136f9825d423aad5ea68f1ae623f7",
              "IPY_MODEL_951d09c9ba0f4f26896a85866dbc0095"
            ],
            "crs": {
              "name": "EPSG3857",
              "custom": false
            },
            "default_style": "IPY_MODEL_7b644ab65615490a83b0b5d3847177ab",
            "double_click_zoom": true,
            "dragging": true,
            "dragging_style": "IPY_MODEL_a74c5eb6b19f467493bb25d3e6ec0a4c",
            "east": -121.72439575195314,
            "fullscreen": false,
            "inertia": true,
            "inertia_deceleration": 3000,
            "inertia_max_speed": 1500,
            "interpolation": "bilinear",
            "keyboard": true,
            "keyboard_pan_offset": 80,
            "keyboard_zoom_offset": 1,
            "layers": [
              "IPY_MODEL_16da79804a8f4fcabfab68112bf75f15",
              "IPY_MODEL_b517f3b5be4342e188dd0a3ee5633abb"
            ],
            "layout": "IPY_MODEL_16d1e1bf04d44ccd8f05bf651c2e3c02",
            "left": 41939,
            "max_zoom": null,
            "min_zoom": null,
            "modisdate": "2023-03-13",
            "north": 37.640334898059486,
            "options": [
              "bounce_at_zoom_limits",
              "box_zoom",
              "center",
              "close_popup_on_click",
              "double_click_zoom",
              "dragging",
              "fullscreen",
              "inertia",
              "inertia_deceleration",
              "inertia_max_speed",
              "interpolation",
              "keyboard",
              "keyboard_pan_offset",
              "keyboard_zoom_offset",
              "max_zoom",
              "min_zoom",
              "prefer_canvas",
              "scroll_wheel_zoom",
              "tap",
              "tap_tolerance",
              "touch_zoom",
              "world_copy_jump",
              "zoom",
              "zoom_animation_threshold",
              "zoom_delta",
              "zoom_snap"
            ],
            "panes": {},
            "prefer_canvas": false,
            "right": 42435,
            "scroll_wheel_zoom": false,
            "south": 37.204081555898526,
            "style": "IPY_MODEL_cb3600c04689486da4f849075cccc0f4",
            "tap": true,
            "tap_tolerance": 15,
            "top": 101448,
            "touch_zoom": true,
            "west": -122.40554809570314,
            "window_url": "https://us929lgwa6-496ff2e9c6d22116-0-colab.googleusercontent.com/outputframe.html?vrz=colab-20230309-060141-RC01_515373326",
            "world_copy_jump": false,
            "zoom": 10,
            "zoom_animation_threshold": 4,
            "zoom_delta": 1,
            "zoom_snap": 1
          }
        },
        "7403c006ba004082a0e8e71d7e0ca27f": {
          "model_module": "jupyter-leaflet",
          "model_name": "LeafletMapModel",
          "model_module_version": "^0.17",
          "state": {
            "_dom_classes": [],
            "_model_module": "jupyter-leaflet",
            "_model_module_version": "^0.17",
            "_model_name": "LeafletMapModel",
            "_view_count": null,
            "_view_module": "jupyter-leaflet",
            "_view_module_version": "^0.17",
            "_view_name": "LeafletMapView",
            "bottom": 101848,
            "bounce_at_zoom_limits": true,
            "box_zoom": true,
            "center": [
              37.4225866,
              -122.0648754
            ],
            "close_popup_on_click": true,
            "controls": [
              "IPY_MODEL_8889e6e7afcb419f94e29155e6c72056",
              "IPY_MODEL_1b717111ebad4429be6110fdc0e7d319",
              "IPY_MODEL_628aa8e93be64063bcb50a3bee7b2bbe"
            ],
            "crs": {
              "name": "EPSG3857",
              "custom": false
            },
            "default_style": "IPY_MODEL_da504624440c4a8898c9f5993a1375c9",
            "double_click_zoom": true,
            "dragging": true,
            "dragging_style": "IPY_MODEL_10b4d6bf079646da993b7c061f372984",
            "east": -121.72439575195314,
            "fullscreen": false,
            "inertia": true,
            "inertia_deceleration": 3000,
            "inertia_max_speed": 1500,
            "interpolation": "bilinear",
            "keyboard": true,
            "keyboard_pan_offset": 80,
            "keyboard_zoom_offset": 1,
            "layers": [
              "IPY_MODEL_8123b149e92748b08aee3d93432ce829",
              "IPY_MODEL_0df2422b7c5f4324bf5de0608cecbf57"
            ],
            "layout": "IPY_MODEL_c5cb81a45ec04e9dbb74c50e56921736",
            "left": 41939,
            "max_zoom": null,
            "min_zoom": null,
            "modisdate": "2023-03-13",
            "north": 37.640334898059486,
            "options": [
              "bounce_at_zoom_limits",
              "box_zoom",
              "center",
              "close_popup_on_click",
              "double_click_zoom",
              "dragging",
              "fullscreen",
              "inertia",
              "inertia_deceleration",
              "inertia_max_speed",
              "interpolation",
              "keyboard",
              "keyboard_pan_offset",
              "keyboard_zoom_offset",
              "max_zoom",
              "min_zoom",
              "prefer_canvas",
              "scroll_wheel_zoom",
              "tap",
              "tap_tolerance",
              "touch_zoom",
              "world_copy_jump",
              "zoom",
              "zoom_animation_threshold",
              "zoom_delta",
              "zoom_snap"
            ],
            "panes": {},
            "prefer_canvas": false,
            "right": 42435,
            "scroll_wheel_zoom": false,
            "south": 37.204081555898526,
            "style": "IPY_MODEL_db2dd4c2754e4881abf890c6924f4428",
            "tap": true,
            "tap_tolerance": 15,
            "top": 101448,
            "touch_zoom": true,
            "west": -122.40554809570314,
            "window_url": "https://us929lgwa6-496ff2e9c6d22116-0-colab.googleusercontent.com/outputframe.html?vrz=colab-20230309-060141-RC01_515373326",
            "world_copy_jump": false,
            "zoom": 10,
            "zoom_animation_threshold": 4,
            "zoom_delta": 1,
            "zoom_snap": 1
          }
        },
        "45f8ab3e86e34e469541bd722b24516b": {
          "model_module": "@jupyter-widgets/base",
          "model_name": "LayoutModel",
          "model_module_version": "1.2.0",
          "state": {
            "_model_module": "@jupyter-widgets/base",
            "_model_module_version": "1.2.0",
            "_model_name": "LayoutModel",
            "_view_count": null,
            "_view_module": "@jupyter-widgets/base",
            "_view_module_version": "1.2.0",
            "_view_name": "LayoutView",
            "align_content": null,
            "align_items": null,
            "align_self": null,
            "border": null,
            "bottom": null,
            "display": null,
            "flex": null,
            "flex_flow": null,
            "grid_area": null,
            "grid_auto_columns": null,
            "grid_auto_flow": null,
            "grid_auto_rows": null,
            "grid_column": null,
            "grid_gap": null,
            "grid_row": null,
            "grid_template_areas": null,
            "grid_template_columns": null,
            "grid_template_rows": null,
            "height": null,
            "justify_content": null,
            "justify_items": null,
            "left": null,
            "margin": null,
            "max_height": null,
            "max_width": null,
            "min_height": null,
            "min_width": null,
            "object_fit": null,
            "object_position": null,
            "order": null,
            "overflow": null,
            "overflow_x": null,
            "overflow_y": null,
            "padding": null,
            "right": null,
            "top": null,
            "visibility": null,
            "width": null
          }
        },
        "a3b25060ce44470fa6d018006649213d": {
          "model_module": "jupyter-leaflet",
          "model_name": "LeafletZoomControlModel",
          "model_module_version": "^0.17",
          "state": {
            "_model_module": "jupyter-leaflet",
            "_model_module_version": "^0.17",
            "_model_name": "LeafletZoomControlModel",
            "_view_count": null,
            "_view_module": "jupyter-leaflet",
            "_view_module_version": "^0.17",
            "_view_name": "LeafletZoomControlView",
            "options": [
              "position",
              "zoom_in_text",
              "zoom_in_title",
              "zoom_out_text",
              "zoom_out_title"
            ],
            "position": "topleft",
            "zoom_in_text": "+",
            "zoom_in_title": "Zoom in",
            "zoom_out_text": "-",
            "zoom_out_title": "Zoom out"
          }
        },
        "976136f9825d423aad5ea68f1ae623f7": {
          "model_module": "jupyter-leaflet",
          "model_name": "LeafletAttributionControlModel",
          "model_module_version": "^0.17",
          "state": {
            "_model_module": "jupyter-leaflet",
            "_model_module_version": "^0.17",
            "_model_name": "LeafletAttributionControlModel",
            "_view_count": null,
            "_view_module": "jupyter-leaflet",
            "_view_module_version": "^0.17",
            "_view_name": "LeafletAttributionControlView",
            "options": [
              "position",
              "prefix"
            ],
            "position": "bottomright",
            "prefix": "ipyleaflet"
          }
        },
        "951d09c9ba0f4f26896a85866dbc0095": {
          "model_module": "jupyter-leaflet",
          "model_name": "LeafletLayersControlModel",
          "model_module_version": "^0.17",
          "state": {
            "_model_module": "jupyter-leaflet",
            "_model_module_version": "^0.17",
            "_model_name": "LeafletLayersControlModel",
            "_view_count": null,
            "_view_module": "jupyter-leaflet",
            "_view_module_version": "^0.17",
            "_view_name": "LeafletLayersControlView",
            "options": [
              "position"
            ],
            "position": "topright"
          }
        },
        "7b644ab65615490a83b0b5d3847177ab": {
          "model_module": "jupyter-leaflet",
          "model_name": "LeafletMapStyleModel",
          "model_module_version": "^0.17",
          "state": {
            "_model_module": "jupyter-leaflet",
            "_model_module_version": "^0.17",
            "_model_name": "LeafletMapStyleModel",
            "_view_count": null,
            "_view_module": "@jupyter-widgets/base",
            "_view_module_version": "1.2.0",
            "_view_name": "StyleView",
            "cursor": "crosshair"
          }
        },
        "a74c5eb6b19f467493bb25d3e6ec0a4c": {
          "model_module": "jupyter-leaflet",
          "model_name": "LeafletMapStyleModel",
          "model_module_version": "^0.17",
          "state": {
            "_model_module": "jupyter-leaflet",
            "_model_module_version": "^0.17",
            "_model_name": "LeafletMapStyleModel",
            "_view_count": null,
            "_view_module": "@jupyter-widgets/base",
            "_view_module_version": "1.2.0",
            "_view_name": "StyleView",
            "cursor": "move"
          }
        },
        "16da79804a8f4fcabfab68112bf75f15": {
          "model_module": "jupyter-leaflet",
          "model_name": "LeafletTileLayerModel",
          "model_module_version": "^0.17",
          "state": {
            "_model_module": "jupyter-leaflet",
            "_model_module_version": "^0.17",
            "_model_name": "LeafletTileLayerModel",
            "_view_count": null,
            "_view_module": "jupyter-leaflet",
            "_view_module_version": "^0.17",
            "_view_name": "LeafletTileLayerView",
            "attribution": "Map tiles by <a href=\"http://stamen.com\">Stamen Design</a>, <a href=\"http://creativecommons.org/licenses/by/3.0\">CC BY 3.0</a> &mdash; Map data &copy; <a href=\"https://www.openstreetmap.org/copyright\">OpenStreetMap</a> contributors",
            "base": true,
            "bottom": true,
            "bounds": null,
            "detect_retina": false,
            "loading": false,
            "max_native_zoom": null,
            "max_zoom": 16,
            "min_native_zoom": null,
            "min_zoom": 1,
            "name": "Stamen.Watercolor",
            "no_wrap": false,
            "opacity": 1,
            "options": [
              "attribution",
              "bounds",
              "detect_retina",
              "max_native_zoom",
              "max_zoom",
              "min_native_zoom",
              "min_zoom",
              "no_wrap",
              "tile_size",
              "tms",
              "zoom_offset"
            ],
            "pane": "",
            "popup": null,
            "popup_max_height": null,
            "popup_max_width": 300,
            "popup_min_width": 50,
            "show_loading": false,
            "subitems": [],
            "tile_size": 256,
            "tms": false,
            "url": "https://stamen-tiles-a.a.ssl.fastly.net/watercolor/{z}/{x}/{y}.jpg",
            "visible": true,
            "zoom_offset": 0
          }
        },
        "b517f3b5be4342e188dd0a3ee5633abb": {
          "model_module": "jupyter-leaflet",
          "model_name": "LeafletTileLayerModel",
          "model_module_version": "^0.17",
          "state": {
            "_model_module": "jupyter-leaflet",
            "_model_module_version": "^0.17",
            "_model_name": "LeafletTileLayerModel",
            "_view_count": null,
            "_view_module": "jupyter-leaflet",
            "_view_module_version": "^0.17",
            "_view_name": "LeafletTileLayerView",
            "attribution": null,
            "base": false,
            "bottom": true,
            "bounds": null,
            "detect_retina": false,
            "loading": false,
            "max_native_zoom": null,
            "max_zoom": 18,
            "min_native_zoom": null,
            "min_zoom": 0,
            "name": "Landsat 8 (mosaic)",
            "no_wrap": false,
            "opacity": 1,
            "options": [
              "attribution",
              "bounds",
              "detect_retina",
              "max_native_zoom",
              "max_zoom",
              "min_native_zoom",
              "min_zoom",
              "no_wrap",
              "tile_size",
              "tms",
              "zoom_offset"
            ],
            "pane": "",
            "popup": null,
            "popup_max_height": null,
            "popup_max_width": 300,
            "popup_min_width": 50,
            "show_loading": false,
            "subitems": [],
            "tile_size": 256,
            "tms": false,
            "url": "https://earthengine.googleapis.com/v1alpha/projects/earthengine-legacy/maps/6387e89c0e008fca9609a786738988a7-0a6f21c94debaab2b607b432c7668310/tiles/{z}/{x}/{y}",
            "visible": true,
            "zoom_offset": 0
          }
        },
        "16d1e1bf04d44ccd8f05bf651c2e3c02": {
          "model_module": "@jupyter-widgets/base",
          "model_name": "LayoutModel",
          "model_module_version": "1.2.0",
          "state": {
            "_model_module": "@jupyter-widgets/base",
            "_model_module_version": "1.2.0",
            "_model_name": "LayoutModel",
            "_view_count": null,
            "_view_module": "@jupyter-widgets/base",
            "_view_module_version": "1.2.0",
            "_view_name": "LayoutView",
            "align_content": null,
            "align_items": null,
            "align_self": null,
            "border": null,
            "bottom": null,
            "display": null,
            "flex": null,
            "flex_flow": null,
            "grid_area": null,
            "grid_auto_columns": null,
            "grid_auto_flow": null,
            "grid_auto_rows": null,
            "grid_column": null,
            "grid_gap": null,
            "grid_row": null,
            "grid_template_areas": null,
            "grid_template_columns": null,
            "grid_template_rows": null,
            "height": null,
            "justify_content": null,
            "justify_items": null,
            "left": null,
            "margin": null,
            "max_height": null,
            "max_width": null,
            "min_height": null,
            "min_width": null,
            "object_fit": null,
            "object_position": null,
            "order": null,
            "overflow": null,
            "overflow_x": null,
            "overflow_y": null,
            "padding": null,
            "right": null,
            "top": null,
            "visibility": null,
            "width": "100%"
          }
        },
        "cb3600c04689486da4f849075cccc0f4": {
          "model_module": "jupyter-leaflet",
          "model_name": "LeafletMapStyleModel",
          "model_module_version": "^0.17",
          "state": {
            "_model_module": "jupyter-leaflet",
            "_model_module_version": "^0.17",
            "_model_name": "LeafletMapStyleModel",
            "_view_count": null,
            "_view_module": "@jupyter-widgets/base",
            "_view_module_version": "1.2.0",
            "_view_name": "StyleView",
            "cursor": "grab"
          }
        },
        "8889e6e7afcb419f94e29155e6c72056": {
          "model_module": "jupyter-leaflet",
          "model_name": "LeafletZoomControlModel",
          "model_module_version": "^0.17",
          "state": {
            "_model_module": "jupyter-leaflet",
            "_model_module_version": "^0.17",
            "_model_name": "LeafletZoomControlModel",
            "_view_count": null,
            "_view_module": "jupyter-leaflet",
            "_view_module_version": "^0.17",
            "_view_name": "LeafletZoomControlView",
            "options": [
              "position",
              "zoom_in_text",
              "zoom_in_title",
              "zoom_out_text",
              "zoom_out_title"
            ],
            "position": "topleft",
            "zoom_in_text": "+",
            "zoom_in_title": "Zoom in",
            "zoom_out_text": "-",
            "zoom_out_title": "Zoom out"
          }
        },
        "1b717111ebad4429be6110fdc0e7d319": {
          "model_module": "jupyter-leaflet",
          "model_name": "LeafletAttributionControlModel",
          "model_module_version": "^0.17",
          "state": {
            "_model_module": "jupyter-leaflet",
            "_model_module_version": "^0.17",
            "_model_name": "LeafletAttributionControlModel",
            "_view_count": null,
            "_view_module": "jupyter-leaflet",
            "_view_module_version": "^0.17",
            "_view_name": "LeafletAttributionControlView",
            "options": [
              "position",
              "prefix"
            ],
            "position": "bottomright",
            "prefix": "ipyleaflet"
          }
        },
        "628aa8e93be64063bcb50a3bee7b2bbe": {
          "model_module": "jupyter-leaflet",
          "model_name": "LeafletLayersControlModel",
          "model_module_version": "^0.17",
          "state": {
            "_model_module": "jupyter-leaflet",
            "_model_module_version": "^0.17",
            "_model_name": "LeafletLayersControlModel",
            "_view_count": null,
            "_view_module": "jupyter-leaflet",
            "_view_module_version": "^0.17",
            "_view_name": "LeafletLayersControlView",
            "options": [
              "position"
            ],
            "position": "topright"
          }
        },
        "da504624440c4a8898c9f5993a1375c9": {
          "model_module": "jupyter-leaflet",
          "model_name": "LeafletMapStyleModel",
          "model_module_version": "^0.17",
          "state": {
            "_model_module": "jupyter-leaflet",
            "_model_module_version": "^0.17",
            "_model_name": "LeafletMapStyleModel",
            "_view_count": null,
            "_view_module": "@jupyter-widgets/base",
            "_view_module_version": "1.2.0",
            "_view_name": "StyleView",
            "cursor": "crosshair"
          }
        },
        "10b4d6bf079646da993b7c061f372984": {
          "model_module": "jupyter-leaflet",
          "model_name": "LeafletMapStyleModel",
          "model_module_version": "^0.17",
          "state": {
            "_model_module": "jupyter-leaflet",
            "_model_module_version": "^0.17",
            "_model_name": "LeafletMapStyleModel",
            "_view_count": null,
            "_view_module": "@jupyter-widgets/base",
            "_view_module_version": "1.2.0",
            "_view_name": "StyleView",
            "cursor": "move"
          }
        },
        "8123b149e92748b08aee3d93432ce829": {
          "model_module": "jupyter-leaflet",
          "model_name": "LeafletTileLayerModel",
          "model_module_version": "^0.17",
          "state": {
            "_model_module": "jupyter-leaflet",
            "_model_module_version": "^0.17",
            "_model_name": "LeafletTileLayerModel",
            "_view_count": null,
            "_view_module": "jupyter-leaflet",
            "_view_module_version": "^0.17",
            "_view_name": "LeafletTileLayerView",
            "attribution": "Map tiles by <a href=\"http://stamen.com\">Stamen Design</a>, <a href=\"http://creativecommons.org/licenses/by/3.0\">CC BY 3.0</a> &mdash; Map data &copy; <a href=\"https://www.openstreetmap.org/copyright\">OpenStreetMap</a> contributors",
            "base": true,
            "bottom": true,
            "bounds": null,
            "detect_retina": false,
            "loading": false,
            "max_native_zoom": null,
            "max_zoom": 16,
            "min_native_zoom": null,
            "min_zoom": 1,
            "name": "Stamen.Watercolor",
            "no_wrap": false,
            "opacity": 1,
            "options": [
              "attribution",
              "bounds",
              "detect_retina",
              "max_native_zoom",
              "max_zoom",
              "min_native_zoom",
              "min_zoom",
              "no_wrap",
              "tile_size",
              "tms",
              "zoom_offset"
            ],
            "pane": "",
            "popup": null,
            "popup_max_height": null,
            "popup_max_width": 300,
            "popup_min_width": 50,
            "show_loading": false,
            "subitems": [],
            "tile_size": 256,
            "tms": false,
            "url": "https://stamen-tiles-a.a.ssl.fastly.net/watercolor/{z}/{x}/{y}.jpg",
            "visible": true,
            "zoom_offset": 0
          }
        },
        "0df2422b7c5f4324bf5de0608cecbf57": {
          "model_module": "jupyter-leaflet",
          "model_name": "LeafletTileLayerModel",
          "model_module_version": "^0.17",
          "state": {
            "_model_module": "jupyter-leaflet",
            "_model_module_version": "^0.17",
            "_model_name": "LeafletTileLayerModel",
            "_view_count": null,
            "_view_module": "jupyter-leaflet",
            "_view_module_version": "^0.17",
            "_view_name": "LeafletTileLayerView",
            "attribution": null,
            "base": false,
            "bottom": true,
            "bounds": null,
            "detect_retina": false,
            "loading": false,
            "max_native_zoom": null,
            "max_zoom": 18,
            "min_native_zoom": null,
            "min_zoom": 0,
            "name": "Landsat 8 (median)",
            "no_wrap": false,
            "opacity": 1,
            "options": [
              "attribution",
              "bounds",
              "detect_retina",
              "max_native_zoom",
              "max_zoom",
              "min_native_zoom",
              "min_zoom",
              "no_wrap",
              "tile_size",
              "tms",
              "zoom_offset"
            ],
            "pane": "",
            "popup": null,
            "popup_max_height": null,
            "popup_max_width": 300,
            "popup_min_width": 50,
            "show_loading": false,
            "subitems": [],
            "tile_size": 256,
            "tms": false,
            "url": "https://earthengine.googleapis.com/v1alpha/projects/earthengine-legacy/maps/e4070859e178f4ddb416d4d97046efea-e473901b86b9bb864b8e748469d453b1/tiles/{z}/{x}/{y}",
            "visible": true,
            "zoom_offset": 0
          }
        },
        "c5cb81a45ec04e9dbb74c50e56921736": {
          "model_module": "@jupyter-widgets/base",
          "model_name": "LayoutModel",
          "model_module_version": "1.2.0",
          "state": {
            "_model_module": "@jupyter-widgets/base",
            "_model_module_version": "1.2.0",
            "_model_name": "LayoutModel",
            "_view_count": null,
            "_view_module": "@jupyter-widgets/base",
            "_view_module_version": "1.2.0",
            "_view_name": "LayoutView",
            "align_content": null,
            "align_items": null,
            "align_self": null,
            "border": null,
            "bottom": null,
            "display": null,
            "flex": null,
            "flex_flow": null,
            "grid_area": null,
            "grid_auto_columns": null,
            "grid_auto_flow": null,
            "grid_auto_rows": null,
            "grid_column": null,
            "grid_gap": null,
            "grid_row": null,
            "grid_template_areas": null,
            "grid_template_columns": null,
            "grid_template_rows": null,
            "height": null,
            "justify_content": null,
            "justify_items": null,
            "left": null,
            "margin": null,
            "max_height": null,
            "max_width": null,
            "min_height": null,
            "min_width": null,
            "object_fit": null,
            "object_position": null,
            "order": null,
            "overflow": null,
            "overflow_x": null,
            "overflow_y": null,
            "padding": null,
            "right": null,
            "top": null,
            "visibility": null,
            "width": "100%"
          }
        },
        "db2dd4c2754e4881abf890c6924f4428": {
          "model_module": "jupyter-leaflet",
          "model_name": "LeafletMapStyleModel",
          "model_module_version": "^0.17",
          "state": {
            "_model_module": "jupyter-leaflet",
            "_model_module_version": "^0.17",
            "_model_name": "LeafletMapStyleModel",
            "_view_count": null,
            "_view_module": "@jupyter-widgets/base",
            "_view_module_version": "1.2.0",
            "_view_name": "StyleView",
            "cursor": "grab"
          }
        },
        "53a0df0053fc4d51ae9d47adb5f067d8": {
          "model_module": "jupyter-leaflet",
          "model_name": "LeafletMapModel",
          "model_module_version": "^0.17",
          "state": {
            "_dom_classes": [],
            "_model_module": "jupyter-leaflet",
            "_model_module_version": "^0.17",
            "_model_name": "LeafletMapModel",
            "_view_count": null,
            "_view_module": "jupyter-leaflet",
            "_view_module_version": "^0.17",
            "_view_name": "LeafletMapView",
            "bottom": 101848,
            "bounce_at_zoom_limits": true,
            "box_zoom": true,
            "center": [
              37.4225866,
              -122.0648754
            ],
            "close_popup_on_click": true,
            "controls": [
              "IPY_MODEL_c6a466ee8dfd45e1a3341f3632143a6d",
              "IPY_MODEL_feaf0a7e353b4e2384a46e4467837314",
              "IPY_MODEL_f0fc487e29eb4d8e80235156ab3f7a67"
            ],
            "crs": {
              "name": "EPSG3857",
              "custom": false
            },
            "default_style": "IPY_MODEL_c5f4822f1880480bac482576b7f0dccb",
            "double_click_zoom": true,
            "dragging": true,
            "dragging_style": "IPY_MODEL_0000982955f74ed0b73640970745f910",
            "east": -121.37695312500001,
            "fullscreen": false,
            "inertia": true,
            "inertia_deceleration": 3000,
            "inertia_max_speed": 1500,
            "interpolation": "bilinear",
            "keyboard": true,
            "keyboard_pan_offset": 80,
            "keyboard_zoom_offset": 1,
            "layers": [
              "IPY_MODEL_9a288ccb3e0647db903416c9e0a704fb",
              "IPY_MODEL_2a356fa244f748cb88adf65d958b25f5"
            ],
            "layout": "IPY_MODEL_e262f929cdff442db826a506aa6bac5c",
            "left": 41687,
            "max_zoom": null,
            "min_zoom": null,
            "modisdate": "2023-03-13",
            "north": 37.640334898059486,
            "options": [
              "bounce_at_zoom_limits",
              "box_zoom",
              "center",
              "close_popup_on_click",
              "double_click_zoom",
              "dragging",
              "fullscreen",
              "inertia",
              "inertia_deceleration",
              "inertia_max_speed",
              "interpolation",
              "keyboard",
              "keyboard_pan_offset",
              "keyboard_zoom_offset",
              "max_zoom",
              "min_zoom",
              "prefer_canvas",
              "scroll_wheel_zoom",
              "tap",
              "tap_tolerance",
              "touch_zoom",
              "world_copy_jump",
              "zoom",
              "zoom_animation_threshold",
              "zoom_delta",
              "zoom_snap"
            ],
            "panes": {},
            "prefer_canvas": false,
            "right": 42688,
            "scroll_wheel_zoom": false,
            "south": 37.204081555898526,
            "style": "IPY_MODEL_e5cb300d642c4f1095542eecc79b0746",
            "tap": true,
            "tap_tolerance": 15,
            "top": 101448,
            "touch_zoom": true,
            "west": -122.75161743164062,
            "window_url": "https://us929lgwa6-496ff2e9c6d22116-0-colab.googleusercontent.com/outputframe.html?vrz=colab-20230309-060141-RC01_515373326",
            "world_copy_jump": false,
            "zoom": 10,
            "zoom_animation_threshold": 4,
            "zoom_delta": 1,
            "zoom_snap": 1
          }
        },
        "c6a466ee8dfd45e1a3341f3632143a6d": {
          "model_module": "jupyter-leaflet",
          "model_name": "LeafletZoomControlModel",
          "model_module_version": "^0.17",
          "state": {
            "_model_module": "jupyter-leaflet",
            "_model_module_version": "^0.17",
            "_model_name": "LeafletZoomControlModel",
            "_view_count": null,
            "_view_module": "jupyter-leaflet",
            "_view_module_version": "^0.17",
            "_view_name": "LeafletZoomControlView",
            "options": [
              "position",
              "zoom_in_text",
              "zoom_in_title",
              "zoom_out_text",
              "zoom_out_title"
            ],
            "position": "topleft",
            "zoom_in_text": "+",
            "zoom_in_title": "Zoom in",
            "zoom_out_text": "-",
            "zoom_out_title": "Zoom out"
          }
        },
        "feaf0a7e353b4e2384a46e4467837314": {
          "model_module": "jupyter-leaflet",
          "model_name": "LeafletAttributionControlModel",
          "model_module_version": "^0.17",
          "state": {
            "_model_module": "jupyter-leaflet",
            "_model_module_version": "^0.17",
            "_model_name": "LeafletAttributionControlModel",
            "_view_count": null,
            "_view_module": "jupyter-leaflet",
            "_view_module_version": "^0.17",
            "_view_name": "LeafletAttributionControlView",
            "options": [
              "position",
              "prefix"
            ],
            "position": "bottomright",
            "prefix": "ipyleaflet"
          }
        },
        "f0fc487e29eb4d8e80235156ab3f7a67": {
          "model_module": "jupyter-leaflet",
          "model_name": "LeafletLayersControlModel",
          "model_module_version": "^0.17",
          "state": {
            "_model_module": "jupyter-leaflet",
            "_model_module_version": "^0.17",
            "_model_name": "LeafletLayersControlModel",
            "_view_count": null,
            "_view_module": "jupyter-leaflet",
            "_view_module_version": "^0.17",
            "_view_name": "LeafletLayersControlView",
            "options": [
              "position"
            ],
            "position": "topright"
          }
        },
        "c5f4822f1880480bac482576b7f0dccb": {
          "model_module": "jupyter-leaflet",
          "model_name": "LeafletMapStyleModel",
          "model_module_version": "^0.17",
          "state": {
            "_model_module": "jupyter-leaflet",
            "_model_module_version": "^0.17",
            "_model_name": "LeafletMapStyleModel",
            "_view_count": null,
            "_view_module": "@jupyter-widgets/base",
            "_view_module_version": "1.2.0",
            "_view_name": "StyleView",
            "cursor": "crosshair"
          }
        },
        "0000982955f74ed0b73640970745f910": {
          "model_module": "jupyter-leaflet",
          "model_name": "LeafletMapStyleModel",
          "model_module_version": "^0.17",
          "state": {
            "_model_module": "jupyter-leaflet",
            "_model_module_version": "^0.17",
            "_model_name": "LeafletMapStyleModel",
            "_view_count": null,
            "_view_module": "@jupyter-widgets/base",
            "_view_module_version": "1.2.0",
            "_view_name": "StyleView",
            "cursor": "move"
          }
        },
        "9a288ccb3e0647db903416c9e0a704fb": {
          "model_module": "jupyter-leaflet",
          "model_name": "LeafletTileLayerModel",
          "model_module_version": "^0.17",
          "state": {
            "_model_module": "jupyter-leaflet",
            "_model_module_version": "^0.17",
            "_model_name": "LeafletTileLayerModel",
            "_view_count": null,
            "_view_module": "jupyter-leaflet",
            "_view_module_version": "^0.17",
            "_view_name": "LeafletTileLayerView",
            "attribution": "Map tiles by <a href=\"http://stamen.com\">Stamen Design</a>, <a href=\"http://creativecommons.org/licenses/by/3.0\">CC BY 3.0</a> &mdash; Map data &copy; <a href=\"https://www.openstreetmap.org/copyright\">OpenStreetMap</a> contributors",
            "base": true,
            "bottom": true,
            "bounds": null,
            "detect_retina": false,
            "loading": false,
            "max_native_zoom": null,
            "max_zoom": 16,
            "min_native_zoom": null,
            "min_zoom": 1,
            "name": "Stamen.Watercolor",
            "no_wrap": false,
            "opacity": 1,
            "options": [
              "attribution",
              "bounds",
              "detect_retina",
              "max_native_zoom",
              "max_zoom",
              "min_native_zoom",
              "min_zoom",
              "no_wrap",
              "tile_size",
              "tms",
              "zoom_offset"
            ],
            "pane": "",
            "popup": null,
            "popup_max_height": null,
            "popup_max_width": 300,
            "popup_min_width": 50,
            "show_loading": false,
            "subitems": [],
            "tile_size": 256,
            "tms": false,
            "url": "https://stamen-tiles-a.a.ssl.fastly.net/watercolor/{z}/{x}/{y}.jpg",
            "visible": true,
            "zoom_offset": 0
          }
        },
        "2a356fa244f748cb88adf65d958b25f5": {
          "model_module": "jupyter-leaflet",
          "model_name": "LeafletTileLayerModel",
          "model_module_version": "^0.17",
          "state": {
            "_model_module": "jupyter-leaflet",
            "_model_module_version": "^0.17",
            "_model_name": "LeafletTileLayerModel",
            "_view_count": null,
            "_view_module": "jupyter-leaflet",
            "_view_module_version": "^0.17",
            "_view_name": "LeafletTileLayerView",
            "attribution": null,
            "base": false,
            "bottom": true,
            "bounds": null,
            "detect_retina": false,
            "loading": false,
            "max_native_zoom": null,
            "max_zoom": 18,
            "min_native_zoom": null,
            "min_zoom": 0,
            "name": "masked",
            "no_wrap": false,
            "opacity": 1,
            "options": [
              "attribution",
              "bounds",
              "detect_retina",
              "max_native_zoom",
              "max_zoom",
              "min_native_zoom",
              "min_zoom",
              "no_wrap",
              "tile_size",
              "tms",
              "zoom_offset"
            ],
            "pane": "",
            "popup": null,
            "popup_max_height": null,
            "popup_max_width": 300,
            "popup_min_width": 50,
            "show_loading": false,
            "subitems": [],
            "tile_size": 256,
            "tms": false,
            "url": "https://earthengine.googleapis.com/v1alpha/projects/earthengine-legacy/maps/08258b87bce6fc82271aca35ddcc23ee-fc839766dde4f050832dc97cbe94a634/tiles/{z}/{x}/{y}",
            "visible": true,
            "zoom_offset": 0
          }
        },
        "e262f929cdff442db826a506aa6bac5c": {
          "model_module": "@jupyter-widgets/base",
          "model_name": "LayoutModel",
          "model_module_version": "1.2.0",
          "state": {
            "_model_module": "@jupyter-widgets/base",
            "_model_module_version": "1.2.0",
            "_model_name": "LayoutModel",
            "_view_count": null,
            "_view_module": "@jupyter-widgets/base",
            "_view_module_version": "1.2.0",
            "_view_name": "LayoutView",
            "align_content": null,
            "align_items": null,
            "align_self": null,
            "border": null,
            "bottom": null,
            "display": null,
            "flex": null,
            "flex_flow": null,
            "grid_area": null,
            "grid_auto_columns": null,
            "grid_auto_flow": null,
            "grid_auto_rows": null,
            "grid_column": null,
            "grid_gap": null,
            "grid_row": null,
            "grid_template_areas": null,
            "grid_template_columns": null,
            "grid_template_rows": null,
            "height": null,
            "justify_content": null,
            "justify_items": null,
            "left": null,
            "margin": null,
            "max_height": null,
            "max_width": null,
            "min_height": null,
            "min_width": null,
            "object_fit": null,
            "object_position": null,
            "order": null,
            "overflow": null,
            "overflow_x": null,
            "overflow_y": null,
            "padding": null,
            "right": null,
            "top": null,
            "visibility": null,
            "width": "100%"
          }
        },
        "e5cb300d642c4f1095542eecc79b0746": {
          "model_module": "jupyter-leaflet",
          "model_name": "LeafletMapStyleModel",
          "model_module_version": "^0.17",
          "state": {
            "_model_module": "jupyter-leaflet",
            "_model_module_version": "^0.17",
            "_model_name": "LeafletMapStyleModel",
            "_view_count": null,
            "_view_module": "@jupyter-widgets/base",
            "_view_module_version": "1.2.0",
            "_view_name": "StyleView",
            "cursor": "grab"
          }
        },
        "25bbe0b86b744060be9eaae6ef43c599": {
          "model_module": "jupyter-leaflet",
          "model_name": "LeafletMapModel",
          "model_module_version": "^0.17",
          "state": {
            "_dom_classes": [],
            "_model_module": "jupyter-leaflet",
            "_model_module_version": "^0.17",
            "_model_name": "LeafletMapModel",
            "_view_count": null,
            "_view_module": "jupyter-leaflet",
            "_view_module_version": "^0.17",
            "_view_name": "LeafletMapView",
            "bottom": 101848,
            "bounce_at_zoom_limits": true,
            "box_zoom": true,
            "center": [
              37.4225866,
              -122.0648754
            ],
            "close_popup_on_click": true,
            "controls": [
              "IPY_MODEL_4db4e248b7504b248b1c9257560cef15",
              "IPY_MODEL_ade5faeb5b5742ba910e5ece6463d4c9",
              "IPY_MODEL_cbfdc7fe81c1482baa3424b1db86ee8a"
            ],
            "crs": {
              "name": "EPSG3857",
              "custom": false
            },
            "default_style": "IPY_MODEL_c0dcede3717e41ca8ee40f72a78fbf41",
            "double_click_zoom": true,
            "dragging": true,
            "dragging_style": "IPY_MODEL_cfbe4eb38eef4209a6c2e4d2dfd6ded2",
            "east": -121.37695312500001,
            "fullscreen": false,
            "inertia": true,
            "inertia_deceleration": 3000,
            "inertia_max_speed": 1500,
            "interpolation": "bilinear",
            "keyboard": true,
            "keyboard_pan_offset": 80,
            "keyboard_zoom_offset": 1,
            "layers": [
              "IPY_MODEL_a5ad0aea8afe47d881f09ab9b140e4bc",
              "IPY_MODEL_c838e060b8284f5d889608a5edf38f4f"
            ],
            "layout": "IPY_MODEL_725de31e1fc84f9f99c1c585a484b787",
            "left": 41687,
            "max_zoom": null,
            "min_zoom": null,
            "modisdate": "2023-03-13",
            "north": 37.640334898059486,
            "options": [
              "bounce_at_zoom_limits",
              "box_zoom",
              "center",
              "close_popup_on_click",
              "double_click_zoom",
              "dragging",
              "fullscreen",
              "inertia",
              "inertia_deceleration",
              "inertia_max_speed",
              "interpolation",
              "keyboard",
              "keyboard_pan_offset",
              "keyboard_zoom_offset",
              "max_zoom",
              "min_zoom",
              "prefer_canvas",
              "scroll_wheel_zoom",
              "tap",
              "tap_tolerance",
              "touch_zoom",
              "world_copy_jump",
              "zoom",
              "zoom_animation_threshold",
              "zoom_delta",
              "zoom_snap"
            ],
            "panes": {},
            "prefer_canvas": false,
            "right": 42688,
            "scroll_wheel_zoom": false,
            "south": 37.204081555898526,
            "style": "IPY_MODEL_3bac5b1ff62947e187dc9f3d6e3d871c",
            "tap": true,
            "tap_tolerance": 15,
            "top": 101448,
            "touch_zoom": true,
            "west": -122.75161743164062,
            "window_url": "https://us929lgwa6-496ff2e9c6d22116-0-colab.googleusercontent.com/outputframe.html?vrz=colab-20230309-060141-RC01_515373326",
            "world_copy_jump": false,
            "zoom": 10,
            "zoom_animation_threshold": 4,
            "zoom_delta": 1,
            "zoom_snap": 1
          }
        },
        "4db4e248b7504b248b1c9257560cef15": {
          "model_module": "jupyter-leaflet",
          "model_name": "LeafletZoomControlModel",
          "model_module_version": "^0.17",
          "state": {
            "_model_module": "jupyter-leaflet",
            "_model_module_version": "^0.17",
            "_model_name": "LeafletZoomControlModel",
            "_view_count": null,
            "_view_module": "jupyter-leaflet",
            "_view_module_version": "^0.17",
            "_view_name": "LeafletZoomControlView",
            "options": [
              "position",
              "zoom_in_text",
              "zoom_in_title",
              "zoom_out_text",
              "zoom_out_title"
            ],
            "position": "topleft",
            "zoom_in_text": "+",
            "zoom_in_title": "Zoom in",
            "zoom_out_text": "-",
            "zoom_out_title": "Zoom out"
          }
        },
        "ade5faeb5b5742ba910e5ece6463d4c9": {
          "model_module": "jupyter-leaflet",
          "model_name": "LeafletAttributionControlModel",
          "model_module_version": "^0.17",
          "state": {
            "_model_module": "jupyter-leaflet",
            "_model_module_version": "^0.17",
            "_model_name": "LeafletAttributionControlModel",
            "_view_count": null,
            "_view_module": "jupyter-leaflet",
            "_view_module_version": "^0.17",
            "_view_name": "LeafletAttributionControlView",
            "options": [
              "position",
              "prefix"
            ],
            "position": "bottomright",
            "prefix": "ipyleaflet"
          }
        },
        "cbfdc7fe81c1482baa3424b1db86ee8a": {
          "model_module": "jupyter-leaflet",
          "model_name": "LeafletLayersControlModel",
          "model_module_version": "^0.17",
          "state": {
            "_model_module": "jupyter-leaflet",
            "_model_module_version": "^0.17",
            "_model_name": "LeafletLayersControlModel",
            "_view_count": null,
            "_view_module": "jupyter-leaflet",
            "_view_module_version": "^0.17",
            "_view_name": "LeafletLayersControlView",
            "options": [
              "position"
            ],
            "position": "topright"
          }
        },
        "c0dcede3717e41ca8ee40f72a78fbf41": {
          "model_module": "jupyter-leaflet",
          "model_name": "LeafletMapStyleModel",
          "model_module_version": "^0.17",
          "state": {
            "_model_module": "jupyter-leaflet",
            "_model_module_version": "^0.17",
            "_model_name": "LeafletMapStyleModel",
            "_view_count": null,
            "_view_module": "@jupyter-widgets/base",
            "_view_module_version": "1.2.0",
            "_view_name": "StyleView",
            "cursor": "crosshair"
          }
        },
        "cfbe4eb38eef4209a6c2e4d2dfd6ded2": {
          "model_module": "jupyter-leaflet",
          "model_name": "LeafletMapStyleModel",
          "model_module_version": "^0.17",
          "state": {
            "_model_module": "jupyter-leaflet",
            "_model_module_version": "^0.17",
            "_model_name": "LeafletMapStyleModel",
            "_view_count": null,
            "_view_module": "@jupyter-widgets/base",
            "_view_module_version": "1.2.0",
            "_view_name": "StyleView",
            "cursor": "move"
          }
        },
        "a5ad0aea8afe47d881f09ab9b140e4bc": {
          "model_module": "jupyter-leaflet",
          "model_name": "LeafletTileLayerModel",
          "model_module_version": "^0.17",
          "state": {
            "_model_module": "jupyter-leaflet",
            "_model_module_version": "^0.17",
            "_model_name": "LeafletTileLayerModel",
            "_view_count": null,
            "_view_module": "jupyter-leaflet",
            "_view_module_version": "^0.17",
            "_view_name": "LeafletTileLayerView",
            "attribution": "Map tiles by <a href=\"http://stamen.com\">Stamen Design</a>, <a href=\"http://creativecommons.org/licenses/by/3.0\">CC BY 3.0</a> &mdash; Map data &copy; <a href=\"https://www.openstreetmap.org/copyright\">OpenStreetMap</a> contributors",
            "base": true,
            "bottom": true,
            "bounds": null,
            "detect_retina": false,
            "loading": false,
            "max_native_zoom": null,
            "max_zoom": 16,
            "min_native_zoom": null,
            "min_zoom": 1,
            "name": "Stamen.Watercolor",
            "no_wrap": false,
            "opacity": 1,
            "options": [
              "attribution",
              "bounds",
              "detect_retina",
              "max_native_zoom",
              "max_zoom",
              "min_native_zoom",
              "min_zoom",
              "no_wrap",
              "tile_size",
              "tms",
              "zoom_offset"
            ],
            "pane": "",
            "popup": null,
            "popup_max_height": null,
            "popup_max_width": 300,
            "popup_min_width": 50,
            "show_loading": false,
            "subitems": [],
            "tile_size": 256,
            "tms": false,
            "url": "https://stamen-tiles-a.a.ssl.fastly.net/watercolor/{z}/{x}/{y}.jpg",
            "visible": true,
            "zoom_offset": 0
          }
        },
        "99e28f0dbeaf4621a2e053905c92f9bc": {
          "model_module": "jupyter-leaflet",
          "model_name": "LeafletTileLayerModel",
          "model_module_version": "^0.17",
          "state": {
            "_model_module": "jupyter-leaflet",
            "_model_module_version": "^0.17",
            "_model_name": "LeafletTileLayerModel",
            "_view_count": null,
            "_view_module": "jupyter-leaflet",
            "_view_module_version": "^0.17",
            "_view_name": "LeafletTileLayerView",
            "attribution": null,
            "base": false,
            "bottom": true,
            "bounds": null,
            "detect_retina": false,
            "loading": true,
            "max_native_zoom": null,
            "max_zoom": 18,
            "min_native_zoom": null,
            "min_zoom": 0,
            "name": "NDVI image",
            "no_wrap": false,
            "opacity": 1,
            "options": [
              "attribution",
              "bounds",
              "detect_retina",
              "max_native_zoom",
              "max_zoom",
              "min_native_zoom",
              "min_zoom",
              "no_wrap",
              "tile_size",
              "tms",
              "zoom_offset"
            ],
            "pane": "",
            "popup": null,
            "popup_max_height": null,
            "popup_max_width": 300,
            "popup_min_width": 50,
            "show_loading": false,
            "subitems": [],
            "tile_size": 256,
            "tms": false,
            "url": "https://earthengine.googleapis.com/v1alpha/projects/earthengine-legacy/maps/cece173796b2fe59c3675b7838c2460b-aab270cc18cf12404671da3a5ec974c6/tiles/{z}/{x}/{y}",
            "visible": true,
            "zoom_offset": 0
          }
        },
        "725de31e1fc84f9f99c1c585a484b787": {
          "model_module": "@jupyter-widgets/base",
          "model_name": "LayoutModel",
          "model_module_version": "1.2.0",
          "state": {
            "_model_module": "@jupyter-widgets/base",
            "_model_module_version": "1.2.0",
            "_model_name": "LayoutModel",
            "_view_count": null,
            "_view_module": "@jupyter-widgets/base",
            "_view_module_version": "1.2.0",
            "_view_name": "LayoutView",
            "align_content": null,
            "align_items": null,
            "align_self": null,
            "border": null,
            "bottom": null,
            "display": null,
            "flex": null,
            "flex_flow": null,
            "grid_area": null,
            "grid_auto_columns": null,
            "grid_auto_flow": null,
            "grid_auto_rows": null,
            "grid_column": null,
            "grid_gap": null,
            "grid_row": null,
            "grid_template_areas": null,
            "grid_template_columns": null,
            "grid_template_rows": null,
            "height": null,
            "justify_content": null,
            "justify_items": null,
            "left": null,
            "margin": null,
            "max_height": null,
            "max_width": null,
            "min_height": null,
            "min_width": null,
            "object_fit": null,
            "object_position": null,
            "order": null,
            "overflow": null,
            "overflow_x": null,
            "overflow_y": null,
            "padding": null,
            "right": null,
            "top": null,
            "visibility": null,
            "width": "100%"
          }
        },
        "3bac5b1ff62947e187dc9f3d6e3d871c": {
          "model_module": "jupyter-leaflet",
          "model_name": "LeafletMapStyleModel",
          "model_module_version": "^0.17",
          "state": {
            "_model_module": "jupyter-leaflet",
            "_model_module_version": "^0.17",
            "_model_name": "LeafletMapStyleModel",
            "_view_count": null,
            "_view_module": "@jupyter-widgets/base",
            "_view_module_version": "1.2.0",
            "_view_name": "StyleView",
            "cursor": "grab"
          }
        },
        "c838e060b8284f5d889608a5edf38f4f": {
          "model_module": "jupyter-leaflet",
          "model_name": "LeafletTileLayerModel",
          "model_module_version": "^0.17",
          "state": {
            "_model_module": "jupyter-leaflet",
            "_model_module_version": "^0.17",
            "_model_name": "LeafletTileLayerModel",
            "_view_count": null,
            "_view_module": "jupyter-leaflet",
            "_view_module_version": "^0.17",
            "_view_name": "LeafletTileLayerView",
            "attribution": null,
            "base": false,
            "bottom": true,
            "bounds": null,
            "detect_retina": false,
            "loading": false,
            "max_native_zoom": null,
            "max_zoom": 18,
            "min_native_zoom": null,
            "min_zoom": 0,
            "name": "NDVI image",
            "no_wrap": false,
            "opacity": 1,
            "options": [
              "attribution",
              "bounds",
              "detect_retina",
              "max_native_zoom",
              "max_zoom",
              "min_native_zoom",
              "min_zoom",
              "no_wrap",
              "tile_size",
              "tms",
              "zoom_offset"
            ],
            "pane": "",
            "popup": null,
            "popup_max_height": null,
            "popup_max_width": 300,
            "popup_min_width": 50,
            "show_loading": false,
            "subitems": [],
            "tile_size": 256,
            "tms": false,
            "url": "https://earthengine.googleapis.com/v1alpha/projects/earthengine-legacy/maps/b4d86c5c13410c9ea58e6a486c6377e0-2840fe3d5d57c6e7401622395f5cc542/tiles/{z}/{x}/{y}",
            "visible": true,
            "zoom_offset": 0
          }
        },
        "fd145904222b43508d07092bbf991b96": {
          "model_module": "@jupyter-widgets/controls",
          "model_name": "VBoxModel",
          "model_module_version": "1.5.0",
          "state": {
            "_dom_classes": [],
            "_model_module": "@jupyter-widgets/controls",
            "_model_module_version": "1.5.0",
            "_model_name": "VBoxModel",
            "_view_count": null,
            "_view_module": "@jupyter-widgets/controls",
            "_view_module_version": "1.5.0",
            "_view_name": "VBoxView",
            "box_style": "",
            "children": [
              "IPY_MODEL_a10a9d228c004c2da85ff97d2fc53f78",
              "IPY_MODEL_3a22c83f9f1e4bbfb46d7a949feaaa0a"
            ],
            "layout": "IPY_MODEL_a2ab868579594193acc283bc8b4d6897"
          }
        },
        "a10a9d228c004c2da85ff97d2fc53f78": {
          "model_module": "@jupyter-widgets/controls",
          "model_name": "HBoxModel",
          "model_module_version": "1.5.0",
          "state": {
            "_dom_classes": [],
            "_model_module": "@jupyter-widgets/controls",
            "_model_module_version": "1.5.0",
            "_model_name": "HBoxModel",
            "_view_count": null,
            "_view_module": "@jupyter-widgets/controls",
            "_view_module_version": "1.5.0",
            "_view_name": "HBoxView",
            "box_style": "",
            "children": [
              "IPY_MODEL_f622a8685ed047fda7f2802fd046a134",
              "IPY_MODEL_4fe209031e5d46b0a851ba2e38bc1abd"
            ],
            "layout": "IPY_MODEL_4b08610afd294a35bd524fb95702b84c"
          }
        },
        "3a22c83f9f1e4bbfb46d7a949feaaa0a": {
          "model_module": "@jupyter-widgets/controls",
          "model_name": "FloatSliderModel",
          "model_module_version": "1.5.0",
          "state": {
            "_dom_classes": [],
            "_model_module": "@jupyter-widgets/controls",
            "_model_module_version": "1.5.0",
            "_model_name": "FloatSliderModel",
            "_view_count": null,
            "_view_module": "@jupyter-widgets/controls",
            "_view_module_version": "1.5.0",
            "_view_name": "FloatSliderView",
            "continuous_update": true,
            "description": "",
            "description_tooltip": null,
            "disabled": false,
            "layout": "IPY_MODEL_f4813e0b7d8641c5923828688bec96ea",
            "max": 100,
            "min": 0,
            "orientation": "horizontal",
            "readout": false,
            "readout_format": ".2f",
            "step": 0.1,
            "style": "IPY_MODEL_12842b0c6eea471c80876662cbd28a3d",
            "value": 50
          }
        },
        "a2ab868579594193acc283bc8b4d6897": {
          "model_module": "@jupyter-widgets/base",
          "model_name": "LayoutModel",
          "model_module_version": "1.2.0",
          "state": {
            "_model_module": "@jupyter-widgets/base",
            "_model_module_version": "1.2.0",
            "_model_name": "LayoutModel",
            "_view_count": null,
            "_view_module": "@jupyter-widgets/base",
            "_view_module_version": "1.2.0",
            "_view_name": "LayoutView",
            "align_content": null,
            "align_items": null,
            "align_self": null,
            "border": null,
            "bottom": null,
            "display": null,
            "flex": null,
            "flex_flow": null,
            "grid_area": null,
            "grid_auto_columns": null,
            "grid_auto_flow": null,
            "grid_auto_rows": null,
            "grid_column": null,
            "grid_gap": null,
            "grid_row": null,
            "grid_template_areas": null,
            "grid_template_columns": null,
            "grid_template_rows": null,
            "height": null,
            "justify_content": null,
            "justify_items": null,
            "left": null,
            "margin": null,
            "max_height": null,
            "max_width": null,
            "min_height": null,
            "min_width": null,
            "object_fit": null,
            "object_position": null,
            "order": null,
            "overflow": null,
            "overflow_x": null,
            "overflow_y": null,
            "padding": null,
            "right": null,
            "top": null,
            "visibility": null,
            "width": null
          }
        },
        "f622a8685ed047fda7f2802fd046a134": {
          "model_module": "jupyter-leaflet",
          "model_name": "LeafletMapModel",
          "model_module_version": "^0.17",
          "state": {
            "_dom_classes": [],
            "_model_module": "jupyter-leaflet",
            "_model_module_version": "^0.17",
            "_model_name": "LeafletMapModel",
            "_view_count": null,
            "_view_module": "jupyter-leaflet",
            "_view_module_version": "^0.17",
            "_view_name": "LeafletMapView",
            "bottom": 101848,
            "bounce_at_zoom_limits": true,
            "box_zoom": true,
            "center": [
              37.4225866,
              -122.0648754
            ],
            "close_popup_on_click": true,
            "controls": [
              "IPY_MODEL_ed8b20323d2f46b1b63d4748dc13bb1d",
              "IPY_MODEL_6e593ae769094c7d868ab87731ebfd01",
              "IPY_MODEL_c0ce08532bfa4d39a94ff3f0057f0d4e"
            ],
            "crs": {
              "name": "EPSG3857",
              "custom": false
            },
            "default_style": "IPY_MODEL_b1ad63624dbb470f8002a749acc2e465",
            "double_click_zoom": true,
            "dragging": true,
            "dragging_style": "IPY_MODEL_e4a3e884cf9e4ee385037013657712f4",
            "east": -121.72302246093751,
            "fullscreen": false,
            "inertia": true,
            "inertia_deceleration": 3000,
            "inertia_max_speed": 1500,
            "interpolation": "bilinear",
            "keyboard": true,
            "keyboard_pan_offset": 80,
            "keyboard_zoom_offset": 1,
            "layers": [
              "IPY_MODEL_d9b7617abd7b4b67b8cfc500c5c96369",
              "IPY_MODEL_0cbe20fc829b4582a4aa9720f53a0b0e"
            ],
            "layout": "IPY_MODEL_394b854cae504cd587755b418bdaa516",
            "left": 41938,
            "max_zoom": null,
            "min_zoom": null,
            "modisdate": "2023-03-13",
            "north": 37.640334898059486,
            "options": [
              "bounce_at_zoom_limits",
              "box_zoom",
              "center",
              "close_popup_on_click",
              "double_click_zoom",
              "dragging",
              "fullscreen",
              "inertia",
              "inertia_deceleration",
              "inertia_max_speed",
              "interpolation",
              "keyboard",
              "keyboard_pan_offset",
              "keyboard_zoom_offset",
              "max_zoom",
              "min_zoom",
              "prefer_canvas",
              "scroll_wheel_zoom",
              "tap",
              "tap_tolerance",
              "touch_zoom",
              "world_copy_jump",
              "zoom",
              "zoom_animation_threshold",
              "zoom_delta",
              "zoom_snap"
            ],
            "panes": {},
            "prefer_canvas": false,
            "right": 42436,
            "scroll_wheel_zoom": false,
            "south": 37.204081555898526,
            "style": "IPY_MODEL_d525bfbe73f14bf29858e2379e43ddb9",
            "tap": true,
            "tap_tolerance": 15,
            "top": 101448,
            "touch_zoom": true,
            "west": -122.40692138671876,
            "window_url": "https://us929lgwa6-496ff2e9c6d22116-0-colab.googleusercontent.com/outputframe.html?vrz=colab-20230309-060141-RC01_515373326",
            "world_copy_jump": false,
            "zoom": 10,
            "zoom_animation_threshold": 4,
            "zoom_delta": 1,
            "zoom_snap": 1
          }
        },
        "4fe209031e5d46b0a851ba2e38bc1abd": {
          "model_module": "ipytree",
          "model_name": "TreeModel",
          "model_module_version": "^0.2",
          "state": {
            "_dom_classes": [],
            "_id": "#",
            "_model_module": "ipytree",
            "_model_module_version": "^0.2",
            "_model_name": "TreeModel",
            "_view_count": null,
            "_view_module": "ipytree",
            "_view_module_version": "^0.2",
            "_view_name": "TreeView",
            "animation": 200,
            "layout": "IPY_MODEL_53e0fd7b8dc14bbd816ec1c92eb579b7",
            "multiple_selection": true,
            "nodes": [
              "IPY_MODEL_82f8d9bca5a540d881c35e7215e22709",
              "IPY_MODEL_492c22bc8a534476aba73d62ac57129e",
              "IPY_MODEL_a92a2130d6084c3691b9cc318ec9e8d9"
            ],
            "selected_nodes": []
          }
        },
        "4b08610afd294a35bd524fb95702b84c": {
          "model_module": "@jupyter-widgets/base",
          "model_name": "LayoutModel",
          "model_module_version": "1.2.0",
          "state": {
            "_model_module": "@jupyter-widgets/base",
            "_model_module_version": "1.2.0",
            "_model_name": "LayoutModel",
            "_view_count": null,
            "_view_module": "@jupyter-widgets/base",
            "_view_module_version": "1.2.0",
            "_view_name": "LayoutView",
            "align_content": null,
            "align_items": null,
            "align_self": null,
            "border": null,
            "bottom": null,
            "display": null,
            "flex": null,
            "flex_flow": null,
            "grid_area": null,
            "grid_auto_columns": null,
            "grid_auto_flow": null,
            "grid_auto_rows": null,
            "grid_column": null,
            "grid_gap": null,
            "grid_row": null,
            "grid_template_areas": null,
            "grid_template_columns": null,
            "grid_template_rows": null,
            "height": null,
            "justify_content": null,
            "justify_items": null,
            "left": null,
            "margin": null,
            "max_height": null,
            "max_width": null,
            "min_height": null,
            "min_width": null,
            "object_fit": null,
            "object_position": null,
            "order": null,
            "overflow": null,
            "overflow_x": null,
            "overflow_y": null,
            "padding": null,
            "right": null,
            "top": null,
            "visibility": null,
            "width": null
          }
        },
        "f4813e0b7d8641c5923828688bec96ea": {
          "model_module": "@jupyter-widgets/base",
          "model_name": "LayoutModel",
          "model_module_version": "1.2.0",
          "state": {
            "_model_module": "@jupyter-widgets/base",
            "_model_module_version": "1.2.0",
            "_model_name": "LayoutModel",
            "_view_count": null,
            "_view_module": "@jupyter-widgets/base",
            "_view_module_version": "1.2.0",
            "_view_name": "LayoutView",
            "align_content": null,
            "align_items": null,
            "align_self": null,
            "border": null,
            "bottom": null,
            "display": null,
            "flex": null,
            "flex_flow": null,
            "grid_area": null,
            "grid_auto_columns": null,
            "grid_auto_flow": null,
            "grid_auto_rows": null,
            "grid_column": null,
            "grid_gap": null,
            "grid_row": null,
            "grid_template_areas": null,
            "grid_template_columns": null,
            "grid_template_rows": null,
            "height": null,
            "justify_content": null,
            "justify_items": null,
            "left": null,
            "margin": null,
            "max_height": null,
            "max_width": null,
            "min_height": null,
            "min_width": null,
            "object_fit": null,
            "object_position": null,
            "order": null,
            "overflow": null,
            "overflow_x": null,
            "overflow_y": null,
            "padding": null,
            "right": null,
            "top": null,
            "visibility": null,
            "width": "100%"
          }
        },
        "12842b0c6eea471c80876662cbd28a3d": {
          "model_module": "@jupyter-widgets/controls",
          "model_name": "SliderStyleModel",
          "model_module_version": "1.5.0",
          "state": {
            "_model_module": "@jupyter-widgets/controls",
            "_model_module_version": "1.5.0",
            "_model_name": "SliderStyleModel",
            "_view_count": null,
            "_view_module": "@jupyter-widgets/base",
            "_view_module_version": "1.2.0",
            "_view_name": "StyleView",
            "description_width": "",
            "handle_color": null
          }
        },
        "ed8b20323d2f46b1b63d4748dc13bb1d": {
          "model_module": "jupyter-leaflet",
          "model_name": "LeafletZoomControlModel",
          "model_module_version": "^0.17",
          "state": {
            "_model_module": "jupyter-leaflet",
            "_model_module_version": "^0.17",
            "_model_name": "LeafletZoomControlModel",
            "_view_count": null,
            "_view_module": "jupyter-leaflet",
            "_view_module_version": "^0.17",
            "_view_name": "LeafletZoomControlView",
            "options": [
              "position",
              "zoom_in_text",
              "zoom_in_title",
              "zoom_out_text",
              "zoom_out_title"
            ],
            "position": "topleft",
            "zoom_in_text": "+",
            "zoom_in_title": "Zoom in",
            "zoom_out_text": "-",
            "zoom_out_title": "Zoom out"
          }
        },
        "6e593ae769094c7d868ab87731ebfd01": {
          "model_module": "jupyter-leaflet",
          "model_name": "LeafletAttributionControlModel",
          "model_module_version": "^0.17",
          "state": {
            "_model_module": "jupyter-leaflet",
            "_model_module_version": "^0.17",
            "_model_name": "LeafletAttributionControlModel",
            "_view_count": null,
            "_view_module": "jupyter-leaflet",
            "_view_module_version": "^0.17",
            "_view_name": "LeafletAttributionControlView",
            "options": [
              "position",
              "prefix"
            ],
            "position": "bottomright",
            "prefix": "ipyleaflet"
          }
        },
        "c0ce08532bfa4d39a94ff3f0057f0d4e": {
          "model_module": "jupyter-leaflet",
          "model_name": "LeafletLayersControlModel",
          "model_module_version": "^0.17",
          "state": {
            "_model_module": "jupyter-leaflet",
            "_model_module_version": "^0.17",
            "_model_name": "LeafletLayersControlModel",
            "_view_count": null,
            "_view_module": "jupyter-leaflet",
            "_view_module_version": "^0.17",
            "_view_name": "LeafletLayersControlView",
            "options": [
              "position"
            ],
            "position": "topright"
          }
        },
        "b1ad63624dbb470f8002a749acc2e465": {
          "model_module": "jupyter-leaflet",
          "model_name": "LeafletMapStyleModel",
          "model_module_version": "^0.17",
          "state": {
            "_model_module": "jupyter-leaflet",
            "_model_module_version": "^0.17",
            "_model_name": "LeafletMapStyleModel",
            "_view_count": null,
            "_view_module": "@jupyter-widgets/base",
            "_view_module_version": "1.2.0",
            "_view_name": "StyleView",
            "cursor": "crosshair"
          }
        },
        "e4a3e884cf9e4ee385037013657712f4": {
          "model_module": "jupyter-leaflet",
          "model_name": "LeafletMapStyleModel",
          "model_module_version": "^0.17",
          "state": {
            "_model_module": "jupyter-leaflet",
            "_model_module_version": "^0.17",
            "_model_name": "LeafletMapStyleModel",
            "_view_count": null,
            "_view_module": "@jupyter-widgets/base",
            "_view_module_version": "1.2.0",
            "_view_name": "StyleView",
            "cursor": "move"
          }
        },
        "d9b7617abd7b4b67b8cfc500c5c96369": {
          "model_module": "jupyter-leaflet",
          "model_name": "LeafletTileLayerModel",
          "model_module_version": "^0.17",
          "state": {
            "_model_module": "jupyter-leaflet",
            "_model_module_version": "^0.17",
            "_model_name": "LeafletTileLayerModel",
            "_view_count": null,
            "_view_module": "jupyter-leaflet",
            "_view_module_version": "^0.17",
            "_view_name": "LeafletTileLayerView",
            "attribution": "Map tiles by <a href=\"http://stamen.com\">Stamen Design</a>, <a href=\"http://creativecommons.org/licenses/by/3.0\">CC BY 3.0</a> &mdash; Map data &copy; <a href=\"https://www.openstreetmap.org/copyright\">OpenStreetMap</a> contributors",
            "base": true,
            "bottom": true,
            "bounds": null,
            "detect_retina": false,
            "loading": false,
            "max_native_zoom": null,
            "max_zoom": 16,
            "min_native_zoom": null,
            "min_zoom": 1,
            "name": "Stamen.Watercolor",
            "no_wrap": false,
            "opacity": 1,
            "options": [
              "attribution",
              "bounds",
              "detect_retina",
              "max_native_zoom",
              "max_zoom",
              "min_native_zoom",
              "min_zoom",
              "no_wrap",
              "tile_size",
              "tms",
              "zoom_offset"
            ],
            "pane": "",
            "popup": null,
            "popup_max_height": null,
            "popup_max_width": 300,
            "popup_min_width": 50,
            "show_loading": false,
            "subitems": [],
            "tile_size": 256,
            "tms": false,
            "url": "https://stamen-tiles-a.a.ssl.fastly.net/watercolor/{z}/{x}/{y}.jpg",
            "visible": true,
            "zoom_offset": 0
          }
        },
        "0cbe20fc829b4582a4aa9720f53a0b0e": {
          "model_module": "jupyter-leaflet",
          "model_name": "LeafletTileLayerModel",
          "model_module_version": "^0.17",
          "state": {
            "_model_module": "jupyter-leaflet",
            "_model_module_version": "^0.17",
            "_model_name": "LeafletTileLayerModel",
            "_view_count": null,
            "_view_module": "jupyter-leaflet",
            "_view_module_version": "^0.17",
            "_view_name": "LeafletTileLayerView",
            "attribution": null,
            "base": false,
            "bottom": true,
            "bounds": null,
            "detect_retina": false,
            "loading": false,
            "max_native_zoom": null,
            "max_zoom": 18,
            "min_native_zoom": null,
            "min_zoom": 0,
            "name": "NDVI",
            "no_wrap": false,
            "opacity": 1,
            "options": [
              "attribution",
              "bounds",
              "detect_retina",
              "max_native_zoom",
              "max_zoom",
              "min_native_zoom",
              "min_zoom",
              "no_wrap",
              "tile_size",
              "tms",
              "zoom_offset"
            ],
            "pane": "",
            "popup": null,
            "popup_max_height": null,
            "popup_max_width": 300,
            "popup_min_width": 50,
            "show_loading": false,
            "subitems": [],
            "tile_size": 256,
            "tms": false,
            "url": "https://earthengine.googleapis.com/v1alpha/projects/earthengine-legacy/maps/d89e72b37d31c947d79449685488e262-eb91358eff06e4aaf3bd1f05e65aaa17/tiles/{z}/{x}/{y}",
            "visible": true,
            "zoom_offset": 0
          }
        },
        "394b854cae504cd587755b418bdaa516": {
          "model_module": "@jupyter-widgets/base",
          "model_name": "LayoutModel",
          "model_module_version": "1.2.0",
          "state": {
            "_model_module": "@jupyter-widgets/base",
            "_model_module_version": "1.2.0",
            "_model_name": "LayoutModel",
            "_view_count": null,
            "_view_module": "@jupyter-widgets/base",
            "_view_module_version": "1.2.0",
            "_view_name": "LayoutView",
            "align_content": null,
            "align_items": null,
            "align_self": null,
            "border": null,
            "bottom": null,
            "display": null,
            "flex": null,
            "flex_flow": null,
            "grid_area": null,
            "grid_auto_columns": null,
            "grid_auto_flow": null,
            "grid_auto_rows": null,
            "grid_column": null,
            "grid_gap": null,
            "grid_row": null,
            "grid_template_areas": null,
            "grid_template_columns": null,
            "grid_template_rows": null,
            "height": null,
            "justify_content": null,
            "justify_items": null,
            "left": null,
            "margin": null,
            "max_height": null,
            "max_width": null,
            "min_height": null,
            "min_width": null,
            "object_fit": null,
            "object_position": null,
            "order": null,
            "overflow": null,
            "overflow_x": null,
            "overflow_y": null,
            "padding": null,
            "right": null,
            "top": null,
            "visibility": null,
            "width": "50.0%"
          }
        },
        "d525bfbe73f14bf29858e2379e43ddb9": {
          "model_module": "jupyter-leaflet",
          "model_name": "LeafletMapStyleModel",
          "model_module_version": "^0.17",
          "state": {
            "_model_module": "jupyter-leaflet",
            "_model_module_version": "^0.17",
            "_model_name": "LeafletMapStyleModel",
            "_view_count": null,
            "_view_module": "@jupyter-widgets/base",
            "_view_module_version": "1.2.0",
            "_view_name": "StyleView",
            "cursor": "grab"
          }
        },
        "53e0fd7b8dc14bbd816ec1c92eb579b7": {
          "model_module": "@jupyter-widgets/base",
          "model_name": "LayoutModel",
          "model_module_version": "1.2.0",
          "state": {
            "_model_module": "@jupyter-widgets/base",
            "_model_module_version": "1.2.0",
            "_model_name": "LayoutModel",
            "_view_count": null,
            "_view_module": "@jupyter-widgets/base",
            "_view_module_version": "1.2.0",
            "_view_name": "LayoutView",
            "align_content": null,
            "align_items": null,
            "align_self": null,
            "border": null,
            "bottom": null,
            "display": null,
            "flex": null,
            "flex_flow": null,
            "grid_area": null,
            "grid_auto_columns": null,
            "grid_auto_flow": null,
            "grid_auto_rows": null,
            "grid_column": null,
            "grid_gap": null,
            "grid_row": null,
            "grid_template_areas": null,
            "grid_template_columns": null,
            "grid_template_rows": null,
            "height": null,
            "justify_content": null,
            "justify_items": null,
            "left": null,
            "margin": null,
            "max_height": "400px",
            "max_width": null,
            "min_height": null,
            "min_width": null,
            "object_fit": null,
            "object_position": null,
            "order": null,
            "overflow": "scroll",
            "overflow_x": null,
            "overflow_y": null,
            "padding": null,
            "right": null,
            "top": null,
            "visibility": null,
            "width": "50.0%"
          }
        },
        "82f8d9bca5a540d881c35e7215e22709": {
          "model_module": "ipytree",
          "model_name": "NodeModel",
          "model_module_version": "^0.2",
          "state": {
            "_id": "2173a224-2ae5-4a73-a00c-aaa4efdb6068",
            "_model_module": "ipytree",
            "_model_module_version": "^0.2",
            "_model_name": "NodeModel",
            "_view_count": null,
            "_view_module": "ipytree",
            "_view_module_version": "^0.2",
            "_view_name": "NodeView",
            "close_icon": "minus",
            "close_icon_style": "default",
            "disabled": false,
            "icon": "map",
            "icon_image": "",
            "icon_style": "default",
            "name": "Point",
            "nodes": [],
            "open_icon": "plus",
            "open_icon_style": "default",
            "opened": true,
            "selected": false,
            "show_icon": true
          }
        },
        "492c22bc8a534476aba73d62ac57129e": {
          "model_module": "ipytree",
          "model_name": "NodeModel",
          "model_module_version": "^0.2",
          "state": {
            "_id": "926b8cb4-ad4e-4816-b21d-20af7a18fb62",
            "_model_module": "ipytree",
            "_model_module_version": "^0.2",
            "_model_name": "NodeModel",
            "_view_count": null,
            "_view_module": "ipytree",
            "_view_module_version": "^0.2",
            "_view_name": "NodeView",
            "close_icon": "minus",
            "close_icon_style": "default",
            "disabled": true,
            "icon": "archive",
            "icon_image": "",
            "icon_style": "default",
            "name": "Pixels",
            "nodes": [],
            "open_icon": "plus",
            "open_icon_style": "default",
            "opened": true,
            "selected": false,
            "show_icon": true
          }
        },
        "a92a2130d6084c3691b9cc318ec9e8d9": {
          "model_module": "ipytree",
          "model_name": "NodeModel",
          "model_module_version": "^0.2",
          "state": {
            "_id": "33d3ecd9-a7d5-437c-bfb9-488e9af66f00",
            "_model_module": "ipytree",
            "_model_module_version": "^0.2",
            "_model_name": "NodeModel",
            "_view_count": null,
            "_view_module": "ipytree",
            "_view_module_version": "^0.2",
            "_view_name": "NodeView",
            "close_icon": "minus",
            "close_icon_style": "default",
            "disabled": true,
            "icon": "archive",
            "icon_image": "",
            "icon_style": "default",
            "name": "Objects",
            "nodes": [],
            "open_icon": "plus",
            "open_icon_style": "default",
            "opened": true,
            "selected": false,
            "show_icon": true
          }
        },
        "6ec9e1ee57384da1ae13626cdc3a180d": {
          "model_module": "jupyter-leaflet",
          "model_name": "LeafletMapModel",
          "model_module_version": "^0.17",
          "state": {
            "_dom_classes": [],
            "_model_module": "jupyter-leaflet",
            "_model_module_version": "^0.17",
            "_model_name": "LeafletMapModel",
            "_view_count": null,
            "_view_module": "jupyter-leaflet",
            "_view_module_version": "^0.17",
            "_view_name": "LeafletMapView",
            "bottom": 25612,
            "bounce_at_zoom_limits": true,
            "box_zoom": true,
            "center": [
              37.4225866,
              -122.0648754
            ],
            "close_popup_on_click": true,
            "controls": [
              "IPY_MODEL_ea19b304ce304399b9eade010bff9e63",
              "IPY_MODEL_c54bc855ec834df092da5ef454c8a67b",
              "IPY_MODEL_d9334c9b7bf746488acc97d2a558ecd6"
            ],
            "crs": {
              "name": "EPSG3857",
              "custom": false
            },
            "default_style": "IPY_MODEL_648990178f4648679f1dccea999af2af",
            "double_click_zoom": true,
            "dragging": true,
            "dragging_style": "IPY_MODEL_1d80e459a6f04de4a5615acc0d39ba6e",
            "east": -119.31701660156251,
            "fullscreen": false,
            "inertia": true,
            "inertia_deceleration": 3000,
            "inertia_max_speed": 1500,
            "interpolation": "bilinear",
            "keyboard": true,
            "keyboard_pan_offset": 80,
            "keyboard_zoom_offset": 1,
            "layers": [
              "IPY_MODEL_cbde2924b5bb4f4ebad94e7a0ef2f8ea",
              "IPY_MODEL_2a27543bce614604bf8c50b49539ea77"
            ],
            "layout": "IPY_MODEL_28d7e113e856440ab38f1ccc2cb1720b",
            "left": 10046,
            "max_zoom": null,
            "min_zoom": null,
            "modisdate": "2023-03-13",
            "north": 38.28993659801203,
            "options": [
              "bounce_at_zoom_limits",
              "box_zoom",
              "center",
              "close_popup_on_click",
              "double_click_zoom",
              "dragging",
              "fullscreen",
              "inertia",
              "inertia_deceleration",
              "inertia_max_speed",
              "interpolation",
              "keyboard",
              "keyboard_pan_offset",
              "keyboard_zoom_offset",
              "max_zoom",
              "min_zoom",
              "prefer_canvas",
              "scroll_wheel_zoom",
              "tap",
              "tap_tolerance",
              "touch_zoom",
              "world_copy_jump",
              "zoom",
              "zoom_animation_threshold",
              "zoom_delta",
              "zoom_snap"
            ],
            "panes": {},
            "prefer_canvas": false,
            "right": 11047,
            "scroll_wheel_zoom": false,
            "south": 36.54494944148322,
            "style": "IPY_MODEL_26010efbb3e340c1875f448c33d33980",
            "tap": true,
            "tap_tolerance": 15,
            "top": 25212,
            "touch_zoom": true,
            "west": -124.81567382812501,
            "window_url": "https://us929lgwa6-496ff2e9c6d22116-0-colab.googleusercontent.com/outputframe.html?vrz=colab-20230309-060141-RC01_515373326",
            "world_copy_jump": false,
            "zoom": 8,
            "zoom_animation_threshold": 4,
            "zoom_delta": 1,
            "zoom_snap": 1
          }
        },
        "ea19b304ce304399b9eade010bff9e63": {
          "model_module": "jupyter-leaflet",
          "model_name": "LeafletZoomControlModel",
          "model_module_version": "^0.17",
          "state": {
            "_model_module": "jupyter-leaflet",
            "_model_module_version": "^0.17",
            "_model_name": "LeafletZoomControlModel",
            "_view_count": null,
            "_view_module": "jupyter-leaflet",
            "_view_module_version": "^0.17",
            "_view_name": "LeafletZoomControlView",
            "options": [
              "position",
              "zoom_in_text",
              "zoom_in_title",
              "zoom_out_text",
              "zoom_out_title"
            ],
            "position": "topleft",
            "zoom_in_text": "+",
            "zoom_in_title": "Zoom in",
            "zoom_out_text": "-",
            "zoom_out_title": "Zoom out"
          }
        },
        "c54bc855ec834df092da5ef454c8a67b": {
          "model_module": "jupyter-leaflet",
          "model_name": "LeafletAttributionControlModel",
          "model_module_version": "^0.17",
          "state": {
            "_model_module": "jupyter-leaflet",
            "_model_module_version": "^0.17",
            "_model_name": "LeafletAttributionControlModel",
            "_view_count": null,
            "_view_module": "jupyter-leaflet",
            "_view_module_version": "^0.17",
            "_view_name": "LeafletAttributionControlView",
            "options": [
              "position",
              "prefix"
            ],
            "position": "bottomright",
            "prefix": "ipyleaflet"
          }
        },
        "d9334c9b7bf746488acc97d2a558ecd6": {
          "model_module": "jupyter-leaflet",
          "model_name": "LeafletLayersControlModel",
          "model_module_version": "^0.17",
          "state": {
            "_model_module": "jupyter-leaflet",
            "_model_module_version": "^0.17",
            "_model_name": "LeafletLayersControlModel",
            "_view_count": null,
            "_view_module": "jupyter-leaflet",
            "_view_module_version": "^0.17",
            "_view_name": "LeafletLayersControlView",
            "options": [
              "position"
            ],
            "position": "topright"
          }
        },
        "648990178f4648679f1dccea999af2af": {
          "model_module": "jupyter-leaflet",
          "model_name": "LeafletMapStyleModel",
          "model_module_version": "^0.17",
          "state": {
            "_model_module": "jupyter-leaflet",
            "_model_module_version": "^0.17",
            "_model_name": "LeafletMapStyleModel",
            "_view_count": null,
            "_view_module": "@jupyter-widgets/base",
            "_view_module_version": "1.2.0",
            "_view_name": "StyleView",
            "cursor": "crosshair"
          }
        },
        "1d80e459a6f04de4a5615acc0d39ba6e": {
          "model_module": "jupyter-leaflet",
          "model_name": "LeafletMapStyleModel",
          "model_module_version": "^0.17",
          "state": {
            "_model_module": "jupyter-leaflet",
            "_model_module_version": "^0.17",
            "_model_name": "LeafletMapStyleModel",
            "_view_count": null,
            "_view_module": "@jupyter-widgets/base",
            "_view_module_version": "1.2.0",
            "_view_name": "StyleView",
            "cursor": "move"
          }
        },
        "cbde2924b5bb4f4ebad94e7a0ef2f8ea": {
          "model_module": "jupyter-leaflet",
          "model_name": "LeafletTileLayerModel",
          "model_module_version": "^0.17",
          "state": {
            "_model_module": "jupyter-leaflet",
            "_model_module_version": "^0.17",
            "_model_name": "LeafletTileLayerModel",
            "_view_count": null,
            "_view_module": "jupyter-leaflet",
            "_view_module_version": "^0.17",
            "_view_name": "LeafletTileLayerView",
            "attribution": "Map tiles by <a href=\"http://stamen.com\">Stamen Design</a>, <a href=\"http://creativecommons.org/licenses/by/3.0\">CC BY 3.0</a> &mdash; Map data &copy; <a href=\"https://www.openstreetmap.org/copyright\">OpenStreetMap</a> contributors",
            "base": true,
            "bottom": true,
            "bounds": null,
            "detect_retina": false,
            "loading": false,
            "max_native_zoom": null,
            "max_zoom": 16,
            "min_native_zoom": null,
            "min_zoom": 1,
            "name": "Stamen.Watercolor",
            "no_wrap": false,
            "opacity": 1,
            "options": [
              "attribution",
              "bounds",
              "detect_retina",
              "max_native_zoom",
              "max_zoom",
              "min_native_zoom",
              "min_zoom",
              "no_wrap",
              "tile_size",
              "tms",
              "zoom_offset"
            ],
            "pane": "",
            "popup": null,
            "popup_max_height": null,
            "popup_max_width": 300,
            "popup_min_width": 50,
            "show_loading": false,
            "subitems": [],
            "tile_size": 256,
            "tms": false,
            "url": "https://stamen-tiles-a.a.ssl.fastly.net/watercolor/{z}/{x}/{y}.jpg",
            "visible": true,
            "zoom_offset": 0
          }
        },
        "2a27543bce614604bf8c50b49539ea77": {
          "model_module": "jupyter-leaflet",
          "model_name": "LeafletTileLayerModel",
          "model_module_version": "^0.17",
          "state": {
            "_model_module": "jupyter-leaflet",
            "_model_module_version": "^0.17",
            "_model_name": "LeafletTileLayerModel",
            "_view_count": null,
            "_view_module": "jupyter-leaflet",
            "_view_module_version": "^0.17",
            "_view_name": "LeafletTileLayerView",
            "attribution": null,
            "base": false,
            "bottom": true,
            "bounds": null,
            "detect_retina": false,
            "loading": false,
            "max_native_zoom": null,
            "max_zoom": 18,
            "min_native_zoom": null,
            "min_zoom": 0,
            "name": "NDVI mosaic",
            "no_wrap": false,
            "opacity": 1,
            "options": [
              "attribution",
              "bounds",
              "detect_retina",
              "max_native_zoom",
              "max_zoom",
              "min_native_zoom",
              "min_zoom",
              "no_wrap",
              "tile_size",
              "tms",
              "zoom_offset"
            ],
            "pane": "",
            "popup": null,
            "popup_max_height": null,
            "popup_max_width": 300,
            "popup_min_width": 50,
            "show_loading": false,
            "subitems": [],
            "tile_size": 256,
            "tms": false,
            "url": "https://earthengine.googleapis.com/v1alpha/projects/earthengine-legacy/maps/f2ab46e1bd6b1d616a533b1034365ccf-db6269ba84ba0e1a35a90578e0c7e667/tiles/{z}/{x}/{y}",
            "visible": true,
            "zoom_offset": 0
          }
        },
        "28d7e113e856440ab38f1ccc2cb1720b": {
          "model_module": "@jupyter-widgets/base",
          "model_name": "LayoutModel",
          "model_module_version": "1.2.0",
          "state": {
            "_model_module": "@jupyter-widgets/base",
            "_model_module_version": "1.2.0",
            "_model_name": "LayoutModel",
            "_view_count": null,
            "_view_module": "@jupyter-widgets/base",
            "_view_module_version": "1.2.0",
            "_view_name": "LayoutView",
            "align_content": null,
            "align_items": null,
            "align_self": null,
            "border": null,
            "bottom": null,
            "display": null,
            "flex": null,
            "flex_flow": null,
            "grid_area": null,
            "grid_auto_columns": null,
            "grid_auto_flow": null,
            "grid_auto_rows": null,
            "grid_column": null,
            "grid_gap": null,
            "grid_row": null,
            "grid_template_areas": null,
            "grid_template_columns": null,
            "grid_template_rows": null,
            "height": null,
            "justify_content": null,
            "justify_items": null,
            "left": null,
            "margin": null,
            "max_height": null,
            "max_width": null,
            "min_height": null,
            "min_width": null,
            "object_fit": null,
            "object_position": null,
            "order": null,
            "overflow": null,
            "overflow_x": null,
            "overflow_y": null,
            "padding": null,
            "right": null,
            "top": null,
            "visibility": null,
            "width": "100%"
          }
        },
        "26010efbb3e340c1875f448c33d33980": {
          "model_module": "jupyter-leaflet",
          "model_name": "LeafletMapStyleModel",
          "model_module_version": "^0.17",
          "state": {
            "_model_module": "jupyter-leaflet",
            "_model_module_version": "^0.17",
            "_model_name": "LeafletMapStyleModel",
            "_view_count": null,
            "_view_module": "@jupyter-widgets/base",
            "_view_module_version": "1.2.0",
            "_view_name": "StyleView",
            "cursor": "grab"
          }
        },
        "b676324d9aa04727aee66a708dd47816": {
          "model_module": "jupyter-leaflet",
          "model_name": "LeafletMapModel",
          "model_module_version": "^0.17",
          "state": {
            "_dom_classes": [],
            "_model_module": "jupyter-leaflet",
            "_model_module_version": "^0.17",
            "_model_name": "LeafletMapModel",
            "_view_count": null,
            "_view_module": "jupyter-leaflet",
            "_view_module_version": "^0.17",
            "_view_name": "LeafletMapView",
            "bottom": 25612,
            "bounce_at_zoom_limits": true,
            "box_zoom": true,
            "center": [
              37.4225866,
              -122.0648754
            ],
            "close_popup_on_click": true,
            "controls": [
              "IPY_MODEL_8592fcc89b0d496e85cfcc4f6d06e5a1",
              "IPY_MODEL_991b594c5b7f496e8942857cac380f35",
              "IPY_MODEL_78edc1cba0ca4c1fb2930020f4e4ae5b"
            ],
            "crs": {
              "name": "EPSG3857",
              "custom": false
            },
            "default_style": "IPY_MODEL_7f536789cb6248539e0797997dc014a2",
            "double_click_zoom": true,
            "dragging": true,
            "dragging_style": "IPY_MODEL_a13b7e27535142079c5ded728446aeb5",
            "east": -119.31701660156251,
            "fullscreen": false,
            "inertia": true,
            "inertia_deceleration": 3000,
            "inertia_max_speed": 1500,
            "interpolation": "bilinear",
            "keyboard": true,
            "keyboard_pan_offset": 80,
            "keyboard_zoom_offset": 1,
            "layers": [
              "IPY_MODEL_ff4ef87c46c642b38078b8a2a8859945",
              "IPY_MODEL_6a27b805b74c4b44b3b711acd8d3a328"
            ],
            "layout": "IPY_MODEL_e0752788a13d4d9ca408e8c053dbfb71",
            "left": 10046,
            "max_zoom": null,
            "min_zoom": null,
            "modisdate": "2023-03-13",
            "north": 38.28993659801203,
            "options": [
              "bounce_at_zoom_limits",
              "box_zoom",
              "center",
              "close_popup_on_click",
              "double_click_zoom",
              "dragging",
              "fullscreen",
              "inertia",
              "inertia_deceleration",
              "inertia_max_speed",
              "interpolation",
              "keyboard",
              "keyboard_pan_offset",
              "keyboard_zoom_offset",
              "max_zoom",
              "min_zoom",
              "prefer_canvas",
              "scroll_wheel_zoom",
              "tap",
              "tap_tolerance",
              "touch_zoom",
              "world_copy_jump",
              "zoom",
              "zoom_animation_threshold",
              "zoom_delta",
              "zoom_snap"
            ],
            "panes": {},
            "prefer_canvas": false,
            "right": 11047,
            "scroll_wheel_zoom": false,
            "south": 36.54494944148322,
            "style": "IPY_MODEL_d2d53f2497e049beb4b26d57698d95a4",
            "tap": true,
            "tap_tolerance": 15,
            "top": 25212,
            "touch_zoom": true,
            "west": -124.81567382812501,
            "window_url": "https://us929lgwa6-496ff2e9c6d22116-0-colab.googleusercontent.com/outputframe.html?vrz=colab-20230309-060141-RC01_515373326",
            "world_copy_jump": false,
            "zoom": 8,
            "zoom_animation_threshold": 4,
            "zoom_delta": 1,
            "zoom_snap": 1
          }
        },
        "8592fcc89b0d496e85cfcc4f6d06e5a1": {
          "model_module": "jupyter-leaflet",
          "model_name": "LeafletZoomControlModel",
          "model_module_version": "^0.17",
          "state": {
            "_model_module": "jupyter-leaflet",
            "_model_module_version": "^0.17",
            "_model_name": "LeafletZoomControlModel",
            "_view_count": null,
            "_view_module": "jupyter-leaflet",
            "_view_module_version": "^0.17",
            "_view_name": "LeafletZoomControlView",
            "options": [
              "position",
              "zoom_in_text",
              "zoom_in_title",
              "zoom_out_text",
              "zoom_out_title"
            ],
            "position": "topleft",
            "zoom_in_text": "+",
            "zoom_in_title": "Zoom in",
            "zoom_out_text": "-",
            "zoom_out_title": "Zoom out"
          }
        },
        "991b594c5b7f496e8942857cac380f35": {
          "model_module": "jupyter-leaflet",
          "model_name": "LeafletAttributionControlModel",
          "model_module_version": "^0.17",
          "state": {
            "_model_module": "jupyter-leaflet",
            "_model_module_version": "^0.17",
            "_model_name": "LeafletAttributionControlModel",
            "_view_count": null,
            "_view_module": "jupyter-leaflet",
            "_view_module_version": "^0.17",
            "_view_name": "LeafletAttributionControlView",
            "options": [
              "position",
              "prefix"
            ],
            "position": "bottomright",
            "prefix": "ipyleaflet"
          }
        },
        "78edc1cba0ca4c1fb2930020f4e4ae5b": {
          "model_module": "jupyter-leaflet",
          "model_name": "LeafletLayersControlModel",
          "model_module_version": "^0.17",
          "state": {
            "_model_module": "jupyter-leaflet",
            "_model_module_version": "^0.17",
            "_model_name": "LeafletLayersControlModel",
            "_view_count": null,
            "_view_module": "jupyter-leaflet",
            "_view_module_version": "^0.17",
            "_view_name": "LeafletLayersControlView",
            "options": [
              "position"
            ],
            "position": "topright"
          }
        },
        "7f536789cb6248539e0797997dc014a2": {
          "model_module": "jupyter-leaflet",
          "model_name": "LeafletMapStyleModel",
          "model_module_version": "^0.17",
          "state": {
            "_model_module": "jupyter-leaflet",
            "_model_module_version": "^0.17",
            "_model_name": "LeafletMapStyleModel",
            "_view_count": null,
            "_view_module": "@jupyter-widgets/base",
            "_view_module_version": "1.2.0",
            "_view_name": "StyleView",
            "cursor": "crosshair"
          }
        },
        "a13b7e27535142079c5ded728446aeb5": {
          "model_module": "jupyter-leaflet",
          "model_name": "LeafletMapStyleModel",
          "model_module_version": "^0.17",
          "state": {
            "_model_module": "jupyter-leaflet",
            "_model_module_version": "^0.17",
            "_model_name": "LeafletMapStyleModel",
            "_view_count": null,
            "_view_module": "@jupyter-widgets/base",
            "_view_module_version": "1.2.0",
            "_view_name": "StyleView",
            "cursor": "move"
          }
        },
        "ff4ef87c46c642b38078b8a2a8859945": {
          "model_module": "jupyter-leaflet",
          "model_name": "LeafletTileLayerModel",
          "model_module_version": "^0.17",
          "state": {
            "_model_module": "jupyter-leaflet",
            "_model_module_version": "^0.17",
            "_model_name": "LeafletTileLayerModel",
            "_view_count": null,
            "_view_module": "jupyter-leaflet",
            "_view_module_version": "^0.17",
            "_view_name": "LeafletTileLayerView",
            "attribution": "Map tiles by <a href=\"http://stamen.com\">Stamen Design</a>, <a href=\"http://creativecommons.org/licenses/by/3.0\">CC BY 3.0</a> &mdash; Map data &copy; <a href=\"https://www.openstreetmap.org/copyright\">OpenStreetMap</a> contributors",
            "base": true,
            "bottom": true,
            "bounds": null,
            "detect_retina": false,
            "loading": false,
            "max_native_zoom": null,
            "max_zoom": 16,
            "min_native_zoom": null,
            "min_zoom": 1,
            "name": "Stamen.Watercolor",
            "no_wrap": false,
            "opacity": 1,
            "options": [
              "attribution",
              "bounds",
              "detect_retina",
              "max_native_zoom",
              "max_zoom",
              "min_native_zoom",
              "min_zoom",
              "no_wrap",
              "tile_size",
              "tms",
              "zoom_offset"
            ],
            "pane": "",
            "popup": null,
            "popup_max_height": null,
            "popup_max_width": 300,
            "popup_min_width": 50,
            "show_loading": false,
            "subitems": [],
            "tile_size": 256,
            "tms": false,
            "url": "https://stamen-tiles-a.a.ssl.fastly.net/watercolor/{z}/{x}/{y}.jpg",
            "visible": true,
            "zoom_offset": 0
          }
        },
        "6a27b805b74c4b44b3b711acd8d3a328": {
          "model_module": "jupyter-leaflet",
          "model_name": "LeafletTileLayerModel",
          "model_module_version": "^0.17",
          "state": {
            "_model_module": "jupyter-leaflet",
            "_model_module_version": "^0.17",
            "_model_name": "LeafletTileLayerModel",
            "_view_count": null,
            "_view_module": "jupyter-leaflet",
            "_view_module_version": "^0.17",
            "_view_name": "LeafletTileLayerView",
            "attribution": null,
            "base": false,
            "bottom": true,
            "bounds": null,
            "detect_retina": false,
            "loading": false,
            "max_native_zoom": null,
            "max_zoom": 18,
            "min_native_zoom": null,
            "min_zoom": 0,
            "name": "greenest pixel mosaic",
            "no_wrap": false,
            "opacity": 1,
            "options": [
              "attribution",
              "bounds",
              "detect_retina",
              "max_native_zoom",
              "max_zoom",
              "min_native_zoom",
              "min_zoom",
              "no_wrap",
              "tile_size",
              "tms",
              "zoom_offset"
            ],
            "pane": "",
            "popup": null,
            "popup_max_height": null,
            "popup_max_width": 300,
            "popup_min_width": 50,
            "show_loading": false,
            "subitems": [],
            "tile_size": 256,
            "tms": false,
            "url": "https://earthengine.googleapis.com/v1alpha/projects/earthengine-legacy/maps/6fb72fad88bb144892573a4ece646930-f404d2af52c209e3ca7eb7fa64238a11/tiles/{z}/{x}/{y}",
            "visible": true,
            "zoom_offset": 0
          }
        },
        "e0752788a13d4d9ca408e8c053dbfb71": {
          "model_module": "@jupyter-widgets/base",
          "model_name": "LayoutModel",
          "model_module_version": "1.2.0",
          "state": {
            "_model_module": "@jupyter-widgets/base",
            "_model_module_version": "1.2.0",
            "_model_name": "LayoutModel",
            "_view_count": null,
            "_view_module": "@jupyter-widgets/base",
            "_view_module_version": "1.2.0",
            "_view_name": "LayoutView",
            "align_content": null,
            "align_items": null,
            "align_self": null,
            "border": null,
            "bottom": null,
            "display": null,
            "flex": null,
            "flex_flow": null,
            "grid_area": null,
            "grid_auto_columns": null,
            "grid_auto_flow": null,
            "grid_auto_rows": null,
            "grid_column": null,
            "grid_gap": null,
            "grid_row": null,
            "grid_template_areas": null,
            "grid_template_columns": null,
            "grid_template_rows": null,
            "height": null,
            "justify_content": null,
            "justify_items": null,
            "left": null,
            "margin": null,
            "max_height": null,
            "max_width": null,
            "min_height": null,
            "min_width": null,
            "object_fit": null,
            "object_position": null,
            "order": null,
            "overflow": null,
            "overflow_x": null,
            "overflow_y": null,
            "padding": null,
            "right": null,
            "top": null,
            "visibility": null,
            "width": "100%"
          }
        },
        "d2d53f2497e049beb4b26d57698d95a4": {
          "model_module": "jupyter-leaflet",
          "model_name": "LeafletMapStyleModel",
          "model_module_version": "^0.17",
          "state": {
            "_model_module": "jupyter-leaflet",
            "_model_module_version": "^0.17",
            "_model_name": "LeafletMapStyleModel",
            "_view_count": null,
            "_view_module": "@jupyter-widgets/base",
            "_view_module_version": "1.2.0",
            "_view_name": "StyleView",
            "cursor": "grab"
          }
        },
        "3f7b1d6fc9e643bbb398341dd179770e": {
          "model_module": "jupyter-leaflet",
          "model_name": "LeafletMapModel",
          "model_module_version": "^0.17",
          "state": {
            "_dom_classes": [],
            "_model_module": "jupyter-leaflet",
            "_model_module_version": "^0.17",
            "_model_name": "LeafletMapModel",
            "_view_count": null,
            "_view_module": "jupyter-leaflet",
            "_view_module_version": "^0.17",
            "_view_name": "LeafletMapView",
            "bottom": 2248,
            "bounce_at_zoom_limits": true,
            "box_zoom": true,
            "center": [
              0,
              0.0439453125
            ],
            "close_popup_on_click": true,
            "controls": [
              "IPY_MODEL_062575fb2b484c0eada91bcc7c7e919b",
              "IPY_MODEL_d387c09a5c4b4db7a88224dc70a5f581",
              "IPY_MODEL_27ee5d101fd74028bd29b69c750d160c"
            ],
            "crs": {
              "name": "EPSG3857",
              "custom": false
            },
            "default_style": "IPY_MODEL_35f8881dd7b740ac91a3f3353c978465",
            "double_click_zoom": true,
            "dragging": true,
            "dragging_style": "IPY_MODEL_e61722e555484e778be3fe29baee583a",
            "east": 44.03320312500001,
            "fullscreen": false,
            "inertia": true,
            "inertia_deceleration": 3000,
            "inertia_max_speed": 1500,
            "interpolation": "bilinear",
            "keyboard": true,
            "keyboard_pan_offset": 80,
            "keyboard_zoom_offset": 1,
            "layers": [
              "IPY_MODEL_30482dfb8fe04248bfd933500da7d476",
              "IPY_MODEL_c1809d005baa4e158bdd667631ce159c",
              "IPY_MODEL_1c4d36fab9424433ae9df44766fbae78"
            ],
            "layout": "IPY_MODEL_dce2dbf45a8547379afc204efb49e0a5",
            "left": 1548,
            "max_zoom": null,
            "min_zoom": null,
            "modisdate": "2023-03-13",
            "north": 17.308687886770034,
            "options": [
              "bounce_at_zoom_limits",
              "box_zoom",
              "center",
              "close_popup_on_click",
              "double_click_zoom",
              "dragging",
              "fullscreen",
              "inertia",
              "inertia_deceleration",
              "inertia_max_speed",
              "interpolation",
              "keyboard",
              "keyboard_pan_offset",
              "keyboard_zoom_offset",
              "max_zoom",
              "min_zoom",
              "prefer_canvas",
              "scroll_wheel_zoom",
              "tap",
              "tap_tolerance",
              "touch_zoom",
              "world_copy_jump",
              "zoom",
              "zoom_animation_threshold",
              "zoom_delta",
              "zoom_snap"
            ],
            "panes": {},
            "prefer_canvas": false,
            "right": 2549,
            "scroll_wheel_zoom": false,
            "south": -17.308687886770024,
            "style": "IPY_MODEL_35f8881dd7b740ac91a3f3353c978465",
            "tap": true,
            "tap_tolerance": 15,
            "top": 1848,
            "touch_zoom": true,
            "west": -43.94531250000001,
            "window_url": "https://us929lgwa6-496ff2e9c6d22116-0-colab.googleusercontent.com/outputframe.html?vrz=colab-20230309-060141-RC01_515373326",
            "world_copy_jump": false,
            "zoom": 4,
            "zoom_animation_threshold": 4,
            "zoom_delta": 1,
            "zoom_snap": 1
          }
        },
        "062575fb2b484c0eada91bcc7c7e919b": {
          "model_module": "jupyter-leaflet",
          "model_name": "LeafletZoomControlModel",
          "model_module_version": "^0.17",
          "state": {
            "_model_module": "jupyter-leaflet",
            "_model_module_version": "^0.17",
            "_model_name": "LeafletZoomControlModel",
            "_view_count": null,
            "_view_module": "jupyter-leaflet",
            "_view_module_version": "^0.17",
            "_view_name": "LeafletZoomControlView",
            "options": [
              "position",
              "zoom_in_text",
              "zoom_in_title",
              "zoom_out_text",
              "zoom_out_title"
            ],
            "position": "topleft",
            "zoom_in_text": "+",
            "zoom_in_title": "Zoom in",
            "zoom_out_text": "-",
            "zoom_out_title": "Zoom out"
          }
        },
        "d387c09a5c4b4db7a88224dc70a5f581": {
          "model_module": "jupyter-leaflet",
          "model_name": "LeafletAttributionControlModel",
          "model_module_version": "^0.17",
          "state": {
            "_model_module": "jupyter-leaflet",
            "_model_module_version": "^0.17",
            "_model_name": "LeafletAttributionControlModel",
            "_view_count": null,
            "_view_module": "jupyter-leaflet",
            "_view_module_version": "^0.17",
            "_view_name": "LeafletAttributionControlView",
            "options": [
              "position",
              "prefix"
            ],
            "position": "bottomright",
            "prefix": "ipyleaflet"
          }
        },
        "27ee5d101fd74028bd29b69c750d160c": {
          "model_module": "jupyter-leaflet",
          "model_name": "LeafletLayersControlModel",
          "model_module_version": "^0.17",
          "state": {
            "_model_module": "jupyter-leaflet",
            "_model_module_version": "^0.17",
            "_model_name": "LeafletLayersControlModel",
            "_view_count": null,
            "_view_module": "jupyter-leaflet",
            "_view_module_version": "^0.17",
            "_view_name": "LeafletLayersControlView",
            "options": [
              "position"
            ],
            "position": "topright"
          }
        },
        "35f8881dd7b740ac91a3f3353c978465": {
          "model_module": "jupyter-leaflet",
          "model_name": "LeafletMapStyleModel",
          "model_module_version": "^0.17",
          "state": {
            "_model_module": "jupyter-leaflet",
            "_model_module_version": "^0.17",
            "_model_name": "LeafletMapStyleModel",
            "_view_count": null,
            "_view_module": "@jupyter-widgets/base",
            "_view_module_version": "1.2.0",
            "_view_name": "StyleView",
            "cursor": "crosshair"
          }
        },
        "e61722e555484e778be3fe29baee583a": {
          "model_module": "jupyter-leaflet",
          "model_name": "LeafletMapStyleModel",
          "model_module_version": "^0.17",
          "state": {
            "_model_module": "jupyter-leaflet",
            "_model_module_version": "^0.17",
            "_model_name": "LeafletMapStyleModel",
            "_view_count": null,
            "_view_module": "@jupyter-widgets/base",
            "_view_module_version": "1.2.0",
            "_view_name": "StyleView",
            "cursor": "move"
          }
        },
        "30482dfb8fe04248bfd933500da7d476": {
          "model_module": "jupyter-leaflet",
          "model_name": "LeafletTileLayerModel",
          "model_module_version": "^0.17",
          "state": {
            "_model_module": "jupyter-leaflet",
            "_model_module_version": "^0.17",
            "_model_name": "LeafletTileLayerModel",
            "_view_count": null,
            "_view_module": "jupyter-leaflet",
            "_view_module_version": "^0.17",
            "_view_name": "LeafletTileLayerView",
            "attribution": "Map tiles by <a href=\"http://stamen.com\">Stamen Design</a>, <a href=\"http://creativecommons.org/licenses/by/3.0\">CC BY 3.0</a> &mdash; Map data &copy; <a href=\"https://www.openstreetmap.org/copyright\">OpenStreetMap</a> contributors",
            "base": true,
            "bottom": true,
            "bounds": null,
            "detect_retina": false,
            "loading": false,
            "max_native_zoom": null,
            "max_zoom": 16,
            "min_native_zoom": null,
            "min_zoom": 1,
            "name": "Stamen.Watercolor",
            "no_wrap": false,
            "opacity": 1,
            "options": [
              "attribution",
              "bounds",
              "detect_retina",
              "max_native_zoom",
              "max_zoom",
              "min_native_zoom",
              "min_zoom",
              "no_wrap",
              "tile_size",
              "tms",
              "zoom_offset"
            ],
            "pane": "",
            "popup": null,
            "popup_max_height": null,
            "popup_max_width": 300,
            "popup_min_width": 50,
            "show_loading": false,
            "subitems": [],
            "tile_size": 256,
            "tms": false,
            "url": "https://stamen-tiles-a.a.ssl.fastly.net/watercolor/{z}/{x}/{y}.jpg",
            "visible": true,
            "zoom_offset": 0
          }
        },
        "c1809d005baa4e158bdd667631ce159c": {
          "model_module": "jupyter-leaflet",
          "model_name": "LeafletTileLayerModel",
          "model_module_version": "^0.17",
          "state": {
            "_model_module": "jupyter-leaflet",
            "_model_module_version": "^0.17",
            "_model_name": "LeafletTileLayerModel",
            "_view_count": null,
            "_view_module": "jupyter-leaflet",
            "_view_module_version": "^0.17",
            "_view_name": "LeafletTileLayerView",
            "attribution": null,
            "base": false,
            "bottom": true,
            "bounds": null,
            "detect_retina": false,
            "loading": false,
            "max_native_zoom": null,
            "max_zoom": 18,
            "min_native_zoom": null,
            "min_zoom": 0,
            "name": "Bad composite",
            "no_wrap": false,
            "opacity": 1,
            "options": [
              "attribution",
              "bounds",
              "detect_retina",
              "max_native_zoom",
              "max_zoom",
              "min_native_zoom",
              "min_zoom",
              "no_wrap",
              "tile_size",
              "tms",
              "zoom_offset"
            ],
            "pane": "",
            "popup": null,
            "popup_max_height": null,
            "popup_max_width": 300,
            "popup_min_width": 50,
            "show_loading": false,
            "subitems": [],
            "tile_size": 256,
            "tms": false,
            "url": "https://earthengine.googleapis.com/v1alpha/projects/earthengine-legacy/maps/1696c8e02610b8fff9f7a93582e68f9a-b58e6f8b5e17ff96a3bc5f3e6bfaace2/tiles/{z}/{x}/{y}",
            "visible": true,
            "zoom_offset": 0
          }
        },
        "1c4d36fab9424433ae9df44766fbae78": {
          "model_module": "jupyter-leaflet",
          "model_name": "LeafletTileLayerModel",
          "model_module_version": "^0.17",
          "state": {
            "_model_module": "jupyter-leaflet",
            "_model_module_version": "^0.17",
            "_model_name": "LeafletTileLayerModel",
            "_view_count": null,
            "_view_module": "jupyter-leaflet",
            "_view_module_version": "^0.17",
            "_view_name": "LeafletTileLayerView",
            "attribution": null,
            "base": false,
            "bottom": true,
            "bounds": null,
            "detect_retina": false,
            "loading": false,
            "max_native_zoom": null,
            "max_zoom": 18,
            "min_native_zoom": null,
            "min_zoom": 0,
            "name": "Good composite",
            "no_wrap": false,
            "opacity": 1,
            "options": [
              "attribution",
              "bounds",
              "detect_retina",
              "max_native_zoom",
              "max_zoom",
              "min_native_zoom",
              "min_zoom",
              "no_wrap",
              "tile_size",
              "tms",
              "zoom_offset"
            ],
            "pane": "",
            "popup": null,
            "popup_max_height": null,
            "popup_max_width": 300,
            "popup_min_width": 50,
            "show_loading": false,
            "subitems": [],
            "tile_size": 256,
            "tms": false,
            "url": "https://earthengine.googleapis.com/v1alpha/projects/earthengine-legacy/maps/d008432f85e1b76940c7207055cff815-331ceaf7c3019c7069522749bbf84f7a/tiles/{z}/{x}/{y}",
            "visible": true,
            "zoom_offset": 0
          }
        },
        "dce2dbf45a8547379afc204efb49e0a5": {
          "model_module": "@jupyter-widgets/base",
          "model_name": "LayoutModel",
          "model_module_version": "1.2.0",
          "state": {
            "_model_module": "@jupyter-widgets/base",
            "_model_module_version": "1.2.0",
            "_model_name": "LayoutModel",
            "_view_count": null,
            "_view_module": "@jupyter-widgets/base",
            "_view_module_version": "1.2.0",
            "_view_name": "LayoutView",
            "align_content": null,
            "align_items": null,
            "align_self": null,
            "border": null,
            "bottom": null,
            "display": null,
            "flex": null,
            "flex_flow": null,
            "grid_area": null,
            "grid_auto_columns": null,
            "grid_auto_flow": null,
            "grid_auto_rows": null,
            "grid_column": null,
            "grid_gap": null,
            "grid_row": null,
            "grid_template_areas": null,
            "grid_template_columns": null,
            "grid_template_rows": null,
            "height": null,
            "justify_content": null,
            "justify_items": null,
            "left": null,
            "margin": null,
            "max_height": null,
            "max_width": null,
            "min_height": null,
            "min_width": null,
            "object_fit": null,
            "object_position": null,
            "order": null,
            "overflow": null,
            "overflow_x": null,
            "overflow_y": null,
            "padding": null,
            "right": null,
            "top": null,
            "visibility": null,
            "width": "100%"
          }
        },
        "f1c87c44282a41c2ad12030d5d54d713": {
          "model_module": "jupyter-leaflet",
          "model_name": "LeafletMapStyleModel",
          "model_module_version": "^0.17",
          "state": {
            "_model_module": "jupyter-leaflet",
            "_model_module_version": "^0.17",
            "_model_name": "LeafletMapStyleModel",
            "_view_count": null,
            "_view_module": "@jupyter-widgets/base",
            "_view_module_version": "1.2.0",
            "_view_name": "StyleView",
            "cursor": "grab"
          }
        }
      }
    }
  },
  "cells": [
    {
      "cell_type": "markdown",
      "source": [
        "# 1. Setup"
      ],
      "metadata": {
        "id": "HoFyBgXZOpO9"
      }
    },
    {
      "cell_type": "markdown",
      "source": [
        "## 1.1 Authentication\n"
      ],
      "metadata": {
        "id": "JLwFCOj1KITp"
      }
    },
    {
      "cell_type": "code",
      "execution_count": 3,
      "metadata": {
        "id": "XAiaPG4u63XN",
        "colab": {
          "base_uri": "https://localhost:8080/"
        },
        "outputId": "5509f46a-563e-4560-ad6c-83eb2ba725b2"
      },
      "outputs": [
        {
          "output_type": "stream",
          "name": "stdout",
          "text": [
            "Authenticating using Notebook auth...\n",
            "To authorize access needed by Earth Engine, open the following URL in a web browser and follow the instructions. If the web browser does not start automatically, please manually browse the URL below.\n",
            "\n",
            "    https://code.earthengine.google.com/client-auth?scopes=https%3A//www.googleapis.com/auth/earthengine%20https%3A//www.googleapis.com/auth/devstorage.full_control&request_id=mDQjETqkQ_UVrdIn4tXv7yCMx628W7zlybUHfuemjkM&tc=kaFtdpONyXjh-JrxKglTlmwU1mShTZqLoOAGiKIzu6U&cc=fC56jp98knKOnC03Mgvl-XBPyMZAmEmz2nmPX8mqZq0\n",
            "\n",
            "The authorization workflow will generate a code, which you should paste in the box below.\n",
            "Enter verification code: 4/1AWtgzh7gPxFn13qkawRMoauajqB8H-vICKy5g-yI453Z28VmRnOLhxpzKTQ\n",
            "\n",
            "Successfully saved authorization token.\n",
            "✓ Successfully initialized!\n"
          ]
        }
      ],
      "source": [
        "COLAB_AUTH_FLOW_CLOUD_PROJECT_FOR_API_CALLS = None\n",
        "\n",
        "import ee\n",
        "import google\n",
        "import os\n",
        "\n",
        "if COLAB_AUTH_FLOW_CLOUD_PROJECT_FOR_API_CALLS is None:\n",
        "  print(\"Authenticating using Notebook auth...\")\n",
        "  if os.path.exists(ee.oauth.get_credentials_path()) is False:\n",
        "    ee.Authenticate()\n",
        "  else:\n",
        "    print('\\N{check mark} Previously created authentication credentials were found.')\n",
        "  ee.Initialize()\n",
        "else:\n",
        "  print('Authenticating using Colab auth...')\n",
        "  #Authenticate to populate Application Defualt Credentials in Colab VM.\n",
        "  google.colab.auth.authenticate_user()\n",
        "  # Create credentials needed for accesiing Earth Engine.\n",
        "  credentials, auth_project_id = google.auth.defualt()\n",
        "  #Initialize Earth Engine.\n",
        "  ee.Initialize(credentials, project = COLAB_AUTH_FLOW_CLOUD_PROJECT_FOR_API_CALLS)\n",
        "print('\\N{check mark} Successfully initialized!')"
      ]
    },
    {
      "cell_type": "markdown",
      "source": [
        "## 1.2 Install & Import Python Packages\n",
        "* `ee_jupyter`\n",
        "* `altair`\n",
        "* `ipywidgets`\n",
        "* `Ipython`\n",
        "* `math`\n",
        "* `pandas`\n",
        "* `pprint`"
      ],
      "metadata": {
        "id": "4QymEB5bKRCa"
      }
    },
    {
      "cell_type": "code",
      "source": [
        "try:\n",
        "  import ee_jupyter\n",
        "except ModuleNotFoundError:\n",
        "  result = os.system('pip -q install earthengine-jupyter')\n",
        "  import ee_jupyter\n",
        "  \n",
        "print(f'ee_jupyter (version {ee_jupyter.__version__})'\n",
        "  f'is installed.')\n"
      ],
      "metadata": {
        "colab": {
          "base_uri": "https://localhost:8080/"
        },
        "id": "iSzwVQcU83zO",
        "outputId": "01b9821d-bc91-422e-f1e9-d479a21e017b"
      },
      "execution_count": 4,
      "outputs": [
        {
          "output_type": "stream",
          "name": "stdout",
          "text": [
            "ee_jupyter (version 0.0.7)is installed.\n"
          ]
        }
      ]
    },
    {
      "cell_type": "code",
      "source": [
        "import altair as alt\n",
        "from ee_jupyter.colab import set_colab_output_cell_height\n",
        "from ee_jupyter.ipyleaflet import Map, Inspector\n",
        "from ee_jupyter.layout import MapWithInspector as MapPlus\n",
        "import ipyleaflet\n",
        "import ipywidgets as widgest\n",
        "from IPython.display import HTML\n",
        "import math\n",
        "import pandas as pd\n",
        "from pprint import pprint "
      ],
      "metadata": {
        "id": "3zMLwl9wKLX3"
      },
      "execution_count": 5,
      "outputs": []
    },
    {
      "cell_type": "markdown",
      "source": [
        "# 2. Visualizing Images and Image Bands"
      ],
      "metadata": {
        "id": "vGttRP9SLqmK"
      }
    },
    {
      "cell_type": "markdown",
      "source": [
        "First, we will explore the Shuttle Radar Topography Mission (STRM) dataset. Each pixel in the STRM dataset represents the elevation fo that point on the Earth, measrured in meteres above sea level. The STRM dataset is a Digital Elevation Model (DEM)."
      ],
      "metadata": {
        "id": "tp3aq7_-L0-5"
      }
    },
    {
      "cell_type": "code",
      "source": [
        "# Instantiate and image object for the STRM elevation dataset.\n",
        "dem = ee.Image('CGIAR/SRTM90_V4') # ee.Image(imageId)"
      ],
      "metadata": {
        "id": "bkDVOhY8Lnje"
      },
      "execution_count": null,
      "outputs": []
    },
    {
      "cell_type": "code",
      "source": [
        "set_colab_output_cell_height(300)\n",
        "print(dem.getInfo())"
      ],
      "metadata": {
        "colab": {
          "base_uri": "https://localhost:8080/",
          "height": 54
        },
        "id": "7xSdA_KOMP6y",
        "outputId": "8f88ccf8-199f-4584-b349-150c51c875ae"
      },
      "execution_count": null,
      "outputs": [
        {
          "output_type": "display_data",
          "data": {
            "text/plain": [
              "<IPython.core.display.Javascript object>"
            ],
            "application/javascript": [
              "google.colab.output.setIframeHeight(0, true, {maxHeight: 300})"
            ]
          },
          "metadata": {}
        },
        {
          "output_type": "stream",
          "name": "stdout",
          "text": [
            "{'type': 'Image', 'bands': [{'id': 'elevation', 'data_type': {'type': 'PixelType', 'precision': 'int', 'min': -32768, 'max': 32767}, 'dimensions': [432000, 144000], 'crs': 'EPSG:4326', 'crs_transform': [0.000833333333333, 0, -180, 0, -0.000833333333333, 60]}], 'id': 'CGIAR/SRTM90_V4', 'version': 1641990053291277, 'properties': {'system:visualization_0_min': '-100.0', 'type_name': 'Image', 'keywords': ['cgiar', 'dem', 'elevation', 'geophysical', 'srtm', 'topography'], 'thumb': 'https://mw1.google.com/ges/dd/images/SRTM90_V4_thumb.png', 'description': '<p>The Shuttle Radar Topography Mission (SRTM) digital\\nelevation dataset was originally produced to provide consistent,\\nhigh-quality elevation data at near global scope. This version\\nof the SRTM digital elevation data has been processed to fill data\\nvoids, and to facilitate its ease of use.</p><p><b>Provider: <a href=\"https://srtm.csi.cgiar.org/\">NASA/CGIAR</a></b><br><p><b>Bands</b><table class=\"eecat\"><tr><th scope=\"col\">Name</th><th scope=\"col\">Description</th></tr><tr><td>elevation</td><td><p>Elevation</p></td></tr></table><p><b>Terms of Use</b><br><p>DISTRIBUTION. Users are prohibited from any commercial, non-free resale, or\\nredistribution without explicit written permission from CIAT. Users should\\nacknowledge CIAT as the source used in the creation of any reports,\\npublications, new datasets, derived products, or services resulting from the\\nuse of this dataset. CIAT also request reprints of any publications and\\nnotification of any redistributing efforts. For commercial access to\\nthe data, send requests to <a href=\"mailto:a.jarvis@cgiar.org\">Andy Jarvis</a>.</p><p>NO WARRANTY OR LIABILITY. CIAT provides these data without any warranty of\\nany kind whatsoever, either express or implied, including warranties of\\nmerchantability and fitness for a particular purpose. CIAT shall not be\\nliable for incidental, consequential, or special damages arising out of\\nthe use of any data.</p><p>ACKNOWLEDGMENT AND CITATION. Any users are kindly asked to cite this data\\nin any published material produced using this data, and if possible link\\nweb pages to the <a href=\"https://srtm.csi.cgiar.org\">CIAT-CSI SRTM website</a>.</p><p><b>Suggested citation(s)</b><ul><li><p>Jarvis, A., H.I. Reuter, A. Nelson, E. Guevara. 2008. Hole-filled\\nSRTM for the globe Version 4, available from the CGIAR-CSI SRTM\\n90m Database: https://srtm.csi.cgiar.org.</p></li></ul><style>\\n  table.eecat {\\n  border: 1px solid black;\\n  border-collapse: collapse;\\n  font-size: 13px;\\n  }\\n  table.eecat td, tr, th {\\n  text-align: left; vertical-align: top;\\n  border: 1px solid gray; padding: 3px;\\n  }\\n  td.nobreak { white-space: nowrap; }\\n</style>', 'source_tags': ['cgiar'], 'visualization_0_max': '8000.0', 'title': 'SRTM Digital Elevation Data Version 4', 'product_tags': ['srtm', 'elevation', 'topography', 'dem', 'geophysical'], 'provider': 'NASA/CGIAR', 'visualization_0_min': '-100.0', 'visualization_0_name': 'Elevation', 'date_range': [950227200000, 951177600000], 'system:visualization_0_gamma': 1.6, 'period': 0, 'system:visualization_0_bands': 'elevation', 'system:time_end': 951177600000, 'provider_url': 'https://srtm.csi.cgiar.org/', 'sample': 'https://mw1.google.com/ges/dd/images/SRTM90_V4_sample.png', 'tags': ['cgiar', 'dem', 'elevation', 'geophysical', 'srtm', 'topography'], 'system:time_start': 950227200000, 'system:visualization_0_max': '8000.0', 'system:visualization_0_name': 'Elevation', 'system:asset_size': 18827626666, 'visualization_0_bands': 'elevation'}}\n"
          ]
        }
      ]
    },
    {
      "cell_type": "markdown",
      "source": [
        "## 2.1 Display a Map"
      ],
      "metadata": {
        "id": "0tlogImgNVau"
      }
    },
    {
      "cell_type": "markdown",
      "source": [
        "Let's create an interactive map that is centered on the venue of Geo for Good and then add the STRM dataset layer to the map.\n",
        "\n",
        "First, define coordinates as a list, and then use that to define the inital parameters of the map."
      ],
      "metadata": {
        "id": "OZCPxn-JNZLp"
      }
    },
    {
      "cell_type": "code",
      "source": [
        "# Coordinates of Geo for Good venue in Mountain View\n",
        "location_longlat = [-122.0648754, 37.4225866] #<lon, lat>\n",
        "#location_longlat =  [-82.12995539152003, 38.907393151624156]\n",
        "map_init_params = {\n",
        "    'center' : list(reversed(location_longlat)), # <lat, lon> ordering\n",
        "    'zoom': 10\n",
        "}"
      ],
      "metadata": {
        "id": "rKrNg8RuMWZ0"
      },
      "execution_count": null,
      "outputs": []
    },
    {
      "cell_type": "markdown",
      "source": [
        "Instantiate an interactive map object and display it."
      ],
      "metadata": {
        "id": "3CuS3EMfOTOm"
      }
    },
    {
      "cell_type": "code",
      "source": [
        "map1 = Map(**map_init_params)\n",
        "map1"
      ],
      "metadata": {
        "colab": {
          "base_uri": "https://localhost:8080/",
          "height": 441,
          "referenced_widgets": [
            "591d6773e44f4a349814a4275af74275",
            "b46c057743ab45389094983e22d1a8be",
            "1d8e7cc3eba04948b611b0018c646479",
            "1e7b056e10054379a38e706f6f222fb2",
            "2c145422dc404a8b90eaf5d8eb0cead5",
            "13e411e6aa334256adfba04862990652",
            "29b8d0c8ea7342ab91e0306ad4db2ab0",
            "4502046436104f75bfb39f2aaec3a360",
            "31124f5b9f524a5ba5ae53e521f112b5",
            "710ab17e8e1f4b9cad71e6aab4f30b00"
          ]
        },
        "id": "6F2dwkstNu4W",
        "outputId": "0de3c232-a9e9-41f2-c82b-0fad584ee3d9"
      },
      "execution_count": null,
      "outputs": [
        {
          "output_type": "display_data",
          "data": {
            "text/plain": [
              "Map(center=[37.4225866, -122.0648754], controls=(ZoomControl(options=['position', 'zoom_in_text', 'zoom_in_tit…"
            ],
            "application/vnd.jupyter.widget-view+json": {
              "version_major": 2,
              "version_minor": 0,
              "model_id": "591d6773e44f4a349814a4275af74275"
            }
          },
          "metadata": {
            "application/vnd.jupyter.widget-view+json": {
              "colab": {
                "custom_widget_manager": {
                  "url": "https://ssl.gstatic.com/colaboratory-static/widgets/colab-cdn-widget-manager/b3e629b1971e1542/manager.min.js"
                }
              }
            }
          }
        }
      ]
    },
    {
      "cell_type": "markdown",
      "source": [
        "Add a layer to the map that shows a greyscale visualization of the DEM/evelation dataset. 1000 meters is a reasonable mazimum elevation for Mountain View, but you may want to choose a different value that is appropriate for the region you are viewing."
      ],
      "metadata": {
        "id": "rv0ax22KOxpa"
      }
    },
    {
      "cell_type": "code",
      "source": [
        "map1.addLayer(\n",
        "    dem, \n",
        "    {'min': 0, 'max': 3000, 'palette': ['green', 'yellow', 'orange', 'red']}, \n",
        "    'elevation (greyscale)')"
      ],
      "metadata": {
        "id": "pdxgT6iyObZa"
      },
      "execution_count": null,
      "outputs": []
    },
    {
      "cell_type": "markdown",
      "source": [
        "# Computations using Images"
      ],
      "metadata": {
        "id": "N6PsAGvtQJaq"
      }
    },
    {
      "cell_type": "markdown",
      "source": [
        "It is often useful to process images before displaying them. This section shows one more method of applying an algorithm (`ee.Terrain.slope`) to an image (in this case, `dem`) to create a new (derived) image object (`slope`)."
      ],
      "metadata": {
        "id": "tGjcFqyNRfU4"
      }
    },
    {
      "cell_type": "code",
      "source": [
        "# Apply an algorithm to an image.\n",
        "slope = ee.Terrain.slope(dem)\n",
        "\n",
        "# Display the result.\n",
        "## 1) Instantiate\n",
        "map2a = Map(**map_init_params)\n",
        "## 2) + Elevation Layer\n",
        "map2a.addLayer(dem, {'min':0, 'max':1000}, 'elevation [meters]')\n",
        "## 3) + Slope Layer\n",
        "  # Slope is calcualted in degrees so 30 degress was shoen as the max for this area.\n",
        "  # In general, it is rare to go above 45 degrees.\n",
        "map2a.addLayer(slope, {'min':0, 'max':30}, 'slope [degrees]')"
      ],
      "metadata": {
        "id": "Ps-xLesHQMw_"
      },
      "execution_count": null,
      "outputs": []
    },
    {
      "cell_type": "code",
      "source": [
        "map2a"
      ],
      "metadata": {
        "colab": {
          "base_uri": "https://localhost:8080/",
          "height": 441,
          "referenced_widgets": [
            "9bd2db4de39b453a8f3db53dea771f86",
            "d04955639bc34d1f824f14b670fb9a06",
            "b300a1ab832f462783439eb62cea796a",
            "ef5e3de4ef17471680664f70669a71f5",
            "7f7ec5bbe2bc40e3b2238f23af594d8d",
            "58d18e6609824c708068f5c86fe70942",
            "c339590141da4b2997ce03df65d61eae",
            "16f13f57aa36439d8fe5d3b96fb1809f",
            "09b98ddfb8294eeba9bdc6494f4b53c5",
            "4e521406374c4b3f81bdbd0af91ba593",
            "021ce096f66e4f05bfee84f52e590926"
          ]
        },
        "id": "2L5-48XJScsv",
        "outputId": "1a13ab3a-d604-4388-8f84-fcac9ee3f947"
      },
      "execution_count": null,
      "outputs": [
        {
          "output_type": "display_data",
          "data": {
            "text/plain": [
              "Map(center=[37.4225866, -122.0648754], controls=(ZoomControl(options=['position', 'zoom_in_text', 'zoom_in_tit…"
            ],
            "application/vnd.jupyter.widget-view+json": {
              "version_major": 2,
              "version_minor": 0,
              "model_id": "9bd2db4de39b453a8f3db53dea771f86"
            }
          },
          "metadata": {
            "application/vnd.jupyter.widget-view+json": {
              "colab": {
                "custom_widget_manager": {
                  "url": "https://ssl.gstatic.com/colaboratory-static/widgets/colab-cdn-widget-manager/b3e629b1971e1542/manager.min.js"
                }
              }
            }
          }
        }
      ]
    },
    {
      "cell_type": "markdown",
      "source": [
        "## 3.1 Using a map inspector\n",
        "\n",
        "When working with geospatial (i.e. map-referenced) data, it is often useful to have an *inspector* tool for querying information at a particular point. Most GIS software provides this type of functionality. We will use the `Inspector` object to acheive this. \n",
        "\n",
        "There are two ways to create an inspector:\n",
        "\n",
        "\n",
        "1.   if you already have a map, just instantiate an `Inspector` object and pass the map as a parameter\n",
        "2.   if not, you can create a map with an inspector using `MapPlus`\n",
        "\n"
      ],
      "metadata": {
        "id": "9pYYwqOZQNvq"
      }
    },
    {
      "cell_type": "code",
      "source": [
        "# 1. if already have a map, just instantiate an Inspector object and pass the map\n",
        "inspector2a = Inspector(map2a)\n",
        "widgest.HBox([map2a, inspector2a]) #HBox allows you to display things side by side"
      ],
      "metadata": {
        "colab": {
          "base_uri": "https://localhost:8080/",
          "height": 421,
          "referenced_widgets": [
            "207a417f54244d76802c7b31f98cad9c",
            "9bd2db4de39b453a8f3db53dea771f86",
            "4db00c48e73c4f21963008d473eb1170",
            "90eedff8bb0247a78c46d58f3ac209d5",
            "d04955639bc34d1f824f14b670fb9a06",
            "b300a1ab832f462783439eb62cea796a",
            "ef5e3de4ef17471680664f70669a71f5",
            "7f7ec5bbe2bc40e3b2238f23af594d8d",
            "58d18e6609824c708068f5c86fe70942",
            "c339590141da4b2997ce03df65d61eae",
            "16f13f57aa36439d8fe5d3b96fb1809f",
            "09b98ddfb8294eeba9bdc6494f4b53c5",
            "4e521406374c4b3f81bdbd0af91ba593",
            "021ce096f66e4f05bfee84f52e590926",
            "e6ddd0a5c3b44e329e726262e9d011f1",
            "eb3b1ba09e6443feb4abd4440905b9bb",
            "596325ed24dc4bf78a9ef44e0c00b4bf",
            "e081702ea07344c4b2d3e08a6e3fab11"
          ]
        },
        "id": "s0hst0c2QWm5",
        "outputId": "86d4a3dc-f64f-4b12-e830-2b4d1ffbc841"
      },
      "execution_count": null,
      "outputs": [
        {
          "output_type": "display_data",
          "data": {
            "text/plain": [
              "HBox(children=(Map(center=[37.4225866, -122.0648754], controls=(ZoomControl(options=['position', 'zoom_in_text…"
            ],
            "application/vnd.jupyter.widget-view+json": {
              "version_major": 2,
              "version_minor": 0,
              "model_id": "207a417f54244d76802c7b31f98cad9c"
            }
          },
          "metadata": {
            "application/vnd.jupyter.widget-view+json": {
              "colab": {
                "custom_widget_manager": {
                  "url": "https://ssl.gstatic.com/colaboratory-static/widgets/colab-cdn-widget-manager/b3e629b1971e1542/manager.min.js"
                }
              }
            }
          }
        }
      ]
    },
    {
      "cell_type": "markdown",
      "source": [
        "Creating a map with an inspector panel is common, so we created a helper class to instantiate it."
      ],
      "metadata": {
        "id": "Hh73I8rRU4q-"
      }
    },
    {
      "cell_type": "code",
      "source": [
        "# 2. if not, use MapPlus\n",
        "map_panel_2 = MapPlus(**map_init_params)\n",
        "map_panel_2"
      ],
      "metadata": {
        "colab": {
          "base_uri": "https://localhost:8080/",
          "height": 453,
          "referenced_widgets": [
            "3a6266cba4c1483282676f7c81bb46b5",
            "6e8a327f0b4a4b61aa33b4817ae82a4c",
            "22c927070468459f8e9f32225e541590",
            "dfd8258675a445968f3506c8f978854a",
            "b79a5ba764b44ab7b3571c7ba1a7d68d",
            "f4321e9132974d338d534ce897c6e8db",
            "72f2727910b74de18b55f28290baed70",
            "8844da28c12747ddac24cff9238af21f",
            "d61d43db4cd349b9b3d5be9c7bd3d343",
            "8af0c29a57594d6299c2a16d7ce10e0d",
            "fc5b995214044dbcbc727bbe8ee12e37",
            "513e7adbb9a341f593a678028ac6d41a",
            "d49d9f6b0f4f4c569feaa24b5068ecd2",
            "8bbb2d692963473fa068ce4fe71dfb7e",
            "038b1f9f0c724692a3480e7457ebd63f",
            "9038a9d3f7e84cf28e9615e5fbcae96d",
            "f90b8462c1c445e78c2052deb1b962f0",
            "22a8ec3dd661498fb783c1297fa1b33b",
            "70f3e778777c4322978e7d8f3809c6fa",
            "be7da9b9746d495f95c61da89ce246b5",
            "0fce35d080294ad797ae64284914690b"
          ]
        },
        "id": "wi2jDtybU1fN",
        "outputId": "3af2704f-9fb2-4534-c9fe-ae07121ec238"
      },
      "execution_count": null,
      "outputs": [
        {
          "output_type": "display_data",
          "data": {
            "text/plain": [
              "MapWithInspector(children=(HBox(children=(Map(center=[37.4225866, -122.0648754], controls=(ZoomControl(options…"
            ],
            "application/vnd.jupyter.widget-view+json": {
              "version_major": 2,
              "version_minor": 0,
              "model_id": "3a6266cba4c1483282676f7c81bb46b5"
            }
          },
          "metadata": {
            "application/vnd.jupyter.widget-view+json": {
              "colab": {
                "custom_widget_manager": {
                  "url": "https://ssl.gstatic.com/colaboratory-static/widgets/colab-cdn-widget-manager/b3e629b1971e1542/manager.min.js"
                }
              }
            }
          }
        }
      ]
    },
    {
      "cell_type": "markdown",
      "source": [
        "## 3.2 Image Math\n",
        "\n",
        "Here, we will calculate the aspect of our DEM. The aspect is the orientation of the slope, measured clockwise in degrees from 0 to 360, where 0 is north-facing, 90 is east-facingm 180 is south-facing, and 270 is west-facing.\n",
        "\n",
        "For fun, and to demonstrate chaining methods together, we will also compute the sin of the aspect. The sin of the aspect (when using radians) represents the \"eastness\", with +1 being directly east and -1 being directly west.\n",
        "\n",
        "*   slope\n",
        "*   aspect (orientation of the slope)\n",
        "*   sin of the aspect\n",
        "\n"
      ],
      "metadata": {
        "id": "NgreRh5VQXN9"
      }
    },
    {
      "cell_type": "code",
      "source": [
        "# Get the aspect (in degrees).\n",
        "aspect = ee.Terrain.aspect(dem)\n",
        "\n",
        "# Convert to radians, compute the sin of the aspect.\n",
        "sinImage = aspect.divide(180).multiply(math.pi).sin()"
      ],
      "metadata": {
        "id": "Tsvtd95kQalb"
      },
      "execution_count": null,
      "outputs": []
    },
    {
      "cell_type": "code",
      "source": [
        "aspect, sinImage"
      ],
      "metadata": {
        "colab": {
          "base_uri": "https://localhost:8080/"
        },
        "id": "NRqvlSamZ3n7",
        "outputId": "f99c6d40-8f45-4e2f-a891-db7373cd7026"
      },
      "execution_count": null,
      "outputs": [
        {
          "output_type": "execute_result",
          "data": {
            "text/plain": [
              "(<ee.image.Image at 0x7fa2bc7942b0>, <ee.image.Image at 0x7fa2bc7947c0>)"
            ]
          },
          "metadata": {},
          "execution_count": 14
        }
      ]
    },
    {
      "cell_type": "markdown",
      "source": [
        "### Display maps side-by-side\n",
        "We can also display multiple maps in a cell output. Here, we display the DEM on the left and the sin of this apsect of the DEM on the right. \n",
        "\n",
        "Here is how to (roughly) interpret the colors:\n",
        "*   West: green\n",
        "*   North/South: white\n",
        "*   East: blue\n",
        "\n",
        "We picked Mount Shasta because of its unique east/west facing mountain faces.\n",
        "\n"
      ],
      "metadata": {
        "id": "4dwPz_D2bvIW"
      }
    },
    {
      "cell_type": "code",
      "source": [
        "# parameters\n",
        "map_params_mount_shasta = {\n",
        "    'center': (41.40902, -122.19492),\n",
        "    'zoom' : 10\n",
        "}"
      ],
      "metadata": {
        "id": "ANmcKMpwaD0H"
      },
      "execution_count": null,
      "outputs": []
    },
    {
      "cell_type": "code",
      "source": [
        "# map and layers\n",
        "map2b = Map(**map_params_mount_shasta)\n",
        "map2b.addLayer(dem, {'min':0, 'max':4000}, 'elevation [meters]')\n",
        "map2c = Map(**map_params_mount_shasta)\n",
        "map2c.addLayer(\n",
        "    sinImage, \n",
        "    {'min':-1, 'max':1, 'palette': ['green', 'white', 'blue']}, \n",
        "    'sin of aspect')"
      ],
      "metadata": {
        "id": "xwryNGj6cijJ"
      },
      "execution_count": null,
      "outputs": []
    },
    {
      "cell_type": "code",
      "source": [
        "# display image side-by-side\n",
        "widgest.HBox([map2b, map2c])"
      ],
      "metadata": {
        "colab": {
          "base_uri": "https://localhost:8080/",
          "height": 421,
          "referenced_widgets": [
            "a0b4d9366f00423293fdd1cb2fdbe5de",
            "57586a5f51604dc580a97489569fc565",
            "72fedd9992a441a99aa55bfc1752ed15",
            "5b59484dd4014b33912d758582abffb8",
            "297a5cec920c42699389f38694954e7e",
            "7759f5567562480fbd2736641ba57bd4",
            "6b410af212be4d01b343c7af41631d8b",
            "b732a886399844a2b4049133e635915f",
            "362d7cf5b6634849aa9f5033bf1ef83a",
            "ca1efd7b308a40fc94f5817e97ae57eb",
            "90e9bb6452ea4cae858fc9d8bf6f0650",
            "3fd18262efed4e0099eaf5951e8ca1ab",
            "aa52167786d444aa9c6f1748fed20af4",
            "5be9ceca288b40a48780dbf2dd0a6ff7",
            "26aee6424e044203b43bb456ed2e6247",
            "99012ca0158d463197e5432a84aa8a1e",
            "25853fd348ee4b87a1a76f68619cb341",
            "85e7993397bc4514b7225e483586331d",
            "4f2963b0c3df4c5dbf6d7cb168fd92ac",
            "bf059fd9b1504e89baf84e814fb8971e",
            "b4ac8bbe780d4e849e894c65474c5815",
            "57a83943cba147b3aa5b1b2cd817f4a0"
          ]
        },
        "id": "QHI1qkRgdCfT",
        "outputId": "fbf32da6-c393-4a34-fe19-c32fdcb7d0c2"
      },
      "execution_count": null,
      "outputs": [
        {
          "output_type": "display_data",
          "data": {
            "text/plain": [
              "HBox(children=(Map(center=[41.40902, -122.19492], controls=(ZoomControl(options=['position', 'zoom_in_text', '…"
            ],
            "application/vnd.jupyter.widget-view+json": {
              "version_major": 2,
              "version_minor": 0,
              "model_id": "a0b4d9366f00423293fdd1cb2fdbe5de"
            }
          },
          "metadata": {
            "application/vnd.jupyter.widget-view+json": {
              "colab": {
                "custom_widget_manager": {
                  "url": "https://ssl.gstatic.com/colaboratory-static/widgets/colab-cdn-widget-manager/b3e629b1971e1542/manager.min.js"
                }
              }
            }
          }
        }
      ]
    },
    {
      "cell_type": "markdown",
      "source": [
        "The map object have properties that can be queried (or set) from Python code. For example, the following code prints out the centere coordinates (lon, lat) of the map."
      ],
      "metadata": {
        "id": "5Pk5LVWfdj1j"
      }
    },
    {
      "cell_type": "code",
      "source": [
        "map2b.center"
      ],
      "metadata": {
        "colab": {
          "base_uri": "https://localhost:8080/"
        },
        "id": "IJpw00vldWXs",
        "outputId": "3ff86e7c-af41-4436-e21a-0a1bdfb3d66e"
      },
      "execution_count": null,
      "outputs": [
        {
          "output_type": "execute_result",
          "data": {
            "text/plain": [
              "[41.40902, -122.19492]"
            ]
          },
          "metadata": {},
          "execution_count": 18
        }
      ]
    },
    {
      "cell_type": "markdown",
      "source": [
        "The properties of maps can be linkedd together, in order to synchronise the behavior. Run the following cell, then zoom and/or pan one of the maps."
      ],
      "metadata": {
        "id": "6Va1D_Zkd12E"
      }
    },
    {
      "cell_type": "code",
      "source": [
        "def syncronize_maps(map1, map2):\n",
        "  map_center_link = widgest.link((map1, 'center'),(map2, 'center'))\n",
        "  map_zoom_link = widgest.link((map1, 'zoom'),(map2, 'zoom'))"
      ],
      "metadata": {
        "id": "SFK2yJ5Mdx2O"
      },
      "execution_count": null,
      "outputs": []
    },
    {
      "cell_type": "code",
      "source": [
        "syncronize_maps(map2b, map2c)"
      ],
      "metadata": {
        "id": "z2C5TVTYecuC"
      },
      "execution_count": null,
      "outputs": []
    },
    {
      "cell_type": "markdown",
      "source": [
        "## 3.3 Image Statistics\n",
        "\n",
        "We will explore image statistics by:\n",
        "\n",
        "\n",
        "1.   creating a map\n",
        "2.   creating a custom geometry by adding points on the map\n",
        "3.   calculating the stats of that custom geometry by calling `reduceRegion` on it.\n",
        "\n",
        "We will ultimately answer the question, \"what is the mean elevation?\" in the custom geometry that we defined.\n",
        "\n"
      ],
      "metadata": {
        "id": "YnxXh3gmetfu"
      }
    },
    {
      "cell_type": "markdown",
      "source": [
        "#### Draw Control: Create a Custom Geometry on a Map\n",
        "\n",
        "In this section, we will create a custom geometry on the map using `ipyleaflet.DrawControl` tool. If a geometry wasn't created using the tool, a defualt geometry is set."
      ],
      "metadata": {
        "id": "shbQpbEkmLkW"
      }
    },
    {
      "cell_type": "code",
      "source": [
        "# Use ipyleaflet to add ability to draw a geometry on our map.\n",
        "draw_control = ipyleaflet.DrawControl(\n",
        "    rectangle={},\n",
        "    polyline={},\n",
        "    circlemarker={},\n",
        ")\n",
        "\n",
        "def handle_draw(target, action, geo_json):\n",
        "  with output:\n",
        "    output.clear_output()\n",
        "    pprint(geo_json)\n",
        "\n",
        "draw_control.on_draw(handle_draw)\n",
        "\n",
        "map2d = Map(**map_init_params)\n",
        "output = widgest.Output(layout={'border': '1px solid black', 'width': '200'})\n",
        "map2d.addLayer(dem, {'min':0, 'max':1000}, 'elevation [meters]')\n",
        "map2d.add_control(draw_control)"
      ],
      "metadata": {
        "id": "fmkQ-s9QefVK"
      },
      "execution_count": null,
      "outputs": []
    },
    {
      "cell_type": "code",
      "source": [
        "widgest.VBox([map2d, output])"
      ],
      "metadata": {
        "colab": {
          "base_uri": "https://localhost:8080/",
          "height": 421,
          "referenced_widgets": [
            "0a2b41570aa84890ae200f39173f8062",
            "b8096e412d8c46ecbc3c3f5c224e07de",
            "abe8d59b6cd54590ad342259a0d16174",
            "2e373874cf0246d1b690759388cb4964",
            "d0f5f58e81244699907733183abd2184",
            "4970b424148548bf9ef95250e0485f59",
            "9a9378bff52f4f728084deabbab4b41c",
            "628d4b77067c46ecb9362e451c67def8",
            "3a53367a69b647c48d191423ad6522c9",
            "cbb03969235b4ad2b87dd1ac81767c00",
            "056f7894aea3420d93df625b765fe777",
            "9594fc894af741789626f19b2d55682d",
            "ad4a5bcb3b8b407cba10190825dfff32",
            "23f0985a9eb6417494880646b4c12377",
            "ff3758ed329342b9a05436eed717d512"
          ]
        },
        "id": "pGh22yNSnaq_",
        "outputId": "216f6a9e-c8d4-4e97-8464-0c51faa7d033"
      },
      "execution_count": null,
      "outputs": [
        {
          "output_type": "display_data",
          "data": {
            "text/plain": [
              "VBox(children=(Map(center=[37.4225866, -122.0648754], controls=(ZoomControl(options=['position', 'zoom_in_text…"
            ],
            "application/vnd.jupyter.widget-view+json": {
              "version_major": 2,
              "version_minor": 0,
              "model_id": "0a2b41570aa84890ae200f39173f8062"
            }
          },
          "metadata": {
            "application/vnd.jupyter.widget-view+json": {
              "colab": {
                "custom_widget_manager": {
                  "url": "https://ssl.gstatic.com/colaboratory-static/widgets/colab-cdn-widget-manager/b3e629b1971e1542/manager.min.js"
                }
              }
            }
          }
        }
      ]
    },
    {
      "cell_type": "markdown",
      "source": [
        "The last geometry drawn on the map can be queries as follows:"
      ],
      "metadata": {
        "id": "Z3B9G_5XoawH"
      }
    },
    {
      "cell_type": "code",
      "source": [
        "geom_clientside = draw_control.last_draw['geometry']\n",
        "geom_clientside"
      ],
      "metadata": {
        "id": "F7hKaeYTnn6r"
      },
      "execution_count": null,
      "outputs": []
    },
    {
      "cell_type": "markdown",
      "source": [
        "It is possible that the preceding cell was run before any geometry was drawn on the map, so let's specify a defualt geometry in case that happens."
      ],
      "metadata": {
        "id": "SzOb7ly3orNz"
      }
    },
    {
      "cell_type": "code",
      "source": [
        "# If no geometry was drawn on the map, use a defualt geometry.\n",
        "if not geom_clientside:\n",
        "  geom_clientside = {'type': 'Polygon',\n",
        " 'coordinates': [[[-122.243358, 37.453762],\n",
        "   [-122.256643, 37.350734],\n",
        "   [-122.044863, 37.360238],\n",
        "   [-122.12521, 37.450213],\n",
        "   [-122.229821, 37.453307],\n",
        "   [-122.243358, 37.453762]]]}\n",
        "\n",
        "geom_clientside"
      ],
      "metadata": {
        "colab": {
          "base_uri": "https://localhost:8080/"
        },
        "id": "FUT9Z8bHopwt",
        "outputId": "40599b7c-e24b-44de-a02d-a03b2958d35a"
      },
      "execution_count": null,
      "outputs": [
        {
          "output_type": "execute_result",
          "data": {
            "text/plain": [
              "{'type': 'Polygon',\n",
              " 'coordinates': [[[-122.243358, 37.453762],\n",
              "   [-122.256643, 37.350734],\n",
              "   [-122.044863, 37.360238],\n",
              "   [-122.12521, 37.450213],\n",
              "   [-122.229821, 37.453307],\n",
              "   [-122.243358, 37.453762]]]}"
            ]
          },
          "metadata": {},
          "execution_count": 24
        }
      ]
    },
    {
      "cell_type": "code",
      "source": [
        "# Create an Earth Engine server-side geometry\n",
        "geom = ee.Geometry(geom_clientside)"
      ],
      "metadata": {
        "id": "4a3Cm2gkpHlo"
      },
      "execution_count": null,
      "outputs": []
    },
    {
      "cell_type": "markdown",
      "source": [
        "### Spatial Reduction: Calculate Stats for Our Custom Geometry\n",
        "\n",
        "We will use `reduceRegion` to calculate the mean elevation (in meters) for our custom geometry (that was created in the last section)."
      ],
      "metadata": {
        "id": "CmQhV-CkpVaC"
      }
    },
    {
      "cell_type": "code",
      "source": [
        "# Compute the mean elevation (in meters) for our custom geometry (that was created in the last section).\n",
        "meanDict = dem.reduceRegion(\n",
        "    reducer=ee.Reducer.mean(),\n",
        "    geometry = geom,\n",
        "    scale=90,\n",
        "    bestEffort=True #if there's too many pixel and don't fit in scale, try your best to calculate\n",
        ")\n",
        "\n",
        "# Get the mean from the dictionary and print it.\n",
        "mean = meanDict.get('elevation')\n",
        "print('Mean elevation:', mean.getInfo())"
      ],
      "metadata": {
        "colab": {
          "base_uri": "https://localhost:8080/"
        },
        "id": "ocOv6rbapPtv",
        "outputId": "72db433a-384b-4f6c-e2dc-d29846f7307f"
      },
      "execution_count": null,
      "outputs": [
        {
          "output_type": "stream",
          "name": "stdout",
          "text": [
            "Mean elevation: 104.4742376326323\n"
          ]
        }
      ]
    },
    {
      "cell_type": "markdown",
      "source": [
        "# Image Collections"
      ],
      "metadata": {
        "id": "GsZBBvcmq-qR"
      }
    },
    {
      "cell_type": "markdown",
      "source": [
        "In this section, we are going to use image collections to find the most cloudy and least cloudy images of Mountain View according to **Landsat8** satelite imagery from 2016.\n",
        "\n",
        "Specifically, we will use the **Landsat 8 Collection 2 Top of Atmosphere (TOA)** image collection. (TOA images have not been atmospherically corrected.)"
      ],
      "metadata": {
        "id": "T1ppsiKBrFt-"
      }
    },
    {
      "cell_type": "code",
      "source": [
        "landsat8 = ee.ImageCollection('LANDSAT/LC08/C02/T1_TOA')"
      ],
      "metadata": {
        "id": "-6EiOSCLqt9p"
      },
      "execution_count": null,
      "outputs": []
    },
    {
      "cell_type": "code",
      "source": [
        "# Create a geomtry that is specified by the Geo for Good vuew in Mountain View\n",
        "point = ee.Geometry.Point(-122.0648754, 37.4225866)\n",
        "\n",
        "# Define a default visualization paramters for the Landsat image.\n",
        "landsat_rgb_viz = {\n",
        "    'bands' : ['B4', 'B3', 'B2'],\n",
        "    'min' : 0.0,\n",
        "    'max' : 0.3,\n",
        "}\n",
        "\n",
        "# Filter by our Mountain View coordinates and by the year.\n",
        "spatialFiltered = landsat8.filterBounds(point)\n",
        "temporalFiltered = spatialFiltered.filterDate('2016-01-01', '2016-12-31')\n",
        "\n",
        "## Sort based on the amount of cloud cover\n",
        "least_cloudy_image = temporalFiltered.sort('CLOUD_COVER').first()\n",
        "most_cloudy_image = temporalFiltered.sort('CLOUD_COVER', opt_ascending = False).first()\n",
        "\n",
        "map_most_cloudy = Map(**map_init_params)\n",
        "map_least_cloudy = Map()\n",
        "map_most_cloudy.addLayer(most_cloudy_image, landsat_rgb_viz)\n",
        "map_least_cloudy.addLayer(least_cloudy_image, landsat_rgb_viz)\n",
        "syncronize_maps(map_most_cloudy, map_least_cloudy)"
      ],
      "metadata": {
        "id": "eKYYz2k_RpHT"
      },
      "execution_count": null,
      "outputs": []
    },
    {
      "cell_type": "code",
      "source": [
        "widgest.VBox([\n",
        "    widgest.Label(f\"CLOUD_COVER (most) = {most_cloudy_image.getInfo()['properties']['CLOUD_COVER']}\"),\n",
        "    map_most_cloudy,\n",
        "    widgest.Label(f\"CLOUD_COVER (least) = {least_cloudy_image.getInfo()['properties']['CLOUD_COVER']}\"),\n",
        "    map_least_cloudy\n",
        "],\n",
        "layout=widgest.Layout(max_height=\"600px\")\n",
        ")"
      ],
      "metadata": {
        "colab": {
          "base_uri": "https://localhost:8080/",
          "height": 617,
          "referenced_widgets": [
            "08190e7c6b6248c6a5c53da46376eea4",
            "7d554d6205974b2c81d5393ee4c1b5b9",
            "92dcb1ff4a8c4b3682f02a5d28071bbc",
            "c77c010a9c0d4e93b0ed62e8353e1cdc",
            "30de52e1df70453599fb9958b3c785fb",
            "4987e6ca7cc642d8a32fe13121785883",
            "74a7de44557c4f34a2a270ab8734c982",
            "174521067812468496553c4539ad73fd",
            "94d95743eebc4f96b532b2f55620afbf",
            "76a6d9bf4ea04d0da29d8c636610a534",
            "1ba2efb6ce8e4a69afd7684d0e5db329",
            "0c5c3fbf125240fe8ba497fb2fd55529",
            "485fc25e36e1497182de67a44bab9bd7",
            "88d73911279b4e9b8325720d169d55a1",
            "af49678ec0174738b16e0cb1f409c53c",
            "0f1ece6c41784a0ea5b3c8ab7a1d2c4f",
            "513ccdcbaf7146e287708ab78da8a452",
            "b2732b4a52eb48ca8ea5a9386dbb1642",
            "6cef615a782449f29ec673b2caa93c80",
            "c5a0f6d5f47c4554867132e96e70706f",
            "751a049fdbf643b19f582584543eac7c",
            "5749d5ca2a3143a5881e420d96101cb1",
            "264ff11feb4e47b1b61604e660f0a586",
            "32f66475fbb144dcbe3acd80d7137947",
            "45ae9a726d304347bb0def80dc43622a",
            "3092c9869bc94dc3b4a25ab2cb174066",
            "61fc7c55dfb04977ad0472b49f99f245",
            "48503c98da90494895c574981798739c"
          ]
        },
        "id": "EmkdxcejTI4P",
        "outputId": "d1bdf1d1-8f19-4a32-9004-f9ba0adb98ea"
      },
      "execution_count": null,
      "outputs": [
        {
          "output_type": "display_data",
          "data": {
            "text/plain": [
              "VBox(children=(Label(value='CLOUD_COVER (most) = 93.45'), Map(center=[37.4225866, -122.0648754], controls=(Zoo…"
            ],
            "application/vnd.jupyter.widget-view+json": {
              "version_major": 2,
              "version_minor": 0,
              "model_id": "08190e7c6b6248c6a5c53da46376eea4"
            }
          },
          "metadata": {
            "application/vnd.jupyter.widget-view+json": {
              "colab": {
                "custom_widget_manager": {
                  "url": "https://ssl.gstatic.com/colaboratory-static/widgets/colab-cdn-widget-manager/b3e629b1971e1542/manager.min.js"
                }
              }
            }
          }
        }
      ]
    },
    {
      "cell_type": "markdown",
      "source": [
        "## 4.1 Compositing and Mosaicking\n",
        "\n",
        "Compositing, masking, and mosaicking are different techniques that we use to process image collections.\n",
        "\n",
        "**Compositing** refers to the process of aggregating individual pixel values in a collection. The *median* is often used in composites to remove the effects of cloud cover (bright pixels) and shadows (dark pixels).\n",
        "\n",
        "In **masaics**, individual images are stitched together (side by side). Often it is the images that were *most recent* that are stitching together. We will be using the Landsat 8 dataset. You can understand why the mosaic looks the way it does by taking a look at the Landsat orbit.\n",
        "\n",
        "We will first calculate the composite and mosiac for Landsat 8 data fro the year 2016 for the point centered around the venue."
      ],
      "metadata": {
        "id": "nyujtlnoRLxu"
      }
    },
    {
      "cell_type": "code",
      "source": [
        "# Filter by the year 2016\n",
        "temporalFiltered = landsat8.filterDate('2016-01-01', '2016-12-31')\n",
        "# Calculate the mosiac\n",
        "mosaic = temporalFiltered.mosaic()\n",
        "# Calculate the composite by getting the median over time, for each band, in each pixel.\n",
        "median = temporalFiltered.median()"
      ],
      "metadata": {
        "id": "nXUv9AZLVk17"
      },
      "execution_count": null,
      "outputs": []
    },
    {
      "cell_type": "markdown",
      "source": [
        "We will display the mosaic on the right and the composite on the left."
      ],
      "metadata": {
        "id": "dnPrOK1JWCM8"
      }
    },
    {
      "cell_type": "code",
      "source": [
        "# Compare the maosaic and composite results.\n",
        "map4a = Map(**map_init_params)\n",
        "map4a.addLayer(mosaic, landsat_rgb_viz,'Landsat 8 (mosaic)')\n",
        "map4b = Map(**map_init_params)\n",
        "map4b.addLayer(median, landsat_rgb_viz,'Landsat 8 (median)')\n",
        "syncronize_maps(map4a, map4b)\n",
        "widgest.HBox([map4a, map4b])"
      ],
      "metadata": {
        "colab": {
          "base_uri": "https://localhost:8080/",
          "height": 421,
          "referenced_widgets": [
            "7a1d3f86ff8a44cfa72639de32e670ad",
            "cec20d0b33a9411d84ba18fc8f42bb69",
            "7403c006ba004082a0e8e71d7e0ca27f",
            "45f8ab3e86e34e469541bd722b24516b",
            "a3b25060ce44470fa6d018006649213d",
            "976136f9825d423aad5ea68f1ae623f7",
            "951d09c9ba0f4f26896a85866dbc0095",
            "7b644ab65615490a83b0b5d3847177ab",
            "a74c5eb6b19f467493bb25d3e6ec0a4c",
            "16da79804a8f4fcabfab68112bf75f15",
            "b517f3b5be4342e188dd0a3ee5633abb",
            "16d1e1bf04d44ccd8f05bf651c2e3c02",
            "cb3600c04689486da4f849075cccc0f4",
            "8889e6e7afcb419f94e29155e6c72056",
            "1b717111ebad4429be6110fdc0e7d319",
            "628aa8e93be64063bcb50a3bee7b2bbe",
            "da504624440c4a8898c9f5993a1375c9",
            "10b4d6bf079646da993b7c061f372984",
            "8123b149e92748b08aee3d93432ce829",
            "0df2422b7c5f4324bf5de0608cecbf57",
            "c5cb81a45ec04e9dbb74c50e56921736",
            "db2dd4c2754e4881abf890c6924f4428"
          ]
        },
        "id": "mnuqgXdBWAHC",
        "outputId": "31f9c899-50f0-4e60-a388-881c0dec823b"
      },
      "execution_count": null,
      "outputs": [
        {
          "output_type": "display_data",
          "data": {
            "text/plain": [
              "HBox(children=(Map(center=[37.4225866, -122.0648754], controls=(ZoomControl(options=['position', 'zoom_in_text…"
            ],
            "application/vnd.jupyter.widget-view+json": {
              "version_major": 2,
              "version_minor": 0,
              "model_id": "7a1d3f86ff8a44cfa72639de32e670ad"
            }
          },
          "metadata": {
            "application/vnd.jupyter.widget-view+json": {
              "colab": {
                "custom_widget_manager": {
                  "url": "https://ssl.gstatic.com/colaboratory-static/widgets/colab-cdn-widget-manager/b3e629b1971e1542/manager.min.js"
                }
              }
            }
          }
        }
      ]
    },
    {
      "cell_type": "markdown",
      "source": [
        "## 4.2 Masking\n",
        "\n",
        "Masking pixels in an image makes those pixels transparent and excludes them from analysis. Pixels with a mask values of 0 or below will be transparent, mask values between 0 and 1 will be partially rendered, whereas values above 1 will be fully rendered.\n",
        "\n",
        "\n",
        "In this example, we will use a mask to only look at land data (exclude the water data) of the Hansen Global Forest Change dataset. This dataset is used because in the `datamask` column, water has a value of 2, land has the value 1, and \"no data\" has the value 0."
      ],
      "metadata": {
        "id": "hKsGXlWrZwu6"
      }
    },
    {
      "cell_type": "code",
      "source": [
        "# Load or import the Hansen et al. forest change dataset.\n",
        "hansenImage = ee.Image('UMD/hansen/global_forest_change_2021_v1_9')"
      ],
      "metadata": {
        "id": "5KhQNYqYZeWf"
      },
      "execution_count": null,
      "outputs": []
    },
    {
      "cell_type": "code",
      "source": [
        "# Select the land/water mask.\n",
        "datamask = hansenImage.select('datamask')\n",
        "\n",
        "# Create a binary mask. This means we are only selecting the land pixels \n",
        "# (based on how the datamask column is defined in the dataset)\n",
        "mask = datamask.eq(1)\n",
        "\n",
        "# Update the composite mask with the water mask.\n",
        "maskedComposite = median.updateMask(mask)\n",
        "\n",
        "map4c = Map(**map_init_params)\n",
        "map4c.addLayer(maskedComposite, landsat_rgb_viz, 'masked')\n",
        "map4c"
      ],
      "metadata": {
        "colab": {
          "base_uri": "https://localhost:8080/",
          "height": 441,
          "referenced_widgets": [
            "53a0df0053fc4d51ae9d47adb5f067d8",
            "c6a466ee8dfd45e1a3341f3632143a6d",
            "feaf0a7e353b4e2384a46e4467837314",
            "f0fc487e29eb4d8e80235156ab3f7a67",
            "c5f4822f1880480bac482576b7f0dccb",
            "0000982955f74ed0b73640970745f910",
            "9a288ccb3e0647db903416c9e0a704fb",
            "2a356fa244f748cb88adf65d958b25f5",
            "e262f929cdff442db826a506aa6bac5c",
            "e5cb300d642c4f1095542eecc79b0746"
          ]
        },
        "id": "GVZ2EJpval-X",
        "outputId": "a40ad1f0-36cc-43f1-b44e-1365cc301815"
      },
      "execution_count": null,
      "outputs": [
        {
          "output_type": "display_data",
          "data": {
            "text/plain": [
              "Map(center=[37.4225866, -122.0648754], controls=(ZoomControl(options=['position', 'zoom_in_text', 'zoom_in_tit…"
            ],
            "application/vnd.jupyter.widget-view+json": {
              "version_major": 2,
              "version_minor": 0,
              "model_id": "53a0df0053fc4d51ae9d47adb5f067d8"
            }
          },
          "metadata": {
            "application/vnd.jupyter.widget-view+json": {
              "colab": {
                "custom_widget_manager": {
                  "url": "https://ssl.gstatic.com/colaboratory-static/widgets/colab-cdn-widget-manager/b3e629b1971e1542/manager.min.js"
                }
              }
            }
          }
        }
      ]
    },
    {
      "cell_type": "markdown",
      "source": [
        "# 5. NDVI, Mapping a Function over a Collecction, Quality Mosaicking\n",
        "\n",
        "In this section, we will calculate the Normalized Difference Vegetation Index (NDVI) for Landsat 8 images.\n",
        "The NDVI is used to determine how much green vegetation exists in an area. NDVI relies on green vegetation having a strong reflectance for Near Infrared (NIR) and weak reflectance for red light.\n",
        "\n",
        "The formula for NDVI is as follows:\n",
        "$$ NDVI = \\frac{(NIR - RED)}{(NIR + RED)} $$\n",
        "\n",
        "where $NIR$ and $R$ are the spectral reflectance in the near infrared and red (visible) regions, respectively.\n",
        "\n",
        "For Landsat 8 and 9:\n",
        "$$ NDVI = \\frac{(Band5 - Band4)}{(Band5 + Band4)} $$\n",
        "\n",
        "where $Band5$ and $Band4$ are the corresponding Landsat bands, respectively.\n",
        "\n",
        "[This](https://gisgeography.com/ndvi-normalized-difference-vegetation-index/) is an example of NDVI calculated for two pieces of vegetation in different states."
      ],
      "metadata": {
        "id": "DHm-TM7ndROz"
      }
    },
    {
      "cell_type": "markdown",
      "source": [
        "## 5.1 Calculate NDVI on a Single Image"
      ],
      "metadata": {
        "id": "TS9Q8HIU7G90"
      }
    },
    {
      "cell_type": "markdown",
      "source": [
        "First, we will calculate the NDVI on a single image."
      ],
      "metadata": {
        "id": "IIv-vz_X7R8c"
      }
    },
    {
      "cell_type": "code",
      "source": [
        "# Define a point of interest.\n",
        "point = ee.Geometry.Point(location_longlat)\n",
        "\n",
        "# Get the least cloudy image in 2016.\n",
        "image = ee.Image(\n",
        "    landsat8.filterBounds(point)\n",
        "            .filterDate('2016-01-01', '2016-12-31')\n",
        "            .sort('CLOUD_COVER') # we don't want cloudy image\n",
        "            .first()\n",
        ")"
      ],
      "metadata": {
        "id": "jWkQJ53IbOC8"
      },
      "execution_count": null,
      "outputs": []
    },
    {
      "cell_type": "markdown",
      "source": [
        "NDVI can be calculated within Earth Engine as follows:"
      ],
      "metadata": {
        "id": "0E2IgLAD8BSS"
      }
    },
    {
      "cell_type": "code",
      "source": [
        "nir = image.select('B5')\n",
        "red = image.select('B4')\n",
        "ndvi = nir.subtract(red).divide(nir.add(red)).rename('NDVI')"
      ],
      "metadata": {
        "id": "uu_Nr0Rn8Agn"
      },
      "execution_count": null,
      "outputs": []
    },
    {
      "cell_type": "code",
      "source": [
        "ndvi"
      ],
      "metadata": {
        "colab": {
          "base_uri": "https://localhost:8080/"
        },
        "id": "vcRO29hX7b9e",
        "outputId": "c0303d0c-74de-48d6-a013-96046310c273"
      },
      "execution_count": null,
      "outputs": [
        {
          "output_type": "execute_result",
          "data": {
            "text/plain": [
              "<ee.image.Image at 0x7fa2bc7468e0>"
            ]
          },
          "metadata": {},
          "execution_count": 36
        }
      ]
    },
    {
      "cell_type": "markdown",
      "source": [
        "Let's display a map showing the `ndvi` object. We will use simple visualization where blue is low (negative) NDVI and green is high (positive) NDVI. Water tends to reuslt in a negative NDVI value, while clouds have NDVI values near zero."
      ],
      "metadata": {
        "id": "FwSOYEp68ZRC"
      }
    },
    {
      "cell_type": "code",
      "source": [
        "ndvi_vis_params = {\n",
        "    'bands': 'NDVI',\n",
        "    'min': -1,\n",
        "    'max': 1,\n",
        "    'palette': ['blue', 'white', 'green']\n",
        "}\n",
        "\n",
        "map5a = Map(**map_init_params)\n",
        "map5a.addLayer(ndvi, ndvi_vis_params, 'NDVI image' )\n",
        "map5a"
      ],
      "metadata": {
        "colab": {
          "base_uri": "https://localhost:8080/",
          "height": 441,
          "referenced_widgets": [
            "25bbe0b86b744060be9eaae6ef43c599",
            "4db4e248b7504b248b1c9257560cef15",
            "ade5faeb5b5742ba910e5ece6463d4c9",
            "cbfdc7fe81c1482baa3424b1db86ee8a",
            "c0dcede3717e41ca8ee40f72a78fbf41",
            "cfbe4eb38eef4209a6c2e4d2dfd6ded2",
            "a5ad0aea8afe47d881f09ab9b140e4bc",
            "99e28f0dbeaf4621a2e053905c92f9bc",
            "725de31e1fc84f9f99c1c585a484b787",
            "3bac5b1ff62947e187dc9f3d6e3d871c",
            "c838e060b8284f5d889608a5edf38f4f"
          ]
        },
        "id": "pyLBgwjG8X6y",
        "outputId": "6c730ba4-0a56-4688-d512-0ecfb1a46b43"
      },
      "execution_count": null,
      "outputs": [
        {
          "output_type": "display_data",
          "data": {
            "text/plain": [
              "Map(center=[37.4225866, -122.0648754], controls=(ZoomControl(options=['position', 'zoom_in_text', 'zoom_in_tit…"
            ],
            "application/vnd.jupyter.widget-view+json": {
              "version_major": 2,
              "version_minor": 0,
              "model_id": "25bbe0b86b744060be9eaae6ef43c599"
            }
          },
          "metadata": {
            "application/vnd.jupyter.widget-view+json": {
              "colab": {
                "custom_widget_manager": {
                  "url": "https://ssl.gstatic.com/colaboratory-static/widgets/colab-cdn-widget-manager/b3e629b1971e1542/manager.min.js"
                }
              }
            }
          }
        }
      ]
    },
    {
      "cell_type": "markdown",
      "source": [
        "Because calculating band ratios (such as NDVI) is commonly done as part of a remote sensing analysis workflow, Earth Engine images have a shorcut method to make this easier: `ee.Image.normalizedDifference()`."
      ],
      "metadata": {
        "id": "tExUnhTi-PSo"
      }
    },
    {
      "cell_type": "code",
      "source": [
        "# Remove the NDVI layer that we manually calcualted.\n",
        "map5a.remove_layer(map5a.layers[1])"
      ],
      "metadata": {
        "id": "xyTFItyB9b-H"
      },
      "execution_count": null,
      "outputs": []
    },
    {
      "cell_type": "code",
      "source": [
        "# Redefine NDVI using ee.Image.normalizedDifference(), and add it back again.\n",
        "ndvi = image.normalizedDifference(['B5', 'B4']).rename('NDVI')\n",
        "map5a.addLayer(ndvi, ndvi_vis_params, 'NDVI image')"
      ],
      "metadata": {
        "id": "fFWj7kjn-qtB"
      },
      "execution_count": null,
      "outputs": []
    },
    {
      "cell_type": "markdown",
      "source": [
        "## 5.2 Applying NDVI to an Image Collection"
      ],
      "metadata": {
        "id": "6NEwpu-y-_im"
      }
    },
    {
      "cell_type": "markdown",
      "source": [
        "In Earth Engine, we can apply an algorithm that works on a single image (such as calculating NDVI) to all images in a collection. To do this, we first define a Python function that operates on a single image. In this example, the function takes an image, calculate NDVI, appends it to the image, and then returns the new image.\n",
        "\n"
      ],
      "metadata": {
        "id": "WHfxqd-N_FMp"
      }
    },
    {
      "cell_type": "code",
      "source": [
        "def add_ndvi(image):\n",
        "  ndvi = image.normalizedDifference(['B5', 'B4']).rename('NDVI')\n",
        "  return image.addBands(ndvi)"
      ],
      "metadata": {
        "id": "a5175qSA-7Bp"
      },
      "execution_count": null,
      "outputs": []
    },
    {
      "cell_type": "markdown",
      "source": [
        "To test it out, we can apply the add_ndvi function to a single image *(This is a very useful pattern for testing and debuggin functions that you write)*."
      ],
      "metadata": {
        "id": "GFRQkNvb4TH0"
      }
    },
    {
      "cell_type": "code",
      "source": [
        "ndvi_image = add_ndvi(image)"
      ],
      "metadata": {
        "id": "8Kib-r9g4R3U"
      },
      "execution_count": null,
      "outputs": []
    },
    {
      "cell_type": "markdown",
      "source": [
        "We can add this NDvI image to a map/inspector panel, and then use the inspector to confirm that the NDVI band as added."
      ],
      "metadata": {
        "id": "gJnaJC9U4lgX"
      }
    },
    {
      "cell_type": "code",
      "source": [
        "map_panel_5 = MapPlus(**map_init_params)\n",
        "map_panel_5.map.addLayer(ndvi_image, ndvi_vis_params, 'NDVI')\n",
        "map_panel_5"
      ],
      "metadata": {
        "colab": {
          "base_uri": "https://localhost:8080/",
          "height": 453,
          "referenced_widgets": [
            "fd145904222b43508d07092bbf991b96",
            "a10a9d228c004c2da85ff97d2fc53f78",
            "3a22c83f9f1e4bbfb46d7a949feaaa0a",
            "a2ab868579594193acc283bc8b4d6897",
            "f622a8685ed047fda7f2802fd046a134",
            "4fe209031e5d46b0a851ba2e38bc1abd",
            "4b08610afd294a35bd524fb95702b84c",
            "f4813e0b7d8641c5923828688bec96ea",
            "12842b0c6eea471c80876662cbd28a3d",
            "ed8b20323d2f46b1b63d4748dc13bb1d",
            "6e593ae769094c7d868ab87731ebfd01",
            "c0ce08532bfa4d39a94ff3f0057f0d4e",
            "b1ad63624dbb470f8002a749acc2e465",
            "e4a3e884cf9e4ee385037013657712f4",
            "d9b7617abd7b4b67b8cfc500c5c96369",
            "0cbe20fc829b4582a4aa9720f53a0b0e",
            "394b854cae504cd587755b418bdaa516",
            "d525bfbe73f14bf29858e2379e43ddb9",
            "53e0fd7b8dc14bbd816ec1c92eb579b7",
            "82f8d9bca5a540d881c35e7215e22709",
            "492c22bc8a534476aba73d62ac57129e",
            "a92a2130d6084c3691b9cc318ec9e8d9"
          ]
        },
        "id": "pl5mko4k4ke9",
        "outputId": "43fdebf0-ea48-4425-d409-c0947ec1b15d"
      },
      "execution_count": null,
      "outputs": [
        {
          "output_type": "display_data",
          "data": {
            "text/plain": [
              "MapWithInspector(children=(HBox(children=(Map(center=[37.4225866, -122.0648754], controls=(ZoomControl(options…"
            ],
            "application/vnd.jupyter.widget-view+json": {
              "version_major": 2,
              "version_minor": 0,
              "model_id": "fd145904222b43508d07092bbf991b96"
            }
          },
          "metadata": {
            "application/vnd.jupyter.widget-view+json": {
              "colab": {
                "custom_widget_manager": {
                  "url": "https://ssl.gstatic.com/colaboratory-static/widgets/colab-cdn-widget-manager/b3e629b1971e1542/manager.min.js"
                }
              }
            }
          }
        }
      ]
    },
    {
      "cell_type": "markdown",
      "source": [
        "Now, we \"`map`\" (i.e. apply) the function over all the images in an image collection."
      ],
      "metadata": {
        "id": "3x1NVufC5CBx"
      }
    },
    {
      "cell_type": "code",
      "source": [
        "with_ndvi = landsat8.map(add_ndvi)"
      ],
      "metadata": {
        "id": "4EyvwZ2946B2"
      },
      "execution_count": null,
      "outputs": []
    },
    {
      "cell_type": "code",
      "source": [
        "with_ndvi"
      ],
      "metadata": {
        "colab": {
          "base_uri": "https://localhost:8080/"
        },
        "id": "rcrGWtwIx9qc",
        "outputId": "620dac41-2102-4dd2-9e04-1a969ed70919"
      },
      "execution_count": null,
      "outputs": [
        {
          "output_type": "execute_result",
          "data": {
            "text/plain": [
              "<ee.imagecollection.ImageCollection at 0x7fa2bc6decd0>"
            ]
          },
          "metadata": {},
          "execution_count": 44
        }
      ]
    },
    {
      "cell_type": "markdown",
      "source": [
        "We can then mosaic the images together, and display it. Note that many images processed by the `add_ndvi` function are visibale"
      ],
      "metadata": {
        "id": "2jK4nRlS5fMK"
      }
    },
    {
      "cell_type": "code",
      "source": [
        "map5b = Map(**map_init_params)\n",
        "map5b.addLayer(with_ndvi.mosaic(), ndvi_vis_params, 'NDVI mosaic') \n",
        "# there is another way to \"with_ndvi.mosaic()\", we will cover it later\n",
        "map5b.zoom = 8 # zoom out a bit from defualt\n",
        "map5b "
      ],
      "metadata": {
        "colab": {
          "base_uri": "https://localhost:8080/",
          "height": 441,
          "referenced_widgets": [
            "6ec9e1ee57384da1ae13626cdc3a180d",
            "ea19b304ce304399b9eade010bff9e63",
            "c54bc855ec834df092da5ef454c8a67b",
            "d9334c9b7bf746488acc97d2a558ecd6",
            "648990178f4648679f1dccea999af2af",
            "1d80e459a6f04de4a5615acc0d39ba6e",
            "cbde2924b5bb4f4ebad94e7a0ef2f8ea",
            "2a27543bce614604bf8c50b49539ea77",
            "28d7e113e856440ab38f1ccc2cb1720b",
            "26010efbb3e340c1875f448c33d33980"
          ]
        },
        "id": "D6jj7D1v5RUA",
        "outputId": "f7f1f902-c76d-45b7-d5a6-8dc2893d0c50"
      },
      "execution_count": null,
      "outputs": [
        {
          "output_type": "display_data",
          "data": {
            "text/plain": [
              "Map(center=[37.4225866, -122.0648754], controls=(ZoomControl(options=['position', 'zoom_in_text', 'zoom_in_tit…"
            ],
            "application/vnd.jupyter.widget-view+json": {
              "version_major": 2,
              "version_minor": 0,
              "model_id": "6ec9e1ee57384da1ae13626cdc3a180d"
            }
          },
          "metadata": {
            "application/vnd.jupyter.widget-view+json": {
              "colab": {
                "custom_widget_manager": {
                  "url": "https://ssl.gstatic.com/colaboratory-static/widgets/colab-cdn-widget-manager/b3e629b1971e1542/manager.min.js"
                }
              }
            }
          }
        }
      ]
    },
    {
      "cell_type": "markdown",
      "source": [
        "Note that the result is pretty noisy because `.mosiac()` preferentialy selects the latest pixels in the collection (which often may have clouds). We will improve this in the next section."
      ],
      "metadata": {
        "id": "iUuC5j-c6JR8"
      }
    },
    {
      "cell_type": "markdown",
      "source": [
        "## 5.3 Make a greenest pixel composite\n",
        "\n",
        "In this section, we will use `qualityMosaic` to get less noisy NDVI data. `qualityMosaic` works by taking the maximum value composite for the band you provide. In our example, this means choosing the pixel with the larget NDVI value. The maximum is taken to avoid areas with clouds, which have very low NDVI."
      ],
      "metadata": {
        "id": "ea9ewsC68flS"
      }
    },
    {
      "cell_type": "code",
      "source": [
        "greenest = with_ndvi.qualityMosaic('NDVI')"
      ],
      "metadata": {
        "id": "wNV_hYaP6ECV"
      },
      "execution_count": null,
      "outputs": []
    },
    {
      "cell_type": "code",
      "source": [
        "map5c = Map(**map_init_params)\n",
        "map5c.addLayer(greenest, landsat_rgb_viz, 'greenest pixel mosaic')\n",
        "map5c.zoom = 8 \n",
        "map5c"
      ],
      "metadata": {
        "colab": {
          "base_uri": "https://localhost:8080/",
          "height": 441,
          "referenced_widgets": [
            "b676324d9aa04727aee66a708dd47816",
            "8592fcc89b0d496e85cfcc4f6d06e5a1",
            "991b594c5b7f496e8942857cac380f35",
            "78edc1cba0ca4c1fb2930020f4e4ae5b",
            "7f536789cb6248539e0797997dc014a2",
            "a13b7e27535142079c5ded728446aeb5",
            "ff4ef87c46c642b38078b8a2a8859945",
            "6a27b805b74c4b44b3b711acd8d3a328",
            "e0752788a13d4d9ca408e8c053dbfb71",
            "d2d53f2497e049beb4b26d57698d95a4"
          ]
        },
        "id": "h0s6Hn5HB69l",
        "outputId": "8a5a82a3-1238-4a06-d67b-cbedee05f33f"
      },
      "execution_count": null,
      "outputs": [
        {
          "output_type": "display_data",
          "data": {
            "text/plain": [
              "Map(center=[37.4225866, -122.0648754], controls=(ZoomControl(options=['position', 'zoom_in_text', 'zoom_in_tit…"
            ],
            "application/vnd.jupyter.widget-view+json": {
              "version_major": 2,
              "version_minor": 0,
              "model_id": "b676324d9aa04727aee66a708dd47816"
            }
          },
          "metadata": {
            "application/vnd.jupyter.widget-view+json": {
              "colab": {
                "custom_widget_manager": {
                  "url": "https://ssl.gstatic.com/colaboratory-static/widgets/colab-cdn-widget-manager/b3e629b1971e1542/manager.min.js"
                }
              }
            }
          }
        }
      ]
    },
    {
      "cell_type": "markdown",
      "source": [
        "# Exporting Charts and Images"
      ],
      "metadata": {
        "id": "favR7eisCga2"
      }
    },
    {
      "cell_type": "markdown",
      "source": [
        "## 6.1 Charting\n",
        "\n",
        "Python has many plotting options, for example, matplotlib, bokeh, altair, plotly, etc. You can refer to The Python Visualization Landscape talk from PyCon 2017 for more informationon the plotting libraries that Python offers.\n",
        "\n",
        "The goal of this section is to create a timeseries plot using Altair to showcase one Python plotting library.\n",
        "\n",
        "We will create a timeseries plot of NDVI for the Geo for Good venue in Mountain View."
      ],
      "metadata": {
        "id": "S1P0aO7UCmjU"
      }
    },
    {
      "cell_type": "code",
      "source": [
        "# Define the region\n",
        "stat_region = ee.Geometry.Point(location_longlat)\n",
        "stat_region.getInfo()"
      ],
      "metadata": {
        "colab": {
          "base_uri": "https://localhost:8080/"
        },
        "id": "dZcXoH_SCD_G",
        "outputId": "11806f10-790b-4fc1-c929-32b237e92871"
      },
      "execution_count": null,
      "outputs": [
        {
          "output_type": "execute_result",
          "data": {
            "text/plain": [
              "{'type': 'Point', 'coordinates': [-122.0648754, 37.4225866]}"
            ]
          },
          "metadata": {},
          "execution_count": 48
        }
      ]
    },
    {
      "cell_type": "markdown",
      "source": [
        "Filter the NDVI image collection to only get images that occur in the Geo for Good venue in Mountain View:"
      ],
      "metadata": {
        "id": "bcJmLDeGDQ-t"
      }
    },
    {
      "cell_type": "code",
      "source": [
        "filtered_images = with_ndvi.filterBounds(stat_region)"
      ],
      "metadata": {
        "id": "qmMBeRu4DOWo"
      },
      "execution_count": null,
      "outputs": []
    },
    {
      "cell_type": "markdown",
      "source": [
        "Create a function that takes the image and creates and `ee.Feature` with the mean and the image timestamp (to help enable timeseries plotting)"
      ],
      "metadata": {
        "id": "HyUqHQzBDjcn"
      }
    },
    {
      "cell_type": "code",
      "source": [
        "def reduce_region_function(img):\n",
        "  \"\"\"Return a feature containing the mean value of a region and a timestamp.\"\"\"\n",
        "\n",
        "  stat = img.reduceRegion(\n",
        "      reducer = ee.Reducer.mean(),\n",
        "      geometry = stat_region,\n",
        "      scale = 30\n",
        "  )\n",
        "\n",
        "  return ee.Feature(stat_region, stat).set({'millis': img.date().millis()}) # set the time of the stats\n"
      ],
      "metadata": {
        "id": "Q8HCSsONDiJ2"
      },
      "execution_count": null,
      "outputs": []
    },
    {
      "cell_type": "markdown",
      "source": [
        "The next two code blocks are helper functions that are used to get the feature properties into a dictionary and then the dictaionary values into a pandas dataframe."
      ],
      "metadata": {
        "id": "cQ_E737zFAX4"
      }
    },
    {
      "cell_type": "code",
      "source": [
        "# Define a function to transfer feature properties to a dictionary.\n",
        "def fc_to_dict(fc):\n",
        "  prop_names = fc.first().propertyNames()\n",
        "  prop_lists = fc.reduceColumns(\n",
        "      reducer = ee.Reducer.toList().repeat(prop_names.size()),\n",
        "      selectors = prop_names\n",
        "  ).get('list')\n",
        "\n",
        "  return ee.Dictionary.fromLists(prop_names, prop_lists)\n",
        "\n",
        "def fc_to_df(fc):\n",
        "  \"\"\"Convert a feature collection to pandas dataframe\"\"\"\n",
        "  return pd.DataFrame(fc_to_dict(fc).getInfo())"
      ],
      "metadata": {
        "id": "BF2oBoNcE4Dt"
      },
      "execution_count": null,
      "outputs": []
    },
    {
      "cell_type": "markdown",
      "source": [
        "Here we apply the helper functions defined above to create a panda dataframe."
      ],
      "metadata": {
        "id": "y4mjveY9LA6D"
      }
    },
    {
      "cell_type": "code",
      "source": [
        "stat_fc = (\n",
        "    ee.FeatureCollection(\n",
        "        filtered_images.map(reduce_region_function)\n",
        "    ).filter(\n",
        "        ee.Filter.notNull(filtered_images.first().bandNames())\n",
        "    )\n",
        ")\n",
        "\n",
        "df = fc_to_df(stat_fc)\n",
        "df['timestamp'] = pd.to_datetime(df['millis'], unit='ms')"
      ],
      "metadata": {
        "id": "1ixzeCs9Gdig"
      },
      "execution_count": null,
      "outputs": []
    },
    {
      "cell_type": "code",
      "source": [
        "df.head()"
      ],
      "metadata": {
        "colab": {
          "base_uri": "https://localhost:8080/",
          "height": 386
        },
        "id": "K61XOYN1Lg4Y",
        "outputId": "aece9a97-e5d2-4d00-ea7a-9162b1291ba4"
      },
      "execution_count": null,
      "outputs": [
        {
          "output_type": "execute_result",
          "data": {
            "text/plain": [
              "         B1         B10         B11        B2        B3        B4        B5  \\\n",
              "0  0.298637  276.837250  275.970032  0.274731  0.253873  0.246654  0.293017   \n",
              "1  0.165996  299.048401  297.506958  0.158186  0.157014  0.166167  0.213810   \n",
              "2  0.158714  298.297211  296.819000  0.148535  0.149674  0.158168  0.191339   \n",
              "3  0.174379  306.028778  303.168121  0.168311  0.181466  0.204222  0.265166   \n",
              "4  0.167588  302.496704  300.764801  0.162221  0.174967  0.194791  0.247551   \n",
              "\n",
              "         B6        B7        B8  ...      NDVI  QA_PIXEL  QA_RADSAT    SAA  \\\n",
              "0  0.235388  0.185003  0.226270  ...  0.085910     22280          0  14314   \n",
              "1  0.268313  0.232311  0.162921  ...  0.125385     21824          0  14230   \n",
              "2  0.276687  0.248167  0.152094  ...  0.094908     21824          0  14121   \n",
              "3  0.361588  0.314710  0.173252  ...  0.129837     21824          0  12621   \n",
              "4  0.335652  0.300334  0.174664  ...  0.119276     21824          0  12287   \n",
              "\n",
              "    SZA    VAA  VZA         millis          system:index  \\\n",
              "0  3693   9818  264  1365101165025  LC08_044034_20130404   \n",
              "1  3506  12633  214  1365533194757  LC08_044034_20130409   \n",
              "2  3248 -13503   99  1366138073562  LC08_044034_20130416   \n",
              "3  2258 -12560  111  1370285287578  LC08_044034_20130603   \n",
              "4  2240 -13865   95  1371667680461  LC08_044034_20130619   \n",
              "\n",
              "                timestamp  \n",
              "0 2013-04-04 18:46:05.025  \n",
              "1 2013-04-09 18:46:34.757  \n",
              "2 2013-04-16 18:47:53.562  \n",
              "3 2013-06-03 18:48:07.578  \n",
              "4 2013-06-19 18:48:00.461  \n",
              "\n",
              "[5 rows x 21 columns]"
            ],
            "text/html": [
              "\n",
              "  <div id=\"df-6a588449-579e-43bc-bdf2-cebb97f27f20\">\n",
              "    <div class=\"colab-df-container\">\n",
              "      <div>\n",
              "<style scoped>\n",
              "    .dataframe tbody tr th:only-of-type {\n",
              "        vertical-align: middle;\n",
              "    }\n",
              "\n",
              "    .dataframe tbody tr th {\n",
              "        vertical-align: top;\n",
              "    }\n",
              "\n",
              "    .dataframe thead th {\n",
              "        text-align: right;\n",
              "    }\n",
              "</style>\n",
              "<table border=\"1\" class=\"dataframe\">\n",
              "  <thead>\n",
              "    <tr style=\"text-align: right;\">\n",
              "      <th></th>\n",
              "      <th>B1</th>\n",
              "      <th>B10</th>\n",
              "      <th>B11</th>\n",
              "      <th>B2</th>\n",
              "      <th>B3</th>\n",
              "      <th>B4</th>\n",
              "      <th>B5</th>\n",
              "      <th>B6</th>\n",
              "      <th>B7</th>\n",
              "      <th>B8</th>\n",
              "      <th>...</th>\n",
              "      <th>NDVI</th>\n",
              "      <th>QA_PIXEL</th>\n",
              "      <th>QA_RADSAT</th>\n",
              "      <th>SAA</th>\n",
              "      <th>SZA</th>\n",
              "      <th>VAA</th>\n",
              "      <th>VZA</th>\n",
              "      <th>millis</th>\n",
              "      <th>system:index</th>\n",
              "      <th>timestamp</th>\n",
              "    </tr>\n",
              "  </thead>\n",
              "  <tbody>\n",
              "    <tr>\n",
              "      <th>0</th>\n",
              "      <td>0.298637</td>\n",
              "      <td>276.837250</td>\n",
              "      <td>275.970032</td>\n",
              "      <td>0.274731</td>\n",
              "      <td>0.253873</td>\n",
              "      <td>0.246654</td>\n",
              "      <td>0.293017</td>\n",
              "      <td>0.235388</td>\n",
              "      <td>0.185003</td>\n",
              "      <td>0.226270</td>\n",
              "      <td>...</td>\n",
              "      <td>0.085910</td>\n",
              "      <td>22280</td>\n",
              "      <td>0</td>\n",
              "      <td>14314</td>\n",
              "      <td>3693</td>\n",
              "      <td>9818</td>\n",
              "      <td>264</td>\n",
              "      <td>1365101165025</td>\n",
              "      <td>LC08_044034_20130404</td>\n",
              "      <td>2013-04-04 18:46:05.025</td>\n",
              "    </tr>\n",
              "    <tr>\n",
              "      <th>1</th>\n",
              "      <td>0.165996</td>\n",
              "      <td>299.048401</td>\n",
              "      <td>297.506958</td>\n",
              "      <td>0.158186</td>\n",
              "      <td>0.157014</td>\n",
              "      <td>0.166167</td>\n",
              "      <td>0.213810</td>\n",
              "      <td>0.268313</td>\n",
              "      <td>0.232311</td>\n",
              "      <td>0.162921</td>\n",
              "      <td>...</td>\n",
              "      <td>0.125385</td>\n",
              "      <td>21824</td>\n",
              "      <td>0</td>\n",
              "      <td>14230</td>\n",
              "      <td>3506</td>\n",
              "      <td>12633</td>\n",
              "      <td>214</td>\n",
              "      <td>1365533194757</td>\n",
              "      <td>LC08_044034_20130409</td>\n",
              "      <td>2013-04-09 18:46:34.757</td>\n",
              "    </tr>\n",
              "    <tr>\n",
              "      <th>2</th>\n",
              "      <td>0.158714</td>\n",
              "      <td>298.297211</td>\n",
              "      <td>296.819000</td>\n",
              "      <td>0.148535</td>\n",
              "      <td>0.149674</td>\n",
              "      <td>0.158168</td>\n",
              "      <td>0.191339</td>\n",
              "      <td>0.276687</td>\n",
              "      <td>0.248167</td>\n",
              "      <td>0.152094</td>\n",
              "      <td>...</td>\n",
              "      <td>0.094908</td>\n",
              "      <td>21824</td>\n",
              "      <td>0</td>\n",
              "      <td>14121</td>\n",
              "      <td>3248</td>\n",
              "      <td>-13503</td>\n",
              "      <td>99</td>\n",
              "      <td>1366138073562</td>\n",
              "      <td>LC08_044034_20130416</td>\n",
              "      <td>2013-04-16 18:47:53.562</td>\n",
              "    </tr>\n",
              "    <tr>\n",
              "      <th>3</th>\n",
              "      <td>0.174379</td>\n",
              "      <td>306.028778</td>\n",
              "      <td>303.168121</td>\n",
              "      <td>0.168311</td>\n",
              "      <td>0.181466</td>\n",
              "      <td>0.204222</td>\n",
              "      <td>0.265166</td>\n",
              "      <td>0.361588</td>\n",
              "      <td>0.314710</td>\n",
              "      <td>0.173252</td>\n",
              "      <td>...</td>\n",
              "      <td>0.129837</td>\n",
              "      <td>21824</td>\n",
              "      <td>0</td>\n",
              "      <td>12621</td>\n",
              "      <td>2258</td>\n",
              "      <td>-12560</td>\n",
              "      <td>111</td>\n",
              "      <td>1370285287578</td>\n",
              "      <td>LC08_044034_20130603</td>\n",
              "      <td>2013-06-03 18:48:07.578</td>\n",
              "    </tr>\n",
              "    <tr>\n",
              "      <th>4</th>\n",
              "      <td>0.167588</td>\n",
              "      <td>302.496704</td>\n",
              "      <td>300.764801</td>\n",
              "      <td>0.162221</td>\n",
              "      <td>0.174967</td>\n",
              "      <td>0.194791</td>\n",
              "      <td>0.247551</td>\n",
              "      <td>0.335652</td>\n",
              "      <td>0.300334</td>\n",
              "      <td>0.174664</td>\n",
              "      <td>...</td>\n",
              "      <td>0.119276</td>\n",
              "      <td>21824</td>\n",
              "      <td>0</td>\n",
              "      <td>12287</td>\n",
              "      <td>2240</td>\n",
              "      <td>-13865</td>\n",
              "      <td>95</td>\n",
              "      <td>1371667680461</td>\n",
              "      <td>LC08_044034_20130619</td>\n",
              "      <td>2013-06-19 18:48:00.461</td>\n",
              "    </tr>\n",
              "  </tbody>\n",
              "</table>\n",
              "<p>5 rows × 21 columns</p>\n",
              "</div>\n",
              "      <button class=\"colab-df-convert\" onclick=\"convertToInteractive('df-6a588449-579e-43bc-bdf2-cebb97f27f20')\"\n",
              "              title=\"Convert this dataframe to an interactive table.\"\n",
              "              style=\"display:none;\">\n",
              "        \n",
              "  <svg xmlns=\"http://www.w3.org/2000/svg\" height=\"24px\"viewBox=\"0 0 24 24\"\n",
              "       width=\"24px\">\n",
              "    <path d=\"M0 0h24v24H0V0z\" fill=\"none\"/>\n",
              "    <path d=\"M18.56 5.44l.94 2.06.94-2.06 2.06-.94-2.06-.94-.94-2.06-.94 2.06-2.06.94zm-11 1L8.5 8.5l.94-2.06 2.06-.94-2.06-.94L8.5 2.5l-.94 2.06-2.06.94zm10 10l.94 2.06.94-2.06 2.06-.94-2.06-.94-.94-2.06-.94 2.06-2.06.94z\"/><path d=\"M17.41 7.96l-1.37-1.37c-.4-.4-.92-.59-1.43-.59-.52 0-1.04.2-1.43.59L10.3 9.45l-7.72 7.72c-.78.78-.78 2.05 0 2.83L4 21.41c.39.39.9.59 1.41.59.51 0 1.02-.2 1.41-.59l7.78-7.78 2.81-2.81c.8-.78.8-2.07 0-2.86zM5.41 20L4 18.59l7.72-7.72 1.47 1.35L5.41 20z\"/>\n",
              "  </svg>\n",
              "      </button>\n",
              "      \n",
              "  <style>\n",
              "    .colab-df-container {\n",
              "      display:flex;\n",
              "      flex-wrap:wrap;\n",
              "      gap: 12px;\n",
              "    }\n",
              "\n",
              "    .colab-df-convert {\n",
              "      background-color: #E8F0FE;\n",
              "      border: none;\n",
              "      border-radius: 50%;\n",
              "      cursor: pointer;\n",
              "      display: none;\n",
              "      fill: #1967D2;\n",
              "      height: 32px;\n",
              "      padding: 0 0 0 0;\n",
              "      width: 32px;\n",
              "    }\n",
              "\n",
              "    .colab-df-convert:hover {\n",
              "      background-color: #E2EBFA;\n",
              "      box-shadow: 0px 1px 2px rgba(60, 64, 67, 0.3), 0px 1px 3px 1px rgba(60, 64, 67, 0.15);\n",
              "      fill: #174EA6;\n",
              "    }\n",
              "\n",
              "    [theme=dark] .colab-df-convert {\n",
              "      background-color: #3B4455;\n",
              "      fill: #D2E3FC;\n",
              "    }\n",
              "\n",
              "    [theme=dark] .colab-df-convert:hover {\n",
              "      background-color: #434B5C;\n",
              "      box-shadow: 0px 1px 3px 1px rgba(0, 0, 0, 0.15);\n",
              "      filter: drop-shadow(0px 1px 2px rgba(0, 0, 0, 0.3));\n",
              "      fill: #FFFFFF;\n",
              "    }\n",
              "  </style>\n",
              "\n",
              "      <script>\n",
              "        const buttonEl =\n",
              "          document.querySelector('#df-6a588449-579e-43bc-bdf2-cebb97f27f20 button.colab-df-convert');\n",
              "        buttonEl.style.display =\n",
              "          google.colab.kernel.accessAllowed ? 'block' : 'none';\n",
              "\n",
              "        async function convertToInteractive(key) {\n",
              "          const element = document.querySelector('#df-6a588449-579e-43bc-bdf2-cebb97f27f20');\n",
              "          const dataTable =\n",
              "            await google.colab.kernel.invokeFunction('convertToInteractive',\n",
              "                                                     [key], {});\n",
              "          if (!dataTable) return;\n",
              "\n",
              "          const docLinkHtml = 'Like what you see? Visit the ' +\n",
              "            '<a target=\"_blank\" href=https://colab.research.google.com/notebooks/data_table.ipynb>data table notebook</a>'\n",
              "            + ' to learn more about interactive tables.';\n",
              "          element.innerHTML = '';\n",
              "          dataTable['output_type'] = 'display_data';\n",
              "          await google.colab.output.renderOutput(dataTable, element);\n",
              "          const docLink = document.createElement('div');\n",
              "          docLink.innerHTML = docLinkHtml;\n",
              "          element.appendChild(docLink);\n",
              "        }\n",
              "      </script>\n",
              "    </div>\n",
              "  </div>\n",
              "  "
            ]
          },
          "metadata": {},
          "execution_count": 53
        }
      ]
    },
    {
      "cell_type": "markdown",
      "source": [
        "Next, we narrow our scope of the feature collection to only focus on the bands that matter for NDVI, the `B5` (near-infrared), `B4` (red) and `NDVI` bands."
      ],
      "metadata": {
        "id": "nbkmE78lMYT7"
      }
    },
    {
      "cell_type": "code",
      "source": [
        "cols = ['B5', 'B4', 'NDVI', 'timestamp']\n",
        "keys = ['B5', 'B4', 'NDVI']\n",
        "source = pd.melt(\n",
        "    df[cols],\n",
        "    id_vars = 'timestamp',\n",
        "    value_vars= keys,\n",
        "    var_name = 'band'\n",
        ")"
      ],
      "metadata": {
        "id": "kEV1x8hSLvIm"
      },
      "execution_count": null,
      "outputs": []
    },
    {
      "cell_type": "code",
      "source": [
        "source.head()"
      ],
      "metadata": {
        "colab": {
          "base_uri": "https://localhost:8080/",
          "height": 206
        },
        "id": "2BFl0AqIM-QN",
        "outputId": "d667aa7b-0a48-4407-c41c-4fe489728504"
      },
      "execution_count": null,
      "outputs": [
        {
          "output_type": "execute_result",
          "data": {
            "text/plain": [
              "                timestamp band     value\n",
              "0 2013-04-04 18:46:05.025   B5  0.293017\n",
              "1 2013-04-09 18:46:34.757   B5  0.213810\n",
              "2 2013-04-16 18:47:53.562   B5  0.191339\n",
              "3 2013-06-03 18:48:07.578   B5  0.265166\n",
              "4 2013-06-19 18:48:00.461   B5  0.247551"
            ],
            "text/html": [
              "\n",
              "  <div id=\"df-7a401f08-3229-4112-aa85-38b96e29c716\">\n",
              "    <div class=\"colab-df-container\">\n",
              "      <div>\n",
              "<style scoped>\n",
              "    .dataframe tbody tr th:only-of-type {\n",
              "        vertical-align: middle;\n",
              "    }\n",
              "\n",
              "    .dataframe tbody tr th {\n",
              "        vertical-align: top;\n",
              "    }\n",
              "\n",
              "    .dataframe thead th {\n",
              "        text-align: right;\n",
              "    }\n",
              "</style>\n",
              "<table border=\"1\" class=\"dataframe\">\n",
              "  <thead>\n",
              "    <tr style=\"text-align: right;\">\n",
              "      <th></th>\n",
              "      <th>timestamp</th>\n",
              "      <th>band</th>\n",
              "      <th>value</th>\n",
              "    </tr>\n",
              "  </thead>\n",
              "  <tbody>\n",
              "    <tr>\n",
              "      <th>0</th>\n",
              "      <td>2013-04-04 18:46:05.025</td>\n",
              "      <td>B5</td>\n",
              "      <td>0.293017</td>\n",
              "    </tr>\n",
              "    <tr>\n",
              "      <th>1</th>\n",
              "      <td>2013-04-09 18:46:34.757</td>\n",
              "      <td>B5</td>\n",
              "      <td>0.213810</td>\n",
              "    </tr>\n",
              "    <tr>\n",
              "      <th>2</th>\n",
              "      <td>2013-04-16 18:47:53.562</td>\n",
              "      <td>B5</td>\n",
              "      <td>0.191339</td>\n",
              "    </tr>\n",
              "    <tr>\n",
              "      <th>3</th>\n",
              "      <td>2013-06-03 18:48:07.578</td>\n",
              "      <td>B5</td>\n",
              "      <td>0.265166</td>\n",
              "    </tr>\n",
              "    <tr>\n",
              "      <th>4</th>\n",
              "      <td>2013-06-19 18:48:00.461</td>\n",
              "      <td>B5</td>\n",
              "      <td>0.247551</td>\n",
              "    </tr>\n",
              "  </tbody>\n",
              "</table>\n",
              "</div>\n",
              "      <button class=\"colab-df-convert\" onclick=\"convertToInteractive('df-7a401f08-3229-4112-aa85-38b96e29c716')\"\n",
              "              title=\"Convert this dataframe to an interactive table.\"\n",
              "              style=\"display:none;\">\n",
              "        \n",
              "  <svg xmlns=\"http://www.w3.org/2000/svg\" height=\"24px\"viewBox=\"0 0 24 24\"\n",
              "       width=\"24px\">\n",
              "    <path d=\"M0 0h24v24H0V0z\" fill=\"none\"/>\n",
              "    <path d=\"M18.56 5.44l.94 2.06.94-2.06 2.06-.94-2.06-.94-.94-2.06-.94 2.06-2.06.94zm-11 1L8.5 8.5l.94-2.06 2.06-.94-2.06-.94L8.5 2.5l-.94 2.06-2.06.94zm10 10l.94 2.06.94-2.06 2.06-.94-2.06-.94-.94-2.06-.94 2.06-2.06.94z\"/><path d=\"M17.41 7.96l-1.37-1.37c-.4-.4-.92-.59-1.43-.59-.52 0-1.04.2-1.43.59L10.3 9.45l-7.72 7.72c-.78.78-.78 2.05 0 2.83L4 21.41c.39.39.9.59 1.41.59.51 0 1.02-.2 1.41-.59l7.78-7.78 2.81-2.81c.8-.78.8-2.07 0-2.86zM5.41 20L4 18.59l7.72-7.72 1.47 1.35L5.41 20z\"/>\n",
              "  </svg>\n",
              "      </button>\n",
              "      \n",
              "  <style>\n",
              "    .colab-df-container {\n",
              "      display:flex;\n",
              "      flex-wrap:wrap;\n",
              "      gap: 12px;\n",
              "    }\n",
              "\n",
              "    .colab-df-convert {\n",
              "      background-color: #E8F0FE;\n",
              "      border: none;\n",
              "      border-radius: 50%;\n",
              "      cursor: pointer;\n",
              "      display: none;\n",
              "      fill: #1967D2;\n",
              "      height: 32px;\n",
              "      padding: 0 0 0 0;\n",
              "      width: 32px;\n",
              "    }\n",
              "\n",
              "    .colab-df-convert:hover {\n",
              "      background-color: #E2EBFA;\n",
              "      box-shadow: 0px 1px 2px rgba(60, 64, 67, 0.3), 0px 1px 3px 1px rgba(60, 64, 67, 0.15);\n",
              "      fill: #174EA6;\n",
              "    }\n",
              "\n",
              "    [theme=dark] .colab-df-convert {\n",
              "      background-color: #3B4455;\n",
              "      fill: #D2E3FC;\n",
              "    }\n",
              "\n",
              "    [theme=dark] .colab-df-convert:hover {\n",
              "      background-color: #434B5C;\n",
              "      box-shadow: 0px 1px 3px 1px rgba(0, 0, 0, 0.15);\n",
              "      filter: drop-shadow(0px 1px 2px rgba(0, 0, 0, 0.3));\n",
              "      fill: #FFFFFF;\n",
              "    }\n",
              "  </style>\n",
              "\n",
              "      <script>\n",
              "        const buttonEl =\n",
              "          document.querySelector('#df-7a401f08-3229-4112-aa85-38b96e29c716 button.colab-df-convert');\n",
              "        buttonEl.style.display =\n",
              "          google.colab.kernel.accessAllowed ? 'block' : 'none';\n",
              "\n",
              "        async function convertToInteractive(key) {\n",
              "          const element = document.querySelector('#df-7a401f08-3229-4112-aa85-38b96e29c716');\n",
              "          const dataTable =\n",
              "            await google.colab.kernel.invokeFunction('convertToInteractive',\n",
              "                                                     [key], {});\n",
              "          if (!dataTable) return;\n",
              "\n",
              "          const docLinkHtml = 'Like what you see? Visit the ' +\n",
              "            '<a target=\"_blank\" href=https://colab.research.google.com/notebooks/data_table.ipynb>data table notebook</a>'\n",
              "            + ' to learn more about interactive tables.';\n",
              "          element.innerHTML = '';\n",
              "          dataTable['output_type'] = 'display_data';\n",
              "          await google.colab.output.renderOutput(dataTable, element);\n",
              "          const docLink = document.createElement('div');\n",
              "          docLink.innerHTML = docLinkHtml;\n",
              "          element.appendChild(docLink);\n",
              "        }\n",
              "      </script>\n",
              "    </div>\n",
              "  </div>\n",
              "  "
            ]
          },
          "metadata": {},
          "execution_count": 55
        }
      ]
    },
    {
      "cell_type": "markdown",
      "source": [
        "# DEMs"
      ],
      "metadata": {
        "id": "p6ZOyyV6Y7oo"
      }
    },
    {
      "cell_type": "markdown",
      "source": [
        "### DEMs of an Image"
      ],
      "metadata": {
        "id": "7uNKBwETyEMA"
      }
    },
    {
      "cell_type": "code",
      "source": [
        "# Instantiate and image object for the STRM elevation dataset.\n",
        "dem = ee.Image('CGIAR/SRTM90_V4') # ee.Image(imageId)"
      ],
      "metadata": {
        "id": "LkjbMYKP0cYw"
      },
      "execution_count": null,
      "outputs": []
    },
    {
      "cell_type": "code",
      "source": [
        "slope = ee.Terrain.slope(dem)\n",
        "aspect = ee.Terrain.aspect(dem)\n",
        "sinImage = aspect.divide(180).multiply(math.pi).sin()"
      ],
      "metadata": {
        "id": "XaPmYLiXfLP_"
      },
      "execution_count": null,
      "outputs": []
    },
    {
      "cell_type": "markdown",
      "source": [
        "### DEMs of a specific geometry within an image"
      ],
      "metadata": {
        "id": "SMwjxodSySZC"
      }
    },
    {
      "cell_type": "code",
      "source": [
        "# Load the DEM image\n",
        "dem = ee.Image('CGIAR/SRTM90_V4')\n",
        "\n",
        "# Compute slope and aspect\n",
        "slope = ee.Terrain.slope(dem)\n",
        "aspect = ee.Terrain.aspect(dem)\n",
        "sinImage = aspect.divide(180).multiply(math.pi).sin()\n",
        "\n",
        "# Define a geometry (e.g. a county)\n",
        "# -- Point\n",
        "#geometry = ee.Geometry.Point(-84.390571, 39.835658).buffer(10000)\n",
        "# --Region\n",
        "geom_clientside = {'type': 'Polygon',\n",
        " 'coordinates': [[[-122.243358, 37.453762],\n",
        "   [-122.256643, 37.350734],\n",
        "   [-122.044863, 37.360238],\n",
        "   [-122.12521, 37.450213],\n",
        "   [-122.229821, 37.453307],\n",
        "   [-122.243358, 37.453762]]]}\n",
        "geometry = ee.Geometry(geom_clientside)\n",
        "\n",
        "# Get the mean slope, aspect, and sin values for the geometry\n",
        "result = dem.addBands(slope).addBands(aspect).addBands(sinImage).reduceRegion(\n",
        "  reducer=ee.Reducer.mean(),\n",
        "  geometry=geometry,\n",
        "  scale=90,\n",
        "  maxPixels=1e13\n",
        ")\n",
        "\n",
        "# Convert the result to a Pandas DataFrame\n",
        "df = pd.DataFrame([result.getInfo()], columns=result.getInfo().keys())"
      ],
      "metadata": {
        "id": "MllsZVPsrFwl"
      },
      "execution_count": null,
      "outputs": []
    },
    {
      "cell_type": "code",
      "source": [
        "df"
      ],
      "metadata": {
        "colab": {
          "base_uri": "https://localhost:8080/",
          "height": 80
        },
        "id": "2xoTPowfr9N0",
        "outputId": "1a1198be-2701-4b6c-9ce9-e7cbfc65316e"
      },
      "execution_count": null,
      "outputs": [
        {
          "output_type": "execute_result",
          "data": {
            "text/plain": [
              "      aspect  aspect_1   elevation     slope\n",
              "0  137.34523  0.165867  104.474238  4.400242"
            ],
            "text/html": [
              "\n",
              "  <div id=\"df-ac2aebe6-884a-4ee3-9bf4-66a972097ab1\">\n",
              "    <div class=\"colab-df-container\">\n",
              "      <div>\n",
              "<style scoped>\n",
              "    .dataframe tbody tr th:only-of-type {\n",
              "        vertical-align: middle;\n",
              "    }\n",
              "\n",
              "    .dataframe tbody tr th {\n",
              "        vertical-align: top;\n",
              "    }\n",
              "\n",
              "    .dataframe thead th {\n",
              "        text-align: right;\n",
              "    }\n",
              "</style>\n",
              "<table border=\"1\" class=\"dataframe\">\n",
              "  <thead>\n",
              "    <tr style=\"text-align: right;\">\n",
              "      <th></th>\n",
              "      <th>aspect</th>\n",
              "      <th>aspect_1</th>\n",
              "      <th>elevation</th>\n",
              "      <th>slope</th>\n",
              "    </tr>\n",
              "  </thead>\n",
              "  <tbody>\n",
              "    <tr>\n",
              "      <th>0</th>\n",
              "      <td>137.34523</td>\n",
              "      <td>0.165867</td>\n",
              "      <td>104.474238</td>\n",
              "      <td>4.400242</td>\n",
              "    </tr>\n",
              "  </tbody>\n",
              "</table>\n",
              "</div>\n",
              "      <button class=\"colab-df-convert\" onclick=\"convertToInteractive('df-ac2aebe6-884a-4ee3-9bf4-66a972097ab1')\"\n",
              "              title=\"Convert this dataframe to an interactive table.\"\n",
              "              style=\"display:none;\">\n",
              "        \n",
              "  <svg xmlns=\"http://www.w3.org/2000/svg\" height=\"24px\"viewBox=\"0 0 24 24\"\n",
              "       width=\"24px\">\n",
              "    <path d=\"M0 0h24v24H0V0z\" fill=\"none\"/>\n",
              "    <path d=\"M18.56 5.44l.94 2.06.94-2.06 2.06-.94-2.06-.94-.94-2.06-.94 2.06-2.06.94zm-11 1L8.5 8.5l.94-2.06 2.06-.94-2.06-.94L8.5 2.5l-.94 2.06-2.06.94zm10 10l.94 2.06.94-2.06 2.06-.94-2.06-.94-.94-2.06-.94 2.06-2.06.94z\"/><path d=\"M17.41 7.96l-1.37-1.37c-.4-.4-.92-.59-1.43-.59-.52 0-1.04.2-1.43.59L10.3 9.45l-7.72 7.72c-.78.78-.78 2.05 0 2.83L4 21.41c.39.39.9.59 1.41.59.51 0 1.02-.2 1.41-.59l7.78-7.78 2.81-2.81c.8-.78.8-2.07 0-2.86zM5.41 20L4 18.59l7.72-7.72 1.47 1.35L5.41 20z\"/>\n",
              "  </svg>\n",
              "      </button>\n",
              "      \n",
              "  <style>\n",
              "    .colab-df-container {\n",
              "      display:flex;\n",
              "      flex-wrap:wrap;\n",
              "      gap: 12px;\n",
              "    }\n",
              "\n",
              "    .colab-df-convert {\n",
              "      background-color: #E8F0FE;\n",
              "      border: none;\n",
              "      border-radius: 50%;\n",
              "      cursor: pointer;\n",
              "      display: none;\n",
              "      fill: #1967D2;\n",
              "      height: 32px;\n",
              "      padding: 0 0 0 0;\n",
              "      width: 32px;\n",
              "    }\n",
              "\n",
              "    .colab-df-convert:hover {\n",
              "      background-color: #E2EBFA;\n",
              "      box-shadow: 0px 1px 2px rgba(60, 64, 67, 0.3), 0px 1px 3px 1px rgba(60, 64, 67, 0.15);\n",
              "      fill: #174EA6;\n",
              "    }\n",
              "\n",
              "    [theme=dark] .colab-df-convert {\n",
              "      background-color: #3B4455;\n",
              "      fill: #D2E3FC;\n",
              "    }\n",
              "\n",
              "    [theme=dark] .colab-df-convert:hover {\n",
              "      background-color: #434B5C;\n",
              "      box-shadow: 0px 1px 3px 1px rgba(0, 0, 0, 0.15);\n",
              "      filter: drop-shadow(0px 1px 2px rgba(0, 0, 0, 0.3));\n",
              "      fill: #FFFFFF;\n",
              "    }\n",
              "  </style>\n",
              "\n",
              "      <script>\n",
              "        const buttonEl =\n",
              "          document.querySelector('#df-ac2aebe6-884a-4ee3-9bf4-66a972097ab1 button.colab-df-convert');\n",
              "        buttonEl.style.display =\n",
              "          google.colab.kernel.accessAllowed ? 'block' : 'none';\n",
              "\n",
              "        async function convertToInteractive(key) {\n",
              "          const element = document.querySelector('#df-ac2aebe6-884a-4ee3-9bf4-66a972097ab1');\n",
              "          const dataTable =\n",
              "            await google.colab.kernel.invokeFunction('convertToInteractive',\n",
              "                                                     [key], {});\n",
              "          if (!dataTable) return;\n",
              "\n",
              "          const docLinkHtml = 'Like what you see? Visit the ' +\n",
              "            '<a target=\"_blank\" href=https://colab.research.google.com/notebooks/data_table.ipynb>data table notebook</a>'\n",
              "            + ' to learn more about interactive tables.';\n",
              "          element.innerHTML = '';\n",
              "          dataTable['output_type'] = 'display_data';\n",
              "          await google.colab.output.renderOutput(dataTable, element);\n",
              "          const docLink = document.createElement('div');\n",
              "          docLink.innerHTML = docLinkHtml;\n",
              "          element.appendChild(docLink);\n",
              "        }\n",
              "      </script>\n",
              "    </div>\n",
              "  </div>\n",
              "  "
            ]
          },
          "metadata": {},
          "execution_count": 59
        }
      ]
    },
    {
      "cell_type": "markdown",
      "source": [
        "### DEMS of Counties in Ohio"
      ],
      "metadata": {
        "id": "t_STwc-1fMS4"
      }
    },
    {
      "cell_type": "code",
      "source": [
        "# Define function to get polygon geometry of each county\n",
        "def get_county_geometry(feature):\n",
        "    name = feature.get('NAME')\n",
        "    geometry = feature.geometry()\n",
        "    return ee.Feature(geometry, {'name': name})\n",
        "\n",
        "# Load county boundaries\n",
        "counties = ee.FeatureCollection('TIGER/2018/Counties').filter(ee.Filter.eq('STATEFP', '39'))\n",
        "\n",
        "# Map over county features to get polygon geometry of each county\n",
        "county_geometries = counties.map(get_county_geometry)\n",
        "\n",
        "# Define function to calculate slope, aspect, and elevation from SRTM data\n",
        "def get_terrain_data(feature):\n",
        "    dem = ee.Image('CGIAR/SRTM90_V4')\n",
        "    geometry = feature.geometry()\n",
        "    slope = ee.Terrain.slope(dem).reduceRegion(ee.Reducer.mean(), geometry, 90)\n",
        "    aspect = ee.Terrain.aspect(dem).reduceRegion(ee.Reducer.mean(), geometry, 90)\n",
        "    elevation = dem.reduceRegion(ee.Reducer.mean(), geometry, 90)\n",
        "    return ee.Feature(geometry, {'slope': slope, 'aspect': aspect, 'elevation': elevation})\n",
        "\n",
        "# Map over county geometries to calculate terrain data for each county\n",
        "terrain_data = county_geometries.map(get_terrain_data)\n",
        "\n",
        "# Convert terrain data to a pandas dataframe\n",
        "df1 = pd.DataFrame(terrain_data.getInfo()['features'])\n"
      ],
      "metadata": {
        "id": "8HCjyX7stEjq"
      },
      "execution_count": null,
      "outputs": []
    },
    {
      "cell_type": "code",
      "source": [
        "df1"
      ],
      "metadata": {
        "colab": {
          "base_uri": "https://localhost:8080/",
          "height": 423
        },
        "id": "Jsp4tftUtq42",
        "outputId": "b21e2ca6-2c67-4344-d7e6-3c8f9551dbe0"
      },
      "execution_count": null,
      "outputs": [
        {
          "output_type": "execute_result",
          "data": {
            "text/plain": [
              "       type                                           geometry  \\\n",
              "0   Feature  {'type': 'Polygon', 'coordinates': [[[-83.4159...   \n",
              "1   Feature  {'type': 'Polygon', 'coordinates': [[[-84.3995...   \n",
              "2   Feature  {'type': 'Polygon', 'coordinates': [[[-83.8832...   \n",
              "3   Feature  {'type': 'Polygon', 'coordinates': [[[-83.8836...   \n",
              "4   Feature  {'type': 'Polygon', 'coordinates': [[[-81.8536...   \n",
              "..      ...                                                ...   \n",
              "83  Feature  {'type': 'Polygon', 'coordinates': [[[-84.4346...   \n",
              "84  Feature  {'type': 'Polygon', 'coordinates': [[[-84.0537...   \n",
              "85  Feature  {'type': 'Polygon', 'coordinates': [[[-84.0360...   \n",
              "86  Feature  {'type': 'Polygon', 'coordinates': [[[-83.8811...   \n",
              "87  Feature  {'type': 'Polygon', 'coordinates': [[[-83.4212...   \n",
              "\n",
              "                      id                                         properties  \n",
              "0   0000000000000000005c  {'aspect': {'aspect': 65.14672099369082}, 'ele...  \n",
              "1   0000000000000000005d  {'aspect': {'aspect': 150.65601418474628}, 'el...  \n",
              "2   0000000000000000005e  {'aspect': {'aspect': 87.36197239311343}, 'ele...  \n",
              "3   0000000000000000005f  {'aspect': {'aspect': 142.6492533973185}, 'ele...  \n",
              "4   000000000000000001fd  {'aspect': {'aspect': 174.05815026632834}, 'el...  \n",
              "..                   ...                                                ...  \n",
              "83  00000000000000000858  {'aspect': {'aspect': 161.67966888559977}, 'el...  \n",
              "84  00000000000000000859  {'aspect': {'aspect': 169.09585525204403}, 'el...  \n",
              "85  0000000000000000085a  {'aspect': {'aspect': 157.56404877125402}, 'el...  \n",
              "86  00000000000000000894  {'aspect': {'aspect': 156.00093607168907}, 'el...  \n",
              "87  00000000000000000895  {'aspect': {'aspect': 157.3352907734359}, 'ele...  \n",
              "\n",
              "[88 rows x 4 columns]"
            ],
            "text/html": [
              "\n",
              "  <div id=\"df-aa2b5884-fbcb-4a18-a071-355c9aca03d6\">\n",
              "    <div class=\"colab-df-container\">\n",
              "      <div>\n",
              "<style scoped>\n",
              "    .dataframe tbody tr th:only-of-type {\n",
              "        vertical-align: middle;\n",
              "    }\n",
              "\n",
              "    .dataframe tbody tr th {\n",
              "        vertical-align: top;\n",
              "    }\n",
              "\n",
              "    .dataframe thead th {\n",
              "        text-align: right;\n",
              "    }\n",
              "</style>\n",
              "<table border=\"1\" class=\"dataframe\">\n",
              "  <thead>\n",
              "    <tr style=\"text-align: right;\">\n",
              "      <th></th>\n",
              "      <th>type</th>\n",
              "      <th>geometry</th>\n",
              "      <th>id</th>\n",
              "      <th>properties</th>\n",
              "    </tr>\n",
              "  </thead>\n",
              "  <tbody>\n",
              "    <tr>\n",
              "      <th>0</th>\n",
              "      <td>Feature</td>\n",
              "      <td>{'type': 'Polygon', 'coordinates': [[[-83.4159...</td>\n",
              "      <td>0000000000000000005c</td>\n",
              "      <td>{'aspect': {'aspect': 65.14672099369082}, 'ele...</td>\n",
              "    </tr>\n",
              "    <tr>\n",
              "      <th>1</th>\n",
              "      <td>Feature</td>\n",
              "      <td>{'type': 'Polygon', 'coordinates': [[[-84.3995...</td>\n",
              "      <td>0000000000000000005d</td>\n",
              "      <td>{'aspect': {'aspect': 150.65601418474628}, 'el...</td>\n",
              "    </tr>\n",
              "    <tr>\n",
              "      <th>2</th>\n",
              "      <td>Feature</td>\n",
              "      <td>{'type': 'Polygon', 'coordinates': [[[-83.8832...</td>\n",
              "      <td>0000000000000000005e</td>\n",
              "      <td>{'aspect': {'aspect': 87.36197239311343}, 'ele...</td>\n",
              "    </tr>\n",
              "    <tr>\n",
              "      <th>3</th>\n",
              "      <td>Feature</td>\n",
              "      <td>{'type': 'Polygon', 'coordinates': [[[-83.8836...</td>\n",
              "      <td>0000000000000000005f</td>\n",
              "      <td>{'aspect': {'aspect': 142.6492533973185}, 'ele...</td>\n",
              "    </tr>\n",
              "    <tr>\n",
              "      <th>4</th>\n",
              "      <td>Feature</td>\n",
              "      <td>{'type': 'Polygon', 'coordinates': [[[-81.8536...</td>\n",
              "      <td>000000000000000001fd</td>\n",
              "      <td>{'aspect': {'aspect': 174.05815026632834}, 'el...</td>\n",
              "    </tr>\n",
              "    <tr>\n",
              "      <th>...</th>\n",
              "      <td>...</td>\n",
              "      <td>...</td>\n",
              "      <td>...</td>\n",
              "      <td>...</td>\n",
              "    </tr>\n",
              "    <tr>\n",
              "      <th>83</th>\n",
              "      <td>Feature</td>\n",
              "      <td>{'type': 'Polygon', 'coordinates': [[[-84.4346...</td>\n",
              "      <td>00000000000000000858</td>\n",
              "      <td>{'aspect': {'aspect': 161.67966888559977}, 'el...</td>\n",
              "    </tr>\n",
              "    <tr>\n",
              "      <th>84</th>\n",
              "      <td>Feature</td>\n",
              "      <td>{'type': 'Polygon', 'coordinates': [[[-84.0537...</td>\n",
              "      <td>00000000000000000859</td>\n",
              "      <td>{'aspect': {'aspect': 169.09585525204403}, 'el...</td>\n",
              "    </tr>\n",
              "    <tr>\n",
              "      <th>85</th>\n",
              "      <td>Feature</td>\n",
              "      <td>{'type': 'Polygon', 'coordinates': [[[-84.0360...</td>\n",
              "      <td>0000000000000000085a</td>\n",
              "      <td>{'aspect': {'aspect': 157.56404877125402}, 'el...</td>\n",
              "    </tr>\n",
              "    <tr>\n",
              "      <th>86</th>\n",
              "      <td>Feature</td>\n",
              "      <td>{'type': 'Polygon', 'coordinates': [[[-83.8811...</td>\n",
              "      <td>00000000000000000894</td>\n",
              "      <td>{'aspect': {'aspect': 156.00093607168907}, 'el...</td>\n",
              "    </tr>\n",
              "    <tr>\n",
              "      <th>87</th>\n",
              "      <td>Feature</td>\n",
              "      <td>{'type': 'Polygon', 'coordinates': [[[-83.4212...</td>\n",
              "      <td>00000000000000000895</td>\n",
              "      <td>{'aspect': {'aspect': 157.3352907734359}, 'ele...</td>\n",
              "    </tr>\n",
              "  </tbody>\n",
              "</table>\n",
              "<p>88 rows × 4 columns</p>\n",
              "</div>\n",
              "      <button class=\"colab-df-convert\" onclick=\"convertToInteractive('df-aa2b5884-fbcb-4a18-a071-355c9aca03d6')\"\n",
              "              title=\"Convert this dataframe to an interactive table.\"\n",
              "              style=\"display:none;\">\n",
              "        \n",
              "  <svg xmlns=\"http://www.w3.org/2000/svg\" height=\"24px\"viewBox=\"0 0 24 24\"\n",
              "       width=\"24px\">\n",
              "    <path d=\"M0 0h24v24H0V0z\" fill=\"none\"/>\n",
              "    <path d=\"M18.56 5.44l.94 2.06.94-2.06 2.06-.94-2.06-.94-.94-2.06-.94 2.06-2.06.94zm-11 1L8.5 8.5l.94-2.06 2.06-.94-2.06-.94L8.5 2.5l-.94 2.06-2.06.94zm10 10l.94 2.06.94-2.06 2.06-.94-2.06-.94-.94-2.06-.94 2.06-2.06.94z\"/><path d=\"M17.41 7.96l-1.37-1.37c-.4-.4-.92-.59-1.43-.59-.52 0-1.04.2-1.43.59L10.3 9.45l-7.72 7.72c-.78.78-.78 2.05 0 2.83L4 21.41c.39.39.9.59 1.41.59.51 0 1.02-.2 1.41-.59l7.78-7.78 2.81-2.81c.8-.78.8-2.07 0-2.86zM5.41 20L4 18.59l7.72-7.72 1.47 1.35L5.41 20z\"/>\n",
              "  </svg>\n",
              "      </button>\n",
              "      \n",
              "  <style>\n",
              "    .colab-df-container {\n",
              "      display:flex;\n",
              "      flex-wrap:wrap;\n",
              "      gap: 12px;\n",
              "    }\n",
              "\n",
              "    .colab-df-convert {\n",
              "      background-color: #E8F0FE;\n",
              "      border: none;\n",
              "      border-radius: 50%;\n",
              "      cursor: pointer;\n",
              "      display: none;\n",
              "      fill: #1967D2;\n",
              "      height: 32px;\n",
              "      padding: 0 0 0 0;\n",
              "      width: 32px;\n",
              "    }\n",
              "\n",
              "    .colab-df-convert:hover {\n",
              "      background-color: #E2EBFA;\n",
              "      box-shadow: 0px 1px 2px rgba(60, 64, 67, 0.3), 0px 1px 3px 1px rgba(60, 64, 67, 0.15);\n",
              "      fill: #174EA6;\n",
              "    }\n",
              "\n",
              "    [theme=dark] .colab-df-convert {\n",
              "      background-color: #3B4455;\n",
              "      fill: #D2E3FC;\n",
              "    }\n",
              "\n",
              "    [theme=dark] .colab-df-convert:hover {\n",
              "      background-color: #434B5C;\n",
              "      box-shadow: 0px 1px 3px 1px rgba(0, 0, 0, 0.15);\n",
              "      filter: drop-shadow(0px 1px 2px rgba(0, 0, 0, 0.3));\n",
              "      fill: #FFFFFF;\n",
              "    }\n",
              "  </style>\n",
              "\n",
              "      <script>\n",
              "        const buttonEl =\n",
              "          document.querySelector('#df-aa2b5884-fbcb-4a18-a071-355c9aca03d6 button.colab-df-convert');\n",
              "        buttonEl.style.display =\n",
              "          google.colab.kernel.accessAllowed ? 'block' : 'none';\n",
              "\n",
              "        async function convertToInteractive(key) {\n",
              "          const element = document.querySelector('#df-aa2b5884-fbcb-4a18-a071-355c9aca03d6');\n",
              "          const dataTable =\n",
              "            await google.colab.kernel.invokeFunction('convertToInteractive',\n",
              "                                                     [key], {});\n",
              "          if (!dataTable) return;\n",
              "\n",
              "          const docLinkHtml = 'Like what you see? Visit the ' +\n",
              "            '<a target=\"_blank\" href=https://colab.research.google.com/notebooks/data_table.ipynb>data table notebook</a>'\n",
              "            + ' to learn more about interactive tables.';\n",
              "          element.innerHTML = '';\n",
              "          dataTable['output_type'] = 'display_data';\n",
              "          await google.colab.output.renderOutput(dataTable, element);\n",
              "          const docLink = document.createElement('div');\n",
              "          docLink.innerHTML = docLinkHtml;\n",
              "          element.appendChild(docLink);\n",
              "        }\n",
              "      </script>\n",
              "    </div>\n",
              "  </div>\n",
              "  "
            ]
          },
          "metadata": {},
          "execution_count": 61
        }
      ]
    },
    {
      "cell_type": "markdown",
      "source": [
        "確認一下 county names"
      ],
      "metadata": {
        "id": "45WB-oWU-mY-"
      }
    },
    {
      "cell_type": "code",
      "source": [
        "counties = ee.FeatureCollection('TIGER/2018/Counties').filter(ee.Filter.eq('STATEFP', '39'))\n",
        "\n",
        "# Create a list to store the county names\n",
        "county_names = []\n",
        "\n",
        "# Loop through each feature and get the county name\n",
        "for county in counties.getInfo()['features']:\n",
        "    name = county['properties']['NAME']\n",
        "    county_names.append(name)\n",
        "\n",
        "print(county_names)\n"
      ],
      "metadata": {
        "colab": {
          "base_uri": "https://localhost:8080/"
        },
        "id": "hso297Qcwc7h",
        "outputId": "b3788bd4-7c35-47dc-ff9b-0b471c73a980"
      },
      "execution_count": null,
      "outputs": [
        {
          "output_type": "stream",
          "name": "stdout",
          "text": [
            "['Ottawa', 'Fulton', 'Lucas', 'Wood', 'Washington', 'Jefferson', 'Lawrence', 'Scioto', 'Columbiana', 'Trumbull', 'Mahoning', 'Mercer', 'Allen', 'Van Wert', 'Auglaize', 'Ashland', 'Crawford', 'Richland', 'Morgan', 'Vinton', 'Paulding', 'Henry', 'Pike', 'Monroe', 'Adams', 'Harrison', 'Preble', 'Highland', 'Williams', 'Wyandot', 'Holmes', 'Hardin', 'Noble', 'Putnam', 'Meigs', 'Athens', 'Coshocton', 'Defiance', 'Sandusky', 'Jackson', 'Gallia', 'Belmont', 'Wayne', 'Butler', 'Brown', 'Warren', 'Hamilton', 'Clermont', 'Clinton', 'Portage', 'Summit', 'Ashtabula', 'Stark', 'Carroll', 'Lake', 'Cuyahoga', 'Medina', 'Lorain', 'Geauga', 'Tuscarawas', 'Huron', 'Erie', 'Logan', 'Guernsey', 'Ross', 'Pickaway', 'Hocking', 'Delaware', 'Morrow', 'Perry', 'Union', 'Fairfield', 'Licking', 'Madison', 'Franklin', 'Marion', 'Knox', 'Fayette', 'Muskingum', 'Miami', 'Greene', 'Montgomery', 'Darke', 'Shelby', 'Clark', 'Champaign', 'Hancock', 'Seneca']\n"
          ]
        }
      ]
    },
    {
      "cell_type": "code",
      "source": [
        "df1.iloc[0]['properties']"
      ],
      "metadata": {
        "colab": {
          "base_uri": "https://localhost:8080/"
        },
        "id": "JzMYkihFv5pB",
        "outputId": "46ed9b5c-4785-4b98-84e9-0d927f1d2c61"
      },
      "execution_count": null,
      "outputs": [
        {
          "output_type": "execute_result",
          "data": {
            "text/plain": [
              "{'aspect': {'aspect': 65.14672099369082},\n",
              " 'elevation': {'elevation': 174.84827943481793},\n",
              " 'slope': {'slope': 0.4264240954834813}}"
            ]
          },
          "metadata": {},
          "execution_count": 63
        }
      ]
    },
    {
      "cell_type": "code",
      "source": [
        "#geom_clientside = df.iloc[0]['geometry']"
      ],
      "metadata": {
        "id": "Isp-aPuTuu0c"
      },
      "execution_count": null,
      "outputs": []
    },
    {
      "cell_type": "code",
      "source": [
        "# Define function to get polygon geometry of each county\n",
        "def get_county_geometry(feature):\n",
        "    name = feature.get('NAME')\n",
        "    geometry = feature.geometry()\n",
        "    return ee.Feature(geometry, {'name': name})\n",
        "\n",
        "# Load county boundaries\n",
        "counties = ee.FeatureCollection('TIGER/2018/Counties').filter(ee.Filter.eq('STATEFP', '39'))\n",
        "\n",
        "# Map over county features to get polygon geometry of each county\n",
        "county_geometries = counties.map(get_county_geometry)\n",
        "\n",
        "# Define function to calculate slope, aspect, and elevation from SRTM data\n",
        "def get_terrain_data(feature):\n",
        "    dem = ee.Image('CGIAR/SRTM90_V4')\n",
        "    geometry = feature.geometry()\n",
        "    slope = ee.Terrain.slope(dem).reduceRegion(ee.Reducer.mean(), geometry, 90)\n",
        "    aspect = ee.Terrain.aspect(dem).reduceRegion(ee.Reducer.mean(), geometry, 90)\n",
        "    elevation = dem.reduceRegion(ee.Reducer.mean(), geometry, 90)\n",
        "    name = feature.get('name')\n",
        "    return ee.Feature(geometry, {'slope': slope, 'aspect': aspect, 'elevation': elevation, 'name': name})\n",
        "    \n",
        "\n",
        "# Map over county geometries to calculate terrain data for each county\n",
        "terrain_data = county_geometries.map(get_terrain_data)\n",
        "\n",
        "# Convert terrain data to a pandas dataframe\n",
        "df = pd.DataFrame(terrain_data.getInfo()['features'])"
      ],
      "metadata": {
        "id": "Al9mLh-PuKej"
      },
      "execution_count": null,
      "outputs": []
    },
    {
      "cell_type": "code",
      "source": [
        "df"
      ],
      "metadata": {
        "colab": {
          "base_uri": "https://localhost:8080/",
          "height": 423
        },
        "id": "fNvnuhRczKGk",
        "outputId": "13fe1eef-7e2d-40c0-da1f-da0fa4ca32ea"
      },
      "execution_count": null,
      "outputs": [
        {
          "output_type": "execute_result",
          "data": {
            "text/plain": [
              "       type                                           geometry  \\\n",
              "0   Feature  {'type': 'Polygon', 'coordinates': [[[-83.4159...   \n",
              "1   Feature  {'type': 'Polygon', 'coordinates': [[[-84.3995...   \n",
              "2   Feature  {'type': 'Polygon', 'coordinates': [[[-83.8832...   \n",
              "3   Feature  {'type': 'Polygon', 'coordinates': [[[-83.8836...   \n",
              "4   Feature  {'type': 'Polygon', 'coordinates': [[[-81.8536...   \n",
              "..      ...                                                ...   \n",
              "83  Feature  {'type': 'Polygon', 'coordinates': [[[-84.4346...   \n",
              "84  Feature  {'type': 'Polygon', 'coordinates': [[[-84.0537...   \n",
              "85  Feature  {'type': 'Polygon', 'coordinates': [[[-84.0360...   \n",
              "86  Feature  {'type': 'Polygon', 'coordinates': [[[-83.8811...   \n",
              "87  Feature  {'type': 'Polygon', 'coordinates': [[[-83.4212...   \n",
              "\n",
              "                      id                                         properties  \n",
              "0   0000000000000000005c  {'aspect': {'aspect': 65.14672099369082}, 'ele...  \n",
              "1   0000000000000000005d  {'aspect': {'aspect': 150.65601418474628}, 'el...  \n",
              "2   0000000000000000005e  {'aspect': {'aspect': 87.36197239311343}, 'ele...  \n",
              "3   0000000000000000005f  {'aspect': {'aspect': 142.6492533973185}, 'ele...  \n",
              "4   000000000000000001fd  {'aspect': {'aspect': 174.05815026632834}, 'el...  \n",
              "..                   ...                                                ...  \n",
              "83  00000000000000000858  {'aspect': {'aspect': 161.67966888559977}, 'el...  \n",
              "84  00000000000000000859  {'aspect': {'aspect': 169.09585525204403}, 'el...  \n",
              "85  0000000000000000085a  {'aspect': {'aspect': 157.56404877125402}, 'el...  \n",
              "86  00000000000000000894  {'aspect': {'aspect': 156.00093607168907}, 'el...  \n",
              "87  00000000000000000895  {'aspect': {'aspect': 157.3352907734359}, 'ele...  \n",
              "\n",
              "[88 rows x 4 columns]"
            ],
            "text/html": [
              "\n",
              "  <div id=\"df-c69cafa3-abd2-43ef-9521-eb32769cb84d\">\n",
              "    <div class=\"colab-df-container\">\n",
              "      <div>\n",
              "<style scoped>\n",
              "    .dataframe tbody tr th:only-of-type {\n",
              "        vertical-align: middle;\n",
              "    }\n",
              "\n",
              "    .dataframe tbody tr th {\n",
              "        vertical-align: top;\n",
              "    }\n",
              "\n",
              "    .dataframe thead th {\n",
              "        text-align: right;\n",
              "    }\n",
              "</style>\n",
              "<table border=\"1\" class=\"dataframe\">\n",
              "  <thead>\n",
              "    <tr style=\"text-align: right;\">\n",
              "      <th></th>\n",
              "      <th>type</th>\n",
              "      <th>geometry</th>\n",
              "      <th>id</th>\n",
              "      <th>properties</th>\n",
              "    </tr>\n",
              "  </thead>\n",
              "  <tbody>\n",
              "    <tr>\n",
              "      <th>0</th>\n",
              "      <td>Feature</td>\n",
              "      <td>{'type': 'Polygon', 'coordinates': [[[-83.4159...</td>\n",
              "      <td>0000000000000000005c</td>\n",
              "      <td>{'aspect': {'aspect': 65.14672099369082}, 'ele...</td>\n",
              "    </tr>\n",
              "    <tr>\n",
              "      <th>1</th>\n",
              "      <td>Feature</td>\n",
              "      <td>{'type': 'Polygon', 'coordinates': [[[-84.3995...</td>\n",
              "      <td>0000000000000000005d</td>\n",
              "      <td>{'aspect': {'aspect': 150.65601418474628}, 'el...</td>\n",
              "    </tr>\n",
              "    <tr>\n",
              "      <th>2</th>\n",
              "      <td>Feature</td>\n",
              "      <td>{'type': 'Polygon', 'coordinates': [[[-83.8832...</td>\n",
              "      <td>0000000000000000005e</td>\n",
              "      <td>{'aspect': {'aspect': 87.36197239311343}, 'ele...</td>\n",
              "    </tr>\n",
              "    <tr>\n",
              "      <th>3</th>\n",
              "      <td>Feature</td>\n",
              "      <td>{'type': 'Polygon', 'coordinates': [[[-83.8836...</td>\n",
              "      <td>0000000000000000005f</td>\n",
              "      <td>{'aspect': {'aspect': 142.6492533973185}, 'ele...</td>\n",
              "    </tr>\n",
              "    <tr>\n",
              "      <th>4</th>\n",
              "      <td>Feature</td>\n",
              "      <td>{'type': 'Polygon', 'coordinates': [[[-81.8536...</td>\n",
              "      <td>000000000000000001fd</td>\n",
              "      <td>{'aspect': {'aspect': 174.05815026632834}, 'el...</td>\n",
              "    </tr>\n",
              "    <tr>\n",
              "      <th>...</th>\n",
              "      <td>...</td>\n",
              "      <td>...</td>\n",
              "      <td>...</td>\n",
              "      <td>...</td>\n",
              "    </tr>\n",
              "    <tr>\n",
              "      <th>83</th>\n",
              "      <td>Feature</td>\n",
              "      <td>{'type': 'Polygon', 'coordinates': [[[-84.4346...</td>\n",
              "      <td>00000000000000000858</td>\n",
              "      <td>{'aspect': {'aspect': 161.67966888559977}, 'el...</td>\n",
              "    </tr>\n",
              "    <tr>\n",
              "      <th>84</th>\n",
              "      <td>Feature</td>\n",
              "      <td>{'type': 'Polygon', 'coordinates': [[[-84.0537...</td>\n",
              "      <td>00000000000000000859</td>\n",
              "      <td>{'aspect': {'aspect': 169.09585525204403}, 'el...</td>\n",
              "    </tr>\n",
              "    <tr>\n",
              "      <th>85</th>\n",
              "      <td>Feature</td>\n",
              "      <td>{'type': 'Polygon', 'coordinates': [[[-84.0360...</td>\n",
              "      <td>0000000000000000085a</td>\n",
              "      <td>{'aspect': {'aspect': 157.56404877125402}, 'el...</td>\n",
              "    </tr>\n",
              "    <tr>\n",
              "      <th>86</th>\n",
              "      <td>Feature</td>\n",
              "      <td>{'type': 'Polygon', 'coordinates': [[[-83.8811...</td>\n",
              "      <td>00000000000000000894</td>\n",
              "      <td>{'aspect': {'aspect': 156.00093607168907}, 'el...</td>\n",
              "    </tr>\n",
              "    <tr>\n",
              "      <th>87</th>\n",
              "      <td>Feature</td>\n",
              "      <td>{'type': 'Polygon', 'coordinates': [[[-83.4212...</td>\n",
              "      <td>00000000000000000895</td>\n",
              "      <td>{'aspect': {'aspect': 157.3352907734359}, 'ele...</td>\n",
              "    </tr>\n",
              "  </tbody>\n",
              "</table>\n",
              "<p>88 rows × 4 columns</p>\n",
              "</div>\n",
              "      <button class=\"colab-df-convert\" onclick=\"convertToInteractive('df-c69cafa3-abd2-43ef-9521-eb32769cb84d')\"\n",
              "              title=\"Convert this dataframe to an interactive table.\"\n",
              "              style=\"display:none;\">\n",
              "        \n",
              "  <svg xmlns=\"http://www.w3.org/2000/svg\" height=\"24px\"viewBox=\"0 0 24 24\"\n",
              "       width=\"24px\">\n",
              "    <path d=\"M0 0h24v24H0V0z\" fill=\"none\"/>\n",
              "    <path d=\"M18.56 5.44l.94 2.06.94-2.06 2.06-.94-2.06-.94-.94-2.06-.94 2.06-2.06.94zm-11 1L8.5 8.5l.94-2.06 2.06-.94-2.06-.94L8.5 2.5l-.94 2.06-2.06.94zm10 10l.94 2.06.94-2.06 2.06-.94-2.06-.94-.94-2.06-.94 2.06-2.06.94z\"/><path d=\"M17.41 7.96l-1.37-1.37c-.4-.4-.92-.59-1.43-.59-.52 0-1.04.2-1.43.59L10.3 9.45l-7.72 7.72c-.78.78-.78 2.05 0 2.83L4 21.41c.39.39.9.59 1.41.59.51 0 1.02-.2 1.41-.59l7.78-7.78 2.81-2.81c.8-.78.8-2.07 0-2.86zM5.41 20L4 18.59l7.72-7.72 1.47 1.35L5.41 20z\"/>\n",
              "  </svg>\n",
              "      </button>\n",
              "      \n",
              "  <style>\n",
              "    .colab-df-container {\n",
              "      display:flex;\n",
              "      flex-wrap:wrap;\n",
              "      gap: 12px;\n",
              "    }\n",
              "\n",
              "    .colab-df-convert {\n",
              "      background-color: #E8F0FE;\n",
              "      border: none;\n",
              "      border-radius: 50%;\n",
              "      cursor: pointer;\n",
              "      display: none;\n",
              "      fill: #1967D2;\n",
              "      height: 32px;\n",
              "      padding: 0 0 0 0;\n",
              "      width: 32px;\n",
              "    }\n",
              "\n",
              "    .colab-df-convert:hover {\n",
              "      background-color: #E2EBFA;\n",
              "      box-shadow: 0px 1px 2px rgba(60, 64, 67, 0.3), 0px 1px 3px 1px rgba(60, 64, 67, 0.15);\n",
              "      fill: #174EA6;\n",
              "    }\n",
              "\n",
              "    [theme=dark] .colab-df-convert {\n",
              "      background-color: #3B4455;\n",
              "      fill: #D2E3FC;\n",
              "    }\n",
              "\n",
              "    [theme=dark] .colab-df-convert:hover {\n",
              "      background-color: #434B5C;\n",
              "      box-shadow: 0px 1px 3px 1px rgba(0, 0, 0, 0.15);\n",
              "      filter: drop-shadow(0px 1px 2px rgba(0, 0, 0, 0.3));\n",
              "      fill: #FFFFFF;\n",
              "    }\n",
              "  </style>\n",
              "\n",
              "      <script>\n",
              "        const buttonEl =\n",
              "          document.querySelector('#df-c69cafa3-abd2-43ef-9521-eb32769cb84d button.colab-df-convert');\n",
              "        buttonEl.style.display =\n",
              "          google.colab.kernel.accessAllowed ? 'block' : 'none';\n",
              "\n",
              "        async function convertToInteractive(key) {\n",
              "          const element = document.querySelector('#df-c69cafa3-abd2-43ef-9521-eb32769cb84d');\n",
              "          const dataTable =\n",
              "            await google.colab.kernel.invokeFunction('convertToInteractive',\n",
              "                                                     [key], {});\n",
              "          if (!dataTable) return;\n",
              "\n",
              "          const docLinkHtml = 'Like what you see? Visit the ' +\n",
              "            '<a target=\"_blank\" href=https://colab.research.google.com/notebooks/data_table.ipynb>data table notebook</a>'\n",
              "            + ' to learn more about interactive tables.';\n",
              "          element.innerHTML = '';\n",
              "          dataTable['output_type'] = 'display_data';\n",
              "          await google.colab.output.renderOutput(dataTable, element);\n",
              "          const docLink = document.createElement('div');\n",
              "          docLink.innerHTML = docLinkHtml;\n",
              "          element.appendChild(docLink);\n",
              "        }\n",
              "      </script>\n",
              "    </div>\n",
              "  </div>\n",
              "  "
            ]
          },
          "metadata": {},
          "execution_count": 66
        }
      ]
    },
    {
      "cell_type": "code",
      "source": [
        "df.iloc[0]['properties']"
      ],
      "metadata": {
        "colab": {
          "base_uri": "https://localhost:8080/"
        },
        "id": "rIqOnv1jvwA0",
        "outputId": "6d299109-11b7-461c-fe49-97eca8fc0392"
      },
      "execution_count": null,
      "outputs": [
        {
          "output_type": "execute_result",
          "data": {
            "text/plain": [
              "{'aspect': {'aspect': 65.14672099369082},\n",
              " 'elevation': {'elevation': 174.84827943481793},\n",
              " 'name': 'Ottawa',\n",
              " 'slope': {'slope': 0.4264240954834813}}"
            ]
          },
          "metadata": {},
          "execution_count": 67
        }
      ]
    },
    {
      "cell_type": "code",
      "source": [
        "properties_df = df['properties'].apply(pd.Series)\n",
        "properties_df.head()"
      ],
      "metadata": {
        "colab": {
          "base_uri": "https://localhost:8080/",
          "height": 206
        },
        "id": "Xf6D3cSf0XHr",
        "outputId": "5ff66068-ee1f-4d82-8504-d016b857d262"
      },
      "execution_count": null,
      "outputs": [
        {
          "output_type": "execute_result",
          "data": {
            "text/plain": [
              "                           aspect                          elevation  \\\n",
              "0   {'aspect': 65.14672099369082}  {'elevation': 174.84827943481793}   \n",
              "1  {'aspect': 150.65601418474628}  {'elevation': 225.20771593416043}   \n",
              "2   {'aspect': 87.36197239311343}   {'elevation': 185.0201630177307}   \n",
              "3   {'aspect': 142.6492533973185}  {'elevation': 204.88657703989614}   \n",
              "4  {'aspect': 174.05815026632834}  {'elevation': 253.96767359883916}   \n",
              "\n",
              "         name                          slope  \n",
              "0      Ottawa  {'slope': 0.4264240954834813}  \n",
              "1      Fulton    {'slope': 0.96824030857894}  \n",
              "2       Lucas  {'slope': 0.6423215707203498}  \n",
              "3        Wood  {'slope': 0.7511368812116473}  \n",
              "4  Washington   {'slope': 6.607261969508721}  "
            ],
            "text/html": [
              "\n",
              "  <div id=\"df-0ac52cdb-516f-48c5-9a91-37fd829ee9ad\">\n",
              "    <div class=\"colab-df-container\">\n",
              "      <div>\n",
              "<style scoped>\n",
              "    .dataframe tbody tr th:only-of-type {\n",
              "        vertical-align: middle;\n",
              "    }\n",
              "\n",
              "    .dataframe tbody tr th {\n",
              "        vertical-align: top;\n",
              "    }\n",
              "\n",
              "    .dataframe thead th {\n",
              "        text-align: right;\n",
              "    }\n",
              "</style>\n",
              "<table border=\"1\" class=\"dataframe\">\n",
              "  <thead>\n",
              "    <tr style=\"text-align: right;\">\n",
              "      <th></th>\n",
              "      <th>aspect</th>\n",
              "      <th>elevation</th>\n",
              "      <th>name</th>\n",
              "      <th>slope</th>\n",
              "    </tr>\n",
              "  </thead>\n",
              "  <tbody>\n",
              "    <tr>\n",
              "      <th>0</th>\n",
              "      <td>{'aspect': 65.14672099369082}</td>\n",
              "      <td>{'elevation': 174.84827943481793}</td>\n",
              "      <td>Ottawa</td>\n",
              "      <td>{'slope': 0.4264240954834813}</td>\n",
              "    </tr>\n",
              "    <tr>\n",
              "      <th>1</th>\n",
              "      <td>{'aspect': 150.65601418474628}</td>\n",
              "      <td>{'elevation': 225.20771593416043}</td>\n",
              "      <td>Fulton</td>\n",
              "      <td>{'slope': 0.96824030857894}</td>\n",
              "    </tr>\n",
              "    <tr>\n",
              "      <th>2</th>\n",
              "      <td>{'aspect': 87.36197239311343}</td>\n",
              "      <td>{'elevation': 185.0201630177307}</td>\n",
              "      <td>Lucas</td>\n",
              "      <td>{'slope': 0.6423215707203498}</td>\n",
              "    </tr>\n",
              "    <tr>\n",
              "      <th>3</th>\n",
              "      <td>{'aspect': 142.6492533973185}</td>\n",
              "      <td>{'elevation': 204.88657703989614}</td>\n",
              "      <td>Wood</td>\n",
              "      <td>{'slope': 0.7511368812116473}</td>\n",
              "    </tr>\n",
              "    <tr>\n",
              "      <th>4</th>\n",
              "      <td>{'aspect': 174.05815026632834}</td>\n",
              "      <td>{'elevation': 253.96767359883916}</td>\n",
              "      <td>Washington</td>\n",
              "      <td>{'slope': 6.607261969508721}</td>\n",
              "    </tr>\n",
              "  </tbody>\n",
              "</table>\n",
              "</div>\n",
              "      <button class=\"colab-df-convert\" onclick=\"convertToInteractive('df-0ac52cdb-516f-48c5-9a91-37fd829ee9ad')\"\n",
              "              title=\"Convert this dataframe to an interactive table.\"\n",
              "              style=\"display:none;\">\n",
              "        \n",
              "  <svg xmlns=\"http://www.w3.org/2000/svg\" height=\"24px\"viewBox=\"0 0 24 24\"\n",
              "       width=\"24px\">\n",
              "    <path d=\"M0 0h24v24H0V0z\" fill=\"none\"/>\n",
              "    <path d=\"M18.56 5.44l.94 2.06.94-2.06 2.06-.94-2.06-.94-.94-2.06-.94 2.06-2.06.94zm-11 1L8.5 8.5l.94-2.06 2.06-.94-2.06-.94L8.5 2.5l-.94 2.06-2.06.94zm10 10l.94 2.06.94-2.06 2.06-.94-2.06-.94-.94-2.06-.94 2.06-2.06.94z\"/><path d=\"M17.41 7.96l-1.37-1.37c-.4-.4-.92-.59-1.43-.59-.52 0-1.04.2-1.43.59L10.3 9.45l-7.72 7.72c-.78.78-.78 2.05 0 2.83L4 21.41c.39.39.9.59 1.41.59.51 0 1.02-.2 1.41-.59l7.78-7.78 2.81-2.81c.8-.78.8-2.07 0-2.86zM5.41 20L4 18.59l7.72-7.72 1.47 1.35L5.41 20z\"/>\n",
              "  </svg>\n",
              "      </button>\n",
              "      \n",
              "  <style>\n",
              "    .colab-df-container {\n",
              "      display:flex;\n",
              "      flex-wrap:wrap;\n",
              "      gap: 12px;\n",
              "    }\n",
              "\n",
              "    .colab-df-convert {\n",
              "      background-color: #E8F0FE;\n",
              "      border: none;\n",
              "      border-radius: 50%;\n",
              "      cursor: pointer;\n",
              "      display: none;\n",
              "      fill: #1967D2;\n",
              "      height: 32px;\n",
              "      padding: 0 0 0 0;\n",
              "      width: 32px;\n",
              "    }\n",
              "\n",
              "    .colab-df-convert:hover {\n",
              "      background-color: #E2EBFA;\n",
              "      box-shadow: 0px 1px 2px rgba(60, 64, 67, 0.3), 0px 1px 3px 1px rgba(60, 64, 67, 0.15);\n",
              "      fill: #174EA6;\n",
              "    }\n",
              "\n",
              "    [theme=dark] .colab-df-convert {\n",
              "      background-color: #3B4455;\n",
              "      fill: #D2E3FC;\n",
              "    }\n",
              "\n",
              "    [theme=dark] .colab-df-convert:hover {\n",
              "      background-color: #434B5C;\n",
              "      box-shadow: 0px 1px 3px 1px rgba(0, 0, 0, 0.15);\n",
              "      filter: drop-shadow(0px 1px 2px rgba(0, 0, 0, 0.3));\n",
              "      fill: #FFFFFF;\n",
              "    }\n",
              "  </style>\n",
              "\n",
              "      <script>\n",
              "        const buttonEl =\n",
              "          document.querySelector('#df-0ac52cdb-516f-48c5-9a91-37fd829ee9ad button.colab-df-convert');\n",
              "        buttonEl.style.display =\n",
              "          google.colab.kernel.accessAllowed ? 'block' : 'none';\n",
              "\n",
              "        async function convertToInteractive(key) {\n",
              "          const element = document.querySelector('#df-0ac52cdb-516f-48c5-9a91-37fd829ee9ad');\n",
              "          const dataTable =\n",
              "            await google.colab.kernel.invokeFunction('convertToInteractive',\n",
              "                                                     [key], {});\n",
              "          if (!dataTable) return;\n",
              "\n",
              "          const docLinkHtml = 'Like what you see? Visit the ' +\n",
              "            '<a target=\"_blank\" href=https://colab.research.google.com/notebooks/data_table.ipynb>data table notebook</a>'\n",
              "            + ' to learn more about interactive tables.';\n",
              "          element.innerHTML = '';\n",
              "          dataTable['output_type'] = 'display_data';\n",
              "          await google.colab.output.renderOutput(dataTable, element);\n",
              "          const docLink = document.createElement('div');\n",
              "          docLink.innerHTML = docLinkHtml;\n",
              "          element.appendChild(docLink);\n",
              "        }\n",
              "      </script>\n",
              "    </div>\n",
              "  </div>\n",
              "  "
            ]
          },
          "metadata": {},
          "execution_count": 68
        }
      ]
    },
    {
      "cell_type": "code",
      "source": [
        "# Define a function to extract values from a dictionary\n",
        "def get_value(dict):\n",
        "    return list(dict.values())[0]\n",
        "\n",
        "# Apply the function to the aspect, slope, and elevation columns\n",
        "properties_df[['aspect', 'slope', 'elevation']] = properties_df[['aspect', 'slope', 'elevation']].applymap(get_value)\n"
      ],
      "metadata": {
        "id": "bf4yN_9q1MI_"
      },
      "execution_count": null,
      "outputs": []
    },
    {
      "cell_type": "code",
      "source": [
        "new_order = ['name', 'elevation', 'slope', 'aspect']\n",
        "properties_df = properties_df[new_order]"
      ],
      "metadata": {
        "id": "NbnobqQ31hp4"
      },
      "execution_count": null,
      "outputs": []
    },
    {
      "cell_type": "code",
      "source": [
        "properties_df.head()"
      ],
      "metadata": {
        "colab": {
          "base_uri": "https://localhost:8080/",
          "height": 206
        },
        "id": "oFGOZF-A1iU2",
        "outputId": "9a2a4864-ab06-4c3b-eff8-93166c47953d"
      },
      "execution_count": null,
      "outputs": [
        {
          "output_type": "execute_result",
          "data": {
            "text/plain": [
              "         name   elevation     slope      aspect\n",
              "0      Ottawa  174.848279  0.426424   65.146721\n",
              "1      Fulton  225.207716  0.968240  150.656014\n",
              "2       Lucas  185.020163  0.642322   87.361972\n",
              "3        Wood  204.886577  0.751137  142.649253\n",
              "4  Washington  253.967674  6.607262  174.058150"
            ],
            "text/html": [
              "\n",
              "  <div id=\"df-88819be3-a4ad-4cc4-9750-f864a49659d8\">\n",
              "    <div class=\"colab-df-container\">\n",
              "      <div>\n",
              "<style scoped>\n",
              "    .dataframe tbody tr th:only-of-type {\n",
              "        vertical-align: middle;\n",
              "    }\n",
              "\n",
              "    .dataframe tbody tr th {\n",
              "        vertical-align: top;\n",
              "    }\n",
              "\n",
              "    .dataframe thead th {\n",
              "        text-align: right;\n",
              "    }\n",
              "</style>\n",
              "<table border=\"1\" class=\"dataframe\">\n",
              "  <thead>\n",
              "    <tr style=\"text-align: right;\">\n",
              "      <th></th>\n",
              "      <th>name</th>\n",
              "      <th>elevation</th>\n",
              "      <th>slope</th>\n",
              "      <th>aspect</th>\n",
              "    </tr>\n",
              "  </thead>\n",
              "  <tbody>\n",
              "    <tr>\n",
              "      <th>0</th>\n",
              "      <td>Ottawa</td>\n",
              "      <td>174.848279</td>\n",
              "      <td>0.426424</td>\n",
              "      <td>65.146721</td>\n",
              "    </tr>\n",
              "    <tr>\n",
              "      <th>1</th>\n",
              "      <td>Fulton</td>\n",
              "      <td>225.207716</td>\n",
              "      <td>0.968240</td>\n",
              "      <td>150.656014</td>\n",
              "    </tr>\n",
              "    <tr>\n",
              "      <th>2</th>\n",
              "      <td>Lucas</td>\n",
              "      <td>185.020163</td>\n",
              "      <td>0.642322</td>\n",
              "      <td>87.361972</td>\n",
              "    </tr>\n",
              "    <tr>\n",
              "      <th>3</th>\n",
              "      <td>Wood</td>\n",
              "      <td>204.886577</td>\n",
              "      <td>0.751137</td>\n",
              "      <td>142.649253</td>\n",
              "    </tr>\n",
              "    <tr>\n",
              "      <th>4</th>\n",
              "      <td>Washington</td>\n",
              "      <td>253.967674</td>\n",
              "      <td>6.607262</td>\n",
              "      <td>174.058150</td>\n",
              "    </tr>\n",
              "  </tbody>\n",
              "</table>\n",
              "</div>\n",
              "      <button class=\"colab-df-convert\" onclick=\"convertToInteractive('df-88819be3-a4ad-4cc4-9750-f864a49659d8')\"\n",
              "              title=\"Convert this dataframe to an interactive table.\"\n",
              "              style=\"display:none;\">\n",
              "        \n",
              "  <svg xmlns=\"http://www.w3.org/2000/svg\" height=\"24px\"viewBox=\"0 0 24 24\"\n",
              "       width=\"24px\">\n",
              "    <path d=\"M0 0h24v24H0V0z\" fill=\"none\"/>\n",
              "    <path d=\"M18.56 5.44l.94 2.06.94-2.06 2.06-.94-2.06-.94-.94-2.06-.94 2.06-2.06.94zm-11 1L8.5 8.5l.94-2.06 2.06-.94-2.06-.94L8.5 2.5l-.94 2.06-2.06.94zm10 10l.94 2.06.94-2.06 2.06-.94-2.06-.94-.94-2.06-.94 2.06-2.06.94z\"/><path d=\"M17.41 7.96l-1.37-1.37c-.4-.4-.92-.59-1.43-.59-.52 0-1.04.2-1.43.59L10.3 9.45l-7.72 7.72c-.78.78-.78 2.05 0 2.83L4 21.41c.39.39.9.59 1.41.59.51 0 1.02-.2 1.41-.59l7.78-7.78 2.81-2.81c.8-.78.8-2.07 0-2.86zM5.41 20L4 18.59l7.72-7.72 1.47 1.35L5.41 20z\"/>\n",
              "  </svg>\n",
              "      </button>\n",
              "      \n",
              "  <style>\n",
              "    .colab-df-container {\n",
              "      display:flex;\n",
              "      flex-wrap:wrap;\n",
              "      gap: 12px;\n",
              "    }\n",
              "\n",
              "    .colab-df-convert {\n",
              "      background-color: #E8F0FE;\n",
              "      border: none;\n",
              "      border-radius: 50%;\n",
              "      cursor: pointer;\n",
              "      display: none;\n",
              "      fill: #1967D2;\n",
              "      height: 32px;\n",
              "      padding: 0 0 0 0;\n",
              "      width: 32px;\n",
              "    }\n",
              "\n",
              "    .colab-df-convert:hover {\n",
              "      background-color: #E2EBFA;\n",
              "      box-shadow: 0px 1px 2px rgba(60, 64, 67, 0.3), 0px 1px 3px 1px rgba(60, 64, 67, 0.15);\n",
              "      fill: #174EA6;\n",
              "    }\n",
              "\n",
              "    [theme=dark] .colab-df-convert {\n",
              "      background-color: #3B4455;\n",
              "      fill: #D2E3FC;\n",
              "    }\n",
              "\n",
              "    [theme=dark] .colab-df-convert:hover {\n",
              "      background-color: #434B5C;\n",
              "      box-shadow: 0px 1px 3px 1px rgba(0, 0, 0, 0.15);\n",
              "      filter: drop-shadow(0px 1px 2px rgba(0, 0, 0, 0.3));\n",
              "      fill: #FFFFFF;\n",
              "    }\n",
              "  </style>\n",
              "\n",
              "      <script>\n",
              "        const buttonEl =\n",
              "          document.querySelector('#df-88819be3-a4ad-4cc4-9750-f864a49659d8 button.colab-df-convert');\n",
              "        buttonEl.style.display =\n",
              "          google.colab.kernel.accessAllowed ? 'block' : 'none';\n",
              "\n",
              "        async function convertToInteractive(key) {\n",
              "          const element = document.querySelector('#df-88819be3-a4ad-4cc4-9750-f864a49659d8');\n",
              "          const dataTable =\n",
              "            await google.colab.kernel.invokeFunction('convertToInteractive',\n",
              "                                                     [key], {});\n",
              "          if (!dataTable) return;\n",
              "\n",
              "          const docLinkHtml = 'Like what you see? Visit the ' +\n",
              "            '<a target=\"_blank\" href=https://colab.research.google.com/notebooks/data_table.ipynb>data table notebook</a>'\n",
              "            + ' to learn more about interactive tables.';\n",
              "          element.innerHTML = '';\n",
              "          dataTable['output_type'] = 'display_data';\n",
              "          await google.colab.output.renderOutput(dataTable, element);\n",
              "          const docLink = document.createElement('div');\n",
              "          docLink.innerHTML = docLinkHtml;\n",
              "          element.appendChild(docLink);\n",
              "        }\n",
              "      </script>\n",
              "    </div>\n",
              "  </div>\n",
              "  "
            ]
          },
          "metadata": {},
          "execution_count": 71
        }
      ]
    },
    {
      "cell_type": "code",
      "source": [
        "#properties_df.to_csv('terrain.csv', index=False)"
      ],
      "metadata": {
        "id": "y9Y_jzN43P-5"
      },
      "execution_count": null,
      "outputs": []
    },
    {
      "cell_type": "code",
      "source": [
        "properties_df[properties_df['name']=='Gallia']"
      ],
      "metadata": {
        "colab": {
          "base_uri": "https://localhost:8080/",
          "height": 80
        },
        "id": "CU0XaXlH6JJg",
        "outputId": "7acdb928-4e66-4f9e-c0ab-4dac539be17b"
      },
      "execution_count": null,
      "outputs": [
        {
          "output_type": "execute_result",
          "data": {
            "text/plain": [
              "      name   elevation     slope      aspect\n",
              "40  Gallia  226.980197  6.035338  171.317136"
            ],
            "text/html": [
              "\n",
              "  <div id=\"df-acf07424-b272-4ad8-b8d7-50cac9d4099c\">\n",
              "    <div class=\"colab-df-container\">\n",
              "      <div>\n",
              "<style scoped>\n",
              "    .dataframe tbody tr th:only-of-type {\n",
              "        vertical-align: middle;\n",
              "    }\n",
              "\n",
              "    .dataframe tbody tr th {\n",
              "        vertical-align: top;\n",
              "    }\n",
              "\n",
              "    .dataframe thead th {\n",
              "        text-align: right;\n",
              "    }\n",
              "</style>\n",
              "<table border=\"1\" class=\"dataframe\">\n",
              "  <thead>\n",
              "    <tr style=\"text-align: right;\">\n",
              "      <th></th>\n",
              "      <th>name</th>\n",
              "      <th>elevation</th>\n",
              "      <th>slope</th>\n",
              "      <th>aspect</th>\n",
              "    </tr>\n",
              "  </thead>\n",
              "  <tbody>\n",
              "    <tr>\n",
              "      <th>40</th>\n",
              "      <td>Gallia</td>\n",
              "      <td>226.980197</td>\n",
              "      <td>6.035338</td>\n",
              "      <td>171.317136</td>\n",
              "    </tr>\n",
              "  </tbody>\n",
              "</table>\n",
              "</div>\n",
              "      <button class=\"colab-df-convert\" onclick=\"convertToInteractive('df-acf07424-b272-4ad8-b8d7-50cac9d4099c')\"\n",
              "              title=\"Convert this dataframe to an interactive table.\"\n",
              "              style=\"display:none;\">\n",
              "        \n",
              "  <svg xmlns=\"http://www.w3.org/2000/svg\" height=\"24px\"viewBox=\"0 0 24 24\"\n",
              "       width=\"24px\">\n",
              "    <path d=\"M0 0h24v24H0V0z\" fill=\"none\"/>\n",
              "    <path d=\"M18.56 5.44l.94 2.06.94-2.06 2.06-.94-2.06-.94-.94-2.06-.94 2.06-2.06.94zm-11 1L8.5 8.5l.94-2.06 2.06-.94-2.06-.94L8.5 2.5l-.94 2.06-2.06.94zm10 10l.94 2.06.94-2.06 2.06-.94-2.06-.94-.94-2.06-.94 2.06-2.06.94z\"/><path d=\"M17.41 7.96l-1.37-1.37c-.4-.4-.92-.59-1.43-.59-.52 0-1.04.2-1.43.59L10.3 9.45l-7.72 7.72c-.78.78-.78 2.05 0 2.83L4 21.41c.39.39.9.59 1.41.59.51 0 1.02-.2 1.41-.59l7.78-7.78 2.81-2.81c.8-.78.8-2.07 0-2.86zM5.41 20L4 18.59l7.72-7.72 1.47 1.35L5.41 20z\"/>\n",
              "  </svg>\n",
              "      </button>\n",
              "      \n",
              "  <style>\n",
              "    .colab-df-container {\n",
              "      display:flex;\n",
              "      flex-wrap:wrap;\n",
              "      gap: 12px;\n",
              "    }\n",
              "\n",
              "    .colab-df-convert {\n",
              "      background-color: #E8F0FE;\n",
              "      border: none;\n",
              "      border-radius: 50%;\n",
              "      cursor: pointer;\n",
              "      display: none;\n",
              "      fill: #1967D2;\n",
              "      height: 32px;\n",
              "      padding: 0 0 0 0;\n",
              "      width: 32px;\n",
              "    }\n",
              "\n",
              "    .colab-df-convert:hover {\n",
              "      background-color: #E2EBFA;\n",
              "      box-shadow: 0px 1px 2px rgba(60, 64, 67, 0.3), 0px 1px 3px 1px rgba(60, 64, 67, 0.15);\n",
              "      fill: #174EA6;\n",
              "    }\n",
              "\n",
              "    [theme=dark] .colab-df-convert {\n",
              "      background-color: #3B4455;\n",
              "      fill: #D2E3FC;\n",
              "    }\n",
              "\n",
              "    [theme=dark] .colab-df-convert:hover {\n",
              "      background-color: #434B5C;\n",
              "      box-shadow: 0px 1px 3px 1px rgba(0, 0, 0, 0.15);\n",
              "      filter: drop-shadow(0px 1px 2px rgba(0, 0, 0, 0.3));\n",
              "      fill: #FFFFFF;\n",
              "    }\n",
              "  </style>\n",
              "\n",
              "      <script>\n",
              "        const buttonEl =\n",
              "          document.querySelector('#df-acf07424-b272-4ad8-b8d7-50cac9d4099c button.colab-df-convert');\n",
              "        buttonEl.style.display =\n",
              "          google.colab.kernel.accessAllowed ? 'block' : 'none';\n",
              "\n",
              "        async function convertToInteractive(key) {\n",
              "          const element = document.querySelector('#df-acf07424-b272-4ad8-b8d7-50cac9d4099c');\n",
              "          const dataTable =\n",
              "            await google.colab.kernel.invokeFunction('convertToInteractive',\n",
              "                                                     [key], {});\n",
              "          if (!dataTable) return;\n",
              "\n",
              "          const docLinkHtml = 'Like what you see? Visit the ' +\n",
              "            '<a target=\"_blank\" href=https://colab.research.google.com/notebooks/data_table.ipynb>data table notebook</a>'\n",
              "            + ' to learn more about interactive tables.';\n",
              "          element.innerHTML = '';\n",
              "          dataTable['output_type'] = 'display_data';\n",
              "          await google.colab.output.renderOutput(dataTable, element);\n",
              "          const docLink = document.createElement('div');\n",
              "          docLink.innerHTML = docLinkHtml;\n",
              "          element.appendChild(docLink);\n",
              "        }\n",
              "      </script>\n",
              "    </div>\n",
              "  </div>\n",
              "  "
            ]
          },
          "metadata": {},
          "execution_count": 73
        }
      ]
    },
    {
      "cell_type": "code",
      "source": [
        "# df.iloc[40]['geometry']"
      ],
      "metadata": {
        "id": "yqiw1Mdr4xFO"
      },
      "execution_count": null,
      "outputs": []
    },
    {
      "cell_type": "markdown",
      "source": [
        "加上 coordinates"
      ],
      "metadata": {
        "id": "25kQA667-txP"
      }
    },
    {
      "cell_type": "code",
      "source": [
        "coordinates_df = df['geometry'].apply(pd.Series)"
      ],
      "metadata": {
        "id": "JiIjitZT469i"
      },
      "execution_count": null,
      "outputs": []
    },
    {
      "cell_type": "code",
      "source": [
        "properties_df['coordinates'] =  coordinates_df['coordinates']"
      ],
      "metadata": {
        "id": "EjvQxxZh6sPx"
      },
      "execution_count": null,
      "outputs": []
    },
    {
      "cell_type": "code",
      "source": [
        "properties_df"
      ],
      "metadata": {
        "colab": {
          "base_uri": "https://localhost:8080/",
          "height": 423
        },
        "id": "iAqelxDQ6_zF",
        "outputId": "7dd0cb8d-0216-4137-95e9-bd576c61c94c"
      },
      "execution_count": null,
      "outputs": [
        {
          "output_type": "execute_result",
          "data": {
            "text/plain": [
              "          name   elevation     slope      aspect  \\\n",
              "0       Ottawa  174.848279  0.426424   65.146721   \n",
              "1       Fulton  225.207716  0.968240  150.656014   \n",
              "2        Lucas  185.020163  0.642322   87.361972   \n",
              "3         Wood  204.886577  0.751137  142.649253   \n",
              "4   Washington  253.967674  6.607262  174.058150   \n",
              "..         ...         ...       ...         ...   \n",
              "83      Shelby  306.227222  1.187618  161.679669   \n",
              "84       Clark  320.899930  1.325124  169.095855   \n",
              "85   Champaign  342.825781  1.389831  157.564049   \n",
              "86     Hancock  247.329589  1.133512  156.000936   \n",
              "87      Seneca  246.956685  1.124032  157.335291   \n",
              "\n",
              "                                          coordinates  \n",
              "0   [[[-83.4159514004428, 41.619106763548196], [-8...  \n",
              "1   [[[-84.39956861176647, 41.70362201765015], [-8...  \n",
              "2   [[[-83.8832312649782, 41.41448389294164], [-83...  \n",
              "3   [[[-83.8836801186838, 41.34495967979963], [-83...  \n",
              "4   [[[-81.85365385063491, 39.31816497236623], [-8...  \n",
              "..                                                ...  \n",
              "83  [[[-84.43462251807658, 40.32530110237703], [-8...  \n",
              "84  [[[-84.05374288877303, 39.85043588198169], [-8...  \n",
              "85  [[[-84.03605889843497, 40.04020243198095], [-8...  \n",
              "86  [[[-83.88116662502303, 41.16771555251744], [-8...  \n",
              "87  [[[-83.42129244934553, 41.143837620315495], [-...  \n",
              "\n",
              "[88 rows x 5 columns]"
            ],
            "text/html": [
              "\n",
              "  <div id=\"df-e459e77f-8754-4428-976d-fcf60f61bb93\">\n",
              "    <div class=\"colab-df-container\">\n",
              "      <div>\n",
              "<style scoped>\n",
              "    .dataframe tbody tr th:only-of-type {\n",
              "        vertical-align: middle;\n",
              "    }\n",
              "\n",
              "    .dataframe tbody tr th {\n",
              "        vertical-align: top;\n",
              "    }\n",
              "\n",
              "    .dataframe thead th {\n",
              "        text-align: right;\n",
              "    }\n",
              "</style>\n",
              "<table border=\"1\" class=\"dataframe\">\n",
              "  <thead>\n",
              "    <tr style=\"text-align: right;\">\n",
              "      <th></th>\n",
              "      <th>name</th>\n",
              "      <th>elevation</th>\n",
              "      <th>slope</th>\n",
              "      <th>aspect</th>\n",
              "      <th>coordinates</th>\n",
              "    </tr>\n",
              "  </thead>\n",
              "  <tbody>\n",
              "    <tr>\n",
              "      <th>0</th>\n",
              "      <td>Ottawa</td>\n",
              "      <td>174.848279</td>\n",
              "      <td>0.426424</td>\n",
              "      <td>65.146721</td>\n",
              "      <td>[[[-83.4159514004428, 41.619106763548196], [-8...</td>\n",
              "    </tr>\n",
              "    <tr>\n",
              "      <th>1</th>\n",
              "      <td>Fulton</td>\n",
              "      <td>225.207716</td>\n",
              "      <td>0.968240</td>\n",
              "      <td>150.656014</td>\n",
              "      <td>[[[-84.39956861176647, 41.70362201765015], [-8...</td>\n",
              "    </tr>\n",
              "    <tr>\n",
              "      <th>2</th>\n",
              "      <td>Lucas</td>\n",
              "      <td>185.020163</td>\n",
              "      <td>0.642322</td>\n",
              "      <td>87.361972</td>\n",
              "      <td>[[[-83.8832312649782, 41.41448389294164], [-83...</td>\n",
              "    </tr>\n",
              "    <tr>\n",
              "      <th>3</th>\n",
              "      <td>Wood</td>\n",
              "      <td>204.886577</td>\n",
              "      <td>0.751137</td>\n",
              "      <td>142.649253</td>\n",
              "      <td>[[[-83.8836801186838, 41.34495967979963], [-83...</td>\n",
              "    </tr>\n",
              "    <tr>\n",
              "      <th>4</th>\n",
              "      <td>Washington</td>\n",
              "      <td>253.967674</td>\n",
              "      <td>6.607262</td>\n",
              "      <td>174.058150</td>\n",
              "      <td>[[[-81.85365385063491, 39.31816497236623], [-8...</td>\n",
              "    </tr>\n",
              "    <tr>\n",
              "      <th>...</th>\n",
              "      <td>...</td>\n",
              "      <td>...</td>\n",
              "      <td>...</td>\n",
              "      <td>...</td>\n",
              "      <td>...</td>\n",
              "    </tr>\n",
              "    <tr>\n",
              "      <th>83</th>\n",
              "      <td>Shelby</td>\n",
              "      <td>306.227222</td>\n",
              "      <td>1.187618</td>\n",
              "      <td>161.679669</td>\n",
              "      <td>[[[-84.43462251807658, 40.32530110237703], [-8...</td>\n",
              "    </tr>\n",
              "    <tr>\n",
              "      <th>84</th>\n",
              "      <td>Clark</td>\n",
              "      <td>320.899930</td>\n",
              "      <td>1.325124</td>\n",
              "      <td>169.095855</td>\n",
              "      <td>[[[-84.05374288877303, 39.85043588198169], [-8...</td>\n",
              "    </tr>\n",
              "    <tr>\n",
              "      <th>85</th>\n",
              "      <td>Champaign</td>\n",
              "      <td>342.825781</td>\n",
              "      <td>1.389831</td>\n",
              "      <td>157.564049</td>\n",
              "      <td>[[[-84.03605889843497, 40.04020243198095], [-8...</td>\n",
              "    </tr>\n",
              "    <tr>\n",
              "      <th>86</th>\n",
              "      <td>Hancock</td>\n",
              "      <td>247.329589</td>\n",
              "      <td>1.133512</td>\n",
              "      <td>156.000936</td>\n",
              "      <td>[[[-83.88116662502303, 41.16771555251744], [-8...</td>\n",
              "    </tr>\n",
              "    <tr>\n",
              "      <th>87</th>\n",
              "      <td>Seneca</td>\n",
              "      <td>246.956685</td>\n",
              "      <td>1.124032</td>\n",
              "      <td>157.335291</td>\n",
              "      <td>[[[-83.42129244934553, 41.143837620315495], [-...</td>\n",
              "    </tr>\n",
              "  </tbody>\n",
              "</table>\n",
              "<p>88 rows × 5 columns</p>\n",
              "</div>\n",
              "      <button class=\"colab-df-convert\" onclick=\"convertToInteractive('df-e459e77f-8754-4428-976d-fcf60f61bb93')\"\n",
              "              title=\"Convert this dataframe to an interactive table.\"\n",
              "              style=\"display:none;\">\n",
              "        \n",
              "  <svg xmlns=\"http://www.w3.org/2000/svg\" height=\"24px\"viewBox=\"0 0 24 24\"\n",
              "       width=\"24px\">\n",
              "    <path d=\"M0 0h24v24H0V0z\" fill=\"none\"/>\n",
              "    <path d=\"M18.56 5.44l.94 2.06.94-2.06 2.06-.94-2.06-.94-.94-2.06-.94 2.06-2.06.94zm-11 1L8.5 8.5l.94-2.06 2.06-.94-2.06-.94L8.5 2.5l-.94 2.06-2.06.94zm10 10l.94 2.06.94-2.06 2.06-.94-2.06-.94-.94-2.06-.94 2.06-2.06.94z\"/><path d=\"M17.41 7.96l-1.37-1.37c-.4-.4-.92-.59-1.43-.59-.52 0-1.04.2-1.43.59L10.3 9.45l-7.72 7.72c-.78.78-.78 2.05 0 2.83L4 21.41c.39.39.9.59 1.41.59.51 0 1.02-.2 1.41-.59l7.78-7.78 2.81-2.81c.8-.78.8-2.07 0-2.86zM5.41 20L4 18.59l7.72-7.72 1.47 1.35L5.41 20z\"/>\n",
              "  </svg>\n",
              "      </button>\n",
              "      \n",
              "  <style>\n",
              "    .colab-df-container {\n",
              "      display:flex;\n",
              "      flex-wrap:wrap;\n",
              "      gap: 12px;\n",
              "    }\n",
              "\n",
              "    .colab-df-convert {\n",
              "      background-color: #E8F0FE;\n",
              "      border: none;\n",
              "      border-radius: 50%;\n",
              "      cursor: pointer;\n",
              "      display: none;\n",
              "      fill: #1967D2;\n",
              "      height: 32px;\n",
              "      padding: 0 0 0 0;\n",
              "      width: 32px;\n",
              "    }\n",
              "\n",
              "    .colab-df-convert:hover {\n",
              "      background-color: #E2EBFA;\n",
              "      box-shadow: 0px 1px 2px rgba(60, 64, 67, 0.3), 0px 1px 3px 1px rgba(60, 64, 67, 0.15);\n",
              "      fill: #174EA6;\n",
              "    }\n",
              "\n",
              "    [theme=dark] .colab-df-convert {\n",
              "      background-color: #3B4455;\n",
              "      fill: #D2E3FC;\n",
              "    }\n",
              "\n",
              "    [theme=dark] .colab-df-convert:hover {\n",
              "      background-color: #434B5C;\n",
              "      box-shadow: 0px 1px 3px 1px rgba(0, 0, 0, 0.15);\n",
              "      filter: drop-shadow(0px 1px 2px rgba(0, 0, 0, 0.3));\n",
              "      fill: #FFFFFF;\n",
              "    }\n",
              "  </style>\n",
              "\n",
              "      <script>\n",
              "        const buttonEl =\n",
              "          document.querySelector('#df-e459e77f-8754-4428-976d-fcf60f61bb93 button.colab-df-convert');\n",
              "        buttonEl.style.display =\n",
              "          google.colab.kernel.accessAllowed ? 'block' : 'none';\n",
              "\n",
              "        async function convertToInteractive(key) {\n",
              "          const element = document.querySelector('#df-e459e77f-8754-4428-976d-fcf60f61bb93');\n",
              "          const dataTable =\n",
              "            await google.colab.kernel.invokeFunction('convertToInteractive',\n",
              "                                                     [key], {});\n",
              "          if (!dataTable) return;\n",
              "\n",
              "          const docLinkHtml = 'Like what you see? Visit the ' +\n",
              "            '<a target=\"_blank\" href=https://colab.research.google.com/notebooks/data_table.ipynb>data table notebook</a>'\n",
              "            + ' to learn more about interactive tables.';\n",
              "          element.innerHTML = '';\n",
              "          dataTable['output_type'] = 'display_data';\n",
              "          await google.colab.output.renderOutput(dataTable, element);\n",
              "          const docLink = document.createElement('div');\n",
              "          docLink.innerHTML = docLinkHtml;\n",
              "          element.appendChild(docLink);\n",
              "        }\n",
              "      </script>\n",
              "    </div>\n",
              "  </div>\n",
              "  "
            ]
          },
          "metadata": {},
          "execution_count": 77
        }
      ]
    },
    {
      "cell_type": "markdown",
      "source": [
        "# Meteo Data"
      ],
      "metadata": {
        "id": "Ws6uLPvZFvT3"
      }
    },
    {
      "cell_type": "markdown",
      "source": [
        "## Ohio meteo data"
      ],
      "metadata": {
        "id": "_ZHxBllE_XFN"
      }
    },
    {
      "cell_type": "code",
      "source": [
        "\n",
        "def reduce_region_function(img):\n",
        "  \"\"\"Return a feature containing the mean value of a region and a timestamp.\"\"\"\n",
        "\n",
        "  stat = img.reduceRegion(\n",
        "      reducer = ee.Reducer.mean(),\n",
        "      geometry = stat_region,\n",
        "      scale = 30,\n",
        "      # maxPixels = 1e13,\n",
        "      # tileScale = 16\n",
        "  )\n",
        "\n",
        "  return ee.Feature(stat_region, stat).set({'millis': img.date().millis()}) # set the time of the stats\n",
        "\n",
        "# Define a function to transfer feature properties to a dictionary.\n",
        "def fc_to_dict(fc):\n",
        "  prop_names = fc.first().propertyNames()\n",
        "  prop_lists = fc.reduceColumns(\n",
        "      reducer = ee.Reducer.toList().repeat(prop_names.size()),\n",
        "      selectors = prop_names\n",
        "  ).get('list')\n",
        "\n",
        "  return ee.Dictionary.fromLists(prop_names, prop_lists)\n",
        "\n",
        "def fc_to_df(fc):\n",
        "  \"\"\"Convert a feature collection to pandas dataframe\"\"\"\n",
        "  return pd.DataFrame(fc_to_dict(fc).getInfo())\n",
        "\n",
        "# # Define the region\n",
        "# stat_region = ee.Geometry.Point(location_longlat)\n",
        "# stat_region.getInfo()\n",
        "# #filter images\n",
        "# filtered_images = with_ndvi.filterBounds(stat_region)\n",
        "\n",
        "\n",
        "# Define the Ohio state geometry\n",
        "ohio = ee.FeatureCollection('TIGER/2018/States').filter(ee.Filter.eq('NAME', 'Ohio'))\n",
        "\n",
        "# Define the start and end dates of the time period of interest\n",
        "start_date = ee.Date('2023-02-03') \n",
        "end_date = ee.Date('2023-03-12')\n",
        "\n",
        "# Load the IDAHO_EPSCOR/GRIDMET image collection\n",
        "gridmet = ee.ImageCollection('IDAHO_EPSCOR/GRIDMET')\n",
        "\n",
        "# Filter the collection by the time period and Ohio state geometry\n",
        "gridmet_ohio = gridmet.filterBounds(ohio).filterDate(start_date, end_date)\n",
        "\n",
        "stat_fc = (\n",
        "    ee.FeatureCollection(\n",
        "        gridmet_ohio.map(reduce_region_function)\n",
        "    ).filter(\n",
        "        ee.Filter.notNull(gridmet_ohio.first().bandNames())\n",
        "    )\n",
        ")\n",
        "\n",
        "df = fc_to_df(stat_fc)\n",
        "df['timestamp'] = pd.to_datetime(df['millis'], unit='ms')"
      ],
      "metadata": {
        "id": "7ch2v5VNBWFP"
      },
      "execution_count": null,
      "outputs": []
    },
    {
      "cell_type": "code",
      "source": [
        "df.head()"
      ],
      "metadata": {
        "colab": {
          "base_uri": "https://localhost:8080/",
          "height": 356
        },
        "id": "Jo0j0IMNCphb",
        "outputId": "7d46fa0d-3599-47d1-9116-58aefdad3f96"
      },
      "execution_count": null,
      "outputs": [
        {
          "output_type": "execute_result",
          "data": {
            "text/plain": [
              "   bi  erc  eto  etr      fm100     fm1000         millis   pr        rmax  \\\n",
              "0   0   20  1.5  2.1  16.000000  17.400000  1675404000000  3.2   88.000000   \n",
              "1   0   17  1.6  2.4  18.500000  18.100000  1675490400000  7.0   93.599998   \n",
              "2   0   15  1.7  2.4  19.799999  18.600000  1675576800000  3.6  100.000000   \n",
              "3  30   25  2.2  3.3  19.100000  18.700001  1675663200000  0.0   95.800003   \n",
              "4  26   25  2.1  3.0  18.500000  18.700001  1675749600000  0.0   95.199997   \n",
              "\n",
              "        rmin      sph        srad system:index   th        tmmn        tmmx  \\\n",
              "0  61.099998  0.00640  103.599998     20230203  150  281.899994  287.799988   \n",
              "1  59.200001  0.00646   45.299999     20230204  164  281.100006  288.399994   \n",
              "2  54.500000  0.00558   86.400002     20230205  270  277.799988  287.299988   \n",
              "3  43.400002  0.00492  154.100006     20230206  345  276.799988  288.500000   \n",
              "4  41.000000  0.00496  140.600006     20230207  354  277.000000  289.399994   \n",
              "\n",
              "    vpd   vs           timestamp  \n",
              "0  0.36  3.2 2023-02-03 06:00:00  \n",
              "1  0.35  5.1 2023-02-04 06:00:00  \n",
              "2  0.32  5.2 2023-02-05 06:00:00  \n",
              "3  0.47  4.6 2023-02-06 06:00:00  \n",
              "4  0.52  3.4 2023-02-07 06:00:00  "
            ],
            "text/html": [
              "\n",
              "  <div id=\"df-4674da9e-f2b9-42d3-afa4-4c396bf49048\">\n",
              "    <div class=\"colab-df-container\">\n",
              "      <div>\n",
              "<style scoped>\n",
              "    .dataframe tbody tr th:only-of-type {\n",
              "        vertical-align: middle;\n",
              "    }\n",
              "\n",
              "    .dataframe tbody tr th {\n",
              "        vertical-align: top;\n",
              "    }\n",
              "\n",
              "    .dataframe thead th {\n",
              "        text-align: right;\n",
              "    }\n",
              "</style>\n",
              "<table border=\"1\" class=\"dataframe\">\n",
              "  <thead>\n",
              "    <tr style=\"text-align: right;\">\n",
              "      <th></th>\n",
              "      <th>bi</th>\n",
              "      <th>erc</th>\n",
              "      <th>eto</th>\n",
              "      <th>etr</th>\n",
              "      <th>fm100</th>\n",
              "      <th>fm1000</th>\n",
              "      <th>millis</th>\n",
              "      <th>pr</th>\n",
              "      <th>rmax</th>\n",
              "      <th>rmin</th>\n",
              "      <th>sph</th>\n",
              "      <th>srad</th>\n",
              "      <th>system:index</th>\n",
              "      <th>th</th>\n",
              "      <th>tmmn</th>\n",
              "      <th>tmmx</th>\n",
              "      <th>vpd</th>\n",
              "      <th>vs</th>\n",
              "      <th>timestamp</th>\n",
              "    </tr>\n",
              "  </thead>\n",
              "  <tbody>\n",
              "    <tr>\n",
              "      <th>0</th>\n",
              "      <td>0</td>\n",
              "      <td>20</td>\n",
              "      <td>1.5</td>\n",
              "      <td>2.1</td>\n",
              "      <td>16.000000</td>\n",
              "      <td>17.400000</td>\n",
              "      <td>1675404000000</td>\n",
              "      <td>3.2</td>\n",
              "      <td>88.000000</td>\n",
              "      <td>61.099998</td>\n",
              "      <td>0.00640</td>\n",
              "      <td>103.599998</td>\n",
              "      <td>20230203</td>\n",
              "      <td>150</td>\n",
              "      <td>281.899994</td>\n",
              "      <td>287.799988</td>\n",
              "      <td>0.36</td>\n",
              "      <td>3.2</td>\n",
              "      <td>2023-02-03 06:00:00</td>\n",
              "    </tr>\n",
              "    <tr>\n",
              "      <th>1</th>\n",
              "      <td>0</td>\n",
              "      <td>17</td>\n",
              "      <td>1.6</td>\n",
              "      <td>2.4</td>\n",
              "      <td>18.500000</td>\n",
              "      <td>18.100000</td>\n",
              "      <td>1675490400000</td>\n",
              "      <td>7.0</td>\n",
              "      <td>93.599998</td>\n",
              "      <td>59.200001</td>\n",
              "      <td>0.00646</td>\n",
              "      <td>45.299999</td>\n",
              "      <td>20230204</td>\n",
              "      <td>164</td>\n",
              "      <td>281.100006</td>\n",
              "      <td>288.399994</td>\n",
              "      <td>0.35</td>\n",
              "      <td>5.1</td>\n",
              "      <td>2023-02-04 06:00:00</td>\n",
              "    </tr>\n",
              "    <tr>\n",
              "      <th>2</th>\n",
              "      <td>0</td>\n",
              "      <td>15</td>\n",
              "      <td>1.7</td>\n",
              "      <td>2.4</td>\n",
              "      <td>19.799999</td>\n",
              "      <td>18.600000</td>\n",
              "      <td>1675576800000</td>\n",
              "      <td>3.6</td>\n",
              "      <td>100.000000</td>\n",
              "      <td>54.500000</td>\n",
              "      <td>0.00558</td>\n",
              "      <td>86.400002</td>\n",
              "      <td>20230205</td>\n",
              "      <td>270</td>\n",
              "      <td>277.799988</td>\n",
              "      <td>287.299988</td>\n",
              "      <td>0.32</td>\n",
              "      <td>5.2</td>\n",
              "      <td>2023-02-05 06:00:00</td>\n",
              "    </tr>\n",
              "    <tr>\n",
              "      <th>3</th>\n",
              "      <td>30</td>\n",
              "      <td>25</td>\n",
              "      <td>2.2</td>\n",
              "      <td>3.3</td>\n",
              "      <td>19.100000</td>\n",
              "      <td>18.700001</td>\n",
              "      <td>1675663200000</td>\n",
              "      <td>0.0</td>\n",
              "      <td>95.800003</td>\n",
              "      <td>43.400002</td>\n",
              "      <td>0.00492</td>\n",
              "      <td>154.100006</td>\n",
              "      <td>20230206</td>\n",
              "      <td>345</td>\n",
              "      <td>276.799988</td>\n",
              "      <td>288.500000</td>\n",
              "      <td>0.47</td>\n",
              "      <td>4.6</td>\n",
              "      <td>2023-02-06 06:00:00</td>\n",
              "    </tr>\n",
              "    <tr>\n",
              "      <th>4</th>\n",
              "      <td>26</td>\n",
              "      <td>25</td>\n",
              "      <td>2.1</td>\n",
              "      <td>3.0</td>\n",
              "      <td>18.500000</td>\n",
              "      <td>18.700001</td>\n",
              "      <td>1675749600000</td>\n",
              "      <td>0.0</td>\n",
              "      <td>95.199997</td>\n",
              "      <td>41.000000</td>\n",
              "      <td>0.00496</td>\n",
              "      <td>140.600006</td>\n",
              "      <td>20230207</td>\n",
              "      <td>354</td>\n",
              "      <td>277.000000</td>\n",
              "      <td>289.399994</td>\n",
              "      <td>0.52</td>\n",
              "      <td>3.4</td>\n",
              "      <td>2023-02-07 06:00:00</td>\n",
              "    </tr>\n",
              "  </tbody>\n",
              "</table>\n",
              "</div>\n",
              "      <button class=\"colab-df-convert\" onclick=\"convertToInteractive('df-4674da9e-f2b9-42d3-afa4-4c396bf49048')\"\n",
              "              title=\"Convert this dataframe to an interactive table.\"\n",
              "              style=\"display:none;\">\n",
              "        \n",
              "  <svg xmlns=\"http://www.w3.org/2000/svg\" height=\"24px\"viewBox=\"0 0 24 24\"\n",
              "       width=\"24px\">\n",
              "    <path d=\"M0 0h24v24H0V0z\" fill=\"none\"/>\n",
              "    <path d=\"M18.56 5.44l.94 2.06.94-2.06 2.06-.94-2.06-.94-.94-2.06-.94 2.06-2.06.94zm-11 1L8.5 8.5l.94-2.06 2.06-.94-2.06-.94L8.5 2.5l-.94 2.06-2.06.94zm10 10l.94 2.06.94-2.06 2.06-.94-2.06-.94-.94-2.06-.94 2.06-2.06.94z\"/><path d=\"M17.41 7.96l-1.37-1.37c-.4-.4-.92-.59-1.43-.59-.52 0-1.04.2-1.43.59L10.3 9.45l-7.72 7.72c-.78.78-.78 2.05 0 2.83L4 21.41c.39.39.9.59 1.41.59.51 0 1.02-.2 1.41-.59l7.78-7.78 2.81-2.81c.8-.78.8-2.07 0-2.86zM5.41 20L4 18.59l7.72-7.72 1.47 1.35L5.41 20z\"/>\n",
              "  </svg>\n",
              "      </button>\n",
              "      \n",
              "  <style>\n",
              "    .colab-df-container {\n",
              "      display:flex;\n",
              "      flex-wrap:wrap;\n",
              "      gap: 12px;\n",
              "    }\n",
              "\n",
              "    .colab-df-convert {\n",
              "      background-color: #E8F0FE;\n",
              "      border: none;\n",
              "      border-radius: 50%;\n",
              "      cursor: pointer;\n",
              "      display: none;\n",
              "      fill: #1967D2;\n",
              "      height: 32px;\n",
              "      padding: 0 0 0 0;\n",
              "      width: 32px;\n",
              "    }\n",
              "\n",
              "    .colab-df-convert:hover {\n",
              "      background-color: #E2EBFA;\n",
              "      box-shadow: 0px 1px 2px rgba(60, 64, 67, 0.3), 0px 1px 3px 1px rgba(60, 64, 67, 0.15);\n",
              "      fill: #174EA6;\n",
              "    }\n",
              "\n",
              "    [theme=dark] .colab-df-convert {\n",
              "      background-color: #3B4455;\n",
              "      fill: #D2E3FC;\n",
              "    }\n",
              "\n",
              "    [theme=dark] .colab-df-convert:hover {\n",
              "      background-color: #434B5C;\n",
              "      box-shadow: 0px 1px 3px 1px rgba(0, 0, 0, 0.15);\n",
              "      filter: drop-shadow(0px 1px 2px rgba(0, 0, 0, 0.3));\n",
              "      fill: #FFFFFF;\n",
              "    }\n",
              "  </style>\n",
              "\n",
              "      <script>\n",
              "        const buttonEl =\n",
              "          document.querySelector('#df-4674da9e-f2b9-42d3-afa4-4c396bf49048 button.colab-df-convert');\n",
              "        buttonEl.style.display =\n",
              "          google.colab.kernel.accessAllowed ? 'block' : 'none';\n",
              "\n",
              "        async function convertToInteractive(key) {\n",
              "          const element = document.querySelector('#df-4674da9e-f2b9-42d3-afa4-4c396bf49048');\n",
              "          const dataTable =\n",
              "            await google.colab.kernel.invokeFunction('convertToInteractive',\n",
              "                                                     [key], {});\n",
              "          if (!dataTable) return;\n",
              "\n",
              "          const docLinkHtml = 'Like what you see? Visit the ' +\n",
              "            '<a target=\"_blank\" href=https://colab.research.google.com/notebooks/data_table.ipynb>data table notebook</a>'\n",
              "            + ' to learn more about interactive tables.';\n",
              "          element.innerHTML = '';\n",
              "          dataTable['output_type'] = 'display_data';\n",
              "          await google.colab.output.renderOutput(dataTable, element);\n",
              "          const docLink = document.createElement('div');\n",
              "          docLink.innerHTML = docLinkHtml;\n",
              "          element.appendChild(docLink);\n",
              "        }\n",
              "      </script>\n",
              "    </div>\n",
              "  </div>\n",
              "  "
            ]
          },
          "metadata": {},
          "execution_count": 79
        }
      ]
    },
    {
      "cell_type": "code",
      "source": [
        "#df.tail()"
      ],
      "metadata": {
        "id": "xpjv5H2v-z_d"
      },
      "execution_count": null,
      "outputs": []
    },
    {
      "cell_type": "code",
      "source": [
        "df.shape"
      ],
      "metadata": {
        "colab": {
          "base_uri": "https://localhost:8080/"
        },
        "id": "GJpkZEumFbnt",
        "outputId": "52fa470b-7ba5-438f-dbd2-c5f1560d2476"
      },
      "execution_count": null,
      "outputs": [
        {
          "output_type": "execute_result",
          "data": {
            "text/plain": [
              "(37, 19)"
            ]
          },
          "metadata": {},
          "execution_count": 81
        }
      ]
    },
    {
      "cell_type": "code",
      "source": [
        "#df.to_csv('meto_ohio.csv', index=False)"
      ],
      "metadata": {
        "id": "WTiqL_QCp6mQ"
      },
      "execution_count": null,
      "outputs": []
    },
    {
      "cell_type": "markdown",
      "source": [
        "## (不要跑這一個section): Meteo data for each county: 無法提供 county level 資料"
      ],
      "metadata": {
        "id": "fv1ooCDK_I25"
      }
    },
    {
      "cell_type": "code",
      "source": [
        "county_geometries"
      ],
      "metadata": {
        "colab": {
          "base_uri": "https://localhost:8080/"
        },
        "id": "EBE0w89oJNkP",
        "outputId": "7d049b98-6f77-464c-bd20-579735a7a105"
      },
      "execution_count": null,
      "outputs": [
        {
          "output_type": "execute_result",
          "data": {
            "text/plain": [
              "<ee.featurecollection.FeatureCollection at 0x7ff3423d7610>"
            ]
          },
          "metadata": {},
          "execution_count": 80
        }
      ]
    },
    {
      "cell_type": "code",
      "source": [
        "gridmet_ohio"
      ],
      "metadata": {
        "colab": {
          "base_uri": "https://localhost:8080/"
        },
        "id": "Uttdz9KHJ7Te",
        "outputId": "77ebae38-fd28-42b2-b7da-8ea59afb20c2"
      },
      "execution_count": null,
      "outputs": [
        {
          "output_type": "execute_result",
          "data": {
            "text/plain": [
              "<ee.imagecollection.ImageCollection at 0x7ff3423af9d0>"
            ]
          },
          "metadata": {},
          "execution_count": 82
        }
      ]
    },
    {
      "cell_type": "code",
      "source": [
        "# Define function to get polygon geometry of each county\n",
        "def get_county_geometry(feature):\n",
        "    name = feature.get('NAME')\n",
        "    geometry = feature.geometry()\n",
        "    return ee.Feature(geometry, {'name': name})\n",
        "\n",
        "# Load county boundaries\n",
        "counties = ee.FeatureCollection('TIGER/2018/Counties').filter(ee.Filter.eq('STATEFP', '39'))\n",
        "\n",
        "# Map over county features to get polygon geometry of each county\n",
        "county_geometries = counties.map(get_county_geometry)"
      ],
      "metadata": {
        "id": "SQx-xqfyffmw"
      },
      "execution_count": null,
      "outputs": []
    },
    {
      "cell_type": "code",
      "source": [
        "county_geometries"
      ],
      "metadata": {
        "colab": {
          "base_uri": "https://localhost:8080/"
        },
        "id": "XfstN-kFfg64",
        "outputId": "d422b33f-b69f-4b45-d8e3-bde865783cba"
      },
      "execution_count": null,
      "outputs": [
        {
          "output_type": "execute_result",
          "data": {
            "text/plain": [
              "<ee.featurecollection.FeatureCollection at 0x7f0e529b2400>"
            ]
          },
          "metadata": {},
          "execution_count": 81
        }
      ]
    },
    {
      "cell_type": "code",
      "source": [
        "# Define function to calculate slope, aspect, and elevation from SRTM data\n",
        "def get_terrain_data(feature):\n",
        "    dem = ee.Image('CGIAR/SRTM90_V4')\n",
        "    geometry = feature.geometry()\n",
        "    slope = ee.Terrain.slope(dem).reduceRegion(ee.Reducer.mean(), geometry, 90)\n",
        "    aspect = ee.Terrain.aspect(dem).reduceRegion(ee.Reducer.mean(), geometry, 90)\n",
        "    elevation = dem.reduceRegion(ee.Reducer.mean(), geometry, 90)\n",
        "    return ee.Feature(geometry, {'slope': slope, 'aspect': aspect, 'elevation': elevation})\n",
        "\n",
        "# Map over county geometries to calculate terrain data for each county\n",
        "terrain_data = county_geometries.map(get_terrain_data)\n"
      ],
      "metadata": {
        "id": "lkWZ78KGfp0e"
      },
      "execution_count": null,
      "outputs": []
    },
    {
      "cell_type": "code",
      "source": [
        "terrain_data"
      ],
      "metadata": {
        "colab": {
          "base_uri": "https://localhost:8080/"
        },
        "id": "kJmZas0dfsov",
        "outputId": "ef6a621b-c2e8-4c71-f50d-cc9f41e060a3"
      },
      "execution_count": null,
      "outputs": [
        {
          "output_type": "execute_result",
          "data": {
            "text/plain": [
              "<ee.featurecollection.FeatureCollection at 0x7f0e529390d0>"
            ]
          },
          "metadata": {},
          "execution_count": 83
        }
      ]
    },
    {
      "cell_type": "code",
      "source": [
        "# Convert terrain data to a pandas dataframe\n",
        "df1 = pd.DataFrame(terrain_data.getInfo()['features'])"
      ],
      "metadata": {
        "id": "1PUoZk1Hfrnk"
      },
      "execution_count": null,
      "outputs": []
    },
    {
      "cell_type": "code",
      "source": [
        "df1.head()"
      ],
      "metadata": {
        "colab": {
          "base_uri": "https://localhost:8080/",
          "height": 206
        },
        "id": "enDABO7dfx4T",
        "outputId": "8b46ffc5-b2d6-42fc-e908-9bd5a7c94153"
      },
      "execution_count": null,
      "outputs": [
        {
          "output_type": "execute_result",
          "data": {
            "text/plain": [
              "      type                                           geometry  \\\n",
              "0  Feature  {'type': 'Polygon', 'coordinates': [[[-83.4159...   \n",
              "1  Feature  {'type': 'Polygon', 'coordinates': [[[-84.3995...   \n",
              "2  Feature  {'type': 'Polygon', 'coordinates': [[[-83.8832...   \n",
              "3  Feature  {'type': 'Polygon', 'coordinates': [[[-83.8836...   \n",
              "4  Feature  {'type': 'Polygon', 'coordinates': [[[-81.8536...   \n",
              "\n",
              "                     id                                         properties  \n",
              "0  0000000000000000005c  {'aspect': {'aspect': 65.14672099369082}, 'ele...  \n",
              "1  0000000000000000005d  {'aspect': {'aspect': 150.65601418474628}, 'el...  \n",
              "2  0000000000000000005e  {'aspect': {'aspect': 87.36197239311343}, 'ele...  \n",
              "3  0000000000000000005f  {'aspect': {'aspect': 142.6492533973185}, 'ele...  \n",
              "4  000000000000000001fd  {'aspect': {'aspect': 174.05815026632834}, 'el...  "
            ],
            "text/html": [
              "\n",
              "  <div id=\"df-4d89d432-d299-4525-8c96-099e53053292\">\n",
              "    <div class=\"colab-df-container\">\n",
              "      <div>\n",
              "<style scoped>\n",
              "    .dataframe tbody tr th:only-of-type {\n",
              "        vertical-align: middle;\n",
              "    }\n",
              "\n",
              "    .dataframe tbody tr th {\n",
              "        vertical-align: top;\n",
              "    }\n",
              "\n",
              "    .dataframe thead th {\n",
              "        text-align: right;\n",
              "    }\n",
              "</style>\n",
              "<table border=\"1\" class=\"dataframe\">\n",
              "  <thead>\n",
              "    <tr style=\"text-align: right;\">\n",
              "      <th></th>\n",
              "      <th>type</th>\n",
              "      <th>geometry</th>\n",
              "      <th>id</th>\n",
              "      <th>properties</th>\n",
              "    </tr>\n",
              "  </thead>\n",
              "  <tbody>\n",
              "    <tr>\n",
              "      <th>0</th>\n",
              "      <td>Feature</td>\n",
              "      <td>{'type': 'Polygon', 'coordinates': [[[-83.4159...</td>\n",
              "      <td>0000000000000000005c</td>\n",
              "      <td>{'aspect': {'aspect': 65.14672099369082}, 'ele...</td>\n",
              "    </tr>\n",
              "    <tr>\n",
              "      <th>1</th>\n",
              "      <td>Feature</td>\n",
              "      <td>{'type': 'Polygon', 'coordinates': [[[-84.3995...</td>\n",
              "      <td>0000000000000000005d</td>\n",
              "      <td>{'aspect': {'aspect': 150.65601418474628}, 'el...</td>\n",
              "    </tr>\n",
              "    <tr>\n",
              "      <th>2</th>\n",
              "      <td>Feature</td>\n",
              "      <td>{'type': 'Polygon', 'coordinates': [[[-83.8832...</td>\n",
              "      <td>0000000000000000005e</td>\n",
              "      <td>{'aspect': {'aspect': 87.36197239311343}, 'ele...</td>\n",
              "    </tr>\n",
              "    <tr>\n",
              "      <th>3</th>\n",
              "      <td>Feature</td>\n",
              "      <td>{'type': 'Polygon', 'coordinates': [[[-83.8836...</td>\n",
              "      <td>0000000000000000005f</td>\n",
              "      <td>{'aspect': {'aspect': 142.6492533973185}, 'ele...</td>\n",
              "    </tr>\n",
              "    <tr>\n",
              "      <th>4</th>\n",
              "      <td>Feature</td>\n",
              "      <td>{'type': 'Polygon', 'coordinates': [[[-81.8536...</td>\n",
              "      <td>000000000000000001fd</td>\n",
              "      <td>{'aspect': {'aspect': 174.05815026632834}, 'el...</td>\n",
              "    </tr>\n",
              "  </tbody>\n",
              "</table>\n",
              "</div>\n",
              "      <button class=\"colab-df-convert\" onclick=\"convertToInteractive('df-4d89d432-d299-4525-8c96-099e53053292')\"\n",
              "              title=\"Convert this dataframe to an interactive table.\"\n",
              "              style=\"display:none;\">\n",
              "        \n",
              "  <svg xmlns=\"http://www.w3.org/2000/svg\" height=\"24px\"viewBox=\"0 0 24 24\"\n",
              "       width=\"24px\">\n",
              "    <path d=\"M0 0h24v24H0V0z\" fill=\"none\"/>\n",
              "    <path d=\"M18.56 5.44l.94 2.06.94-2.06 2.06-.94-2.06-.94-.94-2.06-.94 2.06-2.06.94zm-11 1L8.5 8.5l.94-2.06 2.06-.94-2.06-.94L8.5 2.5l-.94 2.06-2.06.94zm10 10l.94 2.06.94-2.06 2.06-.94-2.06-.94-.94-2.06-.94 2.06-2.06.94z\"/><path d=\"M17.41 7.96l-1.37-1.37c-.4-.4-.92-.59-1.43-.59-.52 0-1.04.2-1.43.59L10.3 9.45l-7.72 7.72c-.78.78-.78 2.05 0 2.83L4 21.41c.39.39.9.59 1.41.59.51 0 1.02-.2 1.41-.59l7.78-7.78 2.81-2.81c.8-.78.8-2.07 0-2.86zM5.41 20L4 18.59l7.72-7.72 1.47 1.35L5.41 20z\"/>\n",
              "  </svg>\n",
              "      </button>\n",
              "      \n",
              "  <style>\n",
              "    .colab-df-container {\n",
              "      display:flex;\n",
              "      flex-wrap:wrap;\n",
              "      gap: 12px;\n",
              "    }\n",
              "\n",
              "    .colab-df-convert {\n",
              "      background-color: #E8F0FE;\n",
              "      border: none;\n",
              "      border-radius: 50%;\n",
              "      cursor: pointer;\n",
              "      display: none;\n",
              "      fill: #1967D2;\n",
              "      height: 32px;\n",
              "      padding: 0 0 0 0;\n",
              "      width: 32px;\n",
              "    }\n",
              "\n",
              "    .colab-df-convert:hover {\n",
              "      background-color: #E2EBFA;\n",
              "      box-shadow: 0px 1px 2px rgba(60, 64, 67, 0.3), 0px 1px 3px 1px rgba(60, 64, 67, 0.15);\n",
              "      fill: #174EA6;\n",
              "    }\n",
              "\n",
              "    [theme=dark] .colab-df-convert {\n",
              "      background-color: #3B4455;\n",
              "      fill: #D2E3FC;\n",
              "    }\n",
              "\n",
              "    [theme=dark] .colab-df-convert:hover {\n",
              "      background-color: #434B5C;\n",
              "      box-shadow: 0px 1px 3px 1px rgba(0, 0, 0, 0.15);\n",
              "      filter: drop-shadow(0px 1px 2px rgba(0, 0, 0, 0.3));\n",
              "      fill: #FFFFFF;\n",
              "    }\n",
              "  </style>\n",
              "\n",
              "      <script>\n",
              "        const buttonEl =\n",
              "          document.querySelector('#df-4d89d432-d299-4525-8c96-099e53053292 button.colab-df-convert');\n",
              "        buttonEl.style.display =\n",
              "          google.colab.kernel.accessAllowed ? 'block' : 'none';\n",
              "\n",
              "        async function convertToInteractive(key) {\n",
              "          const element = document.querySelector('#df-4d89d432-d299-4525-8c96-099e53053292');\n",
              "          const dataTable =\n",
              "            await google.colab.kernel.invokeFunction('convertToInteractive',\n",
              "                                                     [key], {});\n",
              "          if (!dataTable) return;\n",
              "\n",
              "          const docLinkHtml = 'Like what you see? Visit the ' +\n",
              "            '<a target=\"_blank\" href=https://colab.research.google.com/notebooks/data_table.ipynb>data table notebook</a>'\n",
              "            + ' to learn more about interactive tables.';\n",
              "          element.innerHTML = '';\n",
              "          dataTable['output_type'] = 'display_data';\n",
              "          await google.colab.output.renderOutput(dataTable, element);\n",
              "          const docLink = document.createElement('div');\n",
              "          docLink.innerHTML = docLinkHtml;\n",
              "          element.appendChild(docLink);\n",
              "        }\n",
              "      </script>\n",
              "    </div>\n",
              "  </div>\n",
              "  "
            ]
          },
          "metadata": {},
          "execution_count": 85
        }
      ]
    },
    {
      "cell_type": "markdown",
      "source": [],
      "metadata": {
        "id": "XJXRt1up_53R"
      }
    },
    {
      "cell_type": "code",
      "source": [
        "def reduce_region_function(img):\n",
        "  \"\"\"Return a feature containing the mean value of a region and a timestamp.\"\"\"\n",
        "  stat = img.reduceRegion(\n",
        "      reducer = ee.Reducer.mean(),\n",
        "      geometry = stat_region,\n",
        "      scale = 30\n",
        "  )\n",
        "  return ee.Feature(stat_region, stat).set({'millis': img.date().millis()}) # set the time of the stats\n",
        "\n",
        "def get_meteo_data(feature):\n",
        "  gridmet = ee.ImageCollection('IDAHO_EPSCOR/GRIDMET')\n",
        "  geometry = feature.geometry()\n",
        "  gridmet_ohio = gridmet.filterBounds(geometry).filterDate(start_date, end_date)\n",
        "  stat_fc = (\n",
        "    ee.FeatureCollection(\n",
        "        gridmet_ohio.map(reduce_region_function)\n",
        "    ).filter(\n",
        "        ee.Filter.notNull(gridmet_ohio.first().bandNames())\n",
        "    )\n",
        "  ) \n",
        "  df = fc_to_df(stat_fc)\n",
        "  df['timestamp'] = pd.to_datetime(df['millis'], unit='ms')\n",
        "  return df\n",
        "\n",
        "# Define a function to transfer feature properties to a dictionary.\n",
        "def fc_to_dict(fc):\n",
        "  prop_names = fc.first().propertyNames()\n",
        "  prop_lists = fc.reduceColumns(\n",
        "      reducer = ee.Reducer.toList().repeat(prop_names.size()),\n",
        "      selectors = prop_names\n",
        "  ).get('list')\n",
        "\n",
        "  return ee.Dictionary.fromLists(prop_names, prop_lists)\n",
        "\n",
        "def fc_to_df(fc):\n",
        "  \"\"\"Convert a feature collection to pandas dataframe\"\"\"\n",
        "  return pd.DataFrame(fc_to_dict(fc).getInfo())\n",
        "\n",
        "\n",
        "# Define the Ohio state geometry\n",
        "ohio = ee.FeatureCollection('TIGER/2018/States').filter(ee.Filter.eq('NAME', 'Ohio'))\n",
        "# Define the start and end dates of the time period of interest\n",
        "start_date = ee.Date('2023-02-03') \n",
        "end_date = ee.Date('2023-03-12')\n",
        "\n",
        "\n",
        "def final_df(feature):\n",
        "    # Load the IDAHO_EPSCOR/GRIDMET image collection\n",
        "    gridmet = ee.ImageCollection('IDAHO_EPSCOR/GRIDMET')\n",
        "    geometry = feature['geometry']\n",
        "    # Filter the collection by the time period and Ohio state geometry\n",
        "    gridmet_filtered = gridmet.filterBounds(geometry).filterDate(start_date, end_date)\n",
        "\n",
        "    stat_fc = (\n",
        "        ee.FeatureCollection(\n",
        "            gridmet_filtered.map(reduce_region_function)\n",
        "        ).filter(\n",
        "            ee.Filter.notNull(gridmet_filtered.first().bandNames())\n",
        "        )\n",
        "    )\n",
        "\n",
        "    df = fc_to_df(stat_fc)\n",
        "    df['timestamp'] = pd.to_datetime(df['millis'], unit='ms')\n",
        "    return df"
      ],
      "metadata": {
        "id": "urHQcAYUfykj"
      },
      "execution_count": null,
      "outputs": []
    },
    {
      "cell_type": "code",
      "source": [
        "mdf = final_df(ohio)"
      ],
      "metadata": {
        "id": "ddtzLaPFjuRJ"
      },
      "execution_count": null,
      "outputs": []
    },
    {
      "cell_type": "code",
      "source": [
        "mdf.head()"
      ],
      "metadata": {
        "colab": {
          "base_uri": "https://localhost:8080/",
          "height": 356
        },
        "id": "9kCkVzE6j0Kj",
        "outputId": "d5f4411d-0f26-4801-c43e-4761e6ecfabf"
      },
      "execution_count": null,
      "outputs": [
        {
          "output_type": "execute_result",
          "data": {
            "text/plain": [
              "   bi  erc  eto  etr      fm100     fm1000         millis   pr        rmax  \\\n",
              "0   0   20  1.5  2.1  16.000000  17.400000  1675404000000  3.2   88.000000   \n",
              "1   0   17  1.6  2.4  18.500000  18.100000  1675490400000  7.0   93.599998   \n",
              "2   0   15  1.7  2.4  19.799999  18.600000  1675576800000  3.6  100.000000   \n",
              "3  30   25  2.2  3.3  19.100000  18.700001  1675663200000  0.0   95.800003   \n",
              "4  26   25  2.1  3.0  18.500000  18.700001  1675749600000  0.0   95.199997   \n",
              "\n",
              "        rmin      sph        srad system:index   th        tmmn        tmmx  \\\n",
              "0  61.099998  0.00640  103.599998     20230203  150  281.899994  287.799988   \n",
              "1  59.200001  0.00646   45.299999     20230204  164  281.100006  288.399994   \n",
              "2  54.500000  0.00558   86.400002     20230205  270  277.799988  287.299988   \n",
              "3  43.400002  0.00492  154.100006     20230206  345  276.799988  288.500000   \n",
              "4  41.000000  0.00496  140.600006     20230207  354  277.000000  289.399994   \n",
              "\n",
              "    vpd   vs           timestamp  \n",
              "0  0.36  3.2 2023-02-03 06:00:00  \n",
              "1  0.35  5.1 2023-02-04 06:00:00  \n",
              "2  0.32  5.2 2023-02-05 06:00:00  \n",
              "3  0.47  4.6 2023-02-06 06:00:00  \n",
              "4  0.52  3.4 2023-02-07 06:00:00  "
            ],
            "text/html": [
              "\n",
              "  <div id=\"df-ad851e31-6c19-4194-9e22-f1653327764b\">\n",
              "    <div class=\"colab-df-container\">\n",
              "      <div>\n",
              "<style scoped>\n",
              "    .dataframe tbody tr th:only-of-type {\n",
              "        vertical-align: middle;\n",
              "    }\n",
              "\n",
              "    .dataframe tbody tr th {\n",
              "        vertical-align: top;\n",
              "    }\n",
              "\n",
              "    .dataframe thead th {\n",
              "        text-align: right;\n",
              "    }\n",
              "</style>\n",
              "<table border=\"1\" class=\"dataframe\">\n",
              "  <thead>\n",
              "    <tr style=\"text-align: right;\">\n",
              "      <th></th>\n",
              "      <th>bi</th>\n",
              "      <th>erc</th>\n",
              "      <th>eto</th>\n",
              "      <th>etr</th>\n",
              "      <th>fm100</th>\n",
              "      <th>fm1000</th>\n",
              "      <th>millis</th>\n",
              "      <th>pr</th>\n",
              "      <th>rmax</th>\n",
              "      <th>rmin</th>\n",
              "      <th>sph</th>\n",
              "      <th>srad</th>\n",
              "      <th>system:index</th>\n",
              "      <th>th</th>\n",
              "      <th>tmmn</th>\n",
              "      <th>tmmx</th>\n",
              "      <th>vpd</th>\n",
              "      <th>vs</th>\n",
              "      <th>timestamp</th>\n",
              "    </tr>\n",
              "  </thead>\n",
              "  <tbody>\n",
              "    <tr>\n",
              "      <th>0</th>\n",
              "      <td>0</td>\n",
              "      <td>20</td>\n",
              "      <td>1.5</td>\n",
              "      <td>2.1</td>\n",
              "      <td>16.000000</td>\n",
              "      <td>17.400000</td>\n",
              "      <td>1675404000000</td>\n",
              "      <td>3.2</td>\n",
              "      <td>88.000000</td>\n",
              "      <td>61.099998</td>\n",
              "      <td>0.00640</td>\n",
              "      <td>103.599998</td>\n",
              "      <td>20230203</td>\n",
              "      <td>150</td>\n",
              "      <td>281.899994</td>\n",
              "      <td>287.799988</td>\n",
              "      <td>0.36</td>\n",
              "      <td>3.2</td>\n",
              "      <td>2023-02-03 06:00:00</td>\n",
              "    </tr>\n",
              "    <tr>\n",
              "      <th>1</th>\n",
              "      <td>0</td>\n",
              "      <td>17</td>\n",
              "      <td>1.6</td>\n",
              "      <td>2.4</td>\n",
              "      <td>18.500000</td>\n",
              "      <td>18.100000</td>\n",
              "      <td>1675490400000</td>\n",
              "      <td>7.0</td>\n",
              "      <td>93.599998</td>\n",
              "      <td>59.200001</td>\n",
              "      <td>0.00646</td>\n",
              "      <td>45.299999</td>\n",
              "      <td>20230204</td>\n",
              "      <td>164</td>\n",
              "      <td>281.100006</td>\n",
              "      <td>288.399994</td>\n",
              "      <td>0.35</td>\n",
              "      <td>5.1</td>\n",
              "      <td>2023-02-04 06:00:00</td>\n",
              "    </tr>\n",
              "    <tr>\n",
              "      <th>2</th>\n",
              "      <td>0</td>\n",
              "      <td>15</td>\n",
              "      <td>1.7</td>\n",
              "      <td>2.4</td>\n",
              "      <td>19.799999</td>\n",
              "      <td>18.600000</td>\n",
              "      <td>1675576800000</td>\n",
              "      <td>3.6</td>\n",
              "      <td>100.000000</td>\n",
              "      <td>54.500000</td>\n",
              "      <td>0.00558</td>\n",
              "      <td>86.400002</td>\n",
              "      <td>20230205</td>\n",
              "      <td>270</td>\n",
              "      <td>277.799988</td>\n",
              "      <td>287.299988</td>\n",
              "      <td>0.32</td>\n",
              "      <td>5.2</td>\n",
              "      <td>2023-02-05 06:00:00</td>\n",
              "    </tr>\n",
              "    <tr>\n",
              "      <th>3</th>\n",
              "      <td>30</td>\n",
              "      <td>25</td>\n",
              "      <td>2.2</td>\n",
              "      <td>3.3</td>\n",
              "      <td>19.100000</td>\n",
              "      <td>18.700001</td>\n",
              "      <td>1675663200000</td>\n",
              "      <td>0.0</td>\n",
              "      <td>95.800003</td>\n",
              "      <td>43.400002</td>\n",
              "      <td>0.00492</td>\n",
              "      <td>154.100006</td>\n",
              "      <td>20230206</td>\n",
              "      <td>345</td>\n",
              "      <td>276.799988</td>\n",
              "      <td>288.500000</td>\n",
              "      <td>0.47</td>\n",
              "      <td>4.6</td>\n",
              "      <td>2023-02-06 06:00:00</td>\n",
              "    </tr>\n",
              "    <tr>\n",
              "      <th>4</th>\n",
              "      <td>26</td>\n",
              "      <td>25</td>\n",
              "      <td>2.1</td>\n",
              "      <td>3.0</td>\n",
              "      <td>18.500000</td>\n",
              "      <td>18.700001</td>\n",
              "      <td>1675749600000</td>\n",
              "      <td>0.0</td>\n",
              "      <td>95.199997</td>\n",
              "      <td>41.000000</td>\n",
              "      <td>0.00496</td>\n",
              "      <td>140.600006</td>\n",
              "      <td>20230207</td>\n",
              "      <td>354</td>\n",
              "      <td>277.000000</td>\n",
              "      <td>289.399994</td>\n",
              "      <td>0.52</td>\n",
              "      <td>3.4</td>\n",
              "      <td>2023-02-07 06:00:00</td>\n",
              "    </tr>\n",
              "  </tbody>\n",
              "</table>\n",
              "</div>\n",
              "      <button class=\"colab-df-convert\" onclick=\"convertToInteractive('df-ad851e31-6c19-4194-9e22-f1653327764b')\"\n",
              "              title=\"Convert this dataframe to an interactive table.\"\n",
              "              style=\"display:none;\">\n",
              "        \n",
              "  <svg xmlns=\"http://www.w3.org/2000/svg\" height=\"24px\"viewBox=\"0 0 24 24\"\n",
              "       width=\"24px\">\n",
              "    <path d=\"M0 0h24v24H0V0z\" fill=\"none\"/>\n",
              "    <path d=\"M18.56 5.44l.94 2.06.94-2.06 2.06-.94-2.06-.94-.94-2.06-.94 2.06-2.06.94zm-11 1L8.5 8.5l.94-2.06 2.06-.94-2.06-.94L8.5 2.5l-.94 2.06-2.06.94zm10 10l.94 2.06.94-2.06 2.06-.94-2.06-.94-.94-2.06-.94 2.06-2.06.94z\"/><path d=\"M17.41 7.96l-1.37-1.37c-.4-.4-.92-.59-1.43-.59-.52 0-1.04.2-1.43.59L10.3 9.45l-7.72 7.72c-.78.78-.78 2.05 0 2.83L4 21.41c.39.39.9.59 1.41.59.51 0 1.02-.2 1.41-.59l7.78-7.78 2.81-2.81c.8-.78.8-2.07 0-2.86zM5.41 20L4 18.59l7.72-7.72 1.47 1.35L5.41 20z\"/>\n",
              "  </svg>\n",
              "      </button>\n",
              "      \n",
              "  <style>\n",
              "    .colab-df-container {\n",
              "      display:flex;\n",
              "      flex-wrap:wrap;\n",
              "      gap: 12px;\n",
              "    }\n",
              "\n",
              "    .colab-df-convert {\n",
              "      background-color: #E8F0FE;\n",
              "      border: none;\n",
              "      border-radius: 50%;\n",
              "      cursor: pointer;\n",
              "      display: none;\n",
              "      fill: #1967D2;\n",
              "      height: 32px;\n",
              "      padding: 0 0 0 0;\n",
              "      width: 32px;\n",
              "    }\n",
              "\n",
              "    .colab-df-convert:hover {\n",
              "      background-color: #E2EBFA;\n",
              "      box-shadow: 0px 1px 2px rgba(60, 64, 67, 0.3), 0px 1px 3px 1px rgba(60, 64, 67, 0.15);\n",
              "      fill: #174EA6;\n",
              "    }\n",
              "\n",
              "    [theme=dark] .colab-df-convert {\n",
              "      background-color: #3B4455;\n",
              "      fill: #D2E3FC;\n",
              "    }\n",
              "\n",
              "    [theme=dark] .colab-df-convert:hover {\n",
              "      background-color: #434B5C;\n",
              "      box-shadow: 0px 1px 3px 1px rgba(0, 0, 0, 0.15);\n",
              "      filter: drop-shadow(0px 1px 2px rgba(0, 0, 0, 0.3));\n",
              "      fill: #FFFFFF;\n",
              "    }\n",
              "  </style>\n",
              "\n",
              "      <script>\n",
              "        const buttonEl =\n",
              "          document.querySelector('#df-ad851e31-6c19-4194-9e22-f1653327764b button.colab-df-convert');\n",
              "        buttonEl.style.display =\n",
              "          google.colab.kernel.accessAllowed ? 'block' : 'none';\n",
              "\n",
              "        async function convertToInteractive(key) {\n",
              "          const element = document.querySelector('#df-ad851e31-6c19-4194-9e22-f1653327764b');\n",
              "          const dataTable =\n",
              "            await google.colab.kernel.invokeFunction('convertToInteractive',\n",
              "                                                     [key], {});\n",
              "          if (!dataTable) return;\n",
              "\n",
              "          const docLinkHtml = 'Like what you see? Visit the ' +\n",
              "            '<a target=\"_blank\" href=https://colab.research.google.com/notebooks/data_table.ipynb>data table notebook</a>'\n",
              "            + ' to learn more about interactive tables.';\n",
              "          element.innerHTML = '';\n",
              "          dataTable['output_type'] = 'display_data';\n",
              "          await google.colab.output.renderOutput(dataTable, element);\n",
              "          const docLink = document.createElement('div');\n",
              "          docLink.innerHTML = docLinkHtml;\n",
              "          element.appendChild(docLink);\n",
              "        }\n",
              "      </script>\n",
              "    </div>\n",
              "  </div>\n",
              "  "
            ]
          },
          "metadata": {},
          "execution_count": 111
        }
      ]
    },
    {
      "cell_type": "code",
      "source": [
        "#ohio.getInfo()"
      ],
      "metadata": {
        "id": "pBjSceo5jFo4"
      },
      "execution_count": null,
      "outputs": []
    },
    {
      "cell_type": "code",
      "source": [
        "ohio, counties, county_geometries"
      ],
      "metadata": {
        "colab": {
          "base_uri": "https://localhost:8080/"
        },
        "id": "OoKSJo7lgjmj",
        "outputId": "3cfbe322-b8d2-4596-89e7-e2a2fdb12338"
      },
      "execution_count": null,
      "outputs": [
        {
          "output_type": "execute_result",
          "data": {
            "text/plain": [
              "(<ee.featurecollection.FeatureCollection at 0x7f0e529b3e50>,\n",
              " <ee.featurecollection.FeatureCollection at 0x7f0e527034c0>,\n",
              " <ee.featurecollection.FeatureCollection at 0x7f0e529b2400>)"
            ]
          },
          "metadata": {},
          "execution_count": 88
        }
      ]
    },
    {
      "cell_type": "code",
      "source": [
        "#county_geometries.getInfo()"
      ],
      "metadata": {
        "id": "D3JvkuEMhp6T"
      },
      "execution_count": null,
      "outputs": []
    },
    {
      "cell_type": "code",
      "source": [
        "df.head()"
      ],
      "metadata": {
        "colab": {
          "base_uri": "https://localhost:8080/",
          "height": 356
        },
        "id": "yRjPxNR1gHFt",
        "outputId": "8490d71e-152d-41b5-8cc6-460fb9961f96"
      },
      "execution_count": null,
      "outputs": [
        {
          "output_type": "execute_result",
          "data": {
            "text/plain": [
              "   bi  erc  eto  etr      fm100     fm1000         millis   pr        rmax  \\\n",
              "0   0   20  1.5  2.1  16.000000  17.400000  1675404000000  3.2   88.000000   \n",
              "1   0   17  1.6  2.4  18.500000  18.100000  1675490400000  7.0   93.599998   \n",
              "2   0   15  1.7  2.4  19.799999  18.600000  1675576800000  3.6  100.000000   \n",
              "3  30   25  2.2  3.3  19.100000  18.700001  1675663200000  0.0   95.800003   \n",
              "4  26   25  2.1  3.0  18.500000  18.700001  1675749600000  0.0   95.199997   \n",
              "\n",
              "        rmin      sph        srad system:index   th        tmmn        tmmx  \\\n",
              "0  61.099998  0.00640  103.599998     20230203  150  281.899994  287.799988   \n",
              "1  59.200001  0.00646   45.299999     20230204  164  281.100006  288.399994   \n",
              "2  54.500000  0.00558   86.400002     20230205  270  277.799988  287.299988   \n",
              "3  43.400002  0.00492  154.100006     20230206  345  276.799988  288.500000   \n",
              "4  41.000000  0.00496  140.600006     20230207  354  277.000000  289.399994   \n",
              "\n",
              "    vpd   vs           timestamp  \n",
              "0  0.36  3.2 2023-02-03 06:00:00  \n",
              "1  0.35  5.1 2023-02-04 06:00:00  \n",
              "2  0.32  5.2 2023-02-05 06:00:00  \n",
              "3  0.47  4.6 2023-02-06 06:00:00  \n",
              "4  0.52  3.4 2023-02-07 06:00:00  "
            ],
            "text/html": [
              "\n",
              "  <div id=\"df-d5f66ed7-afaa-4477-8311-5b4c35a424ae\">\n",
              "    <div class=\"colab-df-container\">\n",
              "      <div>\n",
              "<style scoped>\n",
              "    .dataframe tbody tr th:only-of-type {\n",
              "        vertical-align: middle;\n",
              "    }\n",
              "\n",
              "    .dataframe tbody tr th {\n",
              "        vertical-align: top;\n",
              "    }\n",
              "\n",
              "    .dataframe thead th {\n",
              "        text-align: right;\n",
              "    }\n",
              "</style>\n",
              "<table border=\"1\" class=\"dataframe\">\n",
              "  <thead>\n",
              "    <tr style=\"text-align: right;\">\n",
              "      <th></th>\n",
              "      <th>bi</th>\n",
              "      <th>erc</th>\n",
              "      <th>eto</th>\n",
              "      <th>etr</th>\n",
              "      <th>fm100</th>\n",
              "      <th>fm1000</th>\n",
              "      <th>millis</th>\n",
              "      <th>pr</th>\n",
              "      <th>rmax</th>\n",
              "      <th>rmin</th>\n",
              "      <th>sph</th>\n",
              "      <th>srad</th>\n",
              "      <th>system:index</th>\n",
              "      <th>th</th>\n",
              "      <th>tmmn</th>\n",
              "      <th>tmmx</th>\n",
              "      <th>vpd</th>\n",
              "      <th>vs</th>\n",
              "      <th>timestamp</th>\n",
              "    </tr>\n",
              "  </thead>\n",
              "  <tbody>\n",
              "    <tr>\n",
              "      <th>0</th>\n",
              "      <td>0</td>\n",
              "      <td>20</td>\n",
              "      <td>1.5</td>\n",
              "      <td>2.1</td>\n",
              "      <td>16.000000</td>\n",
              "      <td>17.400000</td>\n",
              "      <td>1675404000000</td>\n",
              "      <td>3.2</td>\n",
              "      <td>88.000000</td>\n",
              "      <td>61.099998</td>\n",
              "      <td>0.00640</td>\n",
              "      <td>103.599998</td>\n",
              "      <td>20230203</td>\n",
              "      <td>150</td>\n",
              "      <td>281.899994</td>\n",
              "      <td>287.799988</td>\n",
              "      <td>0.36</td>\n",
              "      <td>3.2</td>\n",
              "      <td>2023-02-03 06:00:00</td>\n",
              "    </tr>\n",
              "    <tr>\n",
              "      <th>1</th>\n",
              "      <td>0</td>\n",
              "      <td>17</td>\n",
              "      <td>1.6</td>\n",
              "      <td>2.4</td>\n",
              "      <td>18.500000</td>\n",
              "      <td>18.100000</td>\n",
              "      <td>1675490400000</td>\n",
              "      <td>7.0</td>\n",
              "      <td>93.599998</td>\n",
              "      <td>59.200001</td>\n",
              "      <td>0.00646</td>\n",
              "      <td>45.299999</td>\n",
              "      <td>20230204</td>\n",
              "      <td>164</td>\n",
              "      <td>281.100006</td>\n",
              "      <td>288.399994</td>\n",
              "      <td>0.35</td>\n",
              "      <td>5.1</td>\n",
              "      <td>2023-02-04 06:00:00</td>\n",
              "    </tr>\n",
              "    <tr>\n",
              "      <th>2</th>\n",
              "      <td>0</td>\n",
              "      <td>15</td>\n",
              "      <td>1.7</td>\n",
              "      <td>2.4</td>\n",
              "      <td>19.799999</td>\n",
              "      <td>18.600000</td>\n",
              "      <td>1675576800000</td>\n",
              "      <td>3.6</td>\n",
              "      <td>100.000000</td>\n",
              "      <td>54.500000</td>\n",
              "      <td>0.00558</td>\n",
              "      <td>86.400002</td>\n",
              "      <td>20230205</td>\n",
              "      <td>270</td>\n",
              "      <td>277.799988</td>\n",
              "      <td>287.299988</td>\n",
              "      <td>0.32</td>\n",
              "      <td>5.2</td>\n",
              "      <td>2023-02-05 06:00:00</td>\n",
              "    </tr>\n",
              "    <tr>\n",
              "      <th>3</th>\n",
              "      <td>30</td>\n",
              "      <td>25</td>\n",
              "      <td>2.2</td>\n",
              "      <td>3.3</td>\n",
              "      <td>19.100000</td>\n",
              "      <td>18.700001</td>\n",
              "      <td>1675663200000</td>\n",
              "      <td>0.0</td>\n",
              "      <td>95.800003</td>\n",
              "      <td>43.400002</td>\n",
              "      <td>0.00492</td>\n",
              "      <td>154.100006</td>\n",
              "      <td>20230206</td>\n",
              "      <td>345</td>\n",
              "      <td>276.799988</td>\n",
              "      <td>288.500000</td>\n",
              "      <td>0.47</td>\n",
              "      <td>4.6</td>\n",
              "      <td>2023-02-06 06:00:00</td>\n",
              "    </tr>\n",
              "    <tr>\n",
              "      <th>4</th>\n",
              "      <td>26</td>\n",
              "      <td>25</td>\n",
              "      <td>2.1</td>\n",
              "      <td>3.0</td>\n",
              "      <td>18.500000</td>\n",
              "      <td>18.700001</td>\n",
              "      <td>1675749600000</td>\n",
              "      <td>0.0</td>\n",
              "      <td>95.199997</td>\n",
              "      <td>41.000000</td>\n",
              "      <td>0.00496</td>\n",
              "      <td>140.600006</td>\n",
              "      <td>20230207</td>\n",
              "      <td>354</td>\n",
              "      <td>277.000000</td>\n",
              "      <td>289.399994</td>\n",
              "      <td>0.52</td>\n",
              "      <td>3.4</td>\n",
              "      <td>2023-02-07 06:00:00</td>\n",
              "    </tr>\n",
              "  </tbody>\n",
              "</table>\n",
              "</div>\n",
              "      <button class=\"colab-df-convert\" onclick=\"convertToInteractive('df-d5f66ed7-afaa-4477-8311-5b4c35a424ae')\"\n",
              "              title=\"Convert this dataframe to an interactive table.\"\n",
              "              style=\"display:none;\">\n",
              "        \n",
              "  <svg xmlns=\"http://www.w3.org/2000/svg\" height=\"24px\"viewBox=\"0 0 24 24\"\n",
              "       width=\"24px\">\n",
              "    <path d=\"M0 0h24v24H0V0z\" fill=\"none\"/>\n",
              "    <path d=\"M18.56 5.44l.94 2.06.94-2.06 2.06-.94-2.06-.94-.94-2.06-.94 2.06-2.06.94zm-11 1L8.5 8.5l.94-2.06 2.06-.94-2.06-.94L8.5 2.5l-.94 2.06-2.06.94zm10 10l.94 2.06.94-2.06 2.06-.94-2.06-.94-.94-2.06-.94 2.06-2.06.94z\"/><path d=\"M17.41 7.96l-1.37-1.37c-.4-.4-.92-.59-1.43-.59-.52 0-1.04.2-1.43.59L10.3 9.45l-7.72 7.72c-.78.78-.78 2.05 0 2.83L4 21.41c.39.39.9.59 1.41.59.51 0 1.02-.2 1.41-.59l7.78-7.78 2.81-2.81c.8-.78.8-2.07 0-2.86zM5.41 20L4 18.59l7.72-7.72 1.47 1.35L5.41 20z\"/>\n",
              "  </svg>\n",
              "      </button>\n",
              "      \n",
              "  <style>\n",
              "    .colab-df-container {\n",
              "      display:flex;\n",
              "      flex-wrap:wrap;\n",
              "      gap: 12px;\n",
              "    }\n",
              "\n",
              "    .colab-df-convert {\n",
              "      background-color: #E8F0FE;\n",
              "      border: none;\n",
              "      border-radius: 50%;\n",
              "      cursor: pointer;\n",
              "      display: none;\n",
              "      fill: #1967D2;\n",
              "      height: 32px;\n",
              "      padding: 0 0 0 0;\n",
              "      width: 32px;\n",
              "    }\n",
              "\n",
              "    .colab-df-convert:hover {\n",
              "      background-color: #E2EBFA;\n",
              "      box-shadow: 0px 1px 2px rgba(60, 64, 67, 0.3), 0px 1px 3px 1px rgba(60, 64, 67, 0.15);\n",
              "      fill: #174EA6;\n",
              "    }\n",
              "\n",
              "    [theme=dark] .colab-df-convert {\n",
              "      background-color: #3B4455;\n",
              "      fill: #D2E3FC;\n",
              "    }\n",
              "\n",
              "    [theme=dark] .colab-df-convert:hover {\n",
              "      background-color: #434B5C;\n",
              "      box-shadow: 0px 1px 3px 1px rgba(0, 0, 0, 0.15);\n",
              "      filter: drop-shadow(0px 1px 2px rgba(0, 0, 0, 0.3));\n",
              "      fill: #FFFFFF;\n",
              "    }\n",
              "  </style>\n",
              "\n",
              "      <script>\n",
              "        const buttonEl =\n",
              "          document.querySelector('#df-d5f66ed7-afaa-4477-8311-5b4c35a424ae button.colab-df-convert');\n",
              "        buttonEl.style.display =\n",
              "          google.colab.kernel.accessAllowed ? 'block' : 'none';\n",
              "\n",
              "        async function convertToInteractive(key) {\n",
              "          const element = document.querySelector('#df-d5f66ed7-afaa-4477-8311-5b4c35a424ae');\n",
              "          const dataTable =\n",
              "            await google.colab.kernel.invokeFunction('convertToInteractive',\n",
              "                                                     [key], {});\n",
              "          if (!dataTable) return;\n",
              "\n",
              "          const docLinkHtml = 'Like what you see? Visit the ' +\n",
              "            '<a target=\"_blank\" href=https://colab.research.google.com/notebooks/data_table.ipynb>data table notebook</a>'\n",
              "            + ' to learn more about interactive tables.';\n",
              "          element.innerHTML = '';\n",
              "          dataTable['output_type'] = 'display_data';\n",
              "          await google.colab.output.renderOutput(dataTable, element);\n",
              "          const docLink = document.createElement('div');\n",
              "          docLink.innerHTML = docLinkHtml;\n",
              "          element.appendChild(docLink);\n",
              "        }\n",
              "      </script>\n",
              "    </div>\n",
              "  </div>\n",
              "  "
            ]
          },
          "metadata": {},
          "execution_count": 99
        }
      ]
    },
    {
      "cell_type": "code",
      "source": [
        "df.shape"
      ],
      "metadata": {
        "colab": {
          "base_uri": "https://localhost:8080/"
        },
        "id": "d2KInTjJgJXG",
        "outputId": "030c1006-6947-418f-b0dd-ad65261fe22d"
      },
      "execution_count": null,
      "outputs": [
        {
          "output_type": "execute_result",
          "data": {
            "text/plain": [
              "(36, 19)"
            ]
          },
          "metadata": {},
          "execution_count": 100
        }
      ]
    },
    {
      "cell_type": "code",
      "source": [
        "c=0\n",
        "for county in counties.getInfo()['features']:\n",
        "  mdf = final_df(county)\n",
        "  name = county['properties']['NAME']\n",
        "  print(\"---------------------\", name, \"---------------------\")\n",
        "  print(mdf.head())\n",
        "  c+=1\n",
        "  if c>5:\n",
        "    break"
      ],
      "metadata": {
        "colab": {
          "base_uri": "https://localhost:8080/"
        },
        "id": "1Bvp5DBzf1ya",
        "outputId": "f48137b2-5ae5-4070-9f04-cd0fa07ac7aa"
      },
      "execution_count": null,
      "outputs": [
        {
          "output_type": "stream",
          "name": "stdout",
          "text": [
            "--------------------- Ottawa ---------------------\n",
            "   bi  erc  eto  etr      fm100     fm1000         millis   pr        rmax  \\\n",
            "0   0   20  1.5  2.1  16.000000  17.400000  1675404000000  3.2   88.000000   \n",
            "1   0   17  1.6  2.4  18.500000  18.100000  1675490400000  7.0   93.599998   \n",
            "2   0   15  1.7  2.4  19.799999  18.600000  1675576800000  3.6  100.000000   \n",
            "3  30   25  2.2  3.3  19.100000  18.700001  1675663200000  0.0   95.800003   \n",
            "4  26   25  2.1  3.0  18.500000  18.700001  1675749600000  0.0   95.199997   \n",
            "\n",
            "        rmin      sph        srad system:index   th        tmmn        tmmx  \\\n",
            "0  61.099998  0.00640  103.599998     20230203  150  281.899994  287.799988   \n",
            "1  59.200001  0.00646   45.299999     20230204  164  281.100006  288.399994   \n",
            "2  54.500000  0.00558   86.400002     20230205  270  277.799988  287.299988   \n",
            "3  43.400002  0.00492  154.100006     20230206  345  276.799988  288.500000   \n",
            "4  41.000000  0.00496  140.600006     20230207  354  277.000000  289.399994   \n",
            "\n",
            "    vpd   vs           timestamp  \n",
            "0  0.36  3.2 2023-02-03 06:00:00  \n",
            "1  0.35  5.1 2023-02-04 06:00:00  \n",
            "2  0.32  5.2 2023-02-05 06:00:00  \n",
            "3  0.47  4.6 2023-02-06 06:00:00  \n",
            "4  0.52  3.4 2023-02-07 06:00:00  \n",
            "--------------------- Fulton ---------------------\n",
            "   bi  erc  eto  etr      fm100     fm1000         millis   pr        rmax  \\\n",
            "0   0   20  1.5  2.1  16.000000  17.400000  1675404000000  3.2   88.000000   \n",
            "1   0   17  1.6  2.4  18.500000  18.100000  1675490400000  7.0   93.599998   \n",
            "2   0   15  1.7  2.4  19.799999  18.600000  1675576800000  3.6  100.000000   \n",
            "3  30   25  2.2  3.3  19.100000  18.700001  1675663200000  0.0   95.800003   \n",
            "4  26   25  2.1  3.0  18.500000  18.700001  1675749600000  0.0   95.199997   \n",
            "\n",
            "        rmin      sph        srad system:index   th        tmmn        tmmx  \\\n",
            "0  61.099998  0.00640  103.599998     20230203  150  281.899994  287.799988   \n",
            "1  59.200001  0.00646   45.299999     20230204  164  281.100006  288.399994   \n",
            "2  54.500000  0.00558   86.400002     20230205  270  277.799988  287.299988   \n",
            "3  43.400002  0.00492  154.100006     20230206  345  276.799988  288.500000   \n",
            "4  41.000000  0.00496  140.600006     20230207  354  277.000000  289.399994   \n",
            "\n",
            "    vpd   vs           timestamp  \n",
            "0  0.36  3.2 2023-02-03 06:00:00  \n",
            "1  0.35  5.1 2023-02-04 06:00:00  \n",
            "2  0.32  5.2 2023-02-05 06:00:00  \n",
            "3  0.47  4.6 2023-02-06 06:00:00  \n",
            "4  0.52  3.4 2023-02-07 06:00:00  \n",
            "--------------------- Lucas ---------------------\n",
            "   bi  erc  eto  etr      fm100     fm1000         millis   pr        rmax  \\\n",
            "0   0   20  1.5  2.1  16.000000  17.400000  1675404000000  3.2   88.000000   \n",
            "1   0   17  1.6  2.4  18.500000  18.100000  1675490400000  7.0   93.599998   \n",
            "2   0   15  1.7  2.4  19.799999  18.600000  1675576800000  3.6  100.000000   \n",
            "3  30   25  2.2  3.3  19.100000  18.700001  1675663200000  0.0   95.800003   \n",
            "4  26   25  2.1  3.0  18.500000  18.700001  1675749600000  0.0   95.199997   \n",
            "\n",
            "        rmin      sph        srad system:index   th        tmmn        tmmx  \\\n",
            "0  61.099998  0.00640  103.599998     20230203  150  281.899994  287.799988   \n",
            "1  59.200001  0.00646   45.299999     20230204  164  281.100006  288.399994   \n",
            "2  54.500000  0.00558   86.400002     20230205  270  277.799988  287.299988   \n",
            "3  43.400002  0.00492  154.100006     20230206  345  276.799988  288.500000   \n",
            "4  41.000000  0.00496  140.600006     20230207  354  277.000000  289.399994   \n",
            "\n",
            "    vpd   vs           timestamp  \n",
            "0  0.36  3.2 2023-02-03 06:00:00  \n",
            "1  0.35  5.1 2023-02-04 06:00:00  \n",
            "2  0.32  5.2 2023-02-05 06:00:00  \n",
            "3  0.47  4.6 2023-02-06 06:00:00  \n",
            "4  0.52  3.4 2023-02-07 06:00:00  \n",
            "--------------------- Wood ---------------------\n",
            "   bi  erc  eto  etr      fm100     fm1000         millis   pr        rmax  \\\n",
            "0   0   20  1.5  2.1  16.000000  17.400000  1675404000000  3.2   88.000000   \n",
            "1   0   17  1.6  2.4  18.500000  18.100000  1675490400000  7.0   93.599998   \n",
            "2   0   15  1.7  2.4  19.799999  18.600000  1675576800000  3.6  100.000000   \n",
            "3  30   25  2.2  3.3  19.100000  18.700001  1675663200000  0.0   95.800003   \n",
            "4  26   25  2.1  3.0  18.500000  18.700001  1675749600000  0.0   95.199997   \n",
            "\n",
            "        rmin      sph        srad system:index   th        tmmn        tmmx  \\\n",
            "0  61.099998  0.00640  103.599998     20230203  150  281.899994  287.799988   \n",
            "1  59.200001  0.00646   45.299999     20230204  164  281.100006  288.399994   \n",
            "2  54.500000  0.00558   86.400002     20230205  270  277.799988  287.299988   \n",
            "3  43.400002  0.00492  154.100006     20230206  345  276.799988  288.500000   \n",
            "4  41.000000  0.00496  140.600006     20230207  354  277.000000  289.399994   \n",
            "\n",
            "    vpd   vs           timestamp  \n",
            "0  0.36  3.2 2023-02-03 06:00:00  \n",
            "1  0.35  5.1 2023-02-04 06:00:00  \n",
            "2  0.32  5.2 2023-02-05 06:00:00  \n",
            "3  0.47  4.6 2023-02-06 06:00:00  \n",
            "4  0.52  3.4 2023-02-07 06:00:00  \n",
            "--------------------- Washington ---------------------\n",
            "   bi  erc  eto  etr      fm100     fm1000         millis   pr        rmax  \\\n",
            "0   0   20  1.5  2.1  16.000000  17.400000  1675404000000  3.2   88.000000   \n",
            "1   0   17  1.6  2.4  18.500000  18.100000  1675490400000  7.0   93.599998   \n",
            "2   0   15  1.7  2.4  19.799999  18.600000  1675576800000  3.6  100.000000   \n",
            "3  30   25  2.2  3.3  19.100000  18.700001  1675663200000  0.0   95.800003   \n",
            "4  26   25  2.1  3.0  18.500000  18.700001  1675749600000  0.0   95.199997   \n",
            "\n",
            "        rmin      sph        srad system:index   th        tmmn        tmmx  \\\n",
            "0  61.099998  0.00640  103.599998     20230203  150  281.899994  287.799988   \n",
            "1  59.200001  0.00646   45.299999     20230204  164  281.100006  288.399994   \n",
            "2  54.500000  0.00558   86.400002     20230205  270  277.799988  287.299988   \n",
            "3  43.400002  0.00492  154.100006     20230206  345  276.799988  288.500000   \n",
            "4  41.000000  0.00496  140.600006     20230207  354  277.000000  289.399994   \n",
            "\n",
            "    vpd   vs           timestamp  \n",
            "0  0.36  3.2 2023-02-03 06:00:00  \n",
            "1  0.35  5.1 2023-02-04 06:00:00  \n",
            "2  0.32  5.2 2023-02-05 06:00:00  \n",
            "3  0.47  4.6 2023-02-06 06:00:00  \n",
            "4  0.52  3.4 2023-02-07 06:00:00  \n",
            "--------------------- Jefferson ---------------------\n",
            "   bi  erc  eto  etr      fm100     fm1000         millis   pr        rmax  \\\n",
            "0   0   20  1.5  2.1  16.000000  17.400000  1675404000000  3.2   88.000000   \n",
            "1   0   17  1.6  2.4  18.500000  18.100000  1675490400000  7.0   93.599998   \n",
            "2   0   15  1.7  2.4  19.799999  18.600000  1675576800000  3.6  100.000000   \n",
            "3  30   25  2.2  3.3  19.100000  18.700001  1675663200000  0.0   95.800003   \n",
            "4  26   25  2.1  3.0  18.500000  18.700001  1675749600000  0.0   95.199997   \n",
            "\n",
            "        rmin      sph        srad system:index   th        tmmn        tmmx  \\\n",
            "0  61.099998  0.00640  103.599998     20230203  150  281.899994  287.799988   \n",
            "1  59.200001  0.00646   45.299999     20230204  164  281.100006  288.399994   \n",
            "2  54.500000  0.00558   86.400002     20230205  270  277.799988  287.299988   \n",
            "3  43.400002  0.00492  154.100006     20230206  345  276.799988  288.500000   \n",
            "4  41.000000  0.00496  140.600006     20230207  354  277.000000  289.399994   \n",
            "\n",
            "    vpd   vs           timestamp  \n",
            "0  0.36  3.2 2023-02-03 06:00:00  \n",
            "1  0.35  5.1 2023-02-04 06:00:00  \n",
            "2  0.32  5.2 2023-02-05 06:00:00  \n",
            "3  0.47  4.6 2023-02-06 06:00:00  \n",
            "4  0.52  3.4 2023-02-07 06:00:00  \n"
          ]
        }
      ]
    },
    {
      "cell_type": "code",
      "source": [
        "#county['geometry']"
      ],
      "metadata": {
        "id": "EBU6kA7AnmRP"
      },
      "execution_count": null,
      "outputs": []
    },
    {
      "cell_type": "code",
      "source": [
        "#county"
      ],
      "metadata": {
        "id": "tn6X2hkjoHtA"
      },
      "execution_count": null,
      "outputs": []
    },
    {
      "cell_type": "code",
      "source": [
        "mdf = final_df(county)"
      ],
      "metadata": {
        "id": "u1mkqn70nRHx"
      },
      "execution_count": null,
      "outputs": []
    },
    {
      "cell_type": "code",
      "source": [
        "mdf.head()"
      ],
      "metadata": {
        "colab": {
          "base_uri": "https://localhost:8080/",
          "height": 356
        },
        "id": "oslyu2i3nwPt",
        "outputId": "70f524fe-4d56-485b-ea76-a0a86fa53a9e"
      },
      "execution_count": null,
      "outputs": [
        {
          "output_type": "execute_result",
          "data": {
            "text/plain": [
              "   bi  erc  eto  etr      fm100     fm1000         millis   pr        rmax  \\\n",
              "0   0   20  1.5  2.1  16.000000  17.400000  1675404000000  3.2   88.000000   \n",
              "1   0   17  1.6  2.4  18.500000  18.100000  1675490400000  7.0   93.599998   \n",
              "2   0   15  1.7  2.4  19.799999  18.600000  1675576800000  3.6  100.000000   \n",
              "3  30   25  2.2  3.3  19.100000  18.700001  1675663200000  0.0   95.800003   \n",
              "4  26   25  2.1  3.0  18.500000  18.700001  1675749600000  0.0   95.199997   \n",
              "\n",
              "        rmin      sph        srad system:index   th        tmmn        tmmx  \\\n",
              "0  61.099998  0.00640  103.599998     20230203  150  281.899994  287.799988   \n",
              "1  59.200001  0.00646   45.299999     20230204  164  281.100006  288.399994   \n",
              "2  54.500000  0.00558   86.400002     20230205  270  277.799988  287.299988   \n",
              "3  43.400002  0.00492  154.100006     20230206  345  276.799988  288.500000   \n",
              "4  41.000000  0.00496  140.600006     20230207  354  277.000000  289.399994   \n",
              "\n",
              "    vpd   vs           timestamp  \n",
              "0  0.36  3.2 2023-02-03 06:00:00  \n",
              "1  0.35  5.1 2023-02-04 06:00:00  \n",
              "2  0.32  5.2 2023-02-05 06:00:00  \n",
              "3  0.47  4.6 2023-02-06 06:00:00  \n",
              "4  0.52  3.4 2023-02-07 06:00:00  "
            ],
            "text/html": [
              "\n",
              "  <div id=\"df-104611aa-236e-4856-9d98-ad402e187f10\">\n",
              "    <div class=\"colab-df-container\">\n",
              "      <div>\n",
              "<style scoped>\n",
              "    .dataframe tbody tr th:only-of-type {\n",
              "        vertical-align: middle;\n",
              "    }\n",
              "\n",
              "    .dataframe tbody tr th {\n",
              "        vertical-align: top;\n",
              "    }\n",
              "\n",
              "    .dataframe thead th {\n",
              "        text-align: right;\n",
              "    }\n",
              "</style>\n",
              "<table border=\"1\" class=\"dataframe\">\n",
              "  <thead>\n",
              "    <tr style=\"text-align: right;\">\n",
              "      <th></th>\n",
              "      <th>bi</th>\n",
              "      <th>erc</th>\n",
              "      <th>eto</th>\n",
              "      <th>etr</th>\n",
              "      <th>fm100</th>\n",
              "      <th>fm1000</th>\n",
              "      <th>millis</th>\n",
              "      <th>pr</th>\n",
              "      <th>rmax</th>\n",
              "      <th>rmin</th>\n",
              "      <th>sph</th>\n",
              "      <th>srad</th>\n",
              "      <th>system:index</th>\n",
              "      <th>th</th>\n",
              "      <th>tmmn</th>\n",
              "      <th>tmmx</th>\n",
              "      <th>vpd</th>\n",
              "      <th>vs</th>\n",
              "      <th>timestamp</th>\n",
              "    </tr>\n",
              "  </thead>\n",
              "  <tbody>\n",
              "    <tr>\n",
              "      <th>0</th>\n",
              "      <td>0</td>\n",
              "      <td>20</td>\n",
              "      <td>1.5</td>\n",
              "      <td>2.1</td>\n",
              "      <td>16.000000</td>\n",
              "      <td>17.400000</td>\n",
              "      <td>1675404000000</td>\n",
              "      <td>3.2</td>\n",
              "      <td>88.000000</td>\n",
              "      <td>61.099998</td>\n",
              "      <td>0.00640</td>\n",
              "      <td>103.599998</td>\n",
              "      <td>20230203</td>\n",
              "      <td>150</td>\n",
              "      <td>281.899994</td>\n",
              "      <td>287.799988</td>\n",
              "      <td>0.36</td>\n",
              "      <td>3.2</td>\n",
              "      <td>2023-02-03 06:00:00</td>\n",
              "    </tr>\n",
              "    <tr>\n",
              "      <th>1</th>\n",
              "      <td>0</td>\n",
              "      <td>17</td>\n",
              "      <td>1.6</td>\n",
              "      <td>2.4</td>\n",
              "      <td>18.500000</td>\n",
              "      <td>18.100000</td>\n",
              "      <td>1675490400000</td>\n",
              "      <td>7.0</td>\n",
              "      <td>93.599998</td>\n",
              "      <td>59.200001</td>\n",
              "      <td>0.00646</td>\n",
              "      <td>45.299999</td>\n",
              "      <td>20230204</td>\n",
              "      <td>164</td>\n",
              "      <td>281.100006</td>\n",
              "      <td>288.399994</td>\n",
              "      <td>0.35</td>\n",
              "      <td>5.1</td>\n",
              "      <td>2023-02-04 06:00:00</td>\n",
              "    </tr>\n",
              "    <tr>\n",
              "      <th>2</th>\n",
              "      <td>0</td>\n",
              "      <td>15</td>\n",
              "      <td>1.7</td>\n",
              "      <td>2.4</td>\n",
              "      <td>19.799999</td>\n",
              "      <td>18.600000</td>\n",
              "      <td>1675576800000</td>\n",
              "      <td>3.6</td>\n",
              "      <td>100.000000</td>\n",
              "      <td>54.500000</td>\n",
              "      <td>0.00558</td>\n",
              "      <td>86.400002</td>\n",
              "      <td>20230205</td>\n",
              "      <td>270</td>\n",
              "      <td>277.799988</td>\n",
              "      <td>287.299988</td>\n",
              "      <td>0.32</td>\n",
              "      <td>5.2</td>\n",
              "      <td>2023-02-05 06:00:00</td>\n",
              "    </tr>\n",
              "    <tr>\n",
              "      <th>3</th>\n",
              "      <td>30</td>\n",
              "      <td>25</td>\n",
              "      <td>2.2</td>\n",
              "      <td>3.3</td>\n",
              "      <td>19.100000</td>\n",
              "      <td>18.700001</td>\n",
              "      <td>1675663200000</td>\n",
              "      <td>0.0</td>\n",
              "      <td>95.800003</td>\n",
              "      <td>43.400002</td>\n",
              "      <td>0.00492</td>\n",
              "      <td>154.100006</td>\n",
              "      <td>20230206</td>\n",
              "      <td>345</td>\n",
              "      <td>276.799988</td>\n",
              "      <td>288.500000</td>\n",
              "      <td>0.47</td>\n",
              "      <td>4.6</td>\n",
              "      <td>2023-02-06 06:00:00</td>\n",
              "    </tr>\n",
              "    <tr>\n",
              "      <th>4</th>\n",
              "      <td>26</td>\n",
              "      <td>25</td>\n",
              "      <td>2.1</td>\n",
              "      <td>3.0</td>\n",
              "      <td>18.500000</td>\n",
              "      <td>18.700001</td>\n",
              "      <td>1675749600000</td>\n",
              "      <td>0.0</td>\n",
              "      <td>95.199997</td>\n",
              "      <td>41.000000</td>\n",
              "      <td>0.00496</td>\n",
              "      <td>140.600006</td>\n",
              "      <td>20230207</td>\n",
              "      <td>354</td>\n",
              "      <td>277.000000</td>\n",
              "      <td>289.399994</td>\n",
              "      <td>0.52</td>\n",
              "      <td>3.4</td>\n",
              "      <td>2023-02-07 06:00:00</td>\n",
              "    </tr>\n",
              "  </tbody>\n",
              "</table>\n",
              "</div>\n",
              "      <button class=\"colab-df-convert\" onclick=\"convertToInteractive('df-104611aa-236e-4856-9d98-ad402e187f10')\"\n",
              "              title=\"Convert this dataframe to an interactive table.\"\n",
              "              style=\"display:none;\">\n",
              "        \n",
              "  <svg xmlns=\"http://www.w3.org/2000/svg\" height=\"24px\"viewBox=\"0 0 24 24\"\n",
              "       width=\"24px\">\n",
              "    <path d=\"M0 0h24v24H0V0z\" fill=\"none\"/>\n",
              "    <path d=\"M18.56 5.44l.94 2.06.94-2.06 2.06-.94-2.06-.94-.94-2.06-.94 2.06-2.06.94zm-11 1L8.5 8.5l.94-2.06 2.06-.94-2.06-.94L8.5 2.5l-.94 2.06-2.06.94zm10 10l.94 2.06.94-2.06 2.06-.94-2.06-.94-.94-2.06-.94 2.06-2.06.94z\"/><path d=\"M17.41 7.96l-1.37-1.37c-.4-.4-.92-.59-1.43-.59-.52 0-1.04.2-1.43.59L10.3 9.45l-7.72 7.72c-.78.78-.78 2.05 0 2.83L4 21.41c.39.39.9.59 1.41.59.51 0 1.02-.2 1.41-.59l7.78-7.78 2.81-2.81c.8-.78.8-2.07 0-2.86zM5.41 20L4 18.59l7.72-7.72 1.47 1.35L5.41 20z\"/>\n",
              "  </svg>\n",
              "      </button>\n",
              "      \n",
              "  <style>\n",
              "    .colab-df-container {\n",
              "      display:flex;\n",
              "      flex-wrap:wrap;\n",
              "      gap: 12px;\n",
              "    }\n",
              "\n",
              "    .colab-df-convert {\n",
              "      background-color: #E8F0FE;\n",
              "      border: none;\n",
              "      border-radius: 50%;\n",
              "      cursor: pointer;\n",
              "      display: none;\n",
              "      fill: #1967D2;\n",
              "      height: 32px;\n",
              "      padding: 0 0 0 0;\n",
              "      width: 32px;\n",
              "    }\n",
              "\n",
              "    .colab-df-convert:hover {\n",
              "      background-color: #E2EBFA;\n",
              "      box-shadow: 0px 1px 2px rgba(60, 64, 67, 0.3), 0px 1px 3px 1px rgba(60, 64, 67, 0.15);\n",
              "      fill: #174EA6;\n",
              "    }\n",
              "\n",
              "    [theme=dark] .colab-df-convert {\n",
              "      background-color: #3B4455;\n",
              "      fill: #D2E3FC;\n",
              "    }\n",
              "\n",
              "    [theme=dark] .colab-df-convert:hover {\n",
              "      background-color: #434B5C;\n",
              "      box-shadow: 0px 1px 3px 1px rgba(0, 0, 0, 0.15);\n",
              "      filter: drop-shadow(0px 1px 2px rgba(0, 0, 0, 0.3));\n",
              "      fill: #FFFFFF;\n",
              "    }\n",
              "  </style>\n",
              "\n",
              "      <script>\n",
              "        const buttonEl =\n",
              "          document.querySelector('#df-104611aa-236e-4856-9d98-ad402e187f10 button.colab-df-convert');\n",
              "        buttonEl.style.display =\n",
              "          google.colab.kernel.accessAllowed ? 'block' : 'none';\n",
              "\n",
              "        async function convertToInteractive(key) {\n",
              "          const element = document.querySelector('#df-104611aa-236e-4856-9d98-ad402e187f10');\n",
              "          const dataTable =\n",
              "            await google.colab.kernel.invokeFunction('convertToInteractive',\n",
              "                                                     [key], {});\n",
              "          if (!dataTable) return;\n",
              "\n",
              "          const docLinkHtml = 'Like what you see? Visit the ' +\n",
              "            '<a target=\"_blank\" href=https://colab.research.google.com/notebooks/data_table.ipynb>data table notebook</a>'\n",
              "            + ' to learn more about interactive tables.';\n",
              "          element.innerHTML = '';\n",
              "          dataTable['output_type'] = 'display_data';\n",
              "          await google.colab.output.renderOutput(dataTable, element);\n",
              "          const docLink = document.createElement('div');\n",
              "          docLink.innerHTML = docLinkHtml;\n",
              "          element.appendChild(docLink);\n",
              "        }\n",
              "      </script>\n",
              "    </div>\n",
              "  </div>\n",
              "  "
            ]
          },
          "metadata": {},
          "execution_count": 142
        }
      ]
    },
    {
      "cell_type": "code",
      "source": [
        "for county in counties.getInfo():\n",
        "  print(county)\n",
        "  break"
      ],
      "metadata": {
        "colab": {
          "base_uri": "https://localhost:8080/"
        },
        "id": "Ez4pBUmLlZjm",
        "outputId": "4b44fa4c-920a-4628-c98d-f73b7030fafd"
      },
      "execution_count": null,
      "outputs": [
        {
          "output_type": "stream",
          "name": "stdout",
          "text": [
            "type\n"
          ]
        }
      ]
    },
    {
      "cell_type": "markdown",
      "source": [],
      "metadata": {
        "id": "lbcNyIfmvANI"
      }
    },
    {
      "cell_type": "markdown",
      "source": [
        "# Land use data"
      ],
      "metadata": {
        "id": "ul3GEQiVvATm"
      }
    },
    {
      "cell_type": "markdown",
      "source": [
        "Load the [Copernicus Global Land Cover Layers collection](https://developers.google.com/earth-engine/datasets/catalog/COPERNICUS_Landcover_100m_Proba-V-C3_Global): \n"
      ],
      "metadata": {
        "id": "b4Tk7ovDzA97"
      }
    },
    {
      "cell_type": "code",
      "source": [
        "# Load the Copernicus Global Land Cover Layers collection\n",
        "landcover = ee.ImageCollection(\"COPERNICUS/Landcover/100m/Proba-V-C3/Global\")"
      ],
      "metadata": {
        "id": "Iqv88lzoyoMt"
      },
      "execution_count": null,
      "outputs": []
    },
    {
      "cell_type": "code",
      "source": [
        "#landcover.getInfo()"
      ],
      "metadata": {
        "id": "g8N8KohMypWN"
      },
      "execution_count": null,
      "outputs": []
    },
    {
      "cell_type": "markdown",
      "source": [
        "Filter imageCollection with the specified geometry and timeframe."
      ],
      "metadata": {
        "id": "S6NG7VjhzDl8"
      }
    },
    {
      "cell_type": "code",
      "source": [
        "# Define the area of interest as a geometry\n",
        "aoi = ee.Geometry.Polygon([\n",
        "  [-83.283825, 40.051977],\n",
        "  [-82.949604, 40.051977],\n",
        "  [-82.949604, 40.208422],\n",
        "  [-83.283825, 40.208422],\n",
        "  [-83.283825, 40.051977]\n",
        "])\n",
        "\n",
        "# Filter the collection to the desired date range and area of interest\n",
        "start_date = '2023-02-03'\n",
        "end_date = '2023-03-10'\n",
        "\n",
        "filtered_lc = landcover.filterDate(start_date, end_date).filterBounds(aoi)\n",
        "filtered_lc\n"
      ],
      "metadata": {
        "colab": {
          "base_uri": "https://localhost:8080/"
        },
        "id": "QYRlV9jgAB5i",
        "outputId": "8b6f649d-5c48-4011-8a3a-ebebb2193c5b"
      },
      "execution_count": null,
      "outputs": [
        {
          "output_type": "execute_result",
          "data": {
            "text/plain": [
              "<ee.imagecollection.ImageCollection at 0x7fa2bc622a00>"
            ]
          },
          "metadata": {},
          "execution_count": 95
        }
      ]
    },
    {
      "cell_type": "markdown",
      "source": [
        "Over all Ohio Counties\n",
        "\n",
        "[MODIS dataset](https://developers.google.com/earth-engine/datasets/catalog/MODIS_061_MCD12Q1)"
      ],
      "metadata": {
        "id": "zTPvZYeMgVtG"
      }
    },
    {
      "cell_type": "code",
      "source": [
        "# Load the Copernicus Global Land Cover Layers collection\n",
        "#landcover = ee.ImageCollection(\"COPERNICUS/Landcover/100m/Proba-V-C3/Global\")\n",
        "landcover = ee.ImageCollection(\"MODIS/061/MCD12Q1\")"
      ],
      "metadata": {
        "id": "qF56sfnfecPI"
      },
      "execution_count": null,
      "outputs": []
    },
    {
      "cell_type": "code",
      "source": [
        "# Filter the collection to Ohio.\n",
        "ohio = ee.Geometry.Rectangle([-84.8203, 38.4032, -80.5187, 41.9771])\n",
        "landcover_ohio = landcover.filterBounds(ohio)\n",
        "\n",
        "# Get the most recent image in the collection.\n",
        "recent_image = landcover_ohio.sort('system:time_start', False).first()"
      ],
      "metadata": {
        "id": "hG_u9ek-ehdF"
      },
      "execution_count": null,
      "outputs": []
    },
    {
      "cell_type": "code",
      "source": [
        "# Define function to get polygon geometry of each county\n",
        "def get_county_geometry(feature):\n",
        "    name = feature.get('NAME')\n",
        "    geometry = feature.geometry()\n",
        "    return ee.Feature(geometry, {'name': name})\n",
        "\n",
        "# Load county boundaries\n",
        "ohio_counties = ee.FeatureCollection('TIGER/2018/Counties').filter(ee.Filter.eq('STATEFP', '39'))\n",
        "ohio_counties\n",
        "\n",
        "# Add reducer output to the Features in the collection.\n",
        "maineMeansFeatures = recent_image.reduceRegions(**{\n",
        "  'collection': ohio_counties,\n",
        "  'reducer': ee.Reducer.mean(),\n",
        "  'scale': 30,\n",
        "})\n",
        "\n",
        "# Print the first feature, to illustrate the result.\n",
        "#pprint(ee.Feature(maineMeansFeatures.first()).select(recent_image.bandNames()).getInfo())"
      ],
      "metadata": {
        "id": "8WeGnt0VVRol"
      },
      "execution_count": null,
      "outputs": []
    },
    {
      "cell_type": "code",
      "source": [
        "pprint(ee.Feature(maineMeansFeatures.first()).select(recent_image.bandNames()).getInfo()['properties'])"
      ],
      "metadata": {
        "colab": {
          "base_uri": "https://localhost:8080/"
        },
        "id": "4ilkSJSUexBO",
        "outputId": "4024c402-67f8-4d94-a5e0-59efce739bfc"
      },
      "execution_count": null,
      "outputs": [
        {
          "output_type": "stream",
          "name": "stdout",
          "text": [
            "{'LC_Prop1': 15.826688107655896,\n",
            " 'LC_Prop1_Assessment': 97.3485168337625,\n",
            " 'LC_Prop2': 16.775493464949655,\n",
            " 'LC_Prop2_Assessment': 97.35054040959076,\n",
            " 'LC_Prop3': 16.69235599913905,\n",
            " 'LC_Prop3_Assessment': 97.20681389859284,\n",
            " 'LC_Type1': 14.508615042751334,\n",
            " 'LC_Type2': 5.377407301980409,\n",
            " 'LC_Type3': 0.8246232717353899,\n",
            " 'LC_Type4': 2.8107555971356395,\n",
            " 'LC_Type5': 3.2064056779964263,\n",
            " 'LW': 1.4403134739333128,\n",
            " 'QC': 1.3393004029275182}\n"
          ]
        }
      ]
    },
    {
      "cell_type": "code",
      "source": [
        "# Define a function to transfer feature properties to a dictionary.\n",
        "def fc_to_dict(fc):\n",
        "    prop_names = fc.first().propertyNames()\n",
        "    prop_lists = fc.reduceColumns(\n",
        "        reducer=ee.Reducer.toList().repeat(prop_names.size()),\n",
        "        selectors=prop_names\n",
        "    ).get('list')\n",
        "    return ee.Dictionary.fromLists(prop_names, prop_lists)\n",
        "\n",
        "def fc_to_df(fc):\n",
        "    \"\"\"Convert a feature collection to pandas dataframe\"\"\"\n",
        "    dict_result = fc_to_dict(fc)\n",
        "    df = pd.DataFrame(dict_result.getInfo())\n",
        "    return df\n"
      ],
      "metadata": {
        "id": "PinE6v2HbOtS"
      },
      "execution_count": null,
      "outputs": []
    },
    {
      "cell_type": "code",
      "source": [
        "df = fc_to_df(maineMeansFeatures)\n",
        "order = ['METDIVFP', 'MTFCC', 'NAME', 'NAMELSAD', 'LSAD',\n",
        "        'STATEFP', 'system:index', 'ALAND', 'AWATER', 'CBSAFP', 'CLASSFP', 'COUNTYFP', 'COUNTYNS', 'CSAFP',\n",
        "        'FUNCSTAT', 'GEOID', 'INTPTLAT', 'INTPTLON', 'LC_Prop1',\n",
        "        'LC_Prop1_Assessment', 'LC_Prop2', 'LC_Prop2_Assessment', 'LC_Prop3',\n",
        "        'LC_Prop3_Assessment', 'LC_Type1', 'LC_Type2', 'LC_Type3', 'LC_Type4',\n",
        "        'LC_Type5', 'LW', 'QC']\n",
        "df= df[order]"
      ],
      "metadata": {
        "id": "cd3Z8X2pbQfm"
      },
      "execution_count": null,
      "outputs": []
    },
    {
      "cell_type": "code",
      "source": [
        "df.head()"
      ],
      "metadata": {
        "colab": {
          "base_uri": "https://localhost:8080/",
          "height": 386
        },
        "id": "empy25-ZbRZW",
        "outputId": "af70f0e9-8876-42b8-baf0-e5f4aa25bf74"
      },
      "execution_count": null,
      "outputs": [
        {
          "output_type": "execute_result",
          "data": {
            "text/plain": [
              "  METDIVFP  MTFCC        NAME           NAMELSAD LSAD STATEFP  \\\n",
              "0           G4020      Ottawa      Ottawa County   06      39   \n",
              "1           G4020      Fulton      Fulton County   06      39   \n",
              "2           G4020       Lucas       Lucas County   06      39   \n",
              "3           G4020        Wood        Wood County   06      39   \n",
              "4           G4020  Washington  Washington County   06      39   \n",
              "\n",
              "           system:index       ALAND     AWATER CBSAFP  ...  \\\n",
              "0  0000000000000000005c   659770876  855571650  38840  ...   \n",
              "1  0000000000000000005d  1050100890    4588525  45780  ...   \n",
              "2  0000000000000000005e   882436042  660776371  45780  ...   \n",
              "3  0000000000000000005f  1598531979    8628879  45780  ...   \n",
              "4  000000000000000001fd  1636805228   20784948  31930  ...   \n",
              "\n",
              "  LC_Prop2_Assessment   LC_Prop3 LC_Prop3_Assessment   LC_Type1   LC_Type2  \\\n",
              "0           97.350540  16.692356           97.206814  14.508615   5.377407   \n",
              "1           98.275364  29.752024           98.220347  11.928741  11.914910   \n",
              "2           96.259005  17.512939           95.019546  13.829628   6.791223   \n",
              "3           98.548681  29.968911           98.440882  12.049472  12.044519   \n",
              "4           91.663320  14.869856           91.739194   6.109183   5.994829   \n",
              "\n",
              "   LC_Type3  LC_Type4  LC_Type5        LW        QC  \n",
              "0  0.824623  2.810756  3.206406  1.440313  1.339300  \n",
              "1  1.159890  5.977438  6.959941  1.999781  0.064399  \n",
              "2  2.789765  3.812740  4.286459  1.574373  1.560647  \n",
              "3  1.515608  6.112328  7.107202  1.998123  0.357993  \n",
              "4  5.119000  4.092063  4.162231  1.997960  0.088725  \n",
              "\n",
              "[5 rows x 31 columns]"
            ],
            "text/html": [
              "\n",
              "  <div id=\"df-0f984533-a6df-4fab-84b8-07d95e0ebb18\">\n",
              "    <div class=\"colab-df-container\">\n",
              "      <div>\n",
              "<style scoped>\n",
              "    .dataframe tbody tr th:only-of-type {\n",
              "        vertical-align: middle;\n",
              "    }\n",
              "\n",
              "    .dataframe tbody tr th {\n",
              "        vertical-align: top;\n",
              "    }\n",
              "\n",
              "    .dataframe thead th {\n",
              "        text-align: right;\n",
              "    }\n",
              "</style>\n",
              "<table border=\"1\" class=\"dataframe\">\n",
              "  <thead>\n",
              "    <tr style=\"text-align: right;\">\n",
              "      <th></th>\n",
              "      <th>METDIVFP</th>\n",
              "      <th>MTFCC</th>\n",
              "      <th>NAME</th>\n",
              "      <th>NAMELSAD</th>\n",
              "      <th>LSAD</th>\n",
              "      <th>STATEFP</th>\n",
              "      <th>system:index</th>\n",
              "      <th>ALAND</th>\n",
              "      <th>AWATER</th>\n",
              "      <th>CBSAFP</th>\n",
              "      <th>...</th>\n",
              "      <th>LC_Prop2_Assessment</th>\n",
              "      <th>LC_Prop3</th>\n",
              "      <th>LC_Prop3_Assessment</th>\n",
              "      <th>LC_Type1</th>\n",
              "      <th>LC_Type2</th>\n",
              "      <th>LC_Type3</th>\n",
              "      <th>LC_Type4</th>\n",
              "      <th>LC_Type5</th>\n",
              "      <th>LW</th>\n",
              "      <th>QC</th>\n",
              "    </tr>\n",
              "  </thead>\n",
              "  <tbody>\n",
              "    <tr>\n",
              "      <th>0</th>\n",
              "      <td></td>\n",
              "      <td>G4020</td>\n",
              "      <td>Ottawa</td>\n",
              "      <td>Ottawa County</td>\n",
              "      <td>06</td>\n",
              "      <td>39</td>\n",
              "      <td>0000000000000000005c</td>\n",
              "      <td>659770876</td>\n",
              "      <td>855571650</td>\n",
              "      <td>38840</td>\n",
              "      <td>...</td>\n",
              "      <td>97.350540</td>\n",
              "      <td>16.692356</td>\n",
              "      <td>97.206814</td>\n",
              "      <td>14.508615</td>\n",
              "      <td>5.377407</td>\n",
              "      <td>0.824623</td>\n",
              "      <td>2.810756</td>\n",
              "      <td>3.206406</td>\n",
              "      <td>1.440313</td>\n",
              "      <td>1.339300</td>\n",
              "    </tr>\n",
              "    <tr>\n",
              "      <th>1</th>\n",
              "      <td></td>\n",
              "      <td>G4020</td>\n",
              "      <td>Fulton</td>\n",
              "      <td>Fulton County</td>\n",
              "      <td>06</td>\n",
              "      <td>39</td>\n",
              "      <td>0000000000000000005d</td>\n",
              "      <td>1050100890</td>\n",
              "      <td>4588525</td>\n",
              "      <td>45780</td>\n",
              "      <td>...</td>\n",
              "      <td>98.275364</td>\n",
              "      <td>29.752024</td>\n",
              "      <td>98.220347</td>\n",
              "      <td>11.928741</td>\n",
              "      <td>11.914910</td>\n",
              "      <td>1.159890</td>\n",
              "      <td>5.977438</td>\n",
              "      <td>6.959941</td>\n",
              "      <td>1.999781</td>\n",
              "      <td>0.064399</td>\n",
              "    </tr>\n",
              "    <tr>\n",
              "      <th>2</th>\n",
              "      <td></td>\n",
              "      <td>G4020</td>\n",
              "      <td>Lucas</td>\n",
              "      <td>Lucas County</td>\n",
              "      <td>06</td>\n",
              "      <td>39</td>\n",
              "      <td>0000000000000000005e</td>\n",
              "      <td>882436042</td>\n",
              "      <td>660776371</td>\n",
              "      <td>45780</td>\n",
              "      <td>...</td>\n",
              "      <td>96.259005</td>\n",
              "      <td>17.512939</td>\n",
              "      <td>95.019546</td>\n",
              "      <td>13.829628</td>\n",
              "      <td>6.791223</td>\n",
              "      <td>2.789765</td>\n",
              "      <td>3.812740</td>\n",
              "      <td>4.286459</td>\n",
              "      <td>1.574373</td>\n",
              "      <td>1.560647</td>\n",
              "    </tr>\n",
              "    <tr>\n",
              "      <th>3</th>\n",
              "      <td></td>\n",
              "      <td>G4020</td>\n",
              "      <td>Wood</td>\n",
              "      <td>Wood County</td>\n",
              "      <td>06</td>\n",
              "      <td>39</td>\n",
              "      <td>0000000000000000005f</td>\n",
              "      <td>1598531979</td>\n",
              "      <td>8628879</td>\n",
              "      <td>45780</td>\n",
              "      <td>...</td>\n",
              "      <td>98.548681</td>\n",
              "      <td>29.968911</td>\n",
              "      <td>98.440882</td>\n",
              "      <td>12.049472</td>\n",
              "      <td>12.044519</td>\n",
              "      <td>1.515608</td>\n",
              "      <td>6.112328</td>\n",
              "      <td>7.107202</td>\n",
              "      <td>1.998123</td>\n",
              "      <td>0.357993</td>\n",
              "    </tr>\n",
              "    <tr>\n",
              "      <th>4</th>\n",
              "      <td></td>\n",
              "      <td>G4020</td>\n",
              "      <td>Washington</td>\n",
              "      <td>Washington County</td>\n",
              "      <td>06</td>\n",
              "      <td>39</td>\n",
              "      <td>000000000000000001fd</td>\n",
              "      <td>1636805228</td>\n",
              "      <td>20784948</td>\n",
              "      <td>31930</td>\n",
              "      <td>...</td>\n",
              "      <td>91.663320</td>\n",
              "      <td>14.869856</td>\n",
              "      <td>91.739194</td>\n",
              "      <td>6.109183</td>\n",
              "      <td>5.994829</td>\n",
              "      <td>5.119000</td>\n",
              "      <td>4.092063</td>\n",
              "      <td>4.162231</td>\n",
              "      <td>1.997960</td>\n",
              "      <td>0.088725</td>\n",
              "    </tr>\n",
              "  </tbody>\n",
              "</table>\n",
              "<p>5 rows × 31 columns</p>\n",
              "</div>\n",
              "      <button class=\"colab-df-convert\" onclick=\"convertToInteractive('df-0f984533-a6df-4fab-84b8-07d95e0ebb18')\"\n",
              "              title=\"Convert this dataframe to an interactive table.\"\n",
              "              style=\"display:none;\">\n",
              "        \n",
              "  <svg xmlns=\"http://www.w3.org/2000/svg\" height=\"24px\"viewBox=\"0 0 24 24\"\n",
              "       width=\"24px\">\n",
              "    <path d=\"M0 0h24v24H0V0z\" fill=\"none\"/>\n",
              "    <path d=\"M18.56 5.44l.94 2.06.94-2.06 2.06-.94-2.06-.94-.94-2.06-.94 2.06-2.06.94zm-11 1L8.5 8.5l.94-2.06 2.06-.94-2.06-.94L8.5 2.5l-.94 2.06-2.06.94zm10 10l.94 2.06.94-2.06 2.06-.94-2.06-.94-.94-2.06-.94 2.06-2.06.94z\"/><path d=\"M17.41 7.96l-1.37-1.37c-.4-.4-.92-.59-1.43-.59-.52 0-1.04.2-1.43.59L10.3 9.45l-7.72 7.72c-.78.78-.78 2.05 0 2.83L4 21.41c.39.39.9.59 1.41.59.51 0 1.02-.2 1.41-.59l7.78-7.78 2.81-2.81c.8-.78.8-2.07 0-2.86zM5.41 20L4 18.59l7.72-7.72 1.47 1.35L5.41 20z\"/>\n",
              "  </svg>\n",
              "      </button>\n",
              "      \n",
              "  <style>\n",
              "    .colab-df-container {\n",
              "      display:flex;\n",
              "      flex-wrap:wrap;\n",
              "      gap: 12px;\n",
              "    }\n",
              "\n",
              "    .colab-df-convert {\n",
              "      background-color: #E8F0FE;\n",
              "      border: none;\n",
              "      border-radius: 50%;\n",
              "      cursor: pointer;\n",
              "      display: none;\n",
              "      fill: #1967D2;\n",
              "      height: 32px;\n",
              "      padding: 0 0 0 0;\n",
              "      width: 32px;\n",
              "    }\n",
              "\n",
              "    .colab-df-convert:hover {\n",
              "      background-color: #E2EBFA;\n",
              "      box-shadow: 0px 1px 2px rgba(60, 64, 67, 0.3), 0px 1px 3px 1px rgba(60, 64, 67, 0.15);\n",
              "      fill: #174EA6;\n",
              "    }\n",
              "\n",
              "    [theme=dark] .colab-df-convert {\n",
              "      background-color: #3B4455;\n",
              "      fill: #D2E3FC;\n",
              "    }\n",
              "\n",
              "    [theme=dark] .colab-df-convert:hover {\n",
              "      background-color: #434B5C;\n",
              "      box-shadow: 0px 1px 3px 1px rgba(0, 0, 0, 0.15);\n",
              "      filter: drop-shadow(0px 1px 2px rgba(0, 0, 0, 0.3));\n",
              "      fill: #FFFFFF;\n",
              "    }\n",
              "  </style>\n",
              "\n",
              "      <script>\n",
              "        const buttonEl =\n",
              "          document.querySelector('#df-0f984533-a6df-4fab-84b8-07d95e0ebb18 button.colab-df-convert');\n",
              "        buttonEl.style.display =\n",
              "          google.colab.kernel.accessAllowed ? 'block' : 'none';\n",
              "\n",
              "        async function convertToInteractive(key) {\n",
              "          const element = document.querySelector('#df-0f984533-a6df-4fab-84b8-07d95e0ebb18');\n",
              "          const dataTable =\n",
              "            await google.colab.kernel.invokeFunction('convertToInteractive',\n",
              "                                                     [key], {});\n",
              "          if (!dataTable) return;\n",
              "\n",
              "          const docLinkHtml = 'Like what you see? Visit the ' +\n",
              "            '<a target=\"_blank\" href=https://colab.research.google.com/notebooks/data_table.ipynb>data table notebook</a>'\n",
              "            + ' to learn more about interactive tables.';\n",
              "          element.innerHTML = '';\n",
              "          dataTable['output_type'] = 'display_data';\n",
              "          await google.colab.output.renderOutput(dataTable, element);\n",
              "          const docLink = document.createElement('div');\n",
              "          docLink.innerHTML = docLinkHtml;\n",
              "          element.appendChild(docLink);\n",
              "        }\n",
              "      </script>\n",
              "    </div>\n",
              "  </div>\n",
              "  "
            ]
          },
          "metadata": {},
          "execution_count": 209
        }
      ]
    },
    {
      "cell_type": "code",
      "source": [
        "df.shape, df.columns"
      ],
      "metadata": {
        "colab": {
          "base_uri": "https://localhost:8080/"
        },
        "id": "y28PnNZobU0-",
        "outputId": "23b2e8bf-f09a-4aa6-feee-1f8c94f83bec"
      },
      "execution_count": null,
      "outputs": [
        {
          "output_type": "execute_result",
          "data": {
            "text/plain": [
              "((88, 31), Index(['METDIVFP', 'MTFCC', 'NAME', 'NAMELSAD', 'LSAD', 'STATEFP',\n",
              "        'system:index', 'ALAND', 'AWATER', 'CBSAFP', 'CLASSFP', 'COUNTYFP',\n",
              "        'COUNTYNS', 'CSAFP', 'FUNCSTAT', 'GEOID', 'INTPTLAT', 'INTPTLON',\n",
              "        'LC_Prop1', 'LC_Prop1_Assessment', 'LC_Prop2', 'LC_Prop2_Assessment',\n",
              "        'LC_Prop3', 'LC_Prop3_Assessment', 'LC_Type1', 'LC_Type2', 'LC_Type3',\n",
              "        'LC_Type4', 'LC_Type5', 'LW', 'QC'],\n",
              "       dtype='object'))"
            ]
          },
          "metadata": {},
          "execution_count": 210
        }
      ]
    },
    {
      "cell_type": "code",
      "source": [
        "#df.to_csv('ohio_counties_land_MODIS.csv', index=False)"
      ],
      "metadata": {
        "id": "jkbyAI3dPegC"
      },
      "execution_count": null,
      "outputs": []
    },
    {
      "cell_type": "markdown",
      "source": [
        "landcover = ee.Image('USGS/NLCD/NLCD2016')"
      ],
      "metadata": {
        "id": "iABitKl9Yc3z"
      }
    },
    {
      "cell_type": "code",
      "source": [
        "# Load the land cover image.\n",
        "landcover = ee.Image('USGS/NLCD/NLCD2016')\n",
        "\n",
        "# Filter the collection to Ohio.\n",
        "ohio = ee.Geometry.Rectangle([-84.8203, 38.4032, -80.5187, 41.9771])\n",
        "landcover_ohio = landcover.clip(ohio)\n",
        "\n",
        "# Define function to get polygon geometry of each county\n",
        "def get_county_geometry(feature):\n",
        "    name = feature.get('NAME')\n",
        "    geometry = feature.geometry()\n",
        "    return ee.Feature(geometry, {'name': name})\n",
        "\n",
        "# Load county boundaries\n",
        "ohio_counties = ee.FeatureCollection('TIGER/2018/Counties').filter(ee.Filter.eq('STATEFP', '39'))\n",
        "\n",
        "# Add reducer output to the Features in the collection.\n",
        "landcoverMeansFeatures = landcover_ohio.reduceRegions(**{\n",
        "  'collection': ohio_counties,\n",
        "  'reducer': ee.Reducer.mean(),\n",
        "  'scale': 30,\n",
        "})\n",
        "\n",
        "\n",
        "# Print the first feature, to illustrate the result.\n",
        "pprint(ee.Feature(landcoverMeansFeatures.first()).select(landcover.bandNames()).getInfo()['properties'])\n"
      ],
      "metadata": {
        "colab": {
          "base_uri": "https://localhost:8080/"
        },
        "id": "S_NYiop6XxID",
        "outputId": "064a33d6-4eb7-4fdd-a493-d7323975ec62"
      },
      "execution_count": null,
      "outputs": [
        {
          "output_type": "stream",
          "name": "stdout",
          "text": [
            "{'impervious': 2.0820933267265955,\n",
            " 'impervious_descriptor': 0.4647882921301873,\n",
            " 'landcover': 37.27851041937084,\n",
            " 'percent_tree_cover': 2.330010123992456,\n",
            " 'shrubland_annual_herbaceous': None,\n",
            " 'shrubland_bare_ground': None,\n",
            " 'shrubland_big_sagebrush': None,\n",
            " 'shrubland_herbaceous': None,\n",
            " 'shrubland_litter': None,\n",
            " 'shrubland_sagebrush': None,\n",
            " 'shrubland_sagebrush_height': None,\n",
            " 'shrubland_shrub': None,\n",
            " 'shrubland_shrub_height': None}\n"
          ]
        }
      ]
    },
    {
      "cell_type": "code",
      "source": [
        "fc = landcoverMeansFeatures\n",
        "prop_names = fc.first().propertyNames()\n",
        "prop_lists = fc.reduceColumns(\n",
        "  reducer=ee.Reducer.toList().repeat(prop_names.size()),\n",
        "  selectors=prop_names\n",
        ").get('list')\n",
        "dict_result = ee.Dictionary.fromLists(prop_names, prop_lists)"
      ],
      "metadata": {
        "id": "WQ1mxaXGkLEK"
      },
      "execution_count": null,
      "outputs": []
    },
    {
      "cell_type": "code",
      "source": [
        "prop_lists"
      ],
      "metadata": {
        "colab": {
          "base_uri": "https://localhost:8080/"
        },
        "id": "YMDgdukXlFKH",
        "outputId": "187c6e20-6f51-4d84-8b64-fa1bb83ccf4d"
      },
      "execution_count": null,
      "outputs": [
        {
          "output_type": "execute_result",
          "data": {
            "text/plain": [
              "<ee.computedobject.ComputedObject at 0x7fa2bc621520>"
            ]
          },
          "metadata": {},
          "execution_count": 265
        }
      ]
    },
    {
      "cell_type": "code",
      "source": [
        "len(dict_result.getInfo().keys()), dict_result.getInfo().keys()"
      ],
      "metadata": {
        "colab": {
          "base_uri": "https://localhost:8080/",
          "height": 468
        },
        "id": "Qy8JSpIVkWU6",
        "outputId": "37759900-74ac-4150-8c5a-fce83b551bf3"
      },
      "execution_count": null,
      "outputs": [
        {
          "output_type": "error",
          "ename": "EEException",
          "evalue": "ignored",
          "traceback": [
            "\u001b[0;31m---------------------------------------------------------------------------\u001b[0m",
            "\u001b[0;31mHttpError\u001b[0m                                 Traceback (most recent call last)",
            "\u001b[0;32m/usr/local/lib/python3.9/dist-packages/ee/data.py\u001b[0m in \u001b[0;36m_execute_cloud_call\u001b[0;34m(call, num_retries)\u001b[0m\n\u001b[1;32m    328\u001b[0m   \u001b[0;32mtry\u001b[0m\u001b[0;34m:\u001b[0m\u001b[0;34m\u001b[0m\u001b[0;34m\u001b[0m\u001b[0m\n\u001b[0;32m--> 329\u001b[0;31m     \u001b[0;32mreturn\u001b[0m \u001b[0mcall\u001b[0m\u001b[0;34m.\u001b[0m\u001b[0mexecute\u001b[0m\u001b[0;34m(\u001b[0m\u001b[0mnum_retries\u001b[0m\u001b[0;34m=\u001b[0m\u001b[0mnum_retries\u001b[0m\u001b[0;34m)\u001b[0m\u001b[0;34m\u001b[0m\u001b[0;34m\u001b[0m\u001b[0m\n\u001b[0m\u001b[1;32m    330\u001b[0m   \u001b[0;32mexcept\u001b[0m \u001b[0mgoogleapiclient\u001b[0m\u001b[0;34m.\u001b[0m\u001b[0merrors\u001b[0m\u001b[0;34m.\u001b[0m\u001b[0mHttpError\u001b[0m \u001b[0;32mas\u001b[0m \u001b[0me\u001b[0m\u001b[0;34m:\u001b[0m\u001b[0;34m\u001b[0m\u001b[0;34m\u001b[0m\u001b[0m\n",
            "\u001b[0;32m/usr/local/lib/python3.9/dist-packages/googleapiclient/_helpers.py\u001b[0m in \u001b[0;36mpositional_wrapper\u001b[0;34m(*args, **kwargs)\u001b[0m\n\u001b[1;32m    129\u001b[0m                     \u001b[0mlogger\u001b[0m\u001b[0;34m.\u001b[0m\u001b[0mwarning\u001b[0m\u001b[0;34m(\u001b[0m\u001b[0mmessage\u001b[0m\u001b[0;34m)\u001b[0m\u001b[0;34m\u001b[0m\u001b[0;34m\u001b[0m\u001b[0m\n\u001b[0;32m--> 130\u001b[0;31m             \u001b[0;32mreturn\u001b[0m \u001b[0mwrapped\u001b[0m\u001b[0;34m(\u001b[0m\u001b[0;34m*\u001b[0m\u001b[0margs\u001b[0m\u001b[0;34m,\u001b[0m \u001b[0;34m**\u001b[0m\u001b[0mkwargs\u001b[0m\u001b[0;34m)\u001b[0m\u001b[0;34m\u001b[0m\u001b[0;34m\u001b[0m\u001b[0m\n\u001b[0m\u001b[1;32m    131\u001b[0m \u001b[0;34m\u001b[0m\u001b[0m\n",
            "\u001b[0;32m/usr/local/lib/python3.9/dist-packages/googleapiclient/http.py\u001b[0m in \u001b[0;36mexecute\u001b[0;34m(self, http, num_retries)\u001b[0m\n\u001b[1;32m    937\u001b[0m         \u001b[0;32mif\u001b[0m \u001b[0mresp\u001b[0m\u001b[0;34m.\u001b[0m\u001b[0mstatus\u001b[0m \u001b[0;34m>=\u001b[0m \u001b[0;36m300\u001b[0m\u001b[0;34m:\u001b[0m\u001b[0;34m\u001b[0m\u001b[0;34m\u001b[0m\u001b[0m\n\u001b[0;32m--> 938\u001b[0;31m             \u001b[0;32mraise\u001b[0m \u001b[0mHttpError\u001b[0m\u001b[0;34m(\u001b[0m\u001b[0mresp\u001b[0m\u001b[0;34m,\u001b[0m \u001b[0mcontent\u001b[0m\u001b[0;34m,\u001b[0m \u001b[0muri\u001b[0m\u001b[0;34m=\u001b[0m\u001b[0mself\u001b[0m\u001b[0;34m.\u001b[0m\u001b[0muri\u001b[0m\u001b[0;34m)\u001b[0m\u001b[0;34m\u001b[0m\u001b[0;34m\u001b[0m\u001b[0m\n\u001b[0m\u001b[1;32m    939\u001b[0m         \u001b[0;32mreturn\u001b[0m \u001b[0mself\u001b[0m\u001b[0;34m.\u001b[0m\u001b[0mpostproc\u001b[0m\u001b[0;34m(\u001b[0m\u001b[0mresp\u001b[0m\u001b[0;34m,\u001b[0m \u001b[0mcontent\u001b[0m\u001b[0;34m)\u001b[0m\u001b[0;34m\u001b[0m\u001b[0;34m\u001b[0m\u001b[0m\n",
            "\u001b[0;31mHttpError\u001b[0m: <HttpError 400 when requesting https://earthengine.googleapis.com/v1alpha/projects/earthengine-legacy/value:compute?prettyPrint=false&alt=json returned \"Element.propertyNames: Parameter 'element' is required.\". Details: \"Element.propertyNames: Parameter 'element' is required.\">",
            "\nDuring handling of the above exception, another exception occurred:\n",
            "\u001b[0;31mEEException\u001b[0m                               Traceback (most recent call last)",
            "\u001b[0;32m<ipython-input-266-55c3dafb90e5>\u001b[0m in \u001b[0;36m<module>\u001b[0;34m\u001b[0m\n\u001b[0;32m----> 1\u001b[0;31m \u001b[0mlen\u001b[0m\u001b[0;34m(\u001b[0m\u001b[0mdict_result\u001b[0m\u001b[0;34m.\u001b[0m\u001b[0mgetInfo\u001b[0m\u001b[0;34m(\u001b[0m\u001b[0;34m)\u001b[0m\u001b[0;34m.\u001b[0m\u001b[0mkeys\u001b[0m\u001b[0;34m(\u001b[0m\u001b[0;34m)\u001b[0m\u001b[0;34m)\u001b[0m\u001b[0;34m,\u001b[0m \u001b[0mdict_result\u001b[0m\u001b[0;34m.\u001b[0m\u001b[0mgetInfo\u001b[0m\u001b[0;34m(\u001b[0m\u001b[0;34m)\u001b[0m\u001b[0;34m.\u001b[0m\u001b[0mkeys\u001b[0m\u001b[0;34m(\u001b[0m\u001b[0;34m)\u001b[0m\u001b[0;34m\u001b[0m\u001b[0;34m\u001b[0m\u001b[0m\n\u001b[0m",
            "\u001b[0;32m/usr/local/lib/python3.9/dist-packages/ee/computedobject.py\u001b[0m in \u001b[0;36mgetInfo\u001b[0;34m(self)\u001b[0m\n\u001b[1;32m     94\u001b[0m       \u001b[0mThe\u001b[0m \u001b[0mobject\u001b[0m \u001b[0mcan\u001b[0m \u001b[0mevaluate\u001b[0m \u001b[0mto\u001b[0m \u001b[0manything\u001b[0m\u001b[0;34m.\u001b[0m\u001b[0;34m\u001b[0m\u001b[0;34m\u001b[0m\u001b[0m\n\u001b[1;32m     95\u001b[0m     \"\"\"\n\u001b[0;32m---> 96\u001b[0;31m     \u001b[0;32mreturn\u001b[0m \u001b[0mdata\u001b[0m\u001b[0;34m.\u001b[0m\u001b[0mcomputeValue\u001b[0m\u001b[0;34m(\u001b[0m\u001b[0mself\u001b[0m\u001b[0;34m)\u001b[0m\u001b[0;34m\u001b[0m\u001b[0;34m\u001b[0m\u001b[0m\n\u001b[0m\u001b[1;32m     97\u001b[0m \u001b[0;34m\u001b[0m\u001b[0m\n\u001b[1;32m     98\u001b[0m   \u001b[0;32mdef\u001b[0m \u001b[0mencode\u001b[0m\u001b[0;34m(\u001b[0m\u001b[0mself\u001b[0m\u001b[0;34m,\u001b[0m \u001b[0mencoder\u001b[0m\u001b[0;34m)\u001b[0m\u001b[0;34m:\u001b[0m\u001b[0;34m\u001b[0m\u001b[0;34m\u001b[0m\u001b[0m\n",
            "\u001b[0;32m/usr/local/lib/python3.9/dist-packages/ee/data.py\u001b[0m in \u001b[0;36mcomputeValue\u001b[0;34m(obj)\u001b[0m\n\u001b[1;32m    896\u001b[0m   \u001b[0m_maybe_populate_workload_tag\u001b[0m\u001b[0;34m(\u001b[0m\u001b[0mbody\u001b[0m\u001b[0;34m)\u001b[0m\u001b[0;34m\u001b[0m\u001b[0;34m\u001b[0m\u001b[0m\n\u001b[1;32m    897\u001b[0m \u001b[0;34m\u001b[0m\u001b[0m\n\u001b[0;32m--> 898\u001b[0;31m   return _execute_cloud_call(\n\u001b[0m\u001b[1;32m    899\u001b[0m       _get_cloud_api_resource().projects().value().compute(\n\u001b[1;32m    900\u001b[0m           \u001b[0mbody\u001b[0m\u001b[0;34m=\u001b[0m\u001b[0mbody\u001b[0m\u001b[0;34m,\u001b[0m\u001b[0;34m\u001b[0m\u001b[0;34m\u001b[0m\u001b[0m\n",
            "\u001b[0;32m/usr/local/lib/python3.9/dist-packages/ee/data.py\u001b[0m in \u001b[0;36m_execute_cloud_call\u001b[0;34m(call, num_retries)\u001b[0m\n\u001b[1;32m    329\u001b[0m     \u001b[0;32mreturn\u001b[0m \u001b[0mcall\u001b[0m\u001b[0;34m.\u001b[0m\u001b[0mexecute\u001b[0m\u001b[0;34m(\u001b[0m\u001b[0mnum_retries\u001b[0m\u001b[0;34m=\u001b[0m\u001b[0mnum_retries\u001b[0m\u001b[0;34m)\u001b[0m\u001b[0;34m\u001b[0m\u001b[0;34m\u001b[0m\u001b[0m\n\u001b[1;32m    330\u001b[0m   \u001b[0;32mexcept\u001b[0m \u001b[0mgoogleapiclient\u001b[0m\u001b[0;34m.\u001b[0m\u001b[0merrors\u001b[0m\u001b[0;34m.\u001b[0m\u001b[0mHttpError\u001b[0m \u001b[0;32mas\u001b[0m \u001b[0me\u001b[0m\u001b[0;34m:\u001b[0m\u001b[0;34m\u001b[0m\u001b[0;34m\u001b[0m\u001b[0m\n\u001b[0;32m--> 331\u001b[0;31m     \u001b[0;32mraise\u001b[0m \u001b[0m_translate_cloud_exception\u001b[0m\u001b[0;34m(\u001b[0m\u001b[0me\u001b[0m\u001b[0;34m)\u001b[0m\u001b[0;34m\u001b[0m\u001b[0;34m\u001b[0m\u001b[0m\n\u001b[0m\u001b[1;32m    332\u001b[0m \u001b[0;34m\u001b[0m\u001b[0m\n\u001b[1;32m    333\u001b[0m \u001b[0;34m\u001b[0m\u001b[0m\n",
            "\u001b[0;31mEEException\u001b[0m: Element.propertyNames: Parameter 'element' is required."
          ]
        }
      ]
    },
    {
      "cell_type": "code",
      "source": [
        "len(dict_result.getInfo()['ALAND']), len(dict_result.getInfo()['shrubland_sagebrush'])"
      ],
      "metadata": {
        "colab": {
          "base_uri": "https://localhost:8080/"
        },
        "id": "mn0hM2KMk0vg",
        "outputId": "9e11ffd6-3dc1-478b-884e-9b30c75375b8"
      },
      "execution_count": null,
      "outputs": [
        {
          "output_type": "execute_result",
          "data": {
            "text/plain": [
              "(88, 0)"
            ]
          },
          "metadata": {},
          "execution_count": 242
        }
      ]
    },
    {
      "cell_type": "code",
      "source": [
        "# Define a function to transfer feature properties to a dictionary.\n",
        "def fc_to_dict(fc):\n",
        "    prop_names = fc.first().propertyNames()\n",
        "    prop_lists = fc.reduceColumns(\n",
        "        reducer=ee.Reducer.toList().repeat(prop_names.size()),\n",
        "        selectors=prop_names\n",
        "    ).get('list')\n",
        "    prop_lists = [[None if val is None else val for val in lst] for lst in prop_lists]\n",
        "    return ee.Dictionary.fromLists(prop_names, prop_lists)\n",
        "\n",
        "\n",
        "def fc_to_df(fc):\n",
        "    \"\"\"Convert a feature collection to pandas dataframe\"\"\"\n",
        "    dict_result = fc_to_dict(fc)\n",
        "    df = pd.DataFrame(dict_result.getInfo())\n",
        "    return df\n"
      ],
      "metadata": {
        "id": "z1S6y6Ugm_Tl"
      },
      "execution_count": null,
      "outputs": []
    },
    {
      "cell_type": "code",
      "source": [
        "df = fc_to_df(landcoverMeansFeatures)"
      ],
      "metadata": {
        "colab": {
          "base_uri": "https://localhost:8080/",
          "height": 311
        },
        "id": "gM6JSUy2iTVm",
        "outputId": "44228f5c-443a-4dff-f660-4fd28853d8b7"
      },
      "execution_count": null,
      "outputs": [
        {
          "output_type": "error",
          "ename": "TypeError",
          "evalue": "ignored",
          "traceback": [
            "\u001b[0;31m---------------------------------------------------------------------------\u001b[0m",
            "\u001b[0;31mTypeError\u001b[0m                                 Traceback (most recent call last)",
            "\u001b[0;32m<ipython-input-257-666327f60a7e>\u001b[0m in \u001b[0;36m<module>\u001b[0;34m\u001b[0m\n\u001b[0;32m----> 1\u001b[0;31m \u001b[0mdf\u001b[0m \u001b[0;34m=\u001b[0m \u001b[0mfc_to_df\u001b[0m\u001b[0;34m(\u001b[0m\u001b[0mlandcoverMeansFeatures\u001b[0m\u001b[0;34m)\u001b[0m\u001b[0;34m\u001b[0m\u001b[0;34m\u001b[0m\u001b[0m\n\u001b[0m",
            "\u001b[0;32m<ipython-input-256-9fed51653571>\u001b[0m in \u001b[0;36mfc_to_df\u001b[0;34m(fc)\u001b[0m\n\u001b[1;32m     12\u001b[0m \u001b[0;32mdef\u001b[0m \u001b[0mfc_to_df\u001b[0m\u001b[0;34m(\u001b[0m\u001b[0mfc\u001b[0m\u001b[0;34m)\u001b[0m\u001b[0;34m:\u001b[0m\u001b[0;34m\u001b[0m\u001b[0;34m\u001b[0m\u001b[0m\n\u001b[1;32m     13\u001b[0m     \u001b[0;34m\"\"\"Convert a feature collection to pandas dataframe\"\"\"\u001b[0m\u001b[0;34m\u001b[0m\u001b[0;34m\u001b[0m\u001b[0m\n\u001b[0;32m---> 14\u001b[0;31m     \u001b[0mdict_result\u001b[0m \u001b[0;34m=\u001b[0m \u001b[0mfc_to_dict\u001b[0m\u001b[0;34m(\u001b[0m\u001b[0mfc\u001b[0m\u001b[0;34m)\u001b[0m\u001b[0;34m\u001b[0m\u001b[0;34m\u001b[0m\u001b[0m\n\u001b[0m\u001b[1;32m     15\u001b[0m     \u001b[0mdf\u001b[0m \u001b[0;34m=\u001b[0m \u001b[0mpd\u001b[0m\u001b[0;34m.\u001b[0m\u001b[0mDataFrame\u001b[0m\u001b[0;34m(\u001b[0m\u001b[0mdict_result\u001b[0m\u001b[0;34m.\u001b[0m\u001b[0mgetInfo\u001b[0m\u001b[0;34m(\u001b[0m\u001b[0;34m)\u001b[0m\u001b[0;34m)\u001b[0m\u001b[0;34m\u001b[0m\u001b[0;34m\u001b[0m\u001b[0m\n\u001b[1;32m     16\u001b[0m     \u001b[0;32mreturn\u001b[0m \u001b[0mdf\u001b[0m\u001b[0;34m\u001b[0m\u001b[0;34m\u001b[0m\u001b[0m\n",
            "\u001b[0;32m<ipython-input-256-9fed51653571>\u001b[0m in \u001b[0;36mfc_to_dict\u001b[0;34m(fc)\u001b[0m\n\u001b[1;32m      6\u001b[0m         \u001b[0mselectors\u001b[0m\u001b[0;34m=\u001b[0m\u001b[0mprop_names\u001b[0m\u001b[0;34m\u001b[0m\u001b[0;34m\u001b[0m\u001b[0m\n\u001b[1;32m      7\u001b[0m     ).get('list')\n\u001b[0;32m----> 8\u001b[0;31m     \u001b[0mprop_lists\u001b[0m \u001b[0;34m=\u001b[0m \u001b[0;34m[\u001b[0m\u001b[0;34m[\u001b[0m\u001b[0;32mNone\u001b[0m \u001b[0;32mif\u001b[0m \u001b[0mval\u001b[0m \u001b[0;32mis\u001b[0m \u001b[0;32mNone\u001b[0m \u001b[0;32melse\u001b[0m \u001b[0mval\u001b[0m \u001b[0;32mfor\u001b[0m \u001b[0mval\u001b[0m \u001b[0;32min\u001b[0m \u001b[0mlst\u001b[0m\u001b[0;34m]\u001b[0m \u001b[0;32mfor\u001b[0m \u001b[0mlst\u001b[0m \u001b[0;32min\u001b[0m \u001b[0mprop_lists\u001b[0m\u001b[0;34m]\u001b[0m\u001b[0;34m\u001b[0m\u001b[0;34m\u001b[0m\u001b[0m\n\u001b[0m\u001b[1;32m      9\u001b[0m     \u001b[0;32mreturn\u001b[0m \u001b[0mee\u001b[0m\u001b[0;34m.\u001b[0m\u001b[0mDictionary\u001b[0m\u001b[0;34m.\u001b[0m\u001b[0mfromLists\u001b[0m\u001b[0;34m(\u001b[0m\u001b[0mprop_names\u001b[0m\u001b[0;34m,\u001b[0m \u001b[0mprop_lists\u001b[0m\u001b[0;34m)\u001b[0m\u001b[0;34m\u001b[0m\u001b[0;34m\u001b[0m\u001b[0m\n\u001b[1;32m     10\u001b[0m \u001b[0;34m\u001b[0m\u001b[0m\n",
            "\u001b[0;31mTypeError\u001b[0m: 'ComputedObject' object is not iterable"
          ]
        }
      ]
    },
    {
      "cell_type": "code",
      "source": [
        "#df.head()"
      ],
      "metadata": {
        "id": "6nm_vzQaiV3q"
      },
      "execution_count": null,
      "outputs": []
    },
    {
      "cell_type": "markdown",
      "source": [
        "# Wind"
      ],
      "metadata": {
        "id": "P80TFZl2Jauq"
      }
    },
    {
      "cell_type": "code",
      "source": [
        "# Load the Copernicus Global Land Cover Layers collection\n",
        "windData = ee.ImageCollection(\"MODIS/061/MCD12Q1\")"
      ],
      "metadata": {
        "id": "i77K907HJcno"
      },
      "execution_count": 9,
      "outputs": []
    },
    {
      "cell_type": "markdown",
      "source": [],
      "metadata": {
        "id": "SCTwalJYQzVI"
      }
    },
    {
      "cell_type": "code",
      "source": [
        "#with_water = windData.map(add_wind)"
      ],
      "metadata": {
        "id": "J_LtEu51K52J"
      },
      "execution_count": 21,
      "outputs": []
    },
    {
      "cell_type": "code",
      "source": [
        "# Define the region of interest\n",
        "region = ee.Geometry.Polygon(\n",
        "  [[[-105.78, 40.17],\n",
        "    [-105.78, 39.97],\n",
        "    [-105.56, 39.97],\n",
        "    [-105.56, 40.17]]])\n",
        "\n",
        "# Define the point locations as a FeatureCollection\n",
        "# points = ee.FeatureCollection([\n",
        "#   ee.Feature(ee.Geometry.Point(-105.75, 40.01)),\n",
        "#   ee.Feature(ee.Geometry.Point(-105.69, 40.02)),\n",
        "#   ee.Feature(ee.Geometry.Point(-105.65, 40.03)),\n",
        "#   ee.Feature(ee.Geometry.Point(-105.58, 40.05)),\n",
        "#   ee.Feature(ee.Geometry.Point(-105.55, 40.08))\n",
        "# ])\n",
        "\n",
        "# Define the number of points and the max distance between points in meters\n",
        "n_points = 25\n",
        "distance = 5000\n",
        "\n",
        "# Create a grid of points within the region\n",
        "points = ee.FeatureCollection.randomPoints(region, n_points, 0, distance)\n",
        "\n",
        "\n",
        "# Define a function to extract data for each point\n",
        "def extract_data(feature):\n",
        "  # Get the point location\n",
        "  point = feature.geometry()\n",
        "  # Get the MODIS Land Surface Temperature (LST) image collection\n",
        "  modis_lst = ee.ImageCollection('MODIS/006/MOD11A2')\n",
        "  # Filter the collection by the date range and region of interest\n",
        "  modis_lst_filtered = modis_lst.filterDate('2020-01-01', '2020-12-31').filterBounds(region)\n",
        "  # Reduce the collection to a single image by taking the median value\n",
        "  modis_lst_median = modis_lst_filtered.median()\n",
        "  # Get the LST value at the point location\n",
        "  lst = modis_lst_median.reduceRegion(ee.Reducer.first(), point, 500).get('LST_Day_1km')\n",
        "  # Create a dictionary with the LST value and the point coordinates\n",
        "  return ee.Feature(point, {'LST': lst})\n",
        "\n",
        "# Map the extract_data function over the points FeatureCollection\n",
        "data = points.map(extract_data)\n",
        "\n",
        "# Convert the data to a Pandas DataFrame\n",
        "df = pd.DataFrame(data.getInfo()['features'])\n",
        "df['latitude'] = df['geometry'].apply(lambda x: x['coordinates'][1])\n",
        "df['longitude'] = df['geometry'].apply(lambda x: x['coordinates'][0])\n",
        "df = df[['latitude', 'longitude', 'properties']]\n",
        "df.columns = ['latitude', 'longitude', 'LST']\n",
        "print(df)\n"
      ],
      "metadata": {
        "colab": {
          "base_uri": "https://localhost:8080/"
        },
        "id": "LbAJhZHOMWHn",
        "outputId": "8f4ac624-7379-4611-b386-4c6653879f6a"
      },
      "execution_count": 60,
      "outputs": [
        {
          "output_type": "stream",
          "name": "stdout",
          "text": [
            "     latitude   longitude               LST\n",
            "0   40.047863 -105.593908    {'LST': 13914}\n",
            "1   39.976214 -105.574716    {'LST': 14009}\n",
            "2   40.010609 -105.687994    {'LST': 13861}\n",
            "3   39.989217 -105.575259  {'LST': 14022.5}\n",
            "4   40.153354 -105.677353    {'LST': 13826}\n",
            "5   40.168419 -105.596950    {'LST': 13898}\n",
            "6   40.104541 -105.678773    {'LST': 13971}\n",
            "7   40.147463 -105.753686    {'LST': 14095}\n",
            "8   40.121413 -105.754994    {'LST': 13970}\n",
            "9   40.097165 -105.689076    {'LST': 13895}\n",
            "10  40.050809 -105.598869    {'LST': 13898}\n",
            "11  40.110031 -105.630388    {'LST': 13850}\n",
            "12  40.070039 -105.560887    {'LST': 13900}\n",
            "13  40.154682 -105.732132    {'LST': 13940}\n",
            "14  39.974093 -105.712998    {'LST': 13992}\n",
            "15  39.996722 -105.587202  {'LST': 14010.5}\n",
            "16  40.141636 -105.657635    {'LST': 13830}\n",
            "17  40.168968 -105.757805    {'LST': 13971}\n",
            "18  39.986012 -105.762863    {'LST': 14353}\n",
            "19  40.014939 -105.720366    {'LST': 13938}\n",
            "20  40.118173 -105.574285    {'LST': 13899}\n",
            "21  40.131703 -105.733498    {'LST': 14062}\n",
            "22  40.099315 -105.623332    {'LST': 13773}\n",
            "23  40.119405 -105.627905    {'LST': 13855}\n",
            "24  40.163051 -105.756229  {'LST': 13987.5}\n"
          ]
        }
      ]
    },
    {
      "cell_type": "code",
      "source": [
        "# Define the region of interest\n",
        "region = ee.Geometry.Polygon(\n",
        "  [[[-90, 42.5],\n",
        "    [-90, 37.5],\n",
        "    [-80, 42.5],\n",
        "    [-80, 37.5]]])\n",
        "\n",
        "#region = ee.Geometry.Rectangle([-84.8203, 38.4032, -80.5187, 41.9771])\n",
        "# Define the point locations as a FeatureCollection\n",
        "# points = ee.FeatureCollection([\n",
        "#   ee.Feature(ee.Geometry.Point(-80 + 0.01 * dx, 37.5 + 0.01 * dy)) for dx in range(1000) for dy in range(500)\n",
        "# ])\n",
        "\n",
        "\n",
        "# # Define the number of points and the max distance between points in meters\n",
        "# n_points = 25\n",
        "# distance = 5000\n",
        "\n",
        "# # Create a grid of points within the region\n",
        "# points = ee.FeatureCollection.randomPoints(region, n_points, 0, distance)\n",
        "\n",
        "###-----####\n",
        "import math\n",
        "# Create a grid of points within the region\n",
        "n_points = 5000\n",
        "cell_size = region.area().toFloat().sqrt().divide(math.sqrt(n_points))\n",
        "points = ee.FeatureCollection.randomPoints(region=region, points=n_points, seed=0, maxError=cell_size.multiply(0.5))\n",
        "###-----####\n",
        "\n",
        "# bounds = region.bounds().getInfo()['coordinates'][0]\n",
        "# xmin, ymin, xmax, ymax = bounds[0][0], bounds[0][1], bounds[2][0], bounds[2][1]\n",
        "# longitudes = ee.List.sequence(xmin, xmax, cell_size)\n",
        "# latitudes = ee.List.sequence(ymin, ymax, cell_size)\n",
        "# points = ee.FeatureCollection(\n",
        "#     ee.Feature(\n",
        "#         ee.Geometry.Point([lon, lat]), \n",
        "#         {'id': i}\n",
        "#     ) for i, lon in enumerate(longitudes) for j, lat in enumerate(latitudes)\n",
        "# )\n",
        "\n",
        "\n",
        "# Define a function to extract data for each point\n",
        "def extract_data(feature):\n",
        "  # Get the point location\n",
        "  point = feature.geometry()\n",
        "  # Get the MODIS Land Surface Temperature (LST) image collection\n",
        "  modis_lst = ee.ImageCollection('NASA/NLDAS/FORA0125_H002')\n",
        "  # Filter the collection by the date range and region of interest\n",
        "  modis_lst_filtered = modis_lst.filterDate('2023-02-02', '2023-02-03').filterBounds(region)\n",
        "  # Reduce the collection to a single image by taking the median value\n",
        "  modis_lst_median = modis_lst_filtered.median()\n",
        "  # Get the LST value at the point location\n",
        "  wind_u = modis_lst_median.reduceRegion(ee.Reducer.first(), point, 500).get('wind_u')\n",
        "  # Create a dictionary with the LST value and the point coordinates\n",
        "  return ee.Feature(point, {'wind_u': wind_u})\n",
        "\n",
        "# Map the extract_data function over the points FeatureCollection\n",
        "data = points.map(extract_data)\n",
        "# x = data.getInfo()\n",
        "# Convert the data to a Pandas DataFrame\n",
        "df = pd.DataFrame(data.getInfo()['features'])\n",
        "# df['latitude'] = df['geometry'].apply(lambda x: x['coordinates'][1])\n",
        "# df['longitude'] = df['geometry'].apply(lambda x: x['coordinates'][0])\n",
        "# # df = df[['latitude', 'longitude', 'properties']]\n",
        "# # df.columns = ['latitude', 'longitude', 'LST']\n",
        "# print(df)\n"
      ],
      "metadata": {
        "id": "gFoO3bDJSpTs"
      },
      "execution_count": 84,
      "outputs": []
    },
    {
      "cell_type": "code",
      "source": [
        "df.shape, df.head"
      ],
      "metadata": {
        "colab": {
          "base_uri": "https://localhost:8080/"
        },
        "id": "-ygXDBCYXyvk",
        "outputId": "93733c33-2829-4c7c-cbe9-2a1db3733681"
      },
      "execution_count": 85,
      "outputs": [
        {
          "output_type": "execute_result",
          "data": {
            "text/plain": [
              "((5000, 4),\n",
              " <bound method NDFrame.head of          type                                           geometry    id  \\\n",
              " 0     Feature  {'type': 'Point', 'coordinates': [-88.84773197...     0   \n",
              " 1     Feature  {'type': 'Point', 'coordinates': [-84.66526618...     1   \n",
              " 2     Feature  {'type': 'Point', 'coordinates': [-82.10019478...     2   \n",
              " 3     Feature  {'type': 'Point', 'coordinates': [-89.87189220...     3   \n",
              " 4     Feature  {'type': 'Point', 'coordinates': [-88.05582408...     4   \n",
              " ...       ...                                                ...   ...   \n",
              " 4995  Feature  {'type': 'Point', 'coordinates': [-82.36877244...  4995   \n",
              " 4996  Feature  {'type': 'Point', 'coordinates': [-82.31209339...  4996   \n",
              " 4997  Feature  {'type': 'Point', 'coordinates': [-80.66492631...  4997   \n",
              " 4998  Feature  {'type': 'Point', 'coordinates': [-81.06693433...  4998   \n",
              " 4999  Feature  {'type': 'Point', 'coordinates': [-89.44463048...  4999   \n",
              " \n",
              "                           properties  \n",
              " 0     {'wind_u': 1.6749999999999998}  \n",
              " 1     {'wind_u': 3.5700000000000003}  \n",
              " 2                   {'wind_u': 2.03}  \n",
              " 3                   {'wind_u': 0.59}  \n",
              " 4                  {'wind_u': 2.295}  \n",
              " ...                              ...  \n",
              " 4995                 {'wind_u': 0.5}  \n",
              " 4996   {'wind_u': 4.050000000000001}  \n",
              " 4997  {'wind_u': 0.9099999999999999}  \n",
              " 4998               {'wind_u': 0.605}  \n",
              " 4999               {'wind_u': 3.195}  \n",
              " \n",
              " [5000 rows x 4 columns]>)"
            ]
          },
          "metadata": {},
          "execution_count": 85
        }
      ]
    },
    {
      "cell_type": "code",
      "source": [
        "# Define the region of interest\n",
        "region = ee.Geometry.Polygon(\n",
        "  [[[-105.78, 40.17],\n",
        "    [-105.78, 39.97],\n",
        "    [-105.56, 39.97],\n",
        "    [-105.56, 40.17]]])\n",
        "\n",
        "# Define the number of points and the max distance between points in meters\n",
        "n_points = 25\n",
        "distance = 5000\n",
        "\n",
        "# Create a grid of points within the region\n",
        "points = ee.FeatureCollection.randomPoints(region, n_points, 0, distance)\n",
        "\n",
        "# Print the FeatureCollection\n",
        "pprint(points.getInfo()['features'])\n"
      ],
      "metadata": {
        "id": "YD4WM-c2Wbhd"
      },
      "execution_count": null,
      "outputs": []
    },
    {
      "cell_type": "code",
      "source": [
        "region = ee.Geometry.Polygon(\n",
        "  [[[-105.78, 40.17],\n",
        "    [-105.78, 39.97],\n",
        "    [-105.56, 39.97],\n",
        "    [-105.56, 40.17]]])\n",
        "\n",
        "# Define the point locations as a FeatureCollection\n",
        "points = ee.FeatureCollection([\n",
        "  ee.Feature(ee.Geometry.Point(-105.75, 40.01)),\n",
        "  ee.Feature(ee.Geometry.Point(-105.69, 40.02)),\n",
        "  ee.Feature(ee.Geometry.Point(-105.65, 40.03)),\n",
        "  ee.Feature(ee.Geometry.Point(-105.58, 40.05)),\n",
        "  ee.Feature(ee.Geometry.Point(-105.55, 40.08))\n",
        "])"
      ],
      "metadata": {
        "id": "js189IO8WmYy"
      },
      "execution_count": 58,
      "outputs": []
    },
    {
      "cell_type": "code",
      "source": [
        "points.getInfo()"
      ],
      "metadata": {
        "colab": {
          "base_uri": "https://localhost:8080/"
        },
        "id": "B79R1VZSWeJf",
        "outputId": "a898e3fc-319b-4878-fedf-c637b9618264"
      },
      "execution_count": 59,
      "outputs": [
        {
          "output_type": "execute_result",
          "data": {
            "text/plain": [
              "{'type': 'FeatureCollection',\n",
              " 'columns': {'system:index': 'String'},\n",
              " 'features': [{'type': 'Feature',\n",
              "   'geometry': {'type': 'Point', 'coordinates': [-105.75, 40.01]},\n",
              "   'id': '0',\n",
              "   'properties': {}},\n",
              "  {'type': 'Feature',\n",
              "   'geometry': {'type': 'Point', 'coordinates': [-105.69, 40.02]},\n",
              "   'id': '1',\n",
              "   'properties': {}},\n",
              "  {'type': 'Feature',\n",
              "   'geometry': {'type': 'Point', 'coordinates': [-105.65, 40.03]},\n",
              "   'id': '2',\n",
              "   'properties': {}},\n",
              "  {'type': 'Feature',\n",
              "   'geometry': {'type': 'Point', 'coordinates': [-105.58, 40.05]},\n",
              "   'id': '3',\n",
              "   'properties': {}},\n",
              "  {'type': 'Feature',\n",
              "   'geometry': {'type': 'Point', 'coordinates': [-105.55, 40.08]},\n",
              "   'id': '4',\n",
              "   'properties': {}}]}"
            ]
          },
          "metadata": {},
          "execution_count": 59
        }
      ]
    },
    {
      "cell_type": "code",
      "source": [
        "df"
      ],
      "metadata": {
        "colab": {
          "base_uri": "https://localhost:8080/",
          "height": 1000
        },
        "id": "SLkUQ7JqTpdt",
        "outputId": "0240f675-d368-4bf5-f79a-152d6cc7a79d"
      },
      "execution_count": 43,
      "outputs": [
        {
          "output_type": "execute_result",
          "data": {
            "text/plain": [
              "       type                                           geometry  id  \\\n",
              "0   Feature      {'type': 'Point', 'coordinates': [-80, 37.5]}   0   \n",
              "1   Feature     {'type': 'Point', 'coordinates': [-80, 37.51]}   1   \n",
              "2   Feature     {'type': 'Point', 'coordinates': [-80, 37.52]}   2   \n",
              "3   Feature     {'type': 'Point', 'coordinates': [-80, 37.53]}   3   \n",
              "4   Feature     {'type': 'Point', 'coordinates': [-80, 37.54]}   4   \n",
              "5   Feature   {'type': 'Point', 'coordinates': [-79.99, 37.5]}   5   \n",
              "6   Feature  {'type': 'Point', 'coordinates': [-79.99, 37.51]}   6   \n",
              "7   Feature  {'type': 'Point', 'coordinates': [-79.99, 37.52]}   7   \n",
              "8   Feature  {'type': 'Point', 'coordinates': [-79.99, 37.53]}   8   \n",
              "9   Feature  {'type': 'Point', 'coordinates': [-79.99, 37.54]}   9   \n",
              "10  Feature   {'type': 'Point', 'coordinates': [-79.98, 37.5]}  10   \n",
              "11  Feature  {'type': 'Point', 'coordinates': [-79.98, 37.51]}  11   \n",
              "12  Feature  {'type': 'Point', 'coordinates': [-79.98, 37.52]}  12   \n",
              "13  Feature  {'type': 'Point', 'coordinates': [-79.98, 37.53]}  13   \n",
              "14  Feature  {'type': 'Point', 'coordinates': [-79.98, 37.54]}  14   \n",
              "15  Feature   {'type': 'Point', 'coordinates': [-79.97, 37.5]}  15   \n",
              "16  Feature  {'type': 'Point', 'coordinates': [-79.97, 37.51]}  16   \n",
              "17  Feature  {'type': 'Point', 'coordinates': [-79.97, 37.52]}  17   \n",
              "18  Feature  {'type': 'Point', 'coordinates': [-79.97, 37.53]}  18   \n",
              "19  Feature  {'type': 'Point', 'coordinates': [-79.97, 37.54]}  19   \n",
              "20  Feature   {'type': 'Point', 'coordinates': [-79.96, 37.5]}  20   \n",
              "21  Feature  {'type': 'Point', 'coordinates': [-79.96, 37.51]}  21   \n",
              "22  Feature  {'type': 'Point', 'coordinates': [-79.96, 37.52]}  22   \n",
              "23  Feature  {'type': 'Point', 'coordinates': [-79.96, 37.53]}  23   \n",
              "24  Feature  {'type': 'Point', 'coordinates': [-79.96, 37.54]}  24   \n",
              "25  Feature   {'type': 'Point', 'coordinates': [-79.95, 37.5]}  25   \n",
              "26  Feature  {'type': 'Point', 'coordinates': [-79.95, 37.51]}  26   \n",
              "27  Feature  {'type': 'Point', 'coordinates': [-79.95, 37.52]}  27   \n",
              "28  Feature  {'type': 'Point', 'coordinates': [-79.95, 37.53]}  28   \n",
              "29  Feature  {'type': 'Point', 'coordinates': [-79.95, 37.54]}  29   \n",
              "30  Feature   {'type': 'Point', 'coordinates': [-79.94, 37.5]}  30   \n",
              "31  Feature  {'type': 'Point', 'coordinates': [-79.94, 37.51]}  31   \n",
              "32  Feature  {'type': 'Point', 'coordinates': [-79.94, 37.52]}  32   \n",
              "33  Feature  {'type': 'Point', 'coordinates': [-79.94, 37.53]}  33   \n",
              "34  Feature  {'type': 'Point', 'coordinates': [-79.94, 37.54]}  34   \n",
              "35  Feature   {'type': 'Point', 'coordinates': [-79.93, 37.5]}  35   \n",
              "36  Feature  {'type': 'Point', 'coordinates': [-79.93, 37.51]}  36   \n",
              "37  Feature  {'type': 'Point', 'coordinates': [-79.93, 37.52]}  37   \n",
              "38  Feature  {'type': 'Point', 'coordinates': [-79.93, 37.53]}  38   \n",
              "39  Feature  {'type': 'Point', 'coordinates': [-79.93, 37.54]}  39   \n",
              "40  Feature   {'type': 'Point', 'coordinates': [-79.92, 37.5]}  40   \n",
              "41  Feature  {'type': 'Point', 'coordinates': [-79.92, 37.51]}  41   \n",
              "42  Feature  {'type': 'Point', 'coordinates': [-79.92, 37.52]}  42   \n",
              "43  Feature  {'type': 'Point', 'coordinates': [-79.92, 37.53]}  43   \n",
              "44  Feature  {'type': 'Point', 'coordinates': [-79.92, 37.54]}  44   \n",
              "45  Feature   {'type': 'Point', 'coordinates': [-79.91, 37.5]}  45   \n",
              "46  Feature  {'type': 'Point', 'coordinates': [-79.91, 37.51]}  46   \n",
              "47  Feature  {'type': 'Point', 'coordinates': [-79.91, 37.52]}  47   \n",
              "48  Feature  {'type': 'Point', 'coordinates': [-79.91, 37.53]}  48   \n",
              "49  Feature  {'type': 'Point', 'coordinates': [-79.91, 37.54]}  49   \n",
              "\n",
              "                         properties  \n",
              "0   {'wind_u': -0.6699999999999999}  \n",
              "1                 {'wind_u': 0.185}  \n",
              "2                 {'wind_u': 0.185}  \n",
              "3                 {'wind_u': 0.185}  \n",
              "4                 {'wind_u': 0.185}  \n",
              "5                 {'wind_u': -1.15}  \n",
              "6                 {'wind_u': -0.36}  \n",
              "7                 {'wind_u': -0.36}  \n",
              "8                 {'wind_u': -0.36}  \n",
              "9                 {'wind_u': -0.36}  \n",
              "10                {'wind_u': -1.15}  \n",
              "11                {'wind_u': -0.36}  \n",
              "12                {'wind_u': -0.36}  \n",
              "13                {'wind_u': -0.36}  \n",
              "14                {'wind_u': -0.36}  \n",
              "15                {'wind_u': -1.15}  \n",
              "16                {'wind_u': -0.36}  \n",
              "17                {'wind_u': -0.36}  \n",
              "18                {'wind_u': -0.36}  \n",
              "19                {'wind_u': -0.36}  \n",
              "20                {'wind_u': -1.15}  \n",
              "21                {'wind_u': -0.36}  \n",
              "22                {'wind_u': -0.36}  \n",
              "23                {'wind_u': -0.36}  \n",
              "24                {'wind_u': -0.36}  \n",
              "25                {'wind_u': -1.15}  \n",
              "26                {'wind_u': -0.36}  \n",
              "27                {'wind_u': -0.36}  \n",
              "28                {'wind_u': -0.36}  \n",
              "29                {'wind_u': -0.36}  \n",
              "30                {'wind_u': -1.15}  \n",
              "31                {'wind_u': -0.36}  \n",
              "32                {'wind_u': -0.36}  \n",
              "33                {'wind_u': -0.36}  \n",
              "34                {'wind_u': -0.36}  \n",
              "35                {'wind_u': -1.15}  \n",
              "36                {'wind_u': -0.36}  \n",
              "37                {'wind_u': -0.36}  \n",
              "38                {'wind_u': -0.36}  \n",
              "39                {'wind_u': -0.36}  \n",
              "40                {'wind_u': -1.15}  \n",
              "41                {'wind_u': -0.36}  \n",
              "42                {'wind_u': -0.36}  \n",
              "43                {'wind_u': -0.36}  \n",
              "44                {'wind_u': -0.36}  \n",
              "45                {'wind_u': -1.15}  \n",
              "46                {'wind_u': -0.36}  \n",
              "47                {'wind_u': -0.36}  \n",
              "48                {'wind_u': -0.36}  \n",
              "49                {'wind_u': -0.36}  "
            ],
            "text/html": [
              "\n",
              "  <div id=\"df-fa58706f-4d86-4245-83e0-743f3144b28a\">\n",
              "    <div class=\"colab-df-container\">\n",
              "      <div>\n",
              "<style scoped>\n",
              "    .dataframe tbody tr th:only-of-type {\n",
              "        vertical-align: middle;\n",
              "    }\n",
              "\n",
              "    .dataframe tbody tr th {\n",
              "        vertical-align: top;\n",
              "    }\n",
              "\n",
              "    .dataframe thead th {\n",
              "        text-align: right;\n",
              "    }\n",
              "</style>\n",
              "<table border=\"1\" class=\"dataframe\">\n",
              "  <thead>\n",
              "    <tr style=\"text-align: right;\">\n",
              "      <th></th>\n",
              "      <th>type</th>\n",
              "      <th>geometry</th>\n",
              "      <th>id</th>\n",
              "      <th>properties</th>\n",
              "    </tr>\n",
              "  </thead>\n",
              "  <tbody>\n",
              "    <tr>\n",
              "      <th>0</th>\n",
              "      <td>Feature</td>\n",
              "      <td>{'type': 'Point', 'coordinates': [-80, 37.5]}</td>\n",
              "      <td>0</td>\n",
              "      <td>{'wind_u': -0.6699999999999999}</td>\n",
              "    </tr>\n",
              "    <tr>\n",
              "      <th>1</th>\n",
              "      <td>Feature</td>\n",
              "      <td>{'type': 'Point', 'coordinates': [-80, 37.51]}</td>\n",
              "      <td>1</td>\n",
              "      <td>{'wind_u': 0.185}</td>\n",
              "    </tr>\n",
              "    <tr>\n",
              "      <th>2</th>\n",
              "      <td>Feature</td>\n",
              "      <td>{'type': 'Point', 'coordinates': [-80, 37.52]}</td>\n",
              "      <td>2</td>\n",
              "      <td>{'wind_u': 0.185}</td>\n",
              "    </tr>\n",
              "    <tr>\n",
              "      <th>3</th>\n",
              "      <td>Feature</td>\n",
              "      <td>{'type': 'Point', 'coordinates': [-80, 37.53]}</td>\n",
              "      <td>3</td>\n",
              "      <td>{'wind_u': 0.185}</td>\n",
              "    </tr>\n",
              "    <tr>\n",
              "      <th>4</th>\n",
              "      <td>Feature</td>\n",
              "      <td>{'type': 'Point', 'coordinates': [-80, 37.54]}</td>\n",
              "      <td>4</td>\n",
              "      <td>{'wind_u': 0.185}</td>\n",
              "    </tr>\n",
              "    <tr>\n",
              "      <th>5</th>\n",
              "      <td>Feature</td>\n",
              "      <td>{'type': 'Point', 'coordinates': [-79.99, 37.5]}</td>\n",
              "      <td>5</td>\n",
              "      <td>{'wind_u': -1.15}</td>\n",
              "    </tr>\n",
              "    <tr>\n",
              "      <th>6</th>\n",
              "      <td>Feature</td>\n",
              "      <td>{'type': 'Point', 'coordinates': [-79.99, 37.51]}</td>\n",
              "      <td>6</td>\n",
              "      <td>{'wind_u': -0.36}</td>\n",
              "    </tr>\n",
              "    <tr>\n",
              "      <th>7</th>\n",
              "      <td>Feature</td>\n",
              "      <td>{'type': 'Point', 'coordinates': [-79.99, 37.52]}</td>\n",
              "      <td>7</td>\n",
              "      <td>{'wind_u': -0.36}</td>\n",
              "    </tr>\n",
              "    <tr>\n",
              "      <th>8</th>\n",
              "      <td>Feature</td>\n",
              "      <td>{'type': 'Point', 'coordinates': [-79.99, 37.53]}</td>\n",
              "      <td>8</td>\n",
              "      <td>{'wind_u': -0.36}</td>\n",
              "    </tr>\n",
              "    <tr>\n",
              "      <th>9</th>\n",
              "      <td>Feature</td>\n",
              "      <td>{'type': 'Point', 'coordinates': [-79.99, 37.54]}</td>\n",
              "      <td>9</td>\n",
              "      <td>{'wind_u': -0.36}</td>\n",
              "    </tr>\n",
              "    <tr>\n",
              "      <th>10</th>\n",
              "      <td>Feature</td>\n",
              "      <td>{'type': 'Point', 'coordinates': [-79.98, 37.5]}</td>\n",
              "      <td>10</td>\n",
              "      <td>{'wind_u': -1.15}</td>\n",
              "    </tr>\n",
              "    <tr>\n",
              "      <th>11</th>\n",
              "      <td>Feature</td>\n",
              "      <td>{'type': 'Point', 'coordinates': [-79.98, 37.51]}</td>\n",
              "      <td>11</td>\n",
              "      <td>{'wind_u': -0.36}</td>\n",
              "    </tr>\n",
              "    <tr>\n",
              "      <th>12</th>\n",
              "      <td>Feature</td>\n",
              "      <td>{'type': 'Point', 'coordinates': [-79.98, 37.52]}</td>\n",
              "      <td>12</td>\n",
              "      <td>{'wind_u': -0.36}</td>\n",
              "    </tr>\n",
              "    <tr>\n",
              "      <th>13</th>\n",
              "      <td>Feature</td>\n",
              "      <td>{'type': 'Point', 'coordinates': [-79.98, 37.53]}</td>\n",
              "      <td>13</td>\n",
              "      <td>{'wind_u': -0.36}</td>\n",
              "    </tr>\n",
              "    <tr>\n",
              "      <th>14</th>\n",
              "      <td>Feature</td>\n",
              "      <td>{'type': 'Point', 'coordinates': [-79.98, 37.54]}</td>\n",
              "      <td>14</td>\n",
              "      <td>{'wind_u': -0.36}</td>\n",
              "    </tr>\n",
              "    <tr>\n",
              "      <th>15</th>\n",
              "      <td>Feature</td>\n",
              "      <td>{'type': 'Point', 'coordinates': [-79.97, 37.5]}</td>\n",
              "      <td>15</td>\n",
              "      <td>{'wind_u': -1.15}</td>\n",
              "    </tr>\n",
              "    <tr>\n",
              "      <th>16</th>\n",
              "      <td>Feature</td>\n",
              "      <td>{'type': 'Point', 'coordinates': [-79.97, 37.51]}</td>\n",
              "      <td>16</td>\n",
              "      <td>{'wind_u': -0.36}</td>\n",
              "    </tr>\n",
              "    <tr>\n",
              "      <th>17</th>\n",
              "      <td>Feature</td>\n",
              "      <td>{'type': 'Point', 'coordinates': [-79.97, 37.52]}</td>\n",
              "      <td>17</td>\n",
              "      <td>{'wind_u': -0.36}</td>\n",
              "    </tr>\n",
              "    <tr>\n",
              "      <th>18</th>\n",
              "      <td>Feature</td>\n",
              "      <td>{'type': 'Point', 'coordinates': [-79.97, 37.53]}</td>\n",
              "      <td>18</td>\n",
              "      <td>{'wind_u': -0.36}</td>\n",
              "    </tr>\n",
              "    <tr>\n",
              "      <th>19</th>\n",
              "      <td>Feature</td>\n",
              "      <td>{'type': 'Point', 'coordinates': [-79.97, 37.54]}</td>\n",
              "      <td>19</td>\n",
              "      <td>{'wind_u': -0.36}</td>\n",
              "    </tr>\n",
              "    <tr>\n",
              "      <th>20</th>\n",
              "      <td>Feature</td>\n",
              "      <td>{'type': 'Point', 'coordinates': [-79.96, 37.5]}</td>\n",
              "      <td>20</td>\n",
              "      <td>{'wind_u': -1.15}</td>\n",
              "    </tr>\n",
              "    <tr>\n",
              "      <th>21</th>\n",
              "      <td>Feature</td>\n",
              "      <td>{'type': 'Point', 'coordinates': [-79.96, 37.51]}</td>\n",
              "      <td>21</td>\n",
              "      <td>{'wind_u': -0.36}</td>\n",
              "    </tr>\n",
              "    <tr>\n",
              "      <th>22</th>\n",
              "      <td>Feature</td>\n",
              "      <td>{'type': 'Point', 'coordinates': [-79.96, 37.52]}</td>\n",
              "      <td>22</td>\n",
              "      <td>{'wind_u': -0.36}</td>\n",
              "    </tr>\n",
              "    <tr>\n",
              "      <th>23</th>\n",
              "      <td>Feature</td>\n",
              "      <td>{'type': 'Point', 'coordinates': [-79.96, 37.53]}</td>\n",
              "      <td>23</td>\n",
              "      <td>{'wind_u': -0.36}</td>\n",
              "    </tr>\n",
              "    <tr>\n",
              "      <th>24</th>\n",
              "      <td>Feature</td>\n",
              "      <td>{'type': 'Point', 'coordinates': [-79.96, 37.54]}</td>\n",
              "      <td>24</td>\n",
              "      <td>{'wind_u': -0.36}</td>\n",
              "    </tr>\n",
              "    <tr>\n",
              "      <th>25</th>\n",
              "      <td>Feature</td>\n",
              "      <td>{'type': 'Point', 'coordinates': [-79.95, 37.5]}</td>\n",
              "      <td>25</td>\n",
              "      <td>{'wind_u': -1.15}</td>\n",
              "    </tr>\n",
              "    <tr>\n",
              "      <th>26</th>\n",
              "      <td>Feature</td>\n",
              "      <td>{'type': 'Point', 'coordinates': [-79.95, 37.51]}</td>\n",
              "      <td>26</td>\n",
              "      <td>{'wind_u': -0.36}</td>\n",
              "    </tr>\n",
              "    <tr>\n",
              "      <th>27</th>\n",
              "      <td>Feature</td>\n",
              "      <td>{'type': 'Point', 'coordinates': [-79.95, 37.52]}</td>\n",
              "      <td>27</td>\n",
              "      <td>{'wind_u': -0.36}</td>\n",
              "    </tr>\n",
              "    <tr>\n",
              "      <th>28</th>\n",
              "      <td>Feature</td>\n",
              "      <td>{'type': 'Point', 'coordinates': [-79.95, 37.53]}</td>\n",
              "      <td>28</td>\n",
              "      <td>{'wind_u': -0.36}</td>\n",
              "    </tr>\n",
              "    <tr>\n",
              "      <th>29</th>\n",
              "      <td>Feature</td>\n",
              "      <td>{'type': 'Point', 'coordinates': [-79.95, 37.54]}</td>\n",
              "      <td>29</td>\n",
              "      <td>{'wind_u': -0.36}</td>\n",
              "    </tr>\n",
              "    <tr>\n",
              "      <th>30</th>\n",
              "      <td>Feature</td>\n",
              "      <td>{'type': 'Point', 'coordinates': [-79.94, 37.5]}</td>\n",
              "      <td>30</td>\n",
              "      <td>{'wind_u': -1.15}</td>\n",
              "    </tr>\n",
              "    <tr>\n",
              "      <th>31</th>\n",
              "      <td>Feature</td>\n",
              "      <td>{'type': 'Point', 'coordinates': [-79.94, 37.51]}</td>\n",
              "      <td>31</td>\n",
              "      <td>{'wind_u': -0.36}</td>\n",
              "    </tr>\n",
              "    <tr>\n",
              "      <th>32</th>\n",
              "      <td>Feature</td>\n",
              "      <td>{'type': 'Point', 'coordinates': [-79.94, 37.52]}</td>\n",
              "      <td>32</td>\n",
              "      <td>{'wind_u': -0.36}</td>\n",
              "    </tr>\n",
              "    <tr>\n",
              "      <th>33</th>\n",
              "      <td>Feature</td>\n",
              "      <td>{'type': 'Point', 'coordinates': [-79.94, 37.53]}</td>\n",
              "      <td>33</td>\n",
              "      <td>{'wind_u': -0.36}</td>\n",
              "    </tr>\n",
              "    <tr>\n",
              "      <th>34</th>\n",
              "      <td>Feature</td>\n",
              "      <td>{'type': 'Point', 'coordinates': [-79.94, 37.54]}</td>\n",
              "      <td>34</td>\n",
              "      <td>{'wind_u': -0.36}</td>\n",
              "    </tr>\n",
              "    <tr>\n",
              "      <th>35</th>\n",
              "      <td>Feature</td>\n",
              "      <td>{'type': 'Point', 'coordinates': [-79.93, 37.5]}</td>\n",
              "      <td>35</td>\n",
              "      <td>{'wind_u': -1.15}</td>\n",
              "    </tr>\n",
              "    <tr>\n",
              "      <th>36</th>\n",
              "      <td>Feature</td>\n",
              "      <td>{'type': 'Point', 'coordinates': [-79.93, 37.51]}</td>\n",
              "      <td>36</td>\n",
              "      <td>{'wind_u': -0.36}</td>\n",
              "    </tr>\n",
              "    <tr>\n",
              "      <th>37</th>\n",
              "      <td>Feature</td>\n",
              "      <td>{'type': 'Point', 'coordinates': [-79.93, 37.52]}</td>\n",
              "      <td>37</td>\n",
              "      <td>{'wind_u': -0.36}</td>\n",
              "    </tr>\n",
              "    <tr>\n",
              "      <th>38</th>\n",
              "      <td>Feature</td>\n",
              "      <td>{'type': 'Point', 'coordinates': [-79.93, 37.53]}</td>\n",
              "      <td>38</td>\n",
              "      <td>{'wind_u': -0.36}</td>\n",
              "    </tr>\n",
              "    <tr>\n",
              "      <th>39</th>\n",
              "      <td>Feature</td>\n",
              "      <td>{'type': 'Point', 'coordinates': [-79.93, 37.54]}</td>\n",
              "      <td>39</td>\n",
              "      <td>{'wind_u': -0.36}</td>\n",
              "    </tr>\n",
              "    <tr>\n",
              "      <th>40</th>\n",
              "      <td>Feature</td>\n",
              "      <td>{'type': 'Point', 'coordinates': [-79.92, 37.5]}</td>\n",
              "      <td>40</td>\n",
              "      <td>{'wind_u': -1.15}</td>\n",
              "    </tr>\n",
              "    <tr>\n",
              "      <th>41</th>\n",
              "      <td>Feature</td>\n",
              "      <td>{'type': 'Point', 'coordinates': [-79.92, 37.51]}</td>\n",
              "      <td>41</td>\n",
              "      <td>{'wind_u': -0.36}</td>\n",
              "    </tr>\n",
              "    <tr>\n",
              "      <th>42</th>\n",
              "      <td>Feature</td>\n",
              "      <td>{'type': 'Point', 'coordinates': [-79.92, 37.52]}</td>\n",
              "      <td>42</td>\n",
              "      <td>{'wind_u': -0.36}</td>\n",
              "    </tr>\n",
              "    <tr>\n",
              "      <th>43</th>\n",
              "      <td>Feature</td>\n",
              "      <td>{'type': 'Point', 'coordinates': [-79.92, 37.53]}</td>\n",
              "      <td>43</td>\n",
              "      <td>{'wind_u': -0.36}</td>\n",
              "    </tr>\n",
              "    <tr>\n",
              "      <th>44</th>\n",
              "      <td>Feature</td>\n",
              "      <td>{'type': 'Point', 'coordinates': [-79.92, 37.54]}</td>\n",
              "      <td>44</td>\n",
              "      <td>{'wind_u': -0.36}</td>\n",
              "    </tr>\n",
              "    <tr>\n",
              "      <th>45</th>\n",
              "      <td>Feature</td>\n",
              "      <td>{'type': 'Point', 'coordinates': [-79.91, 37.5]}</td>\n",
              "      <td>45</td>\n",
              "      <td>{'wind_u': -1.15}</td>\n",
              "    </tr>\n",
              "    <tr>\n",
              "      <th>46</th>\n",
              "      <td>Feature</td>\n",
              "      <td>{'type': 'Point', 'coordinates': [-79.91, 37.51]}</td>\n",
              "      <td>46</td>\n",
              "      <td>{'wind_u': -0.36}</td>\n",
              "    </tr>\n",
              "    <tr>\n",
              "      <th>47</th>\n",
              "      <td>Feature</td>\n",
              "      <td>{'type': 'Point', 'coordinates': [-79.91, 37.52]}</td>\n",
              "      <td>47</td>\n",
              "      <td>{'wind_u': -0.36}</td>\n",
              "    </tr>\n",
              "    <tr>\n",
              "      <th>48</th>\n",
              "      <td>Feature</td>\n",
              "      <td>{'type': 'Point', 'coordinates': [-79.91, 37.53]}</td>\n",
              "      <td>48</td>\n",
              "      <td>{'wind_u': -0.36}</td>\n",
              "    </tr>\n",
              "    <tr>\n",
              "      <th>49</th>\n",
              "      <td>Feature</td>\n",
              "      <td>{'type': 'Point', 'coordinates': [-79.91, 37.54]}</td>\n",
              "      <td>49</td>\n",
              "      <td>{'wind_u': -0.36}</td>\n",
              "    </tr>\n",
              "  </tbody>\n",
              "</table>\n",
              "</div>\n",
              "      <button class=\"colab-df-convert\" onclick=\"convertToInteractive('df-fa58706f-4d86-4245-83e0-743f3144b28a')\"\n",
              "              title=\"Convert this dataframe to an interactive table.\"\n",
              "              style=\"display:none;\">\n",
              "        \n",
              "  <svg xmlns=\"http://www.w3.org/2000/svg\" height=\"24px\"viewBox=\"0 0 24 24\"\n",
              "       width=\"24px\">\n",
              "    <path d=\"M0 0h24v24H0V0z\" fill=\"none\"/>\n",
              "    <path d=\"M18.56 5.44l.94 2.06.94-2.06 2.06-.94-2.06-.94-.94-2.06-.94 2.06-2.06.94zm-11 1L8.5 8.5l.94-2.06 2.06-.94-2.06-.94L8.5 2.5l-.94 2.06-2.06.94zm10 10l.94 2.06.94-2.06 2.06-.94-2.06-.94-.94-2.06-.94 2.06-2.06.94z\"/><path d=\"M17.41 7.96l-1.37-1.37c-.4-.4-.92-.59-1.43-.59-.52 0-1.04.2-1.43.59L10.3 9.45l-7.72 7.72c-.78.78-.78 2.05 0 2.83L4 21.41c.39.39.9.59 1.41.59.51 0 1.02-.2 1.41-.59l7.78-7.78 2.81-2.81c.8-.78.8-2.07 0-2.86zM5.41 20L4 18.59l7.72-7.72 1.47 1.35L5.41 20z\"/>\n",
              "  </svg>\n",
              "      </button>\n",
              "      \n",
              "  <style>\n",
              "    .colab-df-container {\n",
              "      display:flex;\n",
              "      flex-wrap:wrap;\n",
              "      gap: 12px;\n",
              "    }\n",
              "\n",
              "    .colab-df-convert {\n",
              "      background-color: #E8F0FE;\n",
              "      border: none;\n",
              "      border-radius: 50%;\n",
              "      cursor: pointer;\n",
              "      display: none;\n",
              "      fill: #1967D2;\n",
              "      height: 32px;\n",
              "      padding: 0 0 0 0;\n",
              "      width: 32px;\n",
              "    }\n",
              "\n",
              "    .colab-df-convert:hover {\n",
              "      background-color: #E2EBFA;\n",
              "      box-shadow: 0px 1px 2px rgba(60, 64, 67, 0.3), 0px 1px 3px 1px rgba(60, 64, 67, 0.15);\n",
              "      fill: #174EA6;\n",
              "    }\n",
              "\n",
              "    [theme=dark] .colab-df-convert {\n",
              "      background-color: #3B4455;\n",
              "      fill: #D2E3FC;\n",
              "    }\n",
              "\n",
              "    [theme=dark] .colab-df-convert:hover {\n",
              "      background-color: #434B5C;\n",
              "      box-shadow: 0px 1px 3px 1px rgba(0, 0, 0, 0.15);\n",
              "      filter: drop-shadow(0px 1px 2px rgba(0, 0, 0, 0.3));\n",
              "      fill: #FFFFFF;\n",
              "    }\n",
              "  </style>\n",
              "\n",
              "      <script>\n",
              "        const buttonEl =\n",
              "          document.querySelector('#df-fa58706f-4d86-4245-83e0-743f3144b28a button.colab-df-convert');\n",
              "        buttonEl.style.display =\n",
              "          google.colab.kernel.accessAllowed ? 'block' : 'none';\n",
              "\n",
              "        async function convertToInteractive(key) {\n",
              "          const element = document.querySelector('#df-fa58706f-4d86-4245-83e0-743f3144b28a');\n",
              "          const dataTable =\n",
              "            await google.colab.kernel.invokeFunction('convertToInteractive',\n",
              "                                                     [key], {});\n",
              "          if (!dataTable) return;\n",
              "\n",
              "          const docLinkHtml = 'Like what you see? Visit the ' +\n",
              "            '<a target=\"_blank\" href=https://colab.research.google.com/notebooks/data_table.ipynb>data table notebook</a>'\n",
              "            + ' to learn more about interactive tables.';\n",
              "          element.innerHTML = '';\n",
              "          dataTable['output_type'] = 'display_data';\n",
              "          await google.colab.output.renderOutput(dataTable, element);\n",
              "          const docLink = document.createElement('div');\n",
              "          docLink.innerHTML = docLinkHtml;\n",
              "          element.appendChild(docLink);\n",
              "        }\n",
              "      </script>\n",
              "    </div>\n",
              "  </div>\n",
              "  "
            ]
          },
          "metadata": {},
          "execution_count": 43
        }
      ]
    },
    {
      "cell_type": "code",
      "source": [
        "# Define the region\n",
        "location_longlat = [-122.0648754, 37.4225866]\n",
        "stat_region = ee.Geometry.Point(location_longlat)\n",
        "stat_region.getInfo()"
      ],
      "metadata": {
        "colab": {
          "base_uri": "https://localhost:8080/"
        },
        "id": "GUYxgP1SJqjV",
        "outputId": "a0de50df-0bcb-4f63-f1bb-caa2f158e68b"
      },
      "execution_count": 8,
      "outputs": [
        {
          "output_type": "execute_result",
          "data": {
            "text/plain": [
              "{'type': 'Point', 'coordinates': [-122.0648754, 37.4225866]}"
            ]
          },
          "metadata": {},
          "execution_count": 8
        }
      ]
    },
    {
      "cell_type": "code",
      "source": [
        "filtered_images = with_ndvi.filterBounds(stat_region)"
      ],
      "metadata": {
        "id": "2EQclYWSKRp7"
      },
      "execution_count": null,
      "outputs": []
    },
    {
      "cell_type": "code",
      "source": [
        "def add_wind(img):\n",
        "  wind_u = img.select('wind_u')\n",
        "  wind_v = img.select('wind_v')\n",
        "    \n",
        "  # Calculate wind speed\n",
        "  wind_speed = wind_u.hypot(wind_v)\n",
        "  \n",
        "  # Calculate wind direction\n",
        "  #wind_direction = ee.Image.constant(180.0).subtract(wind_u.atan2(wind_v)).multiply(180.0 / ee.Number(3.14159))\n",
        "  wind_direction = ee.Image.constant(180.0).subtract(wind_u.atan2(wind_v)).multiply(180.0 / ee.Number(float(3.14159)))\n",
        "\n",
        "  # Rename the bands\n",
        "  wind_speed = wind_speed.rename('wind_speed')\n",
        "  wind_direction = wind_direction.rename('wind_direction')\n",
        "  \n",
        "  return img.addBands([wind_speed, wind_direction])"
      ],
      "metadata": {
        "id": "F7IvCQaSKaCT"
      },
      "execution_count": 12,
      "outputs": []
    },
    {
      "cell_type": "markdown",
      "source": [
        "# Image Collection"
      ],
      "metadata": {
        "id": "895HqcJCNvI9"
      }
    },
    {
      "cell_type": "markdown",
      "source": [
        "## ImageCollection Information and metaData"
      ],
      "metadata": {
        "id": "z5AHuXziNqBJ"
      }
    },
    {
      "cell_type": "code",
      "source": [
        "# Load a Landsat 8 ImageCollection for a single path-row.\n",
        "collection = ee.ImageCollection('LANDSAT/LC08/C02/T1_TOA') \\\n",
        "    .filter(ee.Filter.eq('WRS_PATH', 44)) \\\n",
        "    .filter(ee.Filter.eq('WRS_ROW', 34)) \\\n",
        "    .filterDate('2014-03-01', '2014-08-01')\n",
        "\n",
        "# Print the ImageCollection object\n",
        "print('Collection: ', collection)\n",
        "\n",
        "# Get the number of images.\n",
        "count = collection.size()\n",
        "print('Count: ', count.getInfo())\n",
        "\n",
        "# Get the date range of images in the collection.\n",
        "range = collection.reduceColumns(ee.Reducer.minMax(), ['system:time_start'])\n",
        "min_date = ee.Date(range.get('min')).format('YYYY-MM-dd').getInfo()\n",
        "max_date = ee.Date(range.get('max')).format('YYYY-MM-dd').getInfo()\n",
        "print('Date range: ', min_date, max_date)\n",
        "\n",
        "# Get statistics for a property of the images in the collection.\n",
        "sunStats = collection.aggregate_stats('SUN_ELEVATION')\n",
        "print('Sun elevation statistics: ', sunStats.getInfo())\n",
        "\n",
        "# Sort by a cloud cover property, get the least cloudy image.\n",
        "image = ee.Image(collection.sort('CLOUD_COVER').first())\n",
        "print('Least cloudy image: ', image.getInfo())\n",
        "\n",
        "# Limit the collection to the 10 most recent images.\n",
        "recent = collection.sort('system:time_start', False).limit(10)\n",
        "print('Recent images: ', recent.getInfo())\n"
      ],
      "metadata": {
        "id": "ImJxDfi0AO8e"
      },
      "execution_count": null,
      "outputs": []
    },
    {
      "cell_type": "markdown",
      "source": [
        "## Filtering an ImageCollection"
      ],
      "metadata": {
        "id": "UqucTR-ZPQqH"
      }
    },
    {
      "cell_type": "code",
      "source": [
        "# Load Landsat 8 data, filter by date, month, and bounds.\n",
        "# -- Three years of data\n",
        "# -- Only Nov-Feb observations\n",
        "# -- Intersecting ROI\n",
        "# Load Landsat 8 data, filter by date, month, and bounds.\n",
        "collection = ee.ImageCollection('LANDSAT/LC08/C02/T1_TOA') \\\n",
        "    .filterDate('2015-01-01', '2018-01-01') \\\n",
        "    .filter(ee.Filter.calendarRange(11, 2, 'month')) \\\n",
        "    .filterBounds(ee.Geometry.Point(25.8544, -18.08874))\n",
        "\n",
        "# Also filter the collection by the CLOUD_COVER property.\n",
        "filtered = collection.filter(ee.Filter.eq('CLOUD_COVER', 0))\n",
        "\n",
        "# Create two composites to check the effect of filtering by CLOUD_COVER.\n",
        "badComposite = collection.mean()\n",
        "goodComposite = filtered.mean()\n",
        "\n",
        "# Display the composites.\n",
        "map8 = Map()\n",
        "map8.addLayer(badComposite,\n",
        "             {'bands': ['B3', 'B2', 'B1'], 'min': 0.05, 'max': 0.35, 'gamma': 1.1},\n",
        "             'Bad composite')\n",
        "map8.addLayer(goodComposite,\n",
        "             {'bands': ['B3', 'B2', 'B1'], 'min': 0.05, 'max': 0.35, 'gamma': 1.1},\n",
        "             'Good composite')\n",
        "map8 "
      ],
      "metadata": {
        "colab": {
          "base_uri": "https://localhost:8080/",
          "height": 441,
          "referenced_widgets": [
            "3f7b1d6fc9e643bbb398341dd179770e",
            "062575fb2b484c0eada91bcc7c7e919b",
            "d387c09a5c4b4db7a88224dc70a5f581",
            "27ee5d101fd74028bd29b69c750d160c",
            "35f8881dd7b740ac91a3f3353c978465",
            "e61722e555484e778be3fe29baee583a",
            "30482dfb8fe04248bfd933500da7d476",
            "c1809d005baa4e158bdd667631ce159c",
            "1c4d36fab9424433ae9df44766fbae78",
            "dce2dbf45a8547379afc204efb49e0a5",
            "f1c87c44282a41c2ad12030d5d54d713"
          ]
        },
        "id": "1-HsOlmdNBdP",
        "outputId": "e54d2506-424a-4688-d496-e59fdade984f"
      },
      "execution_count": null,
      "outputs": [
        {
          "output_type": "display_data",
          "data": {
            "text/plain": [
              "Map(center=[0.0, 0.0], controls=(ZoomControl(options=['position', 'zoom_in_text', 'zoom_in_title', 'zoom_out_t…"
            ],
            "application/vnd.jupyter.widget-view+json": {
              "version_major": 2,
              "version_minor": 0,
              "model_id": "3f7b1d6fc9e643bbb398341dd179770e"
            }
          },
          "metadata": {
            "application/vnd.jupyter.widget-view+json": {
              "colab": {
                "custom_widget_manager": {
                  "url": "https://ssl.gstatic.com/colaboratory-static/widgets/colab-cdn-widget-manager/b3e629b1971e1542/manager.min.js"
                }
              }
            }
          }
        }
      ]
    },
    {
      "cell_type": "code",
      "source": [
        "# Load a Landsat 8 collection for a single path-row.\n",
        "collection = ee.ImageCollection('LANDSAT/LC08/C02/T1_TOA') \\\n",
        "    .filter(ee.Filter.eq('WRS_PATH', 44)) \\\n",
        "    .filter(ee.Filter.eq('WRS_ROW', 34)) \\\n",
        "    .filterDate('2014-01-01', '2015-01-01')\n",
        "\n",
        "# Compute a median image and display.\n",
        "median = collection.median()\n",
        "#median.getInfo()\n",
        "\n",
        "# Map.setCenter(-122.3578, 37.7726, 12)\n",
        "# Map.addLayer(median, {'bands': ['B4', 'B3', 'B2'], 'max': 0.3}, 'Median')\n"
      ],
      "metadata": {
        "id": "4Z5FLkL3OKY5"
      },
      "execution_count": null,
      "outputs": []
    },
    {
      "cell_type": "code",
      "source": [],
      "metadata": {
        "id": "0VU80YKoU3hj"
      },
      "execution_count": null,
      "outputs": []
    },
    {
      "cell_type": "markdown",
      "source": [
        "### 4. Statistics of Image Regions\n",
        "To get image statistics in multiple regions stored in a FeatureCollection, you can use image.reduceRegions() to reduce multiple regions at once. The input to reduceRegions() is an Image and a FeatureCollection. The output is another FeatureCollection with the reduceRegions() output set as properties on each Feature. In this example, means of the Landsat 7 annual composite bands in each feature geometry will be added as properties to the input features:"
      ],
      "metadata": {
        "id": "IskeojXoU437"
      }
    },
    {
      "cell_type": "code",
      "source": [
        "# Load input imagery: Landsat 7 5-year composite.\n",
        "image = ee.Image('LANDSAT/LE7_TOA_5YEAR/2008_2012')\n",
        "\n",
        "# Load a FeatureCollection of counties in Maine.\n",
        "maineCounties = ee.FeatureCollection('ft:1S4EB6319wWW2sWQDPhDvmSBIVrD3iEmCLYB7nMM')\\\n",
        "                  .filter(ee.Filter.eq('StateName', 'Maine'))\n",
        "\n",
        "# Add reducer output to the Features in the collection.\n",
        "maineMeansFeatures = image.reduceRegions(**{\n",
        "  'collection': maineCounties,\n",
        "  'reducer': ee.Reducer.mean(),\n",
        "  'scale': 30,\n",
        "})\n",
        "\n",
        "# Print the first feature, to illustrate the result.\n",
        "pprint(ee.Feature(maineMeansFeatures.first()).select(image.bandNames()).getInfo())"
      ],
      "metadata": {
        "colab": {
          "base_uri": "https://localhost:8080/",
          "height": 485
        },
        "id": "e0pwM2E-PuGO",
        "outputId": "2f8a5b63-a9ea-4aa0-fe82-be4336da970d"
      },
      "execution_count": null,
      "outputs": [
        {
          "output_type": "error",
          "ename": "EEException",
          "evalue": "ignored",
          "traceback": [
            "\u001b[0;31m---------------------------------------------------------------------------\u001b[0m",
            "\u001b[0;31mHttpError\u001b[0m                                 Traceback (most recent call last)",
            "\u001b[0;32m/usr/local/lib/python3.9/dist-packages/ee/data.py\u001b[0m in \u001b[0;36m_execute_cloud_call\u001b[0;34m(call, num_retries)\u001b[0m\n\u001b[1;32m    328\u001b[0m   \u001b[0;32mtry\u001b[0m\u001b[0;34m:\u001b[0m\u001b[0;34m\u001b[0m\u001b[0;34m\u001b[0m\u001b[0m\n\u001b[0;32m--> 329\u001b[0;31m     \u001b[0;32mreturn\u001b[0m \u001b[0mcall\u001b[0m\u001b[0;34m.\u001b[0m\u001b[0mexecute\u001b[0m\u001b[0;34m(\u001b[0m\u001b[0mnum_retries\u001b[0m\u001b[0;34m=\u001b[0m\u001b[0mnum_retries\u001b[0m\u001b[0;34m)\u001b[0m\u001b[0;34m\u001b[0m\u001b[0;34m\u001b[0m\u001b[0m\n\u001b[0m\u001b[1;32m    330\u001b[0m   \u001b[0;32mexcept\u001b[0m \u001b[0mgoogleapiclient\u001b[0m\u001b[0;34m.\u001b[0m\u001b[0merrors\u001b[0m\u001b[0;34m.\u001b[0m\u001b[0mHttpError\u001b[0m \u001b[0;32mas\u001b[0m \u001b[0me\u001b[0m\u001b[0;34m:\u001b[0m\u001b[0;34m\u001b[0m\u001b[0;34m\u001b[0m\u001b[0m\n",
            "\u001b[0;32m/usr/local/lib/python3.9/dist-packages/googleapiclient/_helpers.py\u001b[0m in \u001b[0;36mpositional_wrapper\u001b[0;34m(*args, **kwargs)\u001b[0m\n\u001b[1;32m    129\u001b[0m                     \u001b[0mlogger\u001b[0m\u001b[0;34m.\u001b[0m\u001b[0mwarning\u001b[0m\u001b[0;34m(\u001b[0m\u001b[0mmessage\u001b[0m\u001b[0;34m)\u001b[0m\u001b[0;34m\u001b[0m\u001b[0;34m\u001b[0m\u001b[0m\n\u001b[0;32m--> 130\u001b[0;31m             \u001b[0;32mreturn\u001b[0m \u001b[0mwrapped\u001b[0m\u001b[0;34m(\u001b[0m\u001b[0;34m*\u001b[0m\u001b[0margs\u001b[0m\u001b[0;34m,\u001b[0m \u001b[0;34m**\u001b[0m\u001b[0mkwargs\u001b[0m\u001b[0;34m)\u001b[0m\u001b[0;34m\u001b[0m\u001b[0;34m\u001b[0m\u001b[0m\n\u001b[0m\u001b[1;32m    131\u001b[0m \u001b[0;34m\u001b[0m\u001b[0m\n",
            "\u001b[0;32m/usr/local/lib/python3.9/dist-packages/googleapiclient/http.py\u001b[0m in \u001b[0;36mexecute\u001b[0;34m(self, http, num_retries)\u001b[0m\n\u001b[1;32m    937\u001b[0m         \u001b[0;32mif\u001b[0m \u001b[0mresp\u001b[0m\u001b[0;34m.\u001b[0m\u001b[0mstatus\u001b[0m \u001b[0;34m>=\u001b[0m \u001b[0;36m300\u001b[0m\u001b[0;34m:\u001b[0m\u001b[0;34m\u001b[0m\u001b[0;34m\u001b[0m\u001b[0m\n\u001b[0;32m--> 938\u001b[0;31m             \u001b[0;32mraise\u001b[0m \u001b[0mHttpError\u001b[0m\u001b[0;34m(\u001b[0m\u001b[0mresp\u001b[0m\u001b[0;34m,\u001b[0m \u001b[0mcontent\u001b[0m\u001b[0;34m,\u001b[0m \u001b[0muri\u001b[0m\u001b[0;34m=\u001b[0m\u001b[0mself\u001b[0m\u001b[0;34m.\u001b[0m\u001b[0muri\u001b[0m\u001b[0;34m)\u001b[0m\u001b[0;34m\u001b[0m\u001b[0;34m\u001b[0m\u001b[0m\n\u001b[0m\u001b[1;32m    939\u001b[0m         \u001b[0;32mreturn\u001b[0m \u001b[0mself\u001b[0m\u001b[0;34m.\u001b[0m\u001b[0mpostproc\u001b[0m\u001b[0;34m(\u001b[0m\u001b[0mresp\u001b[0m\u001b[0;34m,\u001b[0m \u001b[0mcontent\u001b[0m\u001b[0;34m)\u001b[0m\u001b[0;34m\u001b[0m\u001b[0;34m\u001b[0m\u001b[0m\n",
            "\u001b[0;31mHttpError\u001b[0m: <HttpError 400 when requesting https://earthengine.googleapis.com/v1alpha/projects/earthengine-legacy/value:compute?prettyPrint=false&alt=json returned \"Collection.loadTable: Collection asset 'ft:1S4EB6319wWW2sWQDPhDvmSBIVrD3iEmCLYB7nMM' not found.\". Details: \"Collection.loadTable: Collection asset 'ft:1S4EB6319wWW2sWQDPhDvmSBIVrD3iEmCLYB7nMM' not found.\">",
            "\nDuring handling of the above exception, another exception occurred:\n",
            "\u001b[0;31mEEException\u001b[0m                               Traceback (most recent call last)",
            "\u001b[0;32m<ipython-input-116-deb0a03160f4>\u001b[0m in \u001b[0;36m<module>\u001b[0;34m\u001b[0m\n\u001b[1;32m     14\u001b[0m \u001b[0;34m\u001b[0m\u001b[0m\n\u001b[1;32m     15\u001b[0m \u001b[0;31m# Print the first feature, to illustrate the result.\u001b[0m\u001b[0;34m\u001b[0m\u001b[0;34m\u001b[0m\u001b[0m\n\u001b[0;32m---> 16\u001b[0;31m \u001b[0mpprint\u001b[0m\u001b[0;34m(\u001b[0m\u001b[0mee\u001b[0m\u001b[0;34m.\u001b[0m\u001b[0mFeature\u001b[0m\u001b[0;34m(\u001b[0m\u001b[0mmaineMeansFeatures\u001b[0m\u001b[0;34m.\u001b[0m\u001b[0mfirst\u001b[0m\u001b[0;34m(\u001b[0m\u001b[0;34m)\u001b[0m\u001b[0;34m)\u001b[0m\u001b[0;34m.\u001b[0m\u001b[0mselect\u001b[0m\u001b[0;34m(\u001b[0m\u001b[0mimage\u001b[0m\u001b[0;34m.\u001b[0m\u001b[0mbandNames\u001b[0m\u001b[0;34m(\u001b[0m\u001b[0;34m)\u001b[0m\u001b[0;34m)\u001b[0m\u001b[0;34m.\u001b[0m\u001b[0mgetInfo\u001b[0m\u001b[0;34m(\u001b[0m\u001b[0;34m)\u001b[0m\u001b[0;34m)\u001b[0m\u001b[0;34m\u001b[0m\u001b[0;34m\u001b[0m\u001b[0m\n\u001b[0m",
            "\u001b[0;32m/usr/local/lib/python3.9/dist-packages/ee/computedobject.py\u001b[0m in \u001b[0;36mgetInfo\u001b[0;34m(self)\u001b[0m\n\u001b[1;32m     94\u001b[0m       \u001b[0mThe\u001b[0m \u001b[0mobject\u001b[0m \u001b[0mcan\u001b[0m \u001b[0mevaluate\u001b[0m \u001b[0mto\u001b[0m \u001b[0manything\u001b[0m\u001b[0;34m.\u001b[0m\u001b[0;34m\u001b[0m\u001b[0;34m\u001b[0m\u001b[0m\n\u001b[1;32m     95\u001b[0m     \"\"\"\n\u001b[0;32m---> 96\u001b[0;31m     \u001b[0;32mreturn\u001b[0m \u001b[0mdata\u001b[0m\u001b[0;34m.\u001b[0m\u001b[0mcomputeValue\u001b[0m\u001b[0;34m(\u001b[0m\u001b[0mself\u001b[0m\u001b[0;34m)\u001b[0m\u001b[0;34m\u001b[0m\u001b[0;34m\u001b[0m\u001b[0m\n\u001b[0m\u001b[1;32m     97\u001b[0m \u001b[0;34m\u001b[0m\u001b[0m\n\u001b[1;32m     98\u001b[0m   \u001b[0;32mdef\u001b[0m \u001b[0mencode\u001b[0m\u001b[0;34m(\u001b[0m\u001b[0mself\u001b[0m\u001b[0;34m,\u001b[0m \u001b[0mencoder\u001b[0m\u001b[0;34m)\u001b[0m\u001b[0;34m:\u001b[0m\u001b[0;34m\u001b[0m\u001b[0;34m\u001b[0m\u001b[0m\n",
            "\u001b[0;32m/usr/local/lib/python3.9/dist-packages/ee/data.py\u001b[0m in \u001b[0;36mcomputeValue\u001b[0;34m(obj)\u001b[0m\n\u001b[1;32m    896\u001b[0m   \u001b[0m_maybe_populate_workload_tag\u001b[0m\u001b[0;34m(\u001b[0m\u001b[0mbody\u001b[0m\u001b[0;34m)\u001b[0m\u001b[0;34m\u001b[0m\u001b[0;34m\u001b[0m\u001b[0m\n\u001b[1;32m    897\u001b[0m \u001b[0;34m\u001b[0m\u001b[0m\n\u001b[0;32m--> 898\u001b[0;31m   return _execute_cloud_call(\n\u001b[0m\u001b[1;32m    899\u001b[0m       _get_cloud_api_resource().projects().value().compute(\n\u001b[1;32m    900\u001b[0m           \u001b[0mbody\u001b[0m\u001b[0;34m=\u001b[0m\u001b[0mbody\u001b[0m\u001b[0;34m,\u001b[0m\u001b[0;34m\u001b[0m\u001b[0;34m\u001b[0m\u001b[0m\n",
            "\u001b[0;32m/usr/local/lib/python3.9/dist-packages/ee/data.py\u001b[0m in \u001b[0;36m_execute_cloud_call\u001b[0;34m(call, num_retries)\u001b[0m\n\u001b[1;32m    329\u001b[0m     \u001b[0;32mreturn\u001b[0m \u001b[0mcall\u001b[0m\u001b[0;34m.\u001b[0m\u001b[0mexecute\u001b[0m\u001b[0;34m(\u001b[0m\u001b[0mnum_retries\u001b[0m\u001b[0;34m=\u001b[0m\u001b[0mnum_retries\u001b[0m\u001b[0;34m)\u001b[0m\u001b[0;34m\u001b[0m\u001b[0;34m\u001b[0m\u001b[0m\n\u001b[1;32m    330\u001b[0m   \u001b[0;32mexcept\u001b[0m \u001b[0mgoogleapiclient\u001b[0m\u001b[0;34m.\u001b[0m\u001b[0merrors\u001b[0m\u001b[0;34m.\u001b[0m\u001b[0mHttpError\u001b[0m \u001b[0;32mas\u001b[0m \u001b[0me\u001b[0m\u001b[0;34m:\u001b[0m\u001b[0;34m\u001b[0m\u001b[0;34m\u001b[0m\u001b[0m\n\u001b[0;32m--> 331\u001b[0;31m     \u001b[0;32mraise\u001b[0m \u001b[0m_translate_cloud_exception\u001b[0m\u001b[0;34m(\u001b[0m\u001b[0me\u001b[0m\u001b[0;34m)\u001b[0m\u001b[0;34m\u001b[0m\u001b[0;34m\u001b[0m\u001b[0m\n\u001b[0m\u001b[1;32m    332\u001b[0m \u001b[0;34m\u001b[0m\u001b[0m\n\u001b[1;32m    333\u001b[0m \u001b[0;34m\u001b[0m\u001b[0m\n",
            "\u001b[0;31mEEException\u001b[0m: Collection.loadTable: Collection asset 'ft:1S4EB6319wWW2sWQDPhDvmSBIVrD3iEmCLYB7nMM' not found."
          ]
        }
      ]
    },
    {
      "cell_type": "code",
      "source": [
        "# Load the land cover image collection.\n",
        "landcover = ee.ImageCollection('USGS/NLCD/NLCD2016')\n",
        "\n",
        "# Filter the collection to Ohio.\n",
        "ohio = ee.Geometry.Rectangle([-84.8203, 38.4032, -80.5187, 41.9771])\n",
        "landcover_ohio = landcover.filterBounds(ohio)\n",
        "\n",
        "# Get the most recent image in the collection.\n",
        "recent_image = landcover_ohio.sort('system:time_start', False).first()\n",
        "recent_image"
      ],
      "metadata": {
        "colab": {
          "base_uri": "https://localhost:8080/"
        },
        "id": "ET9rW1xrWxVA",
        "outputId": "a7e977b8-396d-43de-f980-82cb8e9e1065"
      },
      "execution_count": null,
      "outputs": [
        {
          "output_type": "execute_result",
          "data": {
            "text/plain": [
              "<ee.image.Image at 0x7fa2b7d60070>"
            ]
          },
          "metadata": {},
          "execution_count": 117
        }
      ]
    },
    {
      "cell_type": "code",
      "source": [],
      "metadata": {
        "id": "6i9RuyrZXUl-"
      },
      "execution_count": null,
      "outputs": []
    },
    {
      "cell_type": "code",
      "source": [
        "# Define function to get polygon geometry of each county\n",
        "def get_county_geometry(feature):\n",
        "    name = feature.get('NAME')\n",
        "    geometry = feature.geometry()\n",
        "    return ee.Feature(geometry, {'name': name})\n",
        "\n",
        "# Load county boundaries\n",
        "ohio_counties = ee.FeatureCollection('TIGER/2018/Counties').filter(ee.Filter.eq('STATEFP', '39'))\n",
        "ohio_counties"
      ],
      "metadata": {
        "colab": {
          "base_uri": "https://localhost:8080/"
        },
        "id": "yguQXY3PU-yg",
        "outputId": "4bf159fa-70a2-4f26-dced-41183f3df9ff"
      },
      "execution_count": null,
      "outputs": [
        {
          "output_type": "execute_result",
          "data": {
            "text/plain": [
              "<ee.featurecollection.FeatureCollection at 0x7fa2b7cecd60>"
            ]
          },
          "metadata": {},
          "execution_count": 111
        }
      ]
    },
    {
      "cell_type": "code",
      "source": [
        "# Add reducer output to the Features in the collection.\n",
        "maineMeansFeatures = image.reduceRegions(**{\n",
        "  'collection': ohio_counties,\n",
        "  'reducer': ee.Reducer.mean(),\n",
        "  'scale': 30,\n",
        "})\n",
        "\n",
        "# Print the first feature, to illustrate the result.\n",
        "pprint(ee.Feature(maineMeansFeatures.first()).select(image.bandNames()).getInfo())"
      ],
      "metadata": {
        "id": "XS9N5-0NVH6X"
      },
      "execution_count": null,
      "outputs": []
    },
    {
      "cell_type": "code",
      "source": [],
      "metadata": {
        "colab": {
          "base_uri": "https://localhost:8080/"
        },
        "id": "2U8t1W3ffJGz",
        "outputId": "1745648e-259f-4fe4-e93e-5556daf1063a"
      },
      "execution_count": null,
      "outputs": [
        {
          "output_type": "execute_result",
          "data": {
            "text/plain": [
              "0     0000000000000000005c\n",
              "1     0000000000000000005d\n",
              "2     0000000000000000005e\n",
              "3     0000000000000000005f\n",
              "4     000000000000000001fd\n",
              "              ...         \n",
              "83    00000000000000000858\n",
              "84    00000000000000000859\n",
              "85    0000000000000000085a\n",
              "86    00000000000000000894\n",
              "87    00000000000000000895\n",
              "Name: system:index, Length: 88, dtype: object"
            ]
          },
          "metadata": {},
          "execution_count": 169
        }
      ]
    },
    {
      "cell_type": "markdown",
      "source": [
        "# New Section"
      ],
      "metadata": {
        "id": "2Gw60w9OdfIz"
      }
    },
    {
      "cell_type": "code",
      "source": [],
      "metadata": {
        "id": "wY1NujiVbNyZ"
      },
      "execution_count": null,
      "outputs": []
    },
    {
      "cell_type": "code",
      "source": [],
      "metadata": {
        "id": "IyY3xdsbYN9_"
      },
      "execution_count": null,
      "outputs": []
    }
  ]
}