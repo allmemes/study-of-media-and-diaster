{
 "cells": [
  {
   "cell_type": "code",
   "execution_count": 12,
   "metadata": {},
   "outputs": [],
   "source": [
    "import datetime as dt\n",
    "from itertools import product\n",
    "\n",
    "import pandas as pd\n",
    "from GoogleEarth import GoogleEarth"
   ]
  },
  {
   "cell_type": "code",
   "execution_count": 2,
   "metadata": {},
   "outputs": [
    {
     "data": {
      "text/html": [
       "<p>To authorize access needed by Earth Engine, open the following\n",
       "        URL in a web browser and follow the instructions:</p>\n",
       "        <p><a href=https://code.earthengine.google.com/client-auth?scopes=https%3A//www.googleapis.com/auth/earthengine%20https%3A//www.googleapis.com/auth/devstorage.full_control&request_id=hPadAbelmxw3z_mZUKhcW6HVOGHtCAJ4KxxsFYYiyuY&tc=21MdjB97rGwz35afI5Wn1xbLeqfvilhQ9L9mrPor_9E&cc=BJa5qvdDhCHJvGPlZVrb1iuthJ57ILaMDoR7Kr7aFw0>https://code.earthengine.google.com/client-auth?scopes=https%3A//www.googleapis.com/auth/earthengine%20https%3A//www.googleapis.com/auth/devstorage.full_control&request_id=hPadAbelmxw3z_mZUKhcW6HVOGHtCAJ4KxxsFYYiyuY&tc=21MdjB97rGwz35afI5Wn1xbLeqfvilhQ9L9mrPor_9E&cc=BJa5qvdDhCHJvGPlZVrb1iuthJ57ILaMDoR7Kr7aFw0</a></p>\n",
       "        <p>The authorization workflow will generate a code, which you should paste in the box below.</p>\n",
       "        "
      ],
      "text/plain": [
       "<IPython.core.display.HTML object>"
      ]
     },
     "metadata": {},
     "output_type": "display_data"
    },
    {
     "name": "stdout",
     "output_type": "stream",
     "text": [
      "\n",
      "Successfully saved authorization token.\n"
     ]
    }
   ],
   "source": [
    "ge = GoogleEarth()"
   ]
  },
  {
   "cell_type": "code",
   "execution_count": 18,
   "metadata": {},
   "outputs": [],
   "source": [
    "fields = [\"wind_u\", \"wind_v\"]\n",
    "\n",
    "for start_date in pd.date_range(\"20230203\", \"20230228\"):\n",
    "    end_date = start_date + pd.Timedelta(1, \"day\")\n",
    "    date = start_date.strftime(\"%Y%m%d\")\n",
    "    i = 0\n",
    "    for du, dv in product(range(11), range(6)):\n",
    "        u = [-85 + du + 0.01 * i for i in range(100)]\n",
    "        v = [37.5 + dv + 0.01 * i for i in range(50)]\n",
    "        df = ge.get_region_features(u, v, start_date, end_date, fields)\n",
    "        df.to_csv(f\"../data/Wind/{date}_{i}.csv\")\n",
    "        i += 1\n",
    "   "
   ]
  }
 ],
 "metadata": {
  "kernelspec": {
   "display_name": "699",
   "language": "python",
   "name": "python3"
  },
  "language_info": {
   "codemirror_mode": {
    "name": "ipython",
    "version": 3
   },
   "file_extension": ".py",
   "mimetype": "text/x-python",
   "name": "python",
   "nbconvert_exporter": "python",
   "pygments_lexer": "ipython3",
   "version": "3.8.5"
  },
  "orig_nbformat": 4
 },
 "nbformat": 4,
 "nbformat_minor": 2
}
