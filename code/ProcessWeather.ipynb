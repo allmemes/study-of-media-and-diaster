{
 "cells": [
  {
   "cell_type": "code",
   "execution_count": 12,
   "metadata": {},
   "outputs": [],
   "source": [
    "import datetime as dt\n",
    "from itertools import product\n",
    "\n",
    "import pandas as pd\n",
    "from GoogleEarth import GoogleEarth"
   ]
  },
  {
   "cell_type": "code",
   "execution_count": 2,
   "metadata": {},
   "outputs": [
    {
     "data": {
      "text/html": [
       "<p>To authorize access needed by Earth Engine, open the following\n",
       "        URL in a web browser and follow the instructions:</p>\n",
       "        <p><a href=https://code.earthengine.google.com/client-auth?scopes=https%3A//www.googleapis.com/auth/earthengine%20https%3A//www.googleapis.com/auth/devstorage.full_control&request_id=hPadAbelmxw3z_mZUKhcW6HVOGHtCAJ4KxxsFYYiyuY&tc=21MdjB97rGwz35afI5Wn1xbLeqfvilhQ9L9mrPor_9E&cc=BJa5qvdDhCHJvGPlZVrb1iuthJ57ILaMDoR7Kr7aFw0>https://code.earthengine.google.com/client-auth?scopes=https%3A//www.googleapis.com/auth/earthengine%20https%3A//www.googleapis.com/auth/devstorage.full_control&request_id=hPadAbelmxw3z_mZUKhcW6HVOGHtCAJ4KxxsFYYiyuY&tc=21MdjB97rGwz35afI5Wn1xbLeqfvilhQ9L9mrPor_9E&cc=BJa5qvdDhCHJvGPlZVrb1iuthJ57ILaMDoR7Kr7aFw0</a></p>\n",
       "        <p>The authorization workflow will generate a code, which you should paste in the box below.</p>\n",
       "        "
      ],
      "text/plain": [
       "<IPython.core.display.HTML object>"
      ]
     },
     "metadata": {},
     "output_type": "display_data"
    },
    {
     "name": "stdout",
     "output_type": "stream",
     "text": [
      "\n",
      "Successfully saved authorization token.\n"
     ]
    }
   ],
   "source": [
    "ge = GoogleEarth()"
   ]
  },
  {
   "cell_type": "code",
   "execution_count": 19,
   "metadata": {},
   "outputs": [
    {
     "ename": "ValueError",
     "evalue": "All arrays must be of the same length",
     "output_type": "error",
     "traceback": [
      "\u001b[0;31m---------------------------------------------------------------------------\u001b[0m",
      "\u001b[0;31mValueError\u001b[0m                                Traceback (most recent call last)",
      "\u001b[1;32m/home/panda/SI699/FinalProject/code/ProcessWeather.ipynb 单元格 3\u001b[0m in \u001b[0;36m<cell line: 7>\u001b[0;34m()\u001b[0m\n\u001b[1;32m     <a href='vscode-notebook-cell://wsl%2Bubuntu-20.04/home/panda/SI699/FinalProject/code/ProcessWeather.ipynb#X41sdnNjb2RlLXJlbW90ZQ%3D%3D?line=11'>12</a>\u001b[0m u \u001b[39m=\u001b[39m [\u001b[39m-\u001b[39m\u001b[39m85\u001b[39m \u001b[39m+\u001b[39m du \u001b[39m+\u001b[39m \u001b[39m0.01\u001b[39m \u001b[39m*\u001b[39m i \u001b[39mfor\u001b[39;00m i \u001b[39min\u001b[39;00m \u001b[39mrange\u001b[39m(\u001b[39m100\u001b[39m)]\n\u001b[1;32m     <a href='vscode-notebook-cell://wsl%2Bubuntu-20.04/home/panda/SI699/FinalProject/code/ProcessWeather.ipynb#X41sdnNjb2RlLXJlbW90ZQ%3D%3D?line=12'>13</a>\u001b[0m v \u001b[39m=\u001b[39m [\u001b[39m37.5\u001b[39m \u001b[39m+\u001b[39m dv \u001b[39m+\u001b[39m \u001b[39m0.01\u001b[39m \u001b[39m*\u001b[39m i \u001b[39mfor\u001b[39;00m i \u001b[39min\u001b[39;00m \u001b[39mrange\u001b[39m(\u001b[39m50\u001b[39m)]\n\u001b[0;32m---> <a href='vscode-notebook-cell://wsl%2Bubuntu-20.04/home/panda/SI699/FinalProject/code/ProcessWeather.ipynb#X41sdnNjb2RlLXJlbW90ZQ%3D%3D?line=13'>14</a>\u001b[0m df \u001b[39m=\u001b[39m ge\u001b[39m.\u001b[39;49mget_region_features(u, v, start_date, end_date, fields)\n\u001b[1;32m     <a href='vscode-notebook-cell://wsl%2Bubuntu-20.04/home/panda/SI699/FinalProject/code/ProcessWeather.ipynb#X41sdnNjb2RlLXJlbW90ZQ%3D%3D?line=14'>15</a>\u001b[0m df\u001b[39m.\u001b[39mto_csv(\u001b[39mf\u001b[39m\u001b[39m\"\u001b[39m\u001b[39m../data/Wind/\u001b[39m\u001b[39m{\u001b[39;00mdate\u001b[39m}\u001b[39;00m\u001b[39m_\u001b[39m\u001b[39m{\u001b[39;00mi\u001b[39m}\u001b[39;00m\u001b[39m.csv\u001b[39m\u001b[39m\"\u001b[39m)\n\u001b[1;32m     <a href='vscode-notebook-cell://wsl%2Bubuntu-20.04/home/panda/SI699/FinalProject/code/ProcessWeather.ipynb#X41sdnNjb2RlLXJlbW90ZQ%3D%3D?line=15'>16</a>\u001b[0m \u001b[39mif\u001b[39;00m date \u001b[39m==\u001b[39m \u001b[39m\"\u001b[39m\u001b[39m20230203\u001b[39m\u001b[39m\"\u001b[39m \u001b[39mand\u001b[39;00m i \u001b[39m<\u001b[39m\u001b[39m=\u001b[39m \u001b[39m21\u001b[39m:\n",
      "File \u001b[0;32m/mnt/e/UMSI/UMSI-DataScience/SI699Capstone/FinalProject/code/GoogleEarth.py:73\u001b[0m, in \u001b[0;36mGoogleEarth.get_region_features\u001b[0;34m(self, u, v, start_date, end_date, fields)\u001b[0m\n\u001b[1;32m     66\u001b[0m points \u001b[39m=\u001b[39m ee\u001b[39m.\u001b[39mFeatureCollection([ee\u001b[39m.\u001b[39mFeature(ee\u001b[39m.\u001b[39mGeometry\u001b[39m.\u001b[39mPoint(\u001b[39m*\u001b[39mp)) \u001b[39mfor\u001b[39;00m p \u001b[39min\u001b[39;00m product(u, v)])\n\u001b[1;32m     67\u001b[0m get_fields \u001b[39m=\u001b[39m partial(\u001b[39mself\u001b[39m\u001b[39m.\u001b[39m_get_point_features,\n\u001b[1;32m     68\u001b[0m                      start_date\u001b[39m=\u001b[39mstart_date,\n\u001b[1;32m     69\u001b[0m                      end_date\u001b[39m=\u001b[39mend_date,\n\u001b[1;32m     70\u001b[0m                      fields\u001b[39m=\u001b[39mfields,\n\u001b[1;32m     71\u001b[0m                      collection\u001b[39m=\u001b[39mee\u001b[39m.\u001b[39mImageCollection(\u001b[39m\"\u001b[39m\u001b[39mNASA/NLDAS/FORA0125_H002\u001b[39m\u001b[39m\"\u001b[39m),\n\u001b[1;32m     72\u001b[0m                      region\u001b[39m=\u001b[39mregion)\n\u001b[0;32m---> 73\u001b[0m \u001b[39mreturn\u001b[39;00m \u001b[39mself\u001b[39;49m\u001b[39m.\u001b[39;49m_resolve_features(points\u001b[39m.\u001b[39;49mmap(get_fields)\u001b[39m.\u001b[39;49mgetInfo())\n",
      "File \u001b[0;32m/mnt/e/UMSI/UMSI-DataScience/SI699Capstone/FinalProject/code/GoogleEarth.py:128\u001b[0m, in \u001b[0;36mGoogleEarth._resolve_features\u001b[0;34m(self, points_fields)\u001b[0m\n\u001b[1;32m    126\u001b[0m             df[key] \u001b[39m=\u001b[39m \u001b[39mlist\u001b[39m()\n\u001b[1;32m    127\u001b[0m         df[key]\u001b[39m.\u001b[39mappend(item[\u001b[39m\"\u001b[39m\u001b[39mproperties\u001b[39m\u001b[39m\"\u001b[39m][key])\n\u001b[0;32m--> 128\u001b[0m \u001b[39mreturn\u001b[39;00m pd\u001b[39m.\u001b[39;49mDataFrame(df)\n",
      "File \u001b[0;32m~/.local/lib/python3.8/site-packages/pandas/core/frame.py:614\u001b[0m, in \u001b[0;36mDataFrame.__init__\u001b[0;34m(self, data, index, columns, dtype, copy)\u001b[0m\n\u001b[1;32m    608\u001b[0m     mgr \u001b[39m=\u001b[39m \u001b[39mself\u001b[39m\u001b[39m.\u001b[39m_init_mgr(\n\u001b[1;32m    609\u001b[0m         data, axes\u001b[39m=\u001b[39m{\u001b[39m\"\u001b[39m\u001b[39mindex\u001b[39m\u001b[39m\"\u001b[39m: index, \u001b[39m\"\u001b[39m\u001b[39mcolumns\u001b[39m\u001b[39m\"\u001b[39m: columns}, dtype\u001b[39m=\u001b[39mdtype, copy\u001b[39m=\u001b[39mcopy\n\u001b[1;32m    610\u001b[0m     )\n\u001b[1;32m    612\u001b[0m \u001b[39melif\u001b[39;00m \u001b[39misinstance\u001b[39m(data, \u001b[39mdict\u001b[39m):\n\u001b[1;32m    613\u001b[0m     \u001b[39m# GH#38939 de facto copy defaults to False only in non-dict cases\u001b[39;00m\n\u001b[0;32m--> 614\u001b[0m     mgr \u001b[39m=\u001b[39m dict_to_mgr(data, index, columns, dtype\u001b[39m=\u001b[39;49mdtype, copy\u001b[39m=\u001b[39;49mcopy, typ\u001b[39m=\u001b[39;49mmanager)\n\u001b[1;32m    615\u001b[0m \u001b[39melif\u001b[39;00m \u001b[39misinstance\u001b[39m(data, ma\u001b[39m.\u001b[39mMaskedArray):\n\u001b[1;32m    616\u001b[0m     \u001b[39mimport\u001b[39;00m \u001b[39mnumpy\u001b[39;00m\u001b[39m.\u001b[39;00m\u001b[39mma\u001b[39;00m\u001b[39m.\u001b[39;00m\u001b[39mmrecords\u001b[39;00m \u001b[39mas\u001b[39;00m \u001b[39mmrecords\u001b[39;00m\n",
      "File \u001b[0;32m~/.local/lib/python3.8/site-packages/pandas/core/internals/construction.py:464\u001b[0m, in \u001b[0;36mdict_to_mgr\u001b[0;34m(data, index, columns, dtype, typ, copy)\u001b[0m\n\u001b[1;32m    456\u001b[0m     arrays \u001b[39m=\u001b[39m [\n\u001b[1;32m    457\u001b[0m         x\n\u001b[1;32m    458\u001b[0m         \u001b[39mif\u001b[39;00m \u001b[39mnot\u001b[39;00m \u001b[39mhasattr\u001b[39m(x, \u001b[39m\"\u001b[39m\u001b[39mdtype\u001b[39m\u001b[39m\"\u001b[39m) \u001b[39mor\u001b[39;00m \u001b[39mnot\u001b[39;00m \u001b[39misinstance\u001b[39m(x\u001b[39m.\u001b[39mdtype, ExtensionDtype)\n\u001b[1;32m    459\u001b[0m         \u001b[39melse\u001b[39;00m x\u001b[39m.\u001b[39mcopy()\n\u001b[1;32m    460\u001b[0m         \u001b[39mfor\u001b[39;00m x \u001b[39min\u001b[39;00m arrays\n\u001b[1;32m    461\u001b[0m     ]\n\u001b[1;32m    462\u001b[0m     \u001b[39m# TODO: can we get rid of the dt64tz special case above?\u001b[39;00m\n\u001b[0;32m--> 464\u001b[0m \u001b[39mreturn\u001b[39;00m arrays_to_mgr(\n\u001b[1;32m    465\u001b[0m     arrays, data_names, index, columns, dtype\u001b[39m=\u001b[39;49mdtype, typ\u001b[39m=\u001b[39;49mtyp, consolidate\u001b[39m=\u001b[39;49mcopy\n\u001b[1;32m    466\u001b[0m )\n",
      "File \u001b[0;32m~/.local/lib/python3.8/site-packages/pandas/core/internals/construction.py:119\u001b[0m, in \u001b[0;36marrays_to_mgr\u001b[0;34m(arrays, arr_names, index, columns, dtype, verify_integrity, typ, consolidate)\u001b[0m\n\u001b[1;32m    116\u001b[0m \u001b[39mif\u001b[39;00m verify_integrity:\n\u001b[1;32m    117\u001b[0m     \u001b[39m# figure out the index, if necessary\u001b[39;00m\n\u001b[1;32m    118\u001b[0m     \u001b[39mif\u001b[39;00m index \u001b[39mis\u001b[39;00m \u001b[39mNone\u001b[39;00m:\n\u001b[0;32m--> 119\u001b[0m         index \u001b[39m=\u001b[39m _extract_index(arrays)\n\u001b[1;32m    120\u001b[0m     \u001b[39melse\u001b[39;00m:\n\u001b[1;32m    121\u001b[0m         index \u001b[39m=\u001b[39m ensure_index(index)\n",
      "File \u001b[0;32m~/.local/lib/python3.8/site-packages/pandas/core/internals/construction.py:635\u001b[0m, in \u001b[0;36m_extract_index\u001b[0;34m(data)\u001b[0m\n\u001b[1;32m    633\u001b[0m lengths \u001b[39m=\u001b[39m \u001b[39mlist\u001b[39m(\u001b[39mset\u001b[39m(raw_lengths))\n\u001b[1;32m    634\u001b[0m \u001b[39mif\u001b[39;00m \u001b[39mlen\u001b[39m(lengths) \u001b[39m>\u001b[39m \u001b[39m1\u001b[39m:\n\u001b[0;32m--> 635\u001b[0m     \u001b[39mraise\u001b[39;00m \u001b[39mValueError\u001b[39;00m(\u001b[39m\"\u001b[39m\u001b[39mAll arrays must be of the same length\u001b[39m\u001b[39m\"\u001b[39m)\n\u001b[1;32m    637\u001b[0m \u001b[39mif\u001b[39;00m have_dicts:\n\u001b[1;32m    638\u001b[0m     \u001b[39mraise\u001b[39;00m \u001b[39mValueError\u001b[39;00m(\n\u001b[1;32m    639\u001b[0m         \u001b[39m\"\u001b[39m\u001b[39mMixing dicts with non-Series may lead to ambiguous ordering.\u001b[39m\u001b[39m\"\u001b[39m\n\u001b[1;32m    640\u001b[0m     )\n",
      "\u001b[0;31mValueError\u001b[0m: All arrays must be of the same length"
     ]
    }
   ],
   "source": [
    "fields = [\"wind_u\", \"wind_v\"]\n",
    "source = (-80.5227, 40.8360)\n",
    "start_time = \"20230203210000\"\n",
    "particles = 100000\n",
    "\n",
    "\n",
    "for start_date in pd.date_range(\"20230203\", \"20230228\"):\n",
    "    end_date = start_date + pd.Timedelta(1, \"day\")\n",
    "    date = start_date.strftime(\"%Y%m%d\")\n",
    "    i = 0\n",
    "    for du, dv in product(range(11), range(6)):\n",
    "        u = [-85 + du + 0.01 * i for i in range(100)]\n",
    "        v = [37.5 + dv + 0.01 * i for i in range(50)]\n",
    "        df = ge.get_region_features(u, v, start_date, end_date, fields)\n",
    "        df.to_csv(f\"../data/Wind/{date}_{i}.csv\")\n",
    "        if date == \"20230203\" and i <= 21:\n",
    "            continue\n",
    "        i += 1\n",
    "   "
   ]
  }
 ],
 "metadata": {
  "kernelspec": {
   "display_name": "699",
   "language": "python",
   "name": "python3"
  },
  "language_info": {
   "codemirror_mode": {
    "name": "ipython",
    "version": 3
   },
   "file_extension": ".py",
   "mimetype": "text/x-python",
   "name": "python",
   "nbconvert_exporter": "python",
   "pygments_lexer": "ipython3",
   "version": "3.8.5"
  },
  "orig_nbformat": 4
 },
 "nbformat": 4,
 "nbformat_minor": 2
}
