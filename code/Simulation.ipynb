{
 "cells": [
  {
   "cell_type": "code",
   "execution_count": 2,
   "metadata": {},
   "outputs": [],
   "source": [
    "import datetime as dt\n",
    "\n",
    "import matplotlib.pyplot as plt\n",
    "import geopandas as gpd\n",
    "import pandas as pd\n",
    "import warnings\n",
    "\n",
    "from GoogleEarth import GoogleEarth\n",
    "from Simulator import Simulator\n",
    "\n",
    "warnings.filterwarnings(\"ignore\")"
   ]
  },
  {
   "cell_type": "code",
   "execution_count": 3,
   "metadata": {},
   "outputs": [],
   "source": [
    "# Data\n",
    "df_gases = pd.DataFrame(index=[\"VC\", \"BE\", \"2-EHA\", \"IB\", \"BA\", \"BZ\"])\n",
    "df_gases[\"Capacity\"] = [490000, 114000, 98000, 114000, 114000, 228000]  # The compressed volume in L\n",
    "df_gases[\"Mass\"] = [402500, 84255, 93400, 70600, 81650, 177000]  # The mass in kg\n",
    "df_shp = gpd.read_file(\"../data/GeoShape/cb_2018_us_cbsa_20m/cb_2018_us_cbsa_20m.shp\")"
   ]
  },
  {
   "cell_type": "code",
   "execution_count": 4,
   "metadata": {},
   "outputs": [],
   "source": [
    "source = -80.52, 40.84\n",
    "start_time = dt.datetime(2023, 2, 3, 21)\n",
    "end_time = dt.datetime(2023, 2, 6, 0)\n",
    "iteration_interval = dt.timedelta(hours=1)\n",
    "simulator_interval = dt.timedelta(seconds=600)\n",
    "ge = GoogleEarth()\n",
    "simulator = Simulator(start_time, end_time, source, iteration_interval, simulator_interval, ge)"
   ]
  },
  {
   "cell_type": "code",
   "execution_count": 5,
   "metadata": {},
   "outputs": [
    {
     "name": "stdout",
     "output_type": "stream",
     "text": [
      "0 takes 0.3233528137207031 with final status size 6\n",
      "1 takes 0.4094374179840088 with final status size 30\n",
      "2 takes 0.43102169036865234 with final status size 100\n",
      "3 takes 36.557488203048706 with final status size 227\n",
      "4 takes 15.199732542037964 with final status size 324\n",
      "5 takes 5.076120853424072 with final status size 452\n",
      "6 takes 3.240135431289673 with final status size 668\n",
      "7 takes 4.743375539779663 with final status size 791\n",
      "8 takes 12.305290937423706 with final status size 853\n",
      "9 takes 9.886854648590088 with final status size 877\n",
      "10 takes 24.6663601398468 with final status size 913\n",
      "11 takes 11.916173458099365 with final status size 947\n",
      "12 takes 36.48758006095886 with final status size 975\n",
      "13 takes 7.708399772644043 with final status size 1156\n",
      "14 takes 53.054840326309204 with final status size 1468\n",
      "15 takes 18.125410079956055 with final status size 1918\n",
      "16 takes 14.354971647262573 with final status size 2261\n",
      "17 takes 20.197105884552002 with final status size 2617\n",
      "18 takes 40.32137584686279 with final status size 2927\n",
      "19 takes 21.577331066131592 with final status size 3615\n",
      "20 takes 61.55333733558655 with final status size 4280\n",
      "21 takes 130.38527536392212 with final status size 4923\n",
      "22 takes 134.86472344398499 with final status size 5317\n",
      "23 takes 66.59686017036438 with final status size 5400\n",
      "24 takes 32.520662784576416 with final status size 5357\n"
     ]
    }
   ],
   "source": [
    "import time\n",
    "\n",
    "for i in range(24 * 20):\n",
    "    t = time.time()\n",
    "    simulator.step()\n",
    "    print(f\"{i} takes {time.time() - t} with final status size {len(simulator.status)}\")\n",
    "    status_time = simulator.time\n",
    "    status = simulator.get_status()\n",
    "    fig = simulator.plot_status(status, df_shp, status_time)\n",
    "    status_time = status_time.strftime(\"%Y%m%d %H:%M:%S\")\n",
    "    plt.savefig(f\"../figures/simulation/{status_time}.png\")\n",
    "    status.to_csv(f\"../data/Simulation/{status_time}.csv\")\n",
    "    plt.close()\n",
    "    "
   ]
  }
 ],
 "metadata": {
  "kernelspec": {
   "display_name": "699",
   "language": "python",
   "name": "python3"
  },
  "language_info": {
   "codemirror_mode": {
    "name": "ipython",
    "version": 3
   },
   "file_extension": ".py",
   "mimetype": "text/x-python",
   "name": "python",
   "nbconvert_exporter": "python",
   "pygments_lexer": "ipython3",
   "version": "3.8.5"
  },
  "orig_nbformat": 4
 },
 "nbformat": 4,
 "nbformat_minor": 2
}
