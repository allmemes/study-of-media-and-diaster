{
 "cells": [
  {
   "cell_type": "code",
   "execution_count": 1,
   "metadata": {},
   "outputs": [],
   "source": [
    "import datetime as dt\n",
    "\n",
    "import matplotlib.pyplot as plt\n",
    "import geopandas as gpd\n",
    "import pandas as pd\n",
    "import warnings\n",
    "\n",
    "from GoogleEarth import GoogleEarth\n",
    "from Simulator import Simulator\n",
    "\n",
    "warnings.filterwarnings(\"ignore\")"
   ]
  },
  {
   "cell_type": "code",
   "execution_count": 2,
   "metadata": {},
   "outputs": [],
   "source": [
    "# Data\n",
    "df_gases = pd.DataFrame(index=[\"VC\", \"BE\", \"2-EHA\", \"IB\", \"BA\", \"BZ\"])\n",
    "df_gases[\"Capacity\"] = [490000, 114000, 98000, 114000, 114000, 228000]  # The compressed volume in L\n",
    "df_gases[\"Mass\"] = [402500, 84255, 93400, 70600, 81650, 177000]  # The mass in kg\n",
    "df_shp = gpd.read_file(\"../data/geoshape/cb_2018_us_cbsa_20m/cb_2018_us_cbsa_20m.shp\")"
   ]
  },
  {
   "cell_type": "code",
   "execution_count": 3,
   "metadata": {},
   "outputs": [],
   "source": [
    "source = -80.52, 40.84\n",
    "start_time = dt.datetime(2023, 2, 3, 21)\n",
    "end_time = dt.datetime(2023, 2, 6, 0)\n",
    "iteration_interval = dt.timedelta(hours=1)\n",
    "simulator_interval = dt.timedelta(seconds=600)\n",
    "ge = GoogleEarth()\n",
    "simulator = Simulator(start_time, end_time, source, iteration_interval, simulator_interval, ge, 1)"
   ]
  },
  {
   "cell_type": "code",
   "execution_count": 4,
   "metadata": {},
   "outputs": [
    {
     "name": "stdout",
     "output_type": "stream",
     "text": [
      "It takes 0.721360445022583 to simulate 20230203 220000 status of size 6\n",
      "It takes 0.7241301536560059 to simulate 20230203 230000 status of size 34\n",
      "It takes 0.7462239265441895 to simulate 20230204 000000 status of size 132\n"
     ]
    },
    {
     "ename": "ValueError",
     "evalue": "All arrays must be of the same length",
     "output_type": "error",
     "traceback": [
      "\u001b[0;31m---------------------------------------------------------------------------\u001b[0m",
      "\u001b[0;31mValueError\u001b[0m                                Traceback (most recent call last)",
      "\u001b[1;32m/home/panda/SI699/FinalProject/code/Simulation.ipynb 单元格 4\u001b[0m in \u001b[0;36m<cell line: 3>\u001b[0;34m()\u001b[0m\n\u001b[1;32m      <a href='vscode-notebook-cell://wsl%2Bubuntu-20.04/home/panda/SI699/FinalProject/code/Simulation.ipynb#Y146sdnNjb2RlLXJlbW90ZQ%3D%3D?line=2'>3</a>\u001b[0m \u001b[39mfor\u001b[39;00m _ \u001b[39min\u001b[39;00m \u001b[39mrange\u001b[39m(\u001b[39m24\u001b[39m \u001b[39m*\u001b[39m \u001b[39m20\u001b[39m):\n\u001b[1;32m      <a href='vscode-notebook-cell://wsl%2Bubuntu-20.04/home/panda/SI699/FinalProject/code/Simulation.ipynb#Y146sdnNjb2RlLXJlbW90ZQ%3D%3D?line=3'>4</a>\u001b[0m     t \u001b[39m=\u001b[39m time\u001b[39m.\u001b[39mtime()\n\u001b[0;32m----> <a href='vscode-notebook-cell://wsl%2Bubuntu-20.04/home/panda/SI699/FinalProject/code/Simulation.ipynb#Y146sdnNjb2RlLXJlbW90ZQ%3D%3D?line=4'>5</a>\u001b[0m     simulator\u001b[39m.\u001b[39;49mstep()\n\u001b[1;32m      <a href='vscode-notebook-cell://wsl%2Bubuntu-20.04/home/panda/SI699/FinalProject/code/Simulation.ipynb#Y146sdnNjb2RlLXJlbW90ZQ%3D%3D?line=6'>7</a>\u001b[0m     status_time \u001b[39m=\u001b[39m simulator\u001b[39m.\u001b[39mtime\n\u001b[1;32m      <a href='vscode-notebook-cell://wsl%2Bubuntu-20.04/home/panda/SI699/FinalProject/code/Simulation.ipynb#Y146sdnNjb2RlLXJlbW90ZQ%3D%3D?line=7'>8</a>\u001b[0m     status \u001b[39m=\u001b[39m simulator\u001b[39m.\u001b[39mget_status()\n",
      "File \u001b[0;32m/mnt/e/UMSI/UMSI-DataScience/SI699Capstone/FinalProject/code/Simulator.py:88\u001b[0m, in \u001b[0;36mSimulator.step\u001b[0;34m(self)\u001b[0m\n\u001b[1;32m     86\u001b[0m         df_coordinates\u001b[39m.\u001b[39mclear()\n\u001b[1;32m     87\u001b[0m \u001b[39mif\u001b[39;00m df_coordinates:\n\u001b[0;32m---> 88\u001b[0m     \u001b[39mself\u001b[39;49m\u001b[39m.\u001b[39;49mapply_wind(df_coordinates, new_status)\n\u001b[1;32m     89\u001b[0m \u001b[39mself\u001b[39m\u001b[39m.\u001b[39mtime \u001b[39m+\u001b[39m\u001b[39m=\u001b[39m \u001b[39mself\u001b[39m\u001b[39m.\u001b[39miteration_interval\n\u001b[1;32m     90\u001b[0m \u001b[39mself\u001b[39m\u001b[39m.\u001b[39mstatus \u001b[39m=\u001b[39m new_status\n",
      "File \u001b[0;32m/mnt/e/UMSI/UMSI-DataScience/SI699Capstone/FinalProject/code/Simulator.py:60\u001b[0m, in \u001b[0;36mSimulator.apply_wind\u001b[0;34m(self, df_coordinates, new_status)\u001b[0m\n\u001b[1;32m     51\u001b[0m \u001b[39m\"\"\"Get wind data from google earth and apply it on the coordinates\u001b[39;00m\n\u001b[1;32m     52\u001b[0m \n\u001b[1;32m     53\u001b[0m \u001b[39mArgs:\u001b[39;00m\n\u001b[0;32m   (...)\u001b[0m\n\u001b[1;32m     57\u001b[0m \u001b[39m    (pd.DataFrame): A new dataframe with updated coordinates\u001b[39;00m\n\u001b[1;32m     58\u001b[0m \u001b[39m\"\"\"\u001b[39;00m\n\u001b[1;32m     59\u001b[0m df_coordinates \u001b[39m=\u001b[39m pd\u001b[39m.\u001b[39mDataFrame(df_coordinates, columns\u001b[39m=\u001b[39m[\u001b[39m\"\u001b[39m\u001b[39mx\u001b[39m\u001b[39m\"\u001b[39m, \u001b[39m\"\u001b[39m\u001b[39my\u001b[39m\u001b[39m\"\u001b[39m, \u001b[39m\"\u001b[39m\u001b[39mp\u001b[39m\u001b[39m\"\u001b[39m])\n\u001b[0;32m---> 60\u001b[0m geo \u001b[39m=\u001b[39m \u001b[39mself\u001b[39;49m\u001b[39m.\u001b[39;49mgoogle_earth\u001b[39m.\u001b[39;49mget_points_features(df_coordinates[\u001b[39m\"\u001b[39;49m\u001b[39mx\u001b[39;49m\u001b[39m\"\u001b[39;49m],\n\u001b[1;32m     61\u001b[0m                                             df_coordinates[\u001b[39m\"\u001b[39;49m\u001b[39my\u001b[39;49m\u001b[39m\"\u001b[39;49m],\n\u001b[1;32m     62\u001b[0m                                             [\u001b[39m\"\u001b[39;49m\u001b[39mwind_u\u001b[39;49m\u001b[39m\"\u001b[39;49m, \u001b[39m\"\u001b[39;49m\u001b[39mwind_v\u001b[39;49m\u001b[39m\"\u001b[39;49m],\n\u001b[1;32m     63\u001b[0m                                             start_time\u001b[39m=\u001b[39;49m\u001b[39mself\u001b[39;49m\u001b[39m.\u001b[39;49mtime,\n\u001b[1;32m     64\u001b[0m                                             time_delta\u001b[39m=\u001b[39;49m\u001b[39mself\u001b[39;49m\u001b[39m.\u001b[39;49miteration_interval)\u001b[39m.\u001b[39mvalues\n\u001b[1;32m     65\u001b[0m simulation_count \u001b[39m=\u001b[39m \u001b[39mself\u001b[39m\u001b[39m.\u001b[39miteration_interval\u001b[39m.\u001b[39mseconds \u001b[39m/\u001b[39m\u001b[39m/\u001b[39m \u001b[39mself\u001b[39m\u001b[39m.\u001b[39msimulation_interval\n\u001b[1;32m     66\u001b[0m geo \u001b[39m=\u001b[39m np\u001b[39m.\u001b[39mrepeat(geo, simulation_count, axis\u001b[39m=\u001b[39m\u001b[39m0\u001b[39m)\n",
      "File \u001b[0;32m/mnt/e/UMSI/UMSI-DataScience/SI699Capstone/FinalProject/code/GoogleEarth.py:74\u001b[0m, in \u001b[0;36mGoogleEarth.get_points_features\u001b[0;34m(self, u, v, fields, start_time, time_delta)\u001b[0m\n\u001b[1;32m     67\u001b[0m points \u001b[39m=\u001b[39m ee\u001b[39m.\u001b[39mFeatureCollection([ee\u001b[39m.\u001b[39mFeature(ee\u001b[39m.\u001b[39mGeometry\u001b[39m.\u001b[39mPoint(\u001b[39m*\u001b[39mp)) \u001b[39mfor\u001b[39;00m p \u001b[39min\u001b[39;00m \u001b[39mzip\u001b[39m(u, v)])\n\u001b[1;32m     68\u001b[0m get_fields \u001b[39m=\u001b[39m partial(\u001b[39mself\u001b[39m\u001b[39m.\u001b[39m_get_point_features,\n\u001b[1;32m     69\u001b[0m                      fields\u001b[39m=\u001b[39mfields,\n\u001b[1;32m     70\u001b[0m                      collection\u001b[39m=\u001b[39mee\u001b[39m.\u001b[39mImageCollection(\u001b[39m\"\u001b[39m\u001b[39mNASA/NLDAS/FORA0125_H002\u001b[39m\u001b[39m\"\u001b[39m),\n\u001b[1;32m     71\u001b[0m                      region\u001b[39m=\u001b[39mregion,\n\u001b[1;32m     72\u001b[0m                      start_time\u001b[39m=\u001b[39mstart_time,\n\u001b[1;32m     73\u001b[0m                      time_delta\u001b[39m=\u001b[39mtime_delta)\n\u001b[0;32m---> 74\u001b[0m \u001b[39mreturn\u001b[39;00m \u001b[39mself\u001b[39;49m\u001b[39m.\u001b[39;49m_resolve_features(points\u001b[39m.\u001b[39;49mmap(get_fields)\u001b[39m.\u001b[39;49mgetInfo())\n",
      "File \u001b[0;32m/mnt/e/UMSI/UMSI-DataScience/SI699Capstone/FinalProject/code/GoogleEarth.py:159\u001b[0m, in \u001b[0;36mGoogleEarth._resolve_features\u001b[0;34m(self, points_fields)\u001b[0m\n\u001b[1;32m    157\u001b[0m             df[key] \u001b[39m=\u001b[39m \u001b[39mlist\u001b[39m()\n\u001b[1;32m    158\u001b[0m         df[key]\u001b[39m.\u001b[39mappend(item[\u001b[39m\"\u001b[39m\u001b[39mproperties\u001b[39m\u001b[39m\"\u001b[39m][key])\n\u001b[0;32m--> 159\u001b[0m \u001b[39mreturn\u001b[39;00m pd\u001b[39m.\u001b[39;49mDataFrame(df)\n",
      "File \u001b[0;32m~/.local/lib/python3.8/site-packages/pandas/core/frame.py:614\u001b[0m, in \u001b[0;36mDataFrame.__init__\u001b[0;34m(self, data, index, columns, dtype, copy)\u001b[0m\n\u001b[1;32m    608\u001b[0m     mgr \u001b[39m=\u001b[39m \u001b[39mself\u001b[39m\u001b[39m.\u001b[39m_init_mgr(\n\u001b[1;32m    609\u001b[0m         data, axes\u001b[39m=\u001b[39m{\u001b[39m\"\u001b[39m\u001b[39mindex\u001b[39m\u001b[39m\"\u001b[39m: index, \u001b[39m\"\u001b[39m\u001b[39mcolumns\u001b[39m\u001b[39m\"\u001b[39m: columns}, dtype\u001b[39m=\u001b[39mdtype, copy\u001b[39m=\u001b[39mcopy\n\u001b[1;32m    610\u001b[0m     )\n\u001b[1;32m    612\u001b[0m \u001b[39melif\u001b[39;00m \u001b[39misinstance\u001b[39m(data, \u001b[39mdict\u001b[39m):\n\u001b[1;32m    613\u001b[0m     \u001b[39m# GH#38939 de facto copy defaults to False only in non-dict cases\u001b[39;00m\n\u001b[0;32m--> 614\u001b[0m     mgr \u001b[39m=\u001b[39m dict_to_mgr(data, index, columns, dtype\u001b[39m=\u001b[39;49mdtype, copy\u001b[39m=\u001b[39;49mcopy, typ\u001b[39m=\u001b[39;49mmanager)\n\u001b[1;32m    615\u001b[0m \u001b[39melif\u001b[39;00m \u001b[39misinstance\u001b[39m(data, ma\u001b[39m.\u001b[39mMaskedArray):\n\u001b[1;32m    616\u001b[0m     \u001b[39mimport\u001b[39;00m \u001b[39mnumpy\u001b[39;00m\u001b[39m.\u001b[39;00m\u001b[39mma\u001b[39;00m\u001b[39m.\u001b[39;00m\u001b[39mmrecords\u001b[39;00m \u001b[39mas\u001b[39;00m \u001b[39mmrecords\u001b[39;00m\n",
      "File \u001b[0;32m~/.local/lib/python3.8/site-packages/pandas/core/internals/construction.py:464\u001b[0m, in \u001b[0;36mdict_to_mgr\u001b[0;34m(data, index, columns, dtype, typ, copy)\u001b[0m\n\u001b[1;32m    456\u001b[0m     arrays \u001b[39m=\u001b[39m [\n\u001b[1;32m    457\u001b[0m         x\n\u001b[1;32m    458\u001b[0m         \u001b[39mif\u001b[39;00m \u001b[39mnot\u001b[39;00m \u001b[39mhasattr\u001b[39m(x, \u001b[39m\"\u001b[39m\u001b[39mdtype\u001b[39m\u001b[39m\"\u001b[39m) \u001b[39mor\u001b[39;00m \u001b[39mnot\u001b[39;00m \u001b[39misinstance\u001b[39m(x\u001b[39m.\u001b[39mdtype, ExtensionDtype)\n\u001b[1;32m    459\u001b[0m         \u001b[39melse\u001b[39;00m x\u001b[39m.\u001b[39mcopy()\n\u001b[1;32m    460\u001b[0m         \u001b[39mfor\u001b[39;00m x \u001b[39min\u001b[39;00m arrays\n\u001b[1;32m    461\u001b[0m     ]\n\u001b[1;32m    462\u001b[0m     \u001b[39m# TODO: can we get rid of the dt64tz special case above?\u001b[39;00m\n\u001b[0;32m--> 464\u001b[0m \u001b[39mreturn\u001b[39;00m arrays_to_mgr(\n\u001b[1;32m    465\u001b[0m     arrays, data_names, index, columns, dtype\u001b[39m=\u001b[39;49mdtype, typ\u001b[39m=\u001b[39;49mtyp, consolidate\u001b[39m=\u001b[39;49mcopy\n\u001b[1;32m    466\u001b[0m )\n",
      "File \u001b[0;32m~/.local/lib/python3.8/site-packages/pandas/core/internals/construction.py:119\u001b[0m, in \u001b[0;36marrays_to_mgr\u001b[0;34m(arrays, arr_names, index, columns, dtype, verify_integrity, typ, consolidate)\u001b[0m\n\u001b[1;32m    116\u001b[0m \u001b[39mif\u001b[39;00m verify_integrity:\n\u001b[1;32m    117\u001b[0m     \u001b[39m# figure out the index, if necessary\u001b[39;00m\n\u001b[1;32m    118\u001b[0m     \u001b[39mif\u001b[39;00m index \u001b[39mis\u001b[39;00m \u001b[39mNone\u001b[39;00m:\n\u001b[0;32m--> 119\u001b[0m         index \u001b[39m=\u001b[39m _extract_index(arrays)\n\u001b[1;32m    120\u001b[0m     \u001b[39melse\u001b[39;00m:\n\u001b[1;32m    121\u001b[0m         index \u001b[39m=\u001b[39m ensure_index(index)\n",
      "File \u001b[0;32m~/.local/lib/python3.8/site-packages/pandas/core/internals/construction.py:635\u001b[0m, in \u001b[0;36m_extract_index\u001b[0;34m(data)\u001b[0m\n\u001b[1;32m    633\u001b[0m lengths \u001b[39m=\u001b[39m \u001b[39mlist\u001b[39m(\u001b[39mset\u001b[39m(raw_lengths))\n\u001b[1;32m    634\u001b[0m \u001b[39mif\u001b[39;00m \u001b[39mlen\u001b[39m(lengths) \u001b[39m>\u001b[39m \u001b[39m1\u001b[39m:\n\u001b[0;32m--> 635\u001b[0m     \u001b[39mraise\u001b[39;00m \u001b[39mValueError\u001b[39;00m(\u001b[39m\"\u001b[39m\u001b[39mAll arrays must be of the same length\u001b[39m\u001b[39m\"\u001b[39m)\n\u001b[1;32m    637\u001b[0m \u001b[39mif\u001b[39;00m have_dicts:\n\u001b[1;32m    638\u001b[0m     \u001b[39mraise\u001b[39;00m \u001b[39mValueError\u001b[39;00m(\n\u001b[1;32m    639\u001b[0m         \u001b[39m\"\u001b[39m\u001b[39mMixing dicts with non-Series may lead to ambiguous ordering.\u001b[39m\u001b[39m\"\u001b[39m\n\u001b[1;32m    640\u001b[0m     )\n",
      "\u001b[0;31mValueError\u001b[0m: All arrays must be of the same length"
     ]
    }
   ],
   "source": [
    "import time\n",
    "\n",
    "for _ in range(24 * 20):\n",
    "    t = time.time()\n",
    "    simulator.step()\n",
    "    \n",
    "    status_time = simulator.time\n",
    "    status = simulator.get_status()\n",
    "    fig = simulator.plot_status(status, df_shp, status_time)\n",
    "    status_time = status_time.strftime(\"%Y%m%d %H%M%S\")\n",
    "    plt.savefig(f\"../simulation/{status_time}.png\")\n",
    "    status.to_csv(f\"../simulation/{status_time}.csv\")\n",
    "    plt.close()\n",
    "    print(f\"It takes {time.time() - t} to simulate {status_time} status of size {len(simulator.status)}\")\n",
    "    "
   ]
  },
  {
   "cell_type": "code",
   "execution_count": 78,
   "metadata": {},
   "outputs": [
    {
     "data": {
      "text/plain": [
       "4670"
      ]
     },
     "execution_count": 78,
     "metadata": {},
     "output_type": "execute_result"
    }
   ],
   "source": [
    "len(simulator.status)"
   ]
  },
  {
   "cell_type": "code",
   "execution_count": null,
   "metadata": {},
   "outputs": [],
   "source": []
  }
 ],
 "metadata": {
  "kernelspec": {
   "display_name": "699",
   "language": "python",
   "name": "python3"
  },
  "language_info": {
   "codemirror_mode": {
    "name": "ipython",
    "version": 3
   },
   "file_extension": ".py",
   "mimetype": "text/x-python",
   "name": "python",
   "nbconvert_exporter": "python",
   "pygments_lexer": "ipython3",
   "version": "3.8.5"
  },
  "orig_nbformat": 4
 },
 "nbformat": 4,
 "nbformat_minor": 2
}
