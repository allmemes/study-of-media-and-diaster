{
 "cells": [
  {
   "cell_type": "code",
   "execution_count": 2,
   "metadata": {},
   "outputs": [],
   "source": [
    "import datetime as dt\n",
    "import time\n",
    "import warnings\n",
    "\n",
    "import matplotlib.pyplot as plt\n",
    "import geopandas as gpd\n",
    "import pandas as pd\n",
    "from shapely.geometry import Point\n",
    "\n",
    "from GoogleEarth import GoogleEarth\n",
    "from Simulator import Simulator\n",
    "\n",
    "warnings.filterwarnings(\"ignore\")"
   ]
  },
  {
   "cell_type": "code",
   "execution_count": null,
   "metadata": {},
   "outputs": [],
   "source": [
    "source = -80.52, 40.84\n",
    "start_time = dt.datetime(2023, 2, 3, 21)\n",
    "end_time = dt.datetime(2023, 2, 6, 0)\n",
    "iteration_interval = dt.timedelta(hours=1)\n",
    "simulator_interval = dt.timedelta(seconds=1200)\n",
    "ge = GoogleEarth()\n",
    "simulator = Simulator(start_time, end_time, source, iteration_interval, simulator_interval, ge, 1)"
   ]
  },
  {
   "cell_type": "code",
   "execution_count": null,
   "metadata": {},
   "outputs": [],
   "source": [
    "simulator = Simulator(start_time, end_time, source, iteration_interval, simulator_interval, ge, 1)\n",
    "for _ in range(24 * 20):\n",
    "    t = time.time()\n",
    "    simulator.step()\n",
    "    \n",
    "    status_time = simulator.time\n",
    "    status = simulator.get_status()\n",
    "    status_time = status_time.strftime(\"%Y%m%d %H%M%S\")\n",
    "    plt.savefig(f\"../simulation/{status_time}.png\")\n",
    "    status.to_csv(f\"../simulation/{status_time}.csv\")\n",
    "    plt.close()\n",
    "    print(f\"It takes {round(time.time() - t, 3)} to simulate {status_time} status of size {len(simulator.status)}\")\n",
    "    "
   ]
  },
  {
   "cell_type": "code",
   "execution_count": 6,
   "metadata": {},
   "outputs": [],
   "source": [
    "df_shp = gpd.read_file(\"../data/geoshape/cb_2018_us_cbsa_20m/cb_2018_us_cbsa_20m.shp\")\n",
    "df_geo = pd.read_csv(\"../simulation/simulation.csv\", sep=\"\\t\")[[\"Longitude\", \"Latitude\", \"EST\", \"P\"]]\n",
    "geometry = [Point(xy) for xy in zip(df_geo[\"Longitude\"], df_geo[\"Latitude\"])]\n",
    "df_geo = gpd.GeoDataFrame(df_geo, geometry=geometry, crs=\"EPSG:4269\")\n",
    "df_geo = gpd.sjoin(df_geo, df_shp, predicate=\"within\", how=\"left\")\n",
    "df_geo.index = pd.to_datetime(df_geo[\"EST\"]).dt.strftime(\"%Y%m%d\")\n",
    "df_geo.index.name = \"Date\""
   ]
  },
  {
   "cell_type": "code",
   "execution_count": 8,
   "metadata": {},
   "outputs": [],
   "source": [
    "df_geo.to_pickle(\"../simulation/SimulationGeo.pkl\", compression=\"gzip\")"
   ]
  }
 ],
 "metadata": {
  "kernelspec": {
   "display_name": "699",
   "language": "python",
   "name": "python3"
  },
  "language_info": {
   "codemirror_mode": {
    "name": "ipython",
    "version": 3
   },
   "file_extension": ".py",
   "mimetype": "text/x-python",
   "name": "python",
   "nbconvert_exporter": "python",
   "pygments_lexer": "ipython3",
   "version": "3.8.5"
  },
  "orig_nbformat": 4
 },
 "nbformat": 4,
 "nbformat_minor": 2
}
