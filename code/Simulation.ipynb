{
 "cells": [
  {
   "cell_type": "code",
   "execution_count": 101,
   "metadata": {},
   "outputs": [],
   "source": [
    "import datetime as dt\n",
    "import math\n",
    "\n",
    "import pandas as pd\n",
    "\n",
    "from GoogleEarth import GoogleEarth"
   ]
  },
  {
   "attachments": {},
   "cell_type": "markdown",
   "metadata": {},
   "source": [
    "Define the gases and get the dispersion coefficient"
   ]
  },
  {
   "cell_type": "code",
   "execution_count": 106,
   "metadata": {},
   "outputs": [],
   "source": [
    "# Data\n",
    "df_gases = pd.DataFrame(columns=[\"Capacity\", \"Density\", \"Mass\", \"25M_Vol\",\n",
    "                                 \"25Dispersion\",\"100M_Mass\", \"100M_Vol\",\"100Dispersion\"],\n",
    "                        index=[\"VC\", \"BE\", \"2-EHA\", \"IB\", \"BA\", \"BZ\"])\n",
    "df_gases[\"Capacity\"] = [490000, 114000, 98000, 114000, 114000, 228000]  # The compressed volume in L\n",
    "df_gases[\"Mass\"] = [727560, 185750, 205900, 155642, 180000, 390000]\n",
    "df_gases[\"Mass\"] = df_gases[\"Mass\"] * 0.453592 # The mass in kg\n",
    "df_gases[\"Density\"] = [0.911, 0.902, 0.875, 0.56, 0.902, 0.879]  # The normal density\n",
    "df_gases[\"Vol\"] = df_gases[\"Mass\"] / df_gases[\"Density\"] # The normal volume of gases at 25 degree in L\n",
    "df_gases[\"N_Mass\"] = [62.5, 118.17, 185.28, 56.11, 128.17, 78.11]  # Molar Mass in g/mol\n",
    "df_gases[\"N\"] = df_gases[\"Mass\"] * 1000 / df_gases[\"N_Mass\"] "
   ]
  },
  {
   "attachments": {},
   "cell_type": "markdown",
   "metadata": {},
   "source": [
    "Find out the speed and dispersion coefficient that the gases are dispersed into air"
   ]
  },
  {
   "cell_type": "code",
   "execution_count": 104,
   "metadata": {},
   "outputs": [
    {
     "data": {
      "text/plain": [
       "1.4966967305001657e-05"
      ]
     },
     "execution_count": 104,
     "metadata": {},
     "output_type": "execute_result"
    }
   ],
   "source": [
    "# Assume everything is settle down when the volume is ideal\n",
    "initial_mass = df_gases[\"Mass\"].sum()\n",
    "terminal_mass = df_gases[\"Vol\"].sum() / 22.4 * (df_gases[\"Density\"] * df_gases[\"Mass\"] / df_gases[\"Mass\"].sum()).sum()\n",
    "dispersion_coeff = math.log(initial_mass, terminal_mass) / (24 * 3600)\n",
    "dispersion_coeff # m^2/s, a reasonable number"
   ]
  },
  {
   "cell_type": "code",
   "execution_count": 107,
   "metadata": {},
   "outputs": [],
   "source": [
    "source = (-80.522, 40.836)\n",
    "start_time = dt.datetime(2023, 2, 3, 21)\n",
    "ge = GoogleEarth()"
   ]
  },
  {
   "cell_type": "code",
   "execution_count": 110,
   "metadata": {},
   "outputs": [],
   "source": [
    "df = ge.get_region_features([source[0]], [source[1]], [\"wind_u\", \"wind_v\", \"temperature\"], start_time, dt.timedelta(days=1))"
   ]
  },
  {
   "cell_type": "code",
   "execution_count": 112,
   "metadata": {},
   "outputs": [
    {
     "data": {
      "text/plain": [
       "0.053881082298005964"
      ]
     },
     "execution_count": 112,
     "metadata": {},
     "output_type": "execute_result"
    }
   ],
   "source": [
    "dispersion_coeff * 3600"
   ]
  },
  {
   "cell_type": "code",
   "execution_count": 111,
   "metadata": {},
   "outputs": [
    {
     "data": {
      "text/html": [
       "<div>\n",
       "<style scoped>\n",
       "    .dataframe tbody tr th:only-of-type {\n",
       "        vertical-align: middle;\n",
       "    }\n",
       "\n",
       "    .dataframe tbody tr th {\n",
       "        vertical-align: top;\n",
       "    }\n",
       "\n",
       "    .dataframe thead th {\n",
       "        text-align: right;\n",
       "    }\n",
       "</style>\n",
       "<table border=\"1\" class=\"dataframe\">\n",
       "  <thead>\n",
       "    <tr style=\"text-align: right;\">\n",
       "      <th></th>\n",
       "      <th>u</th>\n",
       "      <th>v</th>\n",
       "      <th>temperature</th>\n",
       "      <th>wind_u</th>\n",
       "      <th>wind_v</th>\n",
       "    </tr>\n",
       "  </thead>\n",
       "  <tbody>\n",
       "    <tr>\n",
       "      <th>0</th>\n",
       "      <td>-80.522</td>\n",
       "      <td>40.836</td>\n",
       "      <td>-9.54</td>\n",
       "      <td>2.05875</td>\n",
       "      <td>0.696667</td>\n",
       "    </tr>\n",
       "  </tbody>\n",
       "</table>\n",
       "</div>"
      ],
      "text/plain": [
       "        u       v  temperature   wind_u    wind_v\n",
       "0 -80.522  40.836        -9.54  2.05875  0.696667"
      ]
     },
     "execution_count": 111,
     "metadata": {},
     "output_type": "execute_result"
    }
   ],
   "source": [
    "df"
   ]
  }
 ],
 "metadata": {
  "kernelspec": {
   "display_name": "699",
   "language": "python",
   "name": "python3"
  },
  "language_info": {
   "codemirror_mode": {
    "name": "ipython",
    "version": 3
   },
   "file_extension": ".py",
   "mimetype": "text/x-python",
   "name": "python",
   "nbconvert_exporter": "python",
   "pygments_lexer": "ipython3",
   "version": "3.8.5"
  },
  "orig_nbformat": 4
 },
 "nbformat": 4,
 "nbformat_minor": 2
}
