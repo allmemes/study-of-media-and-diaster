{
 "cells": [
  {
   "cell_type": "code",
   "execution_count": 1,
   "metadata": {},
   "outputs": [],
   "source": [
    "import json\n",
    "import warnings\n",
    "\n",
    "import pandas as pd\n",
    "\n",
    "from TwitterAPI import TwitterAPI\n",
    "\n",
    "warnings.filterwarnings(\"ignore\")"
   ]
  },
  {
   "cell_type": "code",
   "execution_count": 2,
   "metadata": {},
   "outputs": [],
   "source": [
    "with open(\"../config/TwitterAPI.json\") as f:\n",
    "    config = json.loads(f.read())\n",
    "\n",
    "api = TwitterAPI(config[\"main\"])"
   ]
  },
  {
   "cell_type": "code",
   "execution_count": 3,
   "metadata": {},
   "outputs": [],
   "source": [
    "start_date = \"20230203\"\n",
    "end_date = \"20230301\"\n",
    "query = 'has:geo (\"Derail\" OR \"Vinyl chloride\" OR \"Train Crash\" OR \"Ohio Train\" OR \"Derailment\")'\n",
    "\n",
    "\n",
    "def get_tweet_geo(start_date: str, end_date: str, query: str):\n",
    "    params = {\"geo\": \"place_id\"}\n",
    "    df_raw = api.search_tweets(query, params=params, start_time=start_date, end_time=end_date) \n",
    "    df_tweets = df_raw.dropna(axis=0)\n",
    "    df_tweets[\"Timestamp\"] = pd.to_datetime(df_tweets[\"created_at\"])\n",
    "    df_tweets[\"Date\"] = df_tweets[\"Timestamp\"].dt.strftime(\"%Y%m%d\")\n",
    "    df_tweets[\"PlaceId\"] = df_tweets[\"geo\"].apply(lambda x:x[\"place_id\"])\n",
    "    df_tweets[\"Text\"] = api.parse_tweet(df_tweets[\"text\"])\n",
    "    df_tweets[\"Retweet\"] = df_tweets[\"public_metrics\"].apply(lambda x: x[\"retweet_count\"])\n",
    "    df_tweets[\"Reply\"] = df_tweets[\"public_metrics\"].apply(lambda x: x[\"reply_count\"])\n",
    "    df_tweets[\"Like\"] = df_tweets[\"public_metrics\"].apply(lambda x: x[\"like_count\"])\n",
    "    df_tweets[\"Quote\"] = df_tweets[\"public_metrics\"].apply(lambda x: x[\"quote_count\"])\n",
    "    df_tweets[\"Impression\"] = df_tweets[\"public_metrics\"].apply(lambda x: x[\"impression_count\"])\n",
    "    df_tweets = df_tweets.rename(columns={\"author_id\": \"AuthorId\", \"id\": \"Id\"})\n",
    "    columns = [col for col in df_tweets.columns if col[0].upper() == col[0]]\n",
    "    return df_tweets[columns].set_index([\"Date\"]).sort_index()\n",
    "\n",
    "df_tweets = get_tweet_geo(start_date, end_date, query)"
   ]
  },
  {
   "cell_type": "code",
   "execution_count": 6,
   "metadata": {},
   "outputs": [],
   "source": [
    "df_tweets.to_csv(\"../data/twitter/GeoTweets.csv\", index_label=\"Date\", sep=\"\\t\")"
   ]
  }
 ],
 "metadata": {
  "kernelspec": {
   "display_name": "699",
   "language": "python",
   "name": "python3"
  },
  "language_info": {
   "codemirror_mode": {
    "name": "ipython",
    "version": 3
   },
   "file_extension": ".py",
   "mimetype": "text/x-python",
   "name": "python",
   "nbconvert_exporter": "python",
   "pygments_lexer": "ipython3",
   "version": "3.8.5"
  },
  "orig_nbformat": 4
 },
 "nbformat": 4,
 "nbformat_minor": 2
}
