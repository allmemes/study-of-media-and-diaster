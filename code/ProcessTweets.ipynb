{
 "cells": [
  {
   "cell_type": "code",
   "execution_count": 1,
   "metadata": {},
   "outputs": [],
   "source": [
    "import json\n",
    "from typing import List\n",
    "import warnings\n",
    "\n",
    "import geopandas as gpd\n",
    "import pandas as pd\n",
    "from scipy.stats import entropy\n",
    "from shapely.geometry import Point\n",
    "from sklearn.preprocessing import MinMaxScaler\n",
    "\n",
    "from TwitterAPI import TwitterAPI\n",
    "\n",
    "warnings.filterwarnings(\"ignore\")"
   ]
  },
  {
   "cell_type": "code",
   "execution_count": 3,
   "metadata": {},
   "outputs": [],
   "source": [
    "with open(\"../config.json\") as f:\n",
    "    config = json.loads(f.read())[\"Twitter\"]\n",
    "\n",
    "api = TwitterAPI(config[\"main\"])"
   ]
  },
  {
   "cell_type": "code",
   "execution_count": 18,
   "metadata": {},
   "outputs": [],
   "source": [
    "def process_tweets(df_tweets: pd.DataFrame) -> pd.DataFrame:\n",
    "    df_tweets[\"EST\"] = pd.to_datetime(df_tweets[\"created_at\"]) - pd.Timedelta(hours=5)\n",
    "    df_tweets[\"Date\"] = df_tweets[\"EST\"].dt.strftime(\"%Y%m%d\")\n",
    "    if \"geo\" in df_tweets.columns:\n",
    "        df_tweets[\"PlaceId\"] = df_tweets[\"geo\"].apply(lambda x:x[\"place_id\"])\n",
    "    df_tweets[\"Text\"] = api.parse_tweet(df_tweets[\"text\"])\n",
    "    df_tweets[\"Entities\"] = df_tweets[\"entities\"]\n",
    "    df_tweets[\"Retweet\"] = df_tweets[\"public_metrics\"].apply(lambda x: x[\"retweet_count\"])\n",
    "    df_tweets[\"Reply\"] = df_tweets[\"public_metrics\"].apply(lambda x: x[\"reply_count\"])\n",
    "    df_tweets[\"Like\"] = df_tweets[\"public_metrics\"].apply(lambda x: x[\"like_count\"])\n",
    "    df_tweets[\"Quote\"] = df_tweets[\"public_metrics\"].apply(lambda x: x[\"quote_count\"])\n",
    "    df_tweets[\"Impression\"] = df_tweets[\"public_metrics\"].apply(lambda x: x[\"impression_count\"])\n",
    "    df_tweets = df_tweets.rename(columns={\"author_id\": \"AuthorId\", \"id\": \"Id\"})\n",
    "    columns = [col for col in df_tweets.columns if col[0].upper() == col[0]]\n",
    "    return df_tweets[columns].set_index([\"Date\"]).sort_index()\n",
    "\n",
    "def extract_url(tweet: pd.Series, urls: List[str]):\n",
    "    if isinstance(tweet[\"Entities\"], dict):\n",
    "        for url_entity in tweet[\"Entities\"].get(\"urls\", list()):\n",
    "            url = url_entity[\"expanded_url\"]\n",
    "            urls.append([url, tweet.name])"
   ]
  },
  {
   "attachments": {},
   "cell_type": "markdown",
   "metadata": {},
   "source": [
    "### 1. Fetch tweets with geo information"
   ]
  },
  {
   "cell_type": "code",
   "execution_count": null,
   "metadata": {},
   "outputs": [],
   "source": [
    "start_date = \"20230203\"\n",
    "end_date = \"20230302\"\n",
    "query = \"has:geo Derailment\"\n",
    "params = {\"geo\": \"place_id\"}\n",
    "df_tweets_geo = api.search_tweets(query, params=params, start_time=start_date, end_time=end_date) \n",
    "df_tweets_geo = df_tweets_geo.dropna(subset=[\"geo\"])\n",
    "df_tweets_geo = process_tweets(df_tweets_geo)[\"20230203\":\"20230228\"]\n",
    "df_tweets_geo.to_pickle(\"../data/twitter/TweetsGeo.pkl\", compression=\"gzip\")"
   ]
  },
  {
   "attachments": {},
   "cell_type": "markdown",
   "metadata": {},
   "source": [
    "### 2. Fetch all tweets with keywords"
   ]
  },
  {
   "cell_type": "code",
   "execution_count": null,
   "metadata": {},
   "outputs": [],
   "source": [
    "query = \"Derailment\"\n",
    "\n",
    "for date in pd.date_range(start_date, end_date, closed=\"left\"):\n",
    "    start_time = date.strftime(\"%Y%m%d\")\n",
    "    end_time = (date + pd.Timedelta(1, unit=\"day\")).strftime(\"%Y%m%d\")\n",
    "    df_tweets = api.search_tweets(query, start_time=start_time, end_time=end_time) \n",
    "    for col in [\"withheld\", \"geo\"]:\n",
    "        if col in df_tweets.columns:\n",
    "            df_tweets = df_tweets.drop(col, axis=1)\n",
    "    df_tweets = process_tweets(df_tweets)\n",
    "    df_tweets.to_pickle(f\"../data/twitter/pkl/{start_time}.pkl\", compression=\"gzip\")"
   ]
  },
  {
   "cell_type": "code",
   "execution_count": null,
   "metadata": {},
   "outputs": [],
   "source": [
    "dfs = list()\n",
    "for date in pd.date_range(start_date, end_date, closed=\"left\"):\n",
    "    start_time = date.strftime(\"%Y%m%d\")\n",
    "    df = pd.read_pickle(f\"../data/twitter/pkl/{start_time}.pkl\", compression=\"gzip\")\n",
    "    for col in [\"withheld\", \"geo\"]:\n",
    "        if col in df.columns:\n",
    "            df = df.drop(col, axis=1)\n",
    "    dfs.append(df)\n",
    "df_tweets = pd.concat(dfs)"
   ]
  },
  {
   "cell_type": "code",
   "execution_count": null,
   "metadata": {},
   "outputs": [],
   "source": [
    "df_tweets.to_pickle(\"../data/twitter/Tweets.pkl\", compression=\"gzip\")"
   ]
  },
  {
   "attachments": {},
   "cell_type": "markdown",
   "metadata": {},
   "source": [
    "### 3. Extract URL"
   ]
  },
  {
   "cell_type": "code",
   "execution_count": null,
   "metadata": {},
   "outputs": [],
   "source": [
    "df_tweets = pd.read_pickle(\"../data/twitter/Tweets.pkl\", compression=\"gzip\")"
   ]
  },
  {
   "cell_type": "code",
   "execution_count": null,
   "metadata": {},
   "outputs": [],
   "source": [
    "urls = list()\n",
    "df_tweets.apply(lambda x: extract_url(x, urls), axis=1)\n",
    "df_urls = pd.DataFrame(urls, columns=[\"URL\", \"Date\"])\n",
    "df_urls[\"Count\"] = 1\n",
    "df_urls = df_urls.groupby([\"URL\", \"Date\"]).sum().sort_values([\"Count\"], ascending=False).reset_index()\n",
    "df_urls[\"Domain\"] = df_urls[\"URL\"].apply(lambda url:\"/\".join(url.split(\"/\")[:3]))\n",
    "df_urls = df_urls.set_index([\"URL\"])"
   ]
  },
  {
   "cell_type": "code",
   "execution_count": null,
   "metadata": {},
   "outputs": [],
   "source": [
    "df_urls.to_csv(\"../data/twitter/URL.csv\", index_label=\"URL\", sep=\"\\t\")"
   ]
  },
  {
   "attachments": {},
   "cell_type": "markdown",
   "metadata": {},
   "source": [
    "### 4. Analysis"
   ]
  },
  {
   "cell_type": "code",
   "execution_count": 20,
   "metadata": {},
   "outputs": [],
   "source": [
    "df_tweets = pd.read_pickle(\"../data/twitter/Tweets.pkl\", compression=\"gzip\")\n",
    "df_tweets_url = pd.read_csv(\"../data/twitter/URL.csv\", index_col=\"URL\", sep=\"\\t\")\n",
    "df_tweets_url[\"Date\"] = df_tweets_url[\"Date\"].astype(str)\n",
    "df_nopolitic_url = df_tweets_url[~df_tweets_url.index.str.contains(\"trump|biden|politics\", regex=True)]\n",
    "df_domain = df_tweets_url.groupby([\"Date\", \"Domain\"])[\"Count\"].sum().reset_index().set_index([\"Domain\"]).sort_values([\"Date\", \"Count\"], ascending=[True, False])\n",
    "df_nopolitic_domain = df_nopolitic_url.groupby([\"Date\", \"Domain\"])[\"Count\"].sum().reset_index().set_index([\"Domain\"]).sort_values([\"Date\", \"Count\"], ascending=[True, False])\n",
    "date_index = pd.DatetimeIndex(df_tweets.index).drop_duplicates().sort_values()"
   ]
  },
  {
   "attachments": {},
   "cell_type": "markdown",
   "metadata": {},
   "source": [
    "#### 4.1 Popularity Analysis"
   ]
  },
  {
   "cell_type": "code",
   "execution_count": 21,
   "metadata": {},
   "outputs": [
    {
     "data": {
      "text/html": [
       "<div>\n",
       "<style scoped>\n",
       "    .dataframe tbody tr th:only-of-type {\n",
       "        vertical-align: middle;\n",
       "    }\n",
       "\n",
       "    .dataframe tbody tr th {\n",
       "        vertical-align: top;\n",
       "    }\n",
       "\n",
       "    .dataframe thead th {\n",
       "        text-align: right;\n",
       "    }\n",
       "</style>\n",
       "<table border=\"1\" class=\"dataframe\">\n",
       "  <thead>\n",
       "    <tr style=\"text-align: right;\">\n",
       "      <th></th>\n",
       "      <th>Count</th>\n",
       "    </tr>\n",
       "    <tr>\n",
       "      <th>URL</th>\n",
       "      <th></th>\n",
       "    </tr>\n",
       "  </thead>\n",
       "  <tbody>\n",
       "    <tr>\n",
       "      <th>https://twitter.com/historyinmemes/status/1626359499693989891/video/1</th>\n",
       "      <td>23770</td>\n",
       "    </tr>\n",
       "    <tr>\n",
       "      <th>https://www.foxnews.com/media/complete-embarrassment-buttigieg-blasted-touting-rail-safety-blaming-trump-ohio-train-derailment</th>\n",
       "      <td>7249</td>\n",
       "    </tr>\n",
       "    <tr>\n",
       "      <th>https://www.foxnews.com/politics/biden-admin-turns-down-ohios-request-disaster-assistance-toxic-derailment</th>\n",
       "      <td>6636</td>\n",
       "    </tr>\n",
       "    <tr>\n",
       "      <th>https://www.foxnews.com/politics/pete-buttigieg-blames-trump-ohio-train-derailment-were-constrained</th>\n",
       "      <td>5918</td>\n",
       "    </tr>\n",
       "    <tr>\n",
       "      <th>https://www.levernews.com/rail-companies-blocked-safety-rules-before-ohio-derailment/</th>\n",
       "      <td>5908</td>\n",
       "    </tr>\n",
       "  </tbody>\n",
       "</table>\n",
       "</div>"
      ],
      "text/plain": [
       "                                                    Count\n",
       "URL                                                      \n",
       "https://twitter.com/historyinmemes/status/16263...  23770\n",
       "https://www.foxnews.com/media/complete-embarras...   7249\n",
       "https://www.foxnews.com/politics/biden-admin-tu...   6636\n",
       "https://www.foxnews.com/politics/pete-buttigieg...   5918\n",
       "https://www.levernews.com/rail-companies-blocke...   5908"
      ]
     },
     "execution_count": 21,
     "metadata": {},
     "output_type": "execute_result"
    }
   ],
   "source": [
    "# The most popular media is a pulltion video generated on 02/16/2023\n",
    "df_tweets_url.groupby(level=0).sum().sort_values([\"Count\"], ascending=False).head(5)"
   ]
  },
  {
   "cell_type": "code",
   "execution_count": 22,
   "metadata": {},
   "outputs": [
    {
     "data": {
      "text/html": [
       "<div>\n",
       "<style scoped>\n",
       "    .dataframe tbody tr th:only-of-type {\n",
       "        vertical-align: middle;\n",
       "    }\n",
       "\n",
       "    .dataframe tbody tr th {\n",
       "        vertical-align: top;\n",
       "    }\n",
       "\n",
       "    .dataframe thead th {\n",
       "        text-align: right;\n",
       "    }\n",
       "</style>\n",
       "<table border=\"1\" class=\"dataframe\">\n",
       "  <thead>\n",
       "    <tr style=\"text-align: right;\">\n",
       "      <th></th>\n",
       "      <th>Count</th>\n",
       "    </tr>\n",
       "    <tr>\n",
       "      <th>Domain</th>\n",
       "      <th></th>\n",
       "    </tr>\n",
       "  </thead>\n",
       "  <tbody>\n",
       "    <tr>\n",
       "      <th>https://twitter.com</th>\n",
       "      <td>139046</td>\n",
       "    </tr>\n",
       "    <tr>\n",
       "      <th>https://www.foxnews.com</th>\n",
       "      <td>31374</td>\n",
       "    </tr>\n",
       "    <tr>\n",
       "      <th>https://trib.al</th>\n",
       "      <td>8114</td>\n",
       "    </tr>\n",
       "    <tr>\n",
       "      <th>https://www.wkbn.com</th>\n",
       "      <td>7035</td>\n",
       "    </tr>\n",
       "    <tr>\n",
       "      <th>https://fxn.ws</th>\n",
       "      <td>7026</td>\n",
       "    </tr>\n",
       "  </tbody>\n",
       "</table>\n",
       "</div>"
      ],
      "text/plain": [
       "                          Count\n",
       "Domain                         \n",
       "https://twitter.com      139046\n",
       "https://www.foxnews.com   31374\n",
       "https://trib.al            8114\n",
       "https://www.wkbn.com       7035\n",
       "https://fxn.ws             7026"
      ]
     },
     "execution_count": 22,
     "metadata": {},
     "output_type": "execute_result"
    }
   ],
   "source": [
    "# Most popular domains\n",
    "domains = df_tweets_url.groupby([\"Domain\"]).sum().sort_values([\"Count\"], ascending=False)\n",
    "domains.head(5)"
   ]
  },
  {
   "cell_type": "code",
   "execution_count": 23,
   "metadata": {},
   "outputs": [
    {
     "data": {
      "text/html": [
       "<div>\n",
       "<style scoped>\n",
       "    .dataframe tbody tr th:only-of-type {\n",
       "        vertical-align: middle;\n",
       "    }\n",
       "\n",
       "    .dataframe tbody tr th {\n",
       "        vertical-align: top;\n",
       "    }\n",
       "\n",
       "    .dataframe thead th {\n",
       "        text-align: right;\n",
       "    }\n",
       "</style>\n",
       "<table border=\"1\" class=\"dataframe\">\n",
       "  <thead>\n",
       "    <tr style=\"text-align: right;\">\n",
       "      <th></th>\n",
       "      <th>Count</th>\n",
       "    </tr>\n",
       "    <tr>\n",
       "      <th>URL</th>\n",
       "      <th></th>\n",
       "    </tr>\n",
       "  </thead>\n",
       "  <tbody>\n",
       "    <tr>\n",
       "      <th>https://twitter.com/historyinmemes/status/1626359499693989891/video/1</th>\n",
       "      <td>23770</td>\n",
       "    </tr>\n",
       "    <tr>\n",
       "      <th>https://www.levernews.com/rail-companies-blocked-safety-rules-before-ohio-derailment/</th>\n",
       "      <td>5908</td>\n",
       "    </tr>\n",
       "    <tr>\n",
       "      <th>https://www.fastcompany.com/90848025/ohio-train-derailment-toxic-chemicals-pvc-spill-fire-disaster</th>\n",
       "      <td>5778</td>\n",
       "    </tr>\n",
       "    <tr>\n",
       "      <th>https://twitter.com/traecrowder/status/1625624908708577281/video/1</th>\n",
       "      <td>4294</td>\n",
       "    </tr>\n",
       "    <tr>\n",
       "      <th>https://twitter.com/GrahamAllen_1/status/1626266592790159360/photo/1</th>\n",
       "      <td>4198</td>\n",
       "    </tr>\n",
       "  </tbody>\n",
       "</table>\n",
       "</div>"
      ],
      "text/plain": [
       "                                                    Count\n",
       "URL                                                      \n",
       "https://twitter.com/historyinmemes/status/16263...  23770\n",
       "https://www.levernews.com/rail-companies-blocke...   5908\n",
       "https://www.fastcompany.com/90848025/ohio-train...   5778\n",
       "https://twitter.com/traecrowder/status/16256249...   4294\n",
       "https://twitter.com/GrahamAllen_1/status/162626...   4198"
      ]
     },
     "execution_count": 23,
     "metadata": {},
     "output_type": "execute_result"
    }
   ],
   "source": [
    "# Most popular non-political media\n",
    "df_nopolitic_url.groupby(level=0).sum().sort_values([\"Count\"], ascending=False).head(5)"
   ]
  },
  {
   "cell_type": "code",
   "execution_count": 24,
   "metadata": {},
   "outputs": [
    {
     "data": {
      "text/html": [
       "<div>\n",
       "<style scoped>\n",
       "    .dataframe tbody tr th:only-of-type {\n",
       "        vertical-align: middle;\n",
       "    }\n",
       "\n",
       "    .dataframe tbody tr th {\n",
       "        vertical-align: top;\n",
       "    }\n",
       "\n",
       "    .dataframe thead th {\n",
       "        text-align: right;\n",
       "    }\n",
       "</style>\n",
       "<table border=\"1\" class=\"dataframe\">\n",
       "  <thead>\n",
       "    <tr style=\"text-align: right;\">\n",
       "      <th></th>\n",
       "      <th>Count</th>\n",
       "    </tr>\n",
       "    <tr>\n",
       "      <th>Domain</th>\n",
       "      <th></th>\n",
       "    </tr>\n",
       "  </thead>\n",
       "  <tbody>\n",
       "    <tr>\n",
       "      <th>https://twitter.com</th>\n",
       "      <td>138910</td>\n",
       "    </tr>\n",
       "    <tr>\n",
       "      <th>https://trib.al</th>\n",
       "      <td>8114</td>\n",
       "    </tr>\n",
       "    <tr>\n",
       "      <th>https://fxn.ws</th>\n",
       "      <td>7026</td>\n",
       "    </tr>\n",
       "    <tr>\n",
       "      <th>https://youtu.be</th>\n",
       "      <td>6911</td>\n",
       "    </tr>\n",
       "    <tr>\n",
       "      <th>https://www.wkbn.com</th>\n",
       "      <td>6849</td>\n",
       "    </tr>\n",
       "  </tbody>\n",
       "</table>\n",
       "</div>"
      ],
      "text/plain": [
       "                       Count\n",
       "Domain                      \n",
       "https://twitter.com   138910\n",
       "https://trib.al         8114\n",
       "https://fxn.ws          7026\n",
       "https://youtu.be        6911\n",
       "https://www.wkbn.com    6849"
      ]
     },
     "execution_count": 24,
     "metadata": {},
     "output_type": "execute_result"
    }
   ],
   "source": [
    "# Most popular domains from non-political media\n",
    "nonpolitic_domains = df_nopolitic_url.groupby([\"Domain\"]).sum().sort_values([\"Count\"], ascending=False)\n",
    "nonpolitic_domains.head(5)"
   ]
  },
  {
   "attachments": {},
   "cell_type": "markdown",
   "metadata": {},
   "source": [
    "#### 4.2 Time Series Analysis"
   ]
  },
  {
   "cell_type": "code",
   "execution_count": 25,
   "metadata": {},
   "outputs": [],
   "source": [
    "# Build features\n",
    "df_features = pd.DataFrame(index=date_index)\n",
    "tweet_count = df_tweets.groupby(level=0).count()[\"Text\"]\n",
    "url_count = df_tweets_url.groupby([\"Date\"]).sum()[\"Count\"]\n",
    "most_popular_tweet_count = df_tweets_url.loc[\"https://twitter.com/historyinmemes/status/1626359499693989891/video/1\"].set_index([\"Date\"])[\"Count\"]\n",
    "popular_domain_count = df_domain[df_domain.index.isin(domains.index[1:25])].groupby([\"Date\"])[\"Count\"].sum()\n",
    "popular_nonpolitic_domain_count = df_nopolitic_domain[df_nopolitic_domain.index.isin(nonpolitic_domains.index[1:25])].groupby([\"Date\"])[\"Count\"].sum()\n",
    "political_count = df_tweets_url[df_tweets_url.index.str.contains(\"trump|biden|politics\", regex=True)].groupby([\"Date\"])[\"Count\"].sum()\n",
    "nonpolitical_count = df_tweets_url[~df_tweets_url.index.str.contains(\"trump|biden|politics\", regex=True)].groupby([\"Date\"])[\"Count\"].sum()\n",
    "popular_url = df_tweets_url.groupby(level=0).sum().sort_values([\"Count\"], ascending=False).index[1:10]\n",
    "popular_url_count = df_tweets_url[df_tweets_url.index.isin(popular_url)].groupby([\"Date\"]).sum()[\"Count\"]\n",
    "\n",
    "url_entropy = list()\n",
    "nonpolitic_url_entropy = list()\n",
    "for date in df_tweets.index.drop_duplicates():\n",
    "    daily_url = df_tweets_url[df_tweets_url[\"Date\"]==date]\n",
    "    nonpolitic_daily_url = df_nopolitic_url[df_nopolitic_url[\"Date\"]==date]\n",
    "    url_entropy.append(entropy(daily_url[\"Count\"] / daily_url[\"Count\"].sum()))\n",
    "    nonpolitic_url_entropy.append(entropy(nonpolitic_daily_url[\"Count\"] / nonpolitic_daily_url[\"Count\"].sum()))\n",
    "url_entropy = pd.Series(url_entropy, index=date_index)\n",
    "nonpolitic_url_entropy = pd.Series(nonpolitic_url_entropy, index=date_index)"
   ]
  },
  {
   "cell_type": "code",
   "execution_count": 30,
   "metadata": {},
   "outputs": [
    {
     "data": {
      "text/plain": [
       "<AxesSubplot: xlabel='Date'>"
      ]
     },
     "execution_count": 30,
     "metadata": {},
     "output_type": "execute_result"
    },
    {
     "data": {
      "image/png": "[encoded data removed]",
      "text/plain": [
       "<Figure size 1080x360 with 1 Axes>"
      ]
     },
     "metadata": {
      "needs_background": "light"
     },
     "output_type": "display_data"
    }
   ],
   "source": [
    "for col, df in [(\"Tweet Count\", tweet_count),\n",
    "                # (\"Most Popular Tweet\", most_popular_tweet_count),\n",
    "                (\"Popular URL Count\", popular_url_count),\n",
    "                (\"Political Tweet Count\", political_count),\n",
    "                (\"Non-Political Tweet Count\", nonpolitical_count),\n",
    "                (\"URL Count\", url_count),\n",
    "                (\"Popular Domain Count\", popular_domain_count),\n",
    "                (\"Popular Non-Politic Domain\", popular_nonpolitic_domain_count)]:\n",
    "    df.index = pd.DatetimeIndex(df.index)\n",
    "    df_features[col] = df\n",
    "\n",
    "df_features = df_features.fillna(0)\n",
    "df_features = pd.DataFrame(MinMaxScaler().fit_transform(df_features), columns=df_features.columns, index=date_index)\n",
    "df_features.plot(grid=True, figsize=(15, 5))"
   ]
  },
  {
   "cell_type": "code",
   "execution_count": 29,
   "metadata": {},
   "outputs": [],
   "source": [
    "df_features.to_csv(\"../data/twitter/DerailmentFeatures.csv\", index_label=\"Date\", sep=\"\\t\")"
   ]
  },
  {
   "attachments": {},
   "cell_type": "markdown",
   "metadata": {},
   "source": [
    "### 4.3 Geo Analysis"
   ]
  },
  {
   "cell_type": "code",
   "execution_count": 63,
   "metadata": {},
   "outputs": [],
   "source": [
    "df_tweets_geo = pd.read_pickle(\"../data/twitter/TweetsGeo.pkl\", compression=\"gzip\")\n",
    "df_shp = gpd.read_file(\"../data/geoshape/cb_2018_us_cbsa_20m/cb_2018_us_cbsa_20m.shp\")\n",
    "df_tweets_place = pd.read_csv(\"../data/twitter/TwitterPlaceId.csv\", sep=\"\\t\")"
   ]
  },
  {
   "cell_type": "code",
   "execution_count": 75,
   "metadata": {},
   "outputs": [],
   "source": [
    "df_geo = df_tweets_geo.merge(df_tweets_place[[\"Latitude\", \"Longitude\"]], left_on=\"PlaceId\", right_index=True)\n",
    "geometry = [Point(xy) for xy in zip(df_geo[\"Longitude\"], df_geo[\"Latitude\"])]\n",
    "df_geo = gpd.GeoDataFrame(df_geo, geometry=geometry, crs=\"EPSG:4326\")\n",
    "df_geo = gpd.sjoin(df_geo, df_shp, predicate=\"within\", how=\"left\").reset_index().set_index([\"Hour\"])\n",
    "df_geo.index = pd.DatetimeIndex(pd.to_datetime(df_geo.index, format=\"%Y%m%d%H\"))\n",
    "\n",
    "dfs = list()\n",
    "for hour in df_geo.index.drop_duplicates():\n",
    "    df = df_geo[df_geo.index==hour]\n",
    "    gdf = df_shp.set_index([\"NAME\"])\n",
    "    gdf[\"Count\"] = df.groupby([\"NAME\"]).count()[\"Text\"]\n",
    "    gdf[\"Count\"] = gdf[\"Count\"].fillna(0)\n",
    "    gdf[\"Hour\"] = hour\n",
    "    gdf[\"Date\"] = hour.date().strftime(\"%Y%m%d\")\n",
    "    dfs.append(gdf)\n",
    "\n",
    "df_geo = pd.concat(dfs).sort_values([\"Hour\"])"
   ]
  },
  {
   "cell_type": "code",
   "execution_count": 74,
   "metadata": {},
   "outputs": [],
   "source": [
    "df_geo.to_pickle(\"../data/twitter/TweetsGeoCount.pkl\", compression=\"gzip\")"
   ]
  },
  {
   "attachments": {},
   "cell_type": "markdown",
   "metadata": {},
   "source": [
    "### 5. Nuclear Leak Analysis\n",
    "\n",
    "#### 5.1 Fetch tweets"
   ]
  },
  {
   "cell_type": "code",
   "execution_count": 7,
   "metadata": {},
   "outputs": [],
   "source": [
    "start_date = \"20230309\"\n",
    "end_date = \"20230401\"\n",
    "query = \"Nuclear leak\"\n",
    "\n",
    "for date in pd.date_range(start_date, end_date, closed=\"left\"):\n",
    "    start_time = date.strftime(\"%Y%m%d\")\n",
    "    end_time = (date + pd.Timedelta(1, unit=\"day\")).strftime(\"%Y%m%d\")\n",
    "    df_tweets = api.search_tweets(query, start_time=start_time, end_time=end_time) \n",
    "    for col in [\"withheld\", \"geo\"]:\n",
    "        if col in df_tweets.columns:\n",
    "            df_tweets = df_tweets.drop(col, axis=1)\n",
    "    df_tweets = process_tweets(df_tweets)\n",
    "    df_tweets.to_pickle(f\"../data/twitter/pkl/{start_time}.pkl\", compression=\"gzip\")"
   ]
  },
  {
   "cell_type": "code",
   "execution_count": 10,
   "metadata": {},
   "outputs": [],
   "source": [
    "dfs = list()\n",
    "for date in pd.date_range(start_date, end_date, closed=\"left\"):\n",
    "    start_time = date.strftime(\"%Y%m%d\")\n",
    "    df = pd.read_pickle(f\"../data/twitter/pkl/{start_time}.pkl\", compression=\"gzip\")\n",
    "    for col in [\"withheld\", \"geo\"]:\n",
    "        if col in df.columns:\n",
    "            df = df.drop(col, axis=1)\n",
    "    dfs.append(df)\n",
    "df_tweets = pd.concat(dfs)"
   ]
  },
  {
   "cell_type": "code",
   "execution_count": 14,
   "metadata": {},
   "outputs": [],
   "source": [
    "df_tweets.to_pickle(\"../data/twitter/NuclearTweets.pkl\", compression=\"gzip\")"
   ]
  },
  {
   "attachments": {},
   "cell_type": "markdown",
   "metadata": {},
   "source": [
    "#### 5.2 Extract URLs"
   ]
  },
  {
   "cell_type": "code",
   "execution_count": 16,
   "metadata": {},
   "outputs": [],
   "source": [
    "df_tweets = pd.read_pickle(\"../data/twitter/NuclearTweets.pkl\", compression=\"gzip\")"
   ]
  },
  {
   "cell_type": "code",
   "execution_count": 19,
   "metadata": {},
   "outputs": [
    {
     "data": {
      "text/html": [
       "<div>\n",
       "<style scoped>\n",
       "    .dataframe tbody tr th:only-of-type {\n",
       "        vertical-align: middle;\n",
       "    }\n",
       "\n",
       "    .dataframe tbody tr th {\n",
       "        vertical-align: top;\n",
       "    }\n",
       "\n",
       "    .dataframe thead th {\n",
       "        text-align: right;\n",
       "    }\n",
       "</style>\n",
       "<table border=\"1\" class=\"dataframe\">\n",
       "  <thead>\n",
       "    <tr style=\"text-align: right;\">\n",
       "      <th></th>\n",
       "      <th>Date</th>\n",
       "      <th>Count</th>\n",
       "      <th>Domain</th>\n",
       "    </tr>\n",
       "    <tr>\n",
       "      <th>URL</th>\n",
       "      <th></th>\n",
       "      <th></th>\n",
       "      <th></th>\n",
       "    </tr>\n",
       "  </thead>\n",
       "  <tbody>\n",
       "    <tr>\n",
       "      <th>https://twitter.com/nypost/status/1636966046966972416/photo/1</th>\n",
       "      <td>20230318</td>\n",
       "      <td>261</td>\n",
       "      <td>https://twitter.com</td>\n",
       "    </tr>\n",
       "    <tr>\n",
       "      <th>https://trib.al/qOyDwuj</th>\n",
       "      <td>20230318</td>\n",
       "      <td>261</td>\n",
       "      <td>https://trib.al</td>\n",
       "    </tr>\n",
       "    <tr>\n",
       "      <th>https://www.cbsnews.com/news/400000-gallons-radioactive-water-tritium-leak-minnesota-nuclear-plant-xcel-energy/</th>\n",
       "      <td>20230317</td>\n",
       "      <td>248</td>\n",
       "      <td>https://www.cbsnews.com</td>\n",
       "    </tr>\n",
       "  </tbody>\n",
       "</table>\n",
       "</div>"
      ],
      "text/plain": [
       "                                                        Date  Count  \\\n",
       "URL                                                                   \n",
       "https://twitter.com/nypost/status/1636966046966...  20230318    261   \n",
       "https://trib.al/qOyDwuj                             20230318    261   \n",
       "https://www.cbsnews.com/news/400000-gallons-rad...  20230317    248   \n",
       "\n",
       "                                                                     Domain  \n",
       "URL                                                                          \n",
       "https://twitter.com/nypost/status/1636966046966...      https://twitter.com  \n",
       "https://trib.al/qOyDwuj                                     https://trib.al  \n",
       "https://www.cbsnews.com/news/400000-gallons-rad...  https://www.cbsnews.com  "
      ]
     },
     "execution_count": 19,
     "metadata": {},
     "output_type": "execute_result"
    }
   ],
   "source": [
    "urls = list()\n",
    "df_tweets.apply(lambda x: extract_url(x, urls), axis=1)\n",
    "df_urls = pd.DataFrame(urls, columns=[\"URL\", \"Date\"])\n",
    "df_urls[\"Count\"] = 1\n",
    "df_urls = df_urls.groupby([\"URL\", \"Date\"]).sum().sort_values([\"Count\"], ascending=False).reset_index()\n",
    "df_urls[\"Domain\"] = df_urls[\"URL\"].apply(lambda url:\"/\".join(url.split(\"/\")[:3]))\n",
    "df_urls = df_urls.set_index([\"URL\"])\n",
    "df_urls.head(3)"
   ]
  },
  {
   "cell_type": "code",
   "execution_count": 20,
   "metadata": {},
   "outputs": [],
   "source": [
    "df_urls.to_csv(\"../data/twitter/NuclearURL.csv\", index_label=\"URL\", sep=\"\\t\")"
   ]
  },
  {
   "attachments": {},
   "cell_type": "markdown",
   "metadata": {},
   "source": [
    "#### 5.3 Popularity Analysis"
   ]
  },
  {
   "cell_type": "code",
   "execution_count": 17,
   "metadata": {},
   "outputs": [],
   "source": [
    "df_tweets = pd.read_pickle(\"../data/twitter/NuclearTweets.pkl\", compression=\"gzip\")\n",
    "df_tweets_url = pd.read_csv(\"../data/twitter/NuclearURL.csv\", index_col=\"URL\", sep=\"\\t\")\n",
    "df_tweets_url[\"Date\"] = df_tweets_url[\"Date\"].astype(str)\n",
    "df_domain = df_tweets_url.groupby([\"Date\", \"Domain\"])[\"Count\"].sum().reset_index().set_index([\"Domain\"]).sort_values([\"Date\", \"Count\"], ascending=[True, False])\n",
    "date_index = pd.DatetimeIndex(df_tweets.index).drop_duplicates().sort_values()"
   ]
  },
  {
   "cell_type": "code",
   "execution_count": 12,
   "metadata": {},
   "outputs": [
    {
     "data": {
      "text/html": [
       "<div>\n",
       "<style scoped>\n",
       "    .dataframe tbody tr th:only-of-type {\n",
       "        vertical-align: middle;\n",
       "    }\n",
       "\n",
       "    .dataframe tbody tr th {\n",
       "        vertical-align: top;\n",
       "    }\n",
       "\n",
       "    .dataframe thead th {\n",
       "        text-align: right;\n",
       "    }\n",
       "</style>\n",
       "<table border=\"1\" class=\"dataframe\">\n",
       "  <thead>\n",
       "    <tr style=\"text-align: right;\">\n",
       "      <th></th>\n",
       "      <th>Count</th>\n",
       "    </tr>\n",
       "    <tr>\n",
       "      <th>URL</th>\n",
       "      <th></th>\n",
       "    </tr>\n",
       "  </thead>\n",
       "  <tbody>\n",
       "    <tr>\n",
       "      <th>https://www.newsweek.com/covid-lab-leak-china-virus-nuclear-war-1787390</th>\n",
       "      <td>357</td>\n",
       "    </tr>\n",
       "    <tr>\n",
       "      <th>https://www.cbsnews.com/news/400000-gallons-radioactive-water-tritium-leak-minnesota-nuclear-plant-xcel-energy/</th>\n",
       "      <td>351</td>\n",
       "    </tr>\n",
       "    <tr>\n",
       "      <th>https://apnews.com/article/minnesota-xcel-energy-nuclear-radioactive-tritium-leak-c7a12ecb1b203179c5f7fef42bd0a3aa</th>\n",
       "      <td>292</td>\n",
       "    </tr>\n",
       "    <tr>\n",
       "      <th>https://trib.al/qOyDwuj</th>\n",
       "      <td>281</td>\n",
       "    </tr>\n",
       "    <tr>\n",
       "      <th>https://twitter.com/nypost/status/1636966046966972416/photo/1</th>\n",
       "      <td>281</td>\n",
       "    </tr>\n",
       "    <tr>\n",
       "      <th>https://globalnews.ca/news/9559326/nuclear-power-plant-leak-radioactive-water-minnesota/</th>\n",
       "      <td>239</td>\n",
       "    </tr>\n",
       "    <tr>\n",
       "      <th>https://www.telegraph.co.uk/world-news/2023/03/17/nuclear-plant-xcel-energy-minneapolis-radioactive-water-leak/</th>\n",
       "      <td>150</td>\n",
       "    </tr>\n",
       "    <tr>\n",
       "      <th>https://mol.im/a/11870101</th>\n",
       "      <td>136</td>\n",
       "    </tr>\n",
       "    <tr>\n",
       "      <th>https://www.rt.com/news/573108-monticello-nuclear-tritium-leak/</th>\n",
       "      <td>110</td>\n",
       "    </tr>\n",
       "    <tr>\n",
       "      <th>https://www.fox9.com/news/radioactive-leak-monticello-nuclear-power-plant-xcel-energy-cleaning-it-up</th>\n",
       "      <td>87</td>\n",
       "    </tr>\n",
       "  </tbody>\n",
       "</table>\n",
       "</div>"
      ],
      "text/plain": [
       "                                                    Count\n",
       "URL                                                      \n",
       "https://www.newsweek.com/covid-lab-leak-china-v...    357\n",
       "https://www.cbsnews.com/news/400000-gallons-rad...    351\n",
       "https://apnews.com/article/minnesota-xcel-energ...    292\n",
       "https://trib.al/qOyDwuj                               281\n",
       "https://twitter.com/nypost/status/1636966046966...    281\n",
       "https://globalnews.ca/news/9559326/nuclear-powe...    239\n",
       "https://www.telegraph.co.uk/world-news/2023/03/...    150\n",
       "https://mol.im/a/11870101                             136\n",
       "https://www.rt.com/news/573108-monticello-nucle...    110\n",
       "https://www.fox9.com/news/radioactive-leak-mont...     87"
      ]
     },
     "execution_count": 12,
     "metadata": {},
     "output_type": "execute_result"
    }
   ],
   "source": [
    "# The most popular one is not related to the leak at all, but all the other ones are, nothing political\n",
    "df_tweets_url.groupby(level=0).sum().sort_values([\"Count\"], ascending=False).head(10)"
   ]
  },
  {
   "cell_type": "code",
   "execution_count": 14,
   "metadata": {},
   "outputs": [
    {
     "data": {
      "text/html": [
       "<div>\n",
       "<style scoped>\n",
       "    .dataframe tbody tr th:only-of-type {\n",
       "        vertical-align: middle;\n",
       "    }\n",
       "\n",
       "    .dataframe tbody tr th {\n",
       "        vertical-align: top;\n",
       "    }\n",
       "\n",
       "    .dataframe thead th {\n",
       "        text-align: right;\n",
       "    }\n",
       "</style>\n",
       "<table border=\"1\" class=\"dataframe\">\n",
       "  <thead>\n",
       "    <tr style=\"text-align: right;\">\n",
       "      <th></th>\n",
       "      <th>Count</th>\n",
       "    </tr>\n",
       "    <tr>\n",
       "      <th>Domain</th>\n",
       "      <th></th>\n",
       "    </tr>\n",
       "  </thead>\n",
       "  <tbody>\n",
       "    <tr>\n",
       "      <th>https://twitter.com</th>\n",
       "      <td>957</td>\n",
       "    </tr>\n",
       "    <tr>\n",
       "      <th>https://trib.al</th>\n",
       "      <td>543</td>\n",
       "    </tr>\n",
       "    <tr>\n",
       "      <th>https://apnews.com</th>\n",
       "      <td>478</td>\n",
       "    </tr>\n",
       "    <tr>\n",
       "      <th>https://www.cbsnews.com</th>\n",
       "      <td>473</td>\n",
       "    </tr>\n",
       "    <tr>\n",
       "      <th>https://www.newsweek.com</th>\n",
       "      <td>365</td>\n",
       "    </tr>\n",
       "  </tbody>\n",
       "</table>\n",
       "</div>"
      ],
      "text/plain": [
       "                          Count\n",
       "Domain                         \n",
       "https://twitter.com         957\n",
       "https://trib.al             543\n",
       "https://apnews.com          478\n",
       "https://www.cbsnews.com     473\n",
       "https://www.newsweek.com    365"
      ]
     },
     "execution_count": 14,
     "metadata": {},
     "output_type": "execute_result"
    }
   ],
   "source": [
    "# Cbsnewsa adn apnews worth looking into\n",
    "domains = df_tweets_url.groupby([\"Domain\"]).sum().sort_values([\"Count\"], ascending=False)\n",
    "domains.head(5)"
   ]
  },
  {
   "cell_type": "code",
   "execution_count": 18,
   "metadata": {},
   "outputs": [],
   "source": [
    "# Build features\n",
    "df_features = pd.DataFrame(index=date_index)\n",
    "tweet_count = df_tweets.groupby(level=0).count()[\"Text\"]\n",
    "url_count = df_tweets_url.groupby([\"Date\"]).sum()[\"Count\"]\n",
    "popular_domain_count = df_domain[df_domain.index.isin(domains.index[1:6])].groupby([\"Date\"])[\"Count\"].sum()\n",
    "popular_url = df_tweets_url.groupby(level=0).sum().sort_values([\"Count\"], ascending=False).index[1:10]\n",
    "popular_url_count = df_tweets_url[df_tweets_url.index.isin(popular_url)].groupby([\"Date\"]).sum()[\"Count\"]\n"
   ]
  },
  {
   "cell_type": "code",
   "execution_count": 19,
   "metadata": {},
   "outputs": [
    {
     "data": {
      "image/png": "[encoded data removed]",
      "text/plain": [
       "<Figure size 1080x360 with 1 Axes>"
      ]
     },
     "metadata": {
      "needs_background": "light"
     },
     "output_type": "display_data"
    }
   ],
   "source": [
    "for col, df in [(\"Tweet Count\", tweet_count),\n",
    "                (\"URL Count\", url_count),\n",
    "                (\"Popular Domain Count\", popular_domain_count),\n",
    "                (\"Popular URL Count\", popular_url_count)]:\n",
    "    df.index = pd.DatetimeIndex(df.index)\n",
    "    df_features[col] = df\n",
    "\n",
    "df_features = df_features.fillna(0)\n",
    "df_features = pd.DataFrame(MinMaxScaler().fit_transform(df_features), columns=df_features.columns, index=date_index)\n",
    "df_features.plot(grid=True, figsize=(15, 5))\n",
    "df_features.to_csv(\"../data/twitter/NuclearFeatures.csv\", index_label=\"Date\", sep=\"\\t\")"
   ]
  },
  {
   "cell_type": "code",
   "execution_count": null,
   "metadata": {},
   "outputs": [],
   "source": []
  }
 ],
 "metadata": {
  "kernelspec": {
   "display_name": "699",
   "language": "python",
   "name": "python3"
  },
  "language_info": {
   "codemirror_mode": {
    "name": "ipython",
    "version": 3
   },
   "file_extension": ".py",
   "mimetype": "text/x-python",
   "name": "python",
   "nbconvert_exporter": "python",
   "pygments_lexer": "ipython3",
   "version": "3.8.5"
  },
  "orig_nbformat": 4
 },
 "nbformat": 4,
 "nbformat_minor": 2
}
