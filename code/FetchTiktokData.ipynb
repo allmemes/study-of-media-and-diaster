{
 "cells": [
  {
   "cell_type": "code",
   "execution_count": 1,
   "metadata": {},
   "outputs": [],
   "source": [
    "import json\n",
    "import logging\n",
    "import sys\n",
    "\n",
    "import nest_asyncio\n",
    "\n",
    "from TiktokAPI import TiktokAPI\n",
    "\n",
    "logging.basicConfig(stream=sys.stdout, level=logging.INFO)\n",
    "nest_asyncio.apply()\n",
    "\n",
    "with open(\"../config.json\") as f:\n",
    "  tikapi = TiktokAPI(json.loads(f.read())[\"Tiktok\"])"
   ]
  },
  {
   "cell_type": "code",
   "execution_count": 5,
   "metadata": {},
   "outputs": [
    {
     "name": "stdout",
     "output_type": "stream",
     "text": [
      "INFO:TiktokAPI:Getting next items 12\n",
      "INFO:TiktokAPI:Getting next items 24\n",
      "INFO:TiktokAPI:Getting next items 36\n",
      "INFO:TiktokAPI:Getting next items 48\n",
      "INFO:TiktokAPI:Getting next items 60\n",
      "INFO:TiktokAPI:Getting next items 72\n",
      "INFO:TiktokAPI:Getting next items 84\n",
      "INFO:TiktokAPI:Getting next items 96\n",
      "INFO:TiktokAPI:Getting next items 108\n",
      "INFO:TiktokAPI:Getting next items 120\n",
      "INFO:TiktokAPI:Getting next items 132\n",
      "INFO:TiktokAPI:Getting next items 144\n",
      "INFO:TiktokAPI:Getting next items 156\n",
      "INFO:TiktokAPI:Getting next items 168\n",
      "INFO:TiktokAPI:Getting next items 180\n",
      "INFO:TiktokAPI:Getting next items 192\n",
      "INFO:TiktokAPI:Getting next items 204\n",
      "INFO:TiktokAPI:Getting next items 216\n",
      "INFO:TiktokAPI:Getting next items 228\n",
      "INFO:TiktokAPI:Getting next items 240\n",
      "INFO:TiktokAPI:Getting next items 252\n",
      "INFO:TiktokAPI:Getting next items 264\n",
      "INFO:TiktokAPI:Getting next items 276\n",
      "INFO:TiktokAPI:Getting next items 288\n",
      "INFO:TiktokAPI:Getting next items 300\n",
      "INFO:TiktokAPI:Getting next items 312\n",
      "INFO:TiktokAPI:Getting next items 324\n",
      "INFO:TiktokAPI:Getting next items 336\n",
      "INFO:TiktokAPI:Getting next items 348\n",
      "INFO:TiktokAPI:Getting next items 360\n",
      "INFO:TiktokAPI:Getting next items 372\n",
      "INFO:TiktokAPI:Getting next items 384\n",
      "INFO:TiktokAPI:Getting next items 396\n",
      "INFO:TiktokAPI:Getting next items 408\n",
      "ERROR:TiktokAPI:NoneType: None\n",
      "\n"
     ]
    }
   ],
   "source": [
    "category = \"videos\"\n",
    "query = \"Ohiouncuredpvc\"\n",
    "result = tikapi.query(query)"
   ]
  },
  {
   "cell_type": "code",
   "execution_count": 4,
   "metadata": {},
   "outputs": [],
   "source": [
    "with open(f\"../data/tiktok/query_result/{query}.json\", \"w\") as f:\n",
    "    f.write(json.dumps(result))"
   ]
  }
 ],
 "metadata": {
  "kernelspec": {
   "display_name": "base",
   "language": "python",
   "name": "python3"
  },
  "language_info": {
   "codemirror_mode": {
    "name": "ipython",
    "version": 3
   },
   "file_extension": ".py",
   "mimetype": "text/x-python",
   "name": "python",
   "nbconvert_exporter": "python",
   "pygments_lexer": "ipython3",
   "version": "3.8.5"
  },
  "orig_nbformat": 4
 },
 "nbformat": 4,
 "nbformat_minor": 2
}
